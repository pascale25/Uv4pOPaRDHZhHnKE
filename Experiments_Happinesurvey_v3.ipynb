{
  "nbformat": 4,
  "nbformat_minor": 0,
  "metadata": {
    "colab": {
      "provenance": [],
      "toc_visible": true,
      "authorship_tag": "ABX9TyNPJXNyBHIWBl2lGrWJpAMn",
      "include_colab_link": true
    },
    "kernelspec": {
      "name": "python3",
      "display_name": "Python 3"
    },
    "language_info": {
      "name": "python"
    }
  },
  "cells": [
    {
      "cell_type": "markdown",
      "metadata": {
        "id": "view-in-github",
        "colab_type": "text"
      },
      "source": [
        "<a href=\"https://colab.research.google.com/github/pascale25/Uv4pOPaRDHZhHnKE/blob/master/Experiments_Happinesurvey_v3.ipynb\" target=\"_parent\"><img src=\"https://colab.research.google.com/assets/colab-badge.svg\" alt=\"Open In Colab\"/></a>"
      ]
    },
    {
      "cell_type": "markdown",
      "source": [
        "# Happy Customers survey \n"
      ],
      "metadata": {
        "id": "MWrBu6ob0Xmk"
      }
    },
    {
      "cell_type": "markdown",
      "source": [
        "## Buisiness problem\n",
        "\n",
        "During the COVID-19 pandemic, we are facing several different challenges and everyday we are trying to address these challenges.\n",
        "\n",
        "We thrive on making our customers happy. As a growing startup, with a global expansion strategy we know that we need to make our customers happy and the only way to do that is to measure how happy each customer is. If we can predict what makes our customers happy or unhappy, we can then take necessary actions.\n",
        "\n",
        "Getting feedback from customers is not easy either, but we do our best to get constant feedback from our customers. This is a crucial function to improve our operations across all levels.\n",
        "\n",
        "## Goal(s)\n",
        "Predict if a customer is happy or not based on the answers they give to questions asked\n",
        "\n",
        "Identified important feature that make customer happy\n",
        "\n",
        "## Success Metrics\n",
        "\n",
        "Reach 73% accuracy score or above, or convince us why your solution is superior. We are definitely interested in every solution and insight you can provide us.\n",
        "\n",
        "Try to submit your working solution as soon as possible. The sooner the better."
      ],
      "metadata": {
        "id": "UYXXSs0u0o-C"
      }
    },
    {
      "cell_type": "markdown",
      "source": [
        "## Data collection\n",
        "We recently did a survey to a select customer cohort. You are presented with a subset of this data. We will be using the remaining data as a private test set.\n",
        "\n",
        "Data Description:\n",
        "\n",
        "Y = target attribute (Y) with values indicating 0 (unhappy) and 1 (happy) customers\n",
        "\n",
        "X1 = my order was delivered on time\n",
        "\n",
        "X2 = contents of my order was as I expected\n",
        "\n",
        "X3 = I ordered everything I wanted to order\n",
        "\n",
        "X4 = I paid a good price for my order\n",
        "\n",
        "X5 = I am satisfied with my courier\n",
        "\n",
        "X6 = the app makes ordering easy for me\n",
        "\n",
        "Attributes X1 to X6 indicate the responses for each question and have values from 1 to 5 where the smaller number indicates less and the higher number indicates more towards the answer."
      ],
      "metadata": {
        "id": "O6BTcGV01H8P"
      }
    },
    {
      "cell_type": "code",
      "source": [
        "#from google.colab import drive\n",
        "\n",
        "#drive.mount('/content/gdrive')"
      ],
      "metadata": {
        "id": "dspRdhuBLRBV"
      },
      "execution_count": 1,
      "outputs": []
    },
    {
      "cell_type": "code",
      "source": [
        "#!pip install lazypredict"
      ],
      "metadata": {
        "id": "q-36kWnvmimd"
      },
      "execution_count": 2,
      "outputs": []
    },
    {
      "cell_type": "code",
      "source": [
        "#!pip install pycaret"
      ],
      "metadata": {
        "id": "z0ej-EwKIaEo"
      },
      "execution_count": 3,
      "outputs": []
    },
    {
      "cell_type": "code",
      "source": [
        "#from pycaret.classification import *\n",
        "#import lazypredict\n",
        "#from lazypredict.Supervised import LazyClassifier"
      ],
      "metadata": {
        "id": "UzGCjIHHKaUh"
      },
      "execution_count": 4,
      "outputs": []
    },
    {
      "cell_type": "code",
      "source": [
        "import pandas as pd\n",
        "import numpy as np\n",
        "import matplotlib.pyplot as plt\n",
        "import seaborn as sns\n",
        "\n",
        "\n",
        "from sklearn.preprocessing import StandardScaler\n",
        "from sklearn.model_selection import train_test_split\n",
        "\n",
        "#algorithms to use\n",
        "from xgboost import XGBClassifier\n",
        "from xgboost import plot_importance\n",
        "from sklearn.linear_model import PassiveAggressiveClassifier\n",
        "\n",
        "from sklearn.discriminant_analysis import LinearDiscriminantAnalysis\n",
        "from sklearn.discriminant_analysis import QuadraticDiscriminantAnalysis\n",
        "from sklearn.linear_model import LogisticRegression\n",
        "from sklearn.neighbors import KNeighborsClassifier\n",
        "\n",
        "from xgboost import XGBClassifier\n",
        "from sklearn.svm import SVC\n",
        "from sklearn.ensemble import RandomForestClassifier\n",
        "from sklearn.tree import DecisionTreeClassifier\n",
        "from sklearn import tree\n",
        "\n",
        "#Metrics to evaluate the model\n",
        "from sklearn import metrics\n",
        "from sklearn.metrics import confusion_matrix, classification_report, precision_recall_curve,recall_score, plot_confusion_matrix, roc_curve, roc_auc_score, plot_roc_curve, precision_recall_fscore_support, accuracy_score\n",
        "#for tuning the model\n",
        "from sklearn.model_selection import GridSearchCV, cross_val_score, RandomizedSearchCV\n",
        "\n",
        "#to ignore warnings\n",
        "import warnings\n",
        "warnings.filterwarnings(\"ignore\")"
      ],
      "metadata": {
        "id": "U-YNCERB4Ade"
      },
      "execution_count": 5,
      "outputs": []
    },
    {
      "cell_type": "code",
      "source": [
        "import os\n",
        "os.listdir(\"gdrive/MyDrive/Apziva_project/HFhD9gY6N8cN4PtO\")"
      ],
      "metadata": {
        "id": "6uUjiJHX2gDE",
        "colab": {
          "base_uri": "https://localhost:8080/"
        },
        "outputId": "e476fbe3-a28f-4250-c527-b68ace89d56d"
      },
      "execution_count": 6,
      "outputs": [
        {
          "output_type": "execute_result",
          "data": {
            "text/plain": [
              "['Experiments_Happinesurvey_v3.ipynb',\n",
              " 'Experiments_Happinesurvey_v2.ipynb',\n",
              " 'experiemnts_of Happinesurvey.ipynb',\n",
              " 'ACME-HappinessSurvey2020.csv',\n",
              " 'happinesurvey2020.csv',\n",
              " 'Happinesurvey.ipynb',\n",
              " 'Copy of Experiments_Happinesurvey_v2.ipynb',\n",
              " 'exemple_notebook.gdoc',\n",
              " 'Untitled spreadsheet.gsheet',\n",
              " 'accuracy.csv',\n",
              " 'accuracy.gsheet']"
            ]
          },
          "metadata": {},
          "execution_count": 6
        }
      ]
    },
    {
      "cell_type": "markdown",
      "source": [
        "# Get the Data "
      ],
      "metadata": {
        "id": "NqL3mp42zgmN"
      }
    },
    {
      "cell_type": "code",
      "source": [
        "data = \"gdrive/MyDrive/Apziva_project/HFhD9gY6N8cN4PtO/happinesurvey2020.csv\""
      ],
      "metadata": {
        "id": "WObbo0zn0lcH"
      },
      "execution_count": 7,
      "outputs": []
    },
    {
      "cell_type": "code",
      "source": [
        "# read data \n",
        "df = pd.read_csv(data)\n",
        "df.head()"
      ],
      "metadata": {
        "colab": {
          "base_uri": "https://localhost:8080/",
          "height": 206
        },
        "id": "9lloZBcH0li3",
        "outputId": "6b5eadad-0dac-48f7-eafb-4e4be494af0d"
      },
      "execution_count": 8,
      "outputs": [
        {
          "output_type": "execute_result",
          "data": {
            "text/plain": [
              "   Y  X1  X2  X3  X4  X5  X6\n",
              "0  0   3   3   3   4   2   4\n",
              "1  0   3   2   3   5   4   3\n",
              "2  1   5   3   3   3   3   5\n",
              "3  0   5   4   3   3   3   5\n",
              "4  0   5   4   3   3   3   5"
            ],
            "text/html": [
              "\n",
              "  <div id=\"df-8de38e4b-c5a7-40b4-a169-e5a7b6df9d8b\">\n",
              "    <div class=\"colab-df-container\">\n",
              "      <div>\n",
              "<style scoped>\n",
              "    .dataframe tbody tr th:only-of-type {\n",
              "        vertical-align: middle;\n",
              "    }\n",
              "\n",
              "    .dataframe tbody tr th {\n",
              "        vertical-align: top;\n",
              "    }\n",
              "\n",
              "    .dataframe thead th {\n",
              "        text-align: right;\n",
              "    }\n",
              "</style>\n",
              "<table border=\"1\" class=\"dataframe\">\n",
              "  <thead>\n",
              "    <tr style=\"text-align: right;\">\n",
              "      <th></th>\n",
              "      <th>Y</th>\n",
              "      <th>X1</th>\n",
              "      <th>X2</th>\n",
              "      <th>X3</th>\n",
              "      <th>X4</th>\n",
              "      <th>X5</th>\n",
              "      <th>X6</th>\n",
              "    </tr>\n",
              "  </thead>\n",
              "  <tbody>\n",
              "    <tr>\n",
              "      <th>0</th>\n",
              "      <td>0</td>\n",
              "      <td>3</td>\n",
              "      <td>3</td>\n",
              "      <td>3</td>\n",
              "      <td>4</td>\n",
              "      <td>2</td>\n",
              "      <td>4</td>\n",
              "    </tr>\n",
              "    <tr>\n",
              "      <th>1</th>\n",
              "      <td>0</td>\n",
              "      <td>3</td>\n",
              "      <td>2</td>\n",
              "      <td>3</td>\n",
              "      <td>5</td>\n",
              "      <td>4</td>\n",
              "      <td>3</td>\n",
              "    </tr>\n",
              "    <tr>\n",
              "      <th>2</th>\n",
              "      <td>1</td>\n",
              "      <td>5</td>\n",
              "      <td>3</td>\n",
              "      <td>3</td>\n",
              "      <td>3</td>\n",
              "      <td>3</td>\n",
              "      <td>5</td>\n",
              "    </tr>\n",
              "    <tr>\n",
              "      <th>3</th>\n",
              "      <td>0</td>\n",
              "      <td>5</td>\n",
              "      <td>4</td>\n",
              "      <td>3</td>\n",
              "      <td>3</td>\n",
              "      <td>3</td>\n",
              "      <td>5</td>\n",
              "    </tr>\n",
              "    <tr>\n",
              "      <th>4</th>\n",
              "      <td>0</td>\n",
              "      <td>5</td>\n",
              "      <td>4</td>\n",
              "      <td>3</td>\n",
              "      <td>3</td>\n",
              "      <td>3</td>\n",
              "      <td>5</td>\n",
              "    </tr>\n",
              "  </tbody>\n",
              "</table>\n",
              "</div>\n",
              "      <button class=\"colab-df-convert\" onclick=\"convertToInteractive('df-8de38e4b-c5a7-40b4-a169-e5a7b6df9d8b')\"\n",
              "              title=\"Convert this dataframe to an interactive table.\"\n",
              "              style=\"display:none;\">\n",
              "        \n",
              "  <svg xmlns=\"http://www.w3.org/2000/svg\" height=\"24px\"viewBox=\"0 0 24 24\"\n",
              "       width=\"24px\">\n",
              "    <path d=\"M0 0h24v24H0V0z\" fill=\"none\"/>\n",
              "    <path d=\"M18.56 5.44l.94 2.06.94-2.06 2.06-.94-2.06-.94-.94-2.06-.94 2.06-2.06.94zm-11 1L8.5 8.5l.94-2.06 2.06-.94-2.06-.94L8.5 2.5l-.94 2.06-2.06.94zm10 10l.94 2.06.94-2.06 2.06-.94-2.06-.94-.94-2.06-.94 2.06-2.06.94z\"/><path d=\"M17.41 7.96l-1.37-1.37c-.4-.4-.92-.59-1.43-.59-.52 0-1.04.2-1.43.59L10.3 9.45l-7.72 7.72c-.78.78-.78 2.05 0 2.83L4 21.41c.39.39.9.59 1.41.59.51 0 1.02-.2 1.41-.59l7.78-7.78 2.81-2.81c.8-.78.8-2.07 0-2.86zM5.41 20L4 18.59l7.72-7.72 1.47 1.35L5.41 20z\"/>\n",
              "  </svg>\n",
              "      </button>\n",
              "      \n",
              "  <style>\n",
              "    .colab-df-container {\n",
              "      display:flex;\n",
              "      flex-wrap:wrap;\n",
              "      gap: 12px;\n",
              "    }\n",
              "\n",
              "    .colab-df-convert {\n",
              "      background-color: #E8F0FE;\n",
              "      border: none;\n",
              "      border-radius: 50%;\n",
              "      cursor: pointer;\n",
              "      display: none;\n",
              "      fill: #1967D2;\n",
              "      height: 32px;\n",
              "      padding: 0 0 0 0;\n",
              "      width: 32px;\n",
              "    }\n",
              "\n",
              "    .colab-df-convert:hover {\n",
              "      background-color: #E2EBFA;\n",
              "      box-shadow: 0px 1px 2px rgba(60, 64, 67, 0.3), 0px 1px 3px 1px rgba(60, 64, 67, 0.15);\n",
              "      fill: #174EA6;\n",
              "    }\n",
              "\n",
              "    [theme=dark] .colab-df-convert {\n",
              "      background-color: #3B4455;\n",
              "      fill: #D2E3FC;\n",
              "    }\n",
              "\n",
              "    [theme=dark] .colab-df-convert:hover {\n",
              "      background-color: #434B5C;\n",
              "      box-shadow: 0px 1px 3px 1px rgba(0, 0, 0, 0.15);\n",
              "      filter: drop-shadow(0px 1px 2px rgba(0, 0, 0, 0.3));\n",
              "      fill: #FFFFFF;\n",
              "    }\n",
              "  </style>\n",
              "\n",
              "      <script>\n",
              "        const buttonEl =\n",
              "          document.querySelector('#df-8de38e4b-c5a7-40b4-a169-e5a7b6df9d8b button.colab-df-convert');\n",
              "        buttonEl.style.display =\n",
              "          google.colab.kernel.accessAllowed ? 'block' : 'none';\n",
              "\n",
              "        async function convertToInteractive(key) {\n",
              "          const element = document.querySelector('#df-8de38e4b-c5a7-40b4-a169-e5a7b6df9d8b');\n",
              "          const dataTable =\n",
              "            await google.colab.kernel.invokeFunction('convertToInteractive',\n",
              "                                                     [key], {});\n",
              "          if (!dataTable) return;\n",
              "\n",
              "          const docLinkHtml = 'Like what you see? Visit the ' +\n",
              "            '<a target=\"_blank\" href=https://colab.research.google.com/notebooks/data_table.ipynb>data table notebook</a>'\n",
              "            + ' to learn more about interactive tables.';\n",
              "          element.innerHTML = '';\n",
              "          dataTable['output_type'] = 'display_data';\n",
              "          await google.colab.output.renderOutput(dataTable, element);\n",
              "          const docLink = document.createElement('div');\n",
              "          docLink.innerHTML = docLinkHtml;\n",
              "          element.appendChild(docLink);\n",
              "        }\n",
              "      </script>\n",
              "    </div>\n",
              "  </div>\n",
              "  "
            ]
          },
          "metadata": {},
          "execution_count": 8
        }
      ]
    },
    {
      "cell_type": "code",
      "source": [
        "df.shape"
      ],
      "metadata": {
        "colab": {
          "base_uri": "https://localhost:8080/"
        },
        "id": "VANkHIq-0ll3",
        "outputId": "5bb73bdb-f855-4611-a6ce-1c9acc51211c"
      },
      "execution_count": 9,
      "outputs": [
        {
          "output_type": "execute_result",
          "data": {
            "text/plain": [
              "(126, 7)"
            ]
          },
          "metadata": {},
          "execution_count": 9
        }
      ]
    },
    {
      "cell_type": "code",
      "source": [
        "df.info()"
      ],
      "metadata": {
        "colab": {
          "base_uri": "https://localhost:8080/"
        },
        "id": "qgcPv5730lsf",
        "outputId": "c19f844b-d42c-41e8-bf18-ec5d648961f1"
      },
      "execution_count": 10,
      "outputs": [
        {
          "output_type": "stream",
          "name": "stdout",
          "text": [
            "<class 'pandas.core.frame.DataFrame'>\n",
            "RangeIndex: 126 entries, 0 to 125\n",
            "Data columns (total 7 columns):\n",
            " #   Column  Non-Null Count  Dtype\n",
            "---  ------  --------------  -----\n",
            " 0   Y       126 non-null    int64\n",
            " 1   X1      126 non-null    int64\n",
            " 2   X2      126 non-null    int64\n",
            " 3   X3      126 non-null    int64\n",
            " 4   X4      126 non-null    int64\n",
            " 5   X5      126 non-null    int64\n",
            " 6   X6      126 non-null    int64\n",
            "dtypes: int64(7)\n",
            "memory usage: 7.0 KB\n"
          ]
        }
      ]
    },
    {
      "cell_type": "code",
      "source": [
        "df.isna().sum()  # check for missing data"
      ],
      "metadata": {
        "colab": {
          "base_uri": "https://localhost:8080/"
        },
        "id": "5ArAzKV60lvw",
        "outputId": "897d6fa5-6807-4028-98ad-c807c3d1fcfd"
      },
      "execution_count": 11,
      "outputs": [
        {
          "output_type": "execute_result",
          "data": {
            "text/plain": [
              "Y     0\n",
              "X1    0\n",
              "X2    0\n",
              "X3    0\n",
              "X4    0\n",
              "X5    0\n",
              "X6    0\n",
              "dtype: int64"
            ]
          },
          "metadata": {},
          "execution_count": 11
        }
      ]
    },
    {
      "cell_type": "code",
      "source": [
        "# Renaming the columns for readibility\n",
        "df.columns = ['Target','Delivered_on_Time', 'Contents_as_expected', \n",
        "              'Found_everything', 'Good_Price', 'Satisfied_with_courier', 'App_ease']"
      ],
      "metadata": {
        "id": "rd1Aj_Hs-ljb"
      },
      "execution_count": 12,
      "outputs": []
    },
    {
      "cell_type": "code",
      "source": [
        "df.nunique()"
      ],
      "metadata": {
        "colab": {
          "base_uri": "https://localhost:8080/"
        },
        "id": "LeJy3fCE0l2F",
        "outputId": "79f98493-f7fd-4ed7-b09d-950235e9ab1e"
      },
      "execution_count": 13,
      "outputs": [
        {
          "output_type": "execute_result",
          "data": {
            "text/plain": [
              "Target                    2\n",
              "Delivered_on_Time         4\n",
              "Contents_as_expected      5\n",
              "Found_everything          5\n",
              "Good_Price                5\n",
              "Satisfied_with_courier    5\n",
              "App_ease                  5\n",
              "dtype: int64"
            ]
          },
          "metadata": {},
          "execution_count": 13
        }
      ]
    },
    {
      "cell_type": "code",
      "source": [
        "for col in df.columns:\n",
        "  print(col, \":\", df[col].unique())\n"
      ],
      "metadata": {
        "colab": {
          "base_uri": "https://localhost:8080/"
        },
        "id": "lH1gypfd0l5X",
        "outputId": "bf7c01e2-1305-4dfc-b059-24e8de640bb7"
      },
      "execution_count": 14,
      "outputs": [
        {
          "output_type": "stream",
          "name": "stdout",
          "text": [
            "Target : [0 1]\n",
            "Delivered_on_Time : [3 5 4 1]\n",
            "Contents_as_expected : [3 2 4 5 1]\n",
            "Found_everything : [3 2 4 5 1]\n",
            "Good_Price : [4 5 3 2 1]\n",
            "Satisfied_with_courier : [2 4 3 5 1]\n",
            "App_ease : [4 3 5 2 1]\n"
          ]
        }
      ]
    },
    {
      "cell_type": "markdown",
      "source": [
        "# Exploratory Data Analysis"
      ],
      "metadata": {
        "id": "owjkAFpw9ASl"
      }
    },
    {
      "cell_type": "code",
      "source": [
        "df.Target.hist()"
      ],
      "metadata": {
        "colab": {
          "base_uri": "https://localhost:8080/",
          "height": 282
        },
        "id": "DVppPxjHNUzj",
        "outputId": "475e3f0d-341a-4d25-af0f-4b9e457c77c3"
      },
      "execution_count": 15,
      "outputs": [
        {
          "output_type": "execute_result",
          "data": {
            "text/plain": [
              "<matplotlib.axes._subplots.AxesSubplot at 0x7fdd45be1bd0>"
            ]
          },
          "metadata": {},
          "execution_count": 15
        },
        {
          "output_type": "display_data",
          "data": {
            "text/plain": [
              "<Figure size 432x288 with 1 Axes>"
            ],
            "image/png": "[encoded data removed]"
          },
          "metadata": {
            "needs_background": "light"
          }
        }
      ]
    },
    {
      "cell_type": "code",
      "source": [
        "df[\"Target\"].value_counts()"
      ],
      "metadata": {
        "colab": {
          "base_uri": "https://localhost:8080/"
        },
        "id": "n8YXKYA74WUN",
        "outputId": "edebd3a4-c20f-4d24-ae54-e5b13bd4c7f3"
      },
      "execution_count": 16,
      "outputs": [
        {
          "output_type": "execute_result",
          "data": {
            "text/plain": [
              "1    69\n",
              "0    57\n",
              "Name: Target, dtype: int64"
            ]
          },
          "metadata": {},
          "execution_count": 16
        }
      ]
    },
    {
      "cell_type": "code",
      "source": [
        "Unhappy = (df['Target']==0).sum()/126 \n",
        "Happy = (df['Target']==1).sum()/126\n",
        "dif = Happy - Unhappy \n",
        "print(Unhappy*100, Happy*100, dif*100) "
      ],
      "metadata": {
        "colab": {
          "base_uri": "https://localhost:8080/"
        },
        "id": "JtQw2WqN2qMH",
        "outputId": "020bca0b-c7a0-4d13-f04f-c92003419464"
      },
      "execution_count": 17,
      "outputs": [
        {
          "output_type": "stream",
          "name": "stdout",
          "text": [
            "45.23809523809524 54.761904761904766 9.523809523809529\n"
          ]
        }
      ]
    },
    {
      "cell_type": "code",
      "source": [
        "#view the distribution of data \n",
        "df.hist(figsize=(15, 10) )\n",
        "plt.subplots_adjust(hspace=0.5);"
      ],
      "metadata": {
        "colab": {
          "base_uri": "https://localhost:8080/",
          "height": 607
        },
        "id": "Ku0IPWjf95IB",
        "outputId": "567fd416-87b7-4f1e-fc7a-3cc199bbc7cb"
      },
      "execution_count": 18,
      "outputs": [
        {
          "output_type": "display_data",
          "data": {
            "text/plain": [
              "<Figure size 1080x720 with 9 Axes>"
            ],
            "image/png": "[encoded data removed]"
          },
          "metadata": {
            "needs_background": "light"
          }
        }
      ]
    },
    {
      "cell_type": "markdown",
      "source": [
        "As expected, the variables could be considered as discrete or ordinal data, ranging from 1 to 5.\n",
        "\n",
        "In general, the highest frequency was between 3 and 5, with the exception of the variable \"the content of the order was expected\" which had a high frequency value between 1 and 3."
      ],
      "metadata": {
        "id": "aqi2elEO_bSI"
      }
    },
    {
      "cell_type": "code",
      "source": [
        "plt.subplots(figsize=(8,5))\n",
        "sns.histplot(df, x=\"Delivered_on_Time\", hue=\"Target\", element=\"step\")"
      ],
      "metadata": {
        "colab": {
          "base_uri": "https://localhost:8080/",
          "height": 352
        },
        "id": "gS-FkWnv0l8G",
        "outputId": "400a759a-8c87-4f40-8ae0-6120ae9155dc"
      },
      "execution_count": 19,
      "outputs": [
        {
          "output_type": "execute_result",
          "data": {
            "text/plain": [
              "<matplotlib.axes._subplots.AxesSubplot at 0x7fdd4527da10>"
            ]
          },
          "metadata": {},
          "execution_count": 19
        },
        {
          "output_type": "display_data",
          "data": {
            "text/plain": [
              "<Figure size 576x360 with 1 Axes>"
            ],
            "image/png": "[encoded data removed]"
          },
          "metadata": {
            "needs_background": "light"
          }
        }
      ]
    },
    {
      "cell_type": "code",
      "source": [
        "# count frequency in each group\n",
        "for col in df.columns:\n",
        "  sns.countplot(x=col,data=df, hue=df['Target'])\n",
        "  plt.title(col)\n",
        "  plt.show()"
      ],
      "metadata": {
        "colab": {
          "base_uri": "https://localhost:8080/",
          "height": 1000
        },
        "id": "pW0gF1vn8zqW",
        "outputId": "6b9b4c99-5664-4966-ebac-b3e57a1dcbdc"
      },
      "execution_count": 20,
      "outputs": [
        {
          "output_type": "display_data",
          "data": {
            "text/plain": [
              "<Figure size 432x288 with 1 Axes>"
            ],
            "image/png": "[encoded data removed]"
          },
          "metadata": {
            "needs_background": "light"
          }
        },
        {
          "output_type": "display_data",
          "data": {
            "text/plain": [
              "<Figure size 432x288 with 1 Axes>"
            ],
            "image/png": "[encoded data removed]"
          },
          "metadata": {
            "needs_background": "light"
          }
        },
        {
          "output_type": "display_data",
          "data": {
            "text/plain": [
              "<Figure size 432x288 with 1 Axes>"
            ],
            "image/png": "[encoded data removed]"
          },
          "metadata": {
            "needs_background": "light"
          }
        },
        {
          "output_type": "display_data",
          "data": {
            "text/plain": [
              "<Figure size 432x288 with 1 Axes>"
            ],
            "image/png": "[encoded data removed]"
          },
          "metadata": {
            "needs_background": "light"
          }
        },
        {
          "output_type": "display_data",
          "data": {
            "text/plain": [
              "<Figure size 432x288 with 1 Axes>"
            ],
            "image/png": "[encoded data removed]"
          },
          "metadata": {
            "needs_background": "light"
          }
        },
        {
          "output_type": "display_data",
          "data": {
            "text/plain": [
              "<Figure size 432x288 with 1 Axes>"
            ],
            "image/png": "[encoded data removed]"
          },
          "metadata": {
            "needs_background": "light"
          }
        },
        {
          "output_type": "display_data",
          "data": {
            "text/plain": [
              "<Figure size 432x288 with 1 Axes>"
            ],
            "image/png": "[encoded data removed]"
          },
          "metadata": {
            "needs_background": "light"
          }
        }
      ]
    },
    {
      "cell_type": "code",
      "source": [
        "Delivered_on_Time = df.groupby(['Delivered_on_Time','Target']).size()\n",
        "Delivered_on_Time = Delivered_on_Time.reset_index(name = 'count')\n",
        "Delivered_on_Time = Delivered_on_Time .pivot(index = 'Target', columns = 'Delivered_on_Time', values = 'count')\n",
        "sns.heatmap(Delivered_on_Time , annot = True,  cmap = 'rocket_r');\n",
        "plt.xlabel(\"Delivered_on_Time \", size = 12);\n",
        "plt.ylabel(\"Target\", size = 12);\n",
        "plt.title (\"Number of people happy for the Delivered_on_Time  versus Happy/noHappy\", size = 14);"
      ],
      "metadata": {
        "colab": {
          "base_uri": "https://localhost:8080/",
          "height": 299
        },
        "id": "LSOjyPXI8zun",
        "outputId": "2e399c35-28cc-4940-c84b-802b16ace4a3"
      },
      "execution_count": 21,
      "outputs": [
        {
          "output_type": "display_data",
          "data": {
            "text/plain": [
              "<Figure size 432x288 with 2 Axes>"
            ],
            "image/png": "[encoded data removed]"
          },
          "metadata": {
            "needs_background": "light"
          }
        }
      ]
    },
    {
      "cell_type": "code",
      "source": [
        "def plot_count_in_each_var(df,col,Target):\n",
        "  data = df.groupby([col,Target]).size()\n",
        "  data = data.reset_index(name = 'count')\n",
        "  data = data.pivot(index = Target, columns = col, values = 'count')\n",
        "  sns.heatmap(data , annot = True,  cmap = 'rocket_r');\n",
        "  plt.xlabel(col, size = 12);\n",
        "  plt.ylabel(Target, size = 12);\n",
        "  plt.title (col, size = 14)\n",
        "  plt.show()\n",
        "\n"
      ],
      "metadata": {
        "id": "suGo2l4X8z15"
      },
      "execution_count": 22,
      "outputs": []
    },
    {
      "cell_type": "code",
      "source": [
        "for col in df.columns[1:7]: # exclude the first\n",
        "  plot_count_in_each_var(df, col,'Target')"
      ],
      "metadata": {
        "colab": {
          "base_uri": "https://localhost:8080/",
          "height": 1000
        },
        "id": "rg_H6LtD8LBU",
        "outputId": "3b859deb-6a23-4744-eb73-59ef25d3487e"
      },
      "execution_count": 23,
      "outputs": [
        {
          "output_type": "display_data",
          "data": {
            "text/plain": [
              "<Figure size 432x288 with 2 Axes>"
            ],
            "image/png": "[encoded data removed]"
          },
          "metadata": {
            "needs_background": "light"
          }
        },
        {
          "output_type": "display_data",
          "data": {
            "text/plain": [
              "<Figure size 432x288 with 2 Axes>"
            ],
            "image/png": "[encoded data removed]"
          },
          "metadata": {
            "needs_background": "light"
          }
        },
        {
          "output_type": "display_data",
          "data": {
            "text/plain": [
              "<Figure size 432x288 with 2 Axes>"
            ],
            "image/png": "[encoded data removed]"
          },
          "metadata": {
            "needs_background": "light"
          }
        },
        {
          "output_type": "display_data",
          "data": {
            "text/plain": [
              "<Figure size 432x288 with 2 Axes>"
            ],
            "image/png": "[encoded data removed]"
          },
          "metadata": {
            "needs_background": "light"
          }
        },
        {
          "output_type": "display_data",
          "data": {
            "text/plain": [
              "<Figure size 432x288 with 2 Axes>"
            ],
            "image/png": "[encoded data removed]"
          },
          "metadata": {
            "needs_background": "light"
          }
        },
        {
          "output_type": "display_data",
          "data": {
            "text/plain": [
              "<Figure size 432x288 with 2 Axes>"
            ],
            "image/png": "[encoded data removed]"
          },
          "metadata": {
            "needs_background": "light"
          }
        }
      ]
    },
    {
      "cell_type": "markdown",
      "source": [
        "Here we wanted to see the distribution of responses across features and differentiate the type of customer (unhappy and happy customers).\n",
        "We found that \n",
        "\n",
        "1. on-time delivery: happy customers tend to give a high score of 5 compared to unhappy customers.\n",
        "\n",
        "2. content as expected: we found that both happy and unhappy customers give a high score between 2 and 3\n",
        "\n",
        "3. everything was found: both customers give a score of 3.\n",
        "\n",
        "4. good price: both customers give a high score of 4.\n",
        "\n",
        "5.  Satisfied with the courier service. high score: 4 for both customers.\n",
        "\n",
        "6. App_ease. Happy customers score 5 and unhappy customers score between 4 and 5. \n"
      ],
      "metadata": {
        "id": "tNxLwG0UBNCo"
      }
    },
    {
      "cell_type": "code",
      "source": [
        "# visualize outliers\n",
        "\n",
        "plt.figure(figsize=(15, 8))\n",
        "data_melted = pd.melt(df[['Delivered_on_Time', 'Contents_as_expected', \n",
        "              'Found_everything', 'Good_Price', 'Satisfied_with_courier', 'App_ease']])\n",
        "sns.boxplot(x='variable', y='value', data=data_melted)"
      ],
      "metadata": {
        "colab": {
          "base_uri": "https://localhost:8080/",
          "height": 515
        },
        "id": "l4pQGmVrNIhz",
        "outputId": "2b3a5cac-a0dc-44b7-fa2a-1cbcb1a5f16d"
      },
      "execution_count": 24,
      "outputs": [
        {
          "output_type": "execute_result",
          "data": {
            "text/plain": [
              "<matplotlib.axes._subplots.AxesSubplot at 0x7fdd45575bd0>"
            ]
          },
          "metadata": {},
          "execution_count": 24
        },
        {
          "output_type": "display_data",
          "data": {
            "text/plain": [
              "<Figure size 1080x576 with 1 Axes>"
            ],
            "image/png": "[encoded data removed]"
          },
          "metadata": {
            "needs_background": "light"
          }
        }
      ]
    },
    {
      "cell_type": "markdown",
      "source": [
        "According to this boxplot, there are no aberrations. All features are between 1 and 5. There are no extreme values. \n",
        "\n",
        "however the boxplot reveals that delevered_on_time and App_ease received the highest score of all clients.\n",
        "\n",
        "We found that we needed to pay attention to Content_as_expected features due to their low score. "
      ],
      "metadata": {
        "id": "j325EAsLB1dj"
      }
    },
    {
      "cell_type": "code",
      "source": [
        "# correlation\n",
        "plt.figure(figsize=(10,8))\n",
        "sns.heatmap(df.corr(), annot=True,cmap=\"coolwarm\")\n",
        "plt.title('Correlation between the variables')\n",
        "plt.xticks(rotation=45)"
      ],
      "metadata": {
        "colab": {
          "base_uri": "https://localhost:8080/",
          "height": 611
        },
        "id": "nUfojErXNIov",
        "outputId": "8e25daff-1210-40a1-8723-ac3719cd17ab"
      },
      "execution_count": 25,
      "outputs": [
        {
          "output_type": "execute_result",
          "data": {
            "text/plain": [
              "(array([0.5, 1.5, 2.5, 3.5, 4.5, 5.5, 6.5]),\n",
              " <a list of 7 Text major ticklabel objects>)"
            ]
          },
          "metadata": {},
          "execution_count": 25
        },
        {
          "output_type": "display_data",
          "data": {
            "text/plain": [
              "<Figure size 720x576 with 2 Axes>"
            ],
            "image/png": "[encoded data removed]"
          },
          "metadata": {
            "needs_background": "light"
          }
        }
      ]
    },
    {
      "cell_type": "markdown",
      "source": [
        "From the headmap, there is no strong correlation between features and target.\n",
        "However, we found that there is a weak correlation between satisfied_with_courier and delivered_ont_time, App_ease and delivered_ont_time of 0.43 and 0.41\n"
      ],
      "metadata": {
        "id": "tqWm3FCOB6rM"
      }
    },
    {
      "cell_type": "markdown",
      "source": [],
      "metadata": {
        "id": "7ql0g8-qD1W6"
      }
    },
    {
      "cell_type": "markdown",
      "source": [
        "# statistical analysis\n",
        "## χ2 test of Independence\n",
        "The Chi-square test is a non-parametric statistical test that enables us to understand the relationship between the categorical variables of the dataset. That is, it defines the correlation amongst the grouping categorical data.\n",
        "\n",
        "Using the Chi-square test, we can estimate the level of correlation i.e. association between the categorical variables of the dataset. This helps us analyze the dependence of one category of the variable on the other independent category of the variable.\n",
        "\n",
        "\n",
        "It is used to decide whether there is a relationship exists between two variables of a population.\n",
        "\n",
        "H₀: The two categorical variables have no relationship\n",
        "\n",
        "H₁: There is a relationship between two categorical variables\n",
        "\n"
      ],
      "metadata": {
        "id": "f9J9TaQZuCDR"
      }
    },
    {
      "cell_type": "markdown",
      "source": [
        "\n",
        "we apply the Chi_square or Pearson’s Chi-Square statistical hypothesis is a test for independence between categorical variables.\n",
        "\n",
        "The Contingency Table : A Contingency table (also called crosstab) is used in statistics to summarize the relationship between several categorical variables\n",
        "\n",
        "#### Define the null hypothesis and alternate hypothesis.\n",
        "\n",
        "H₀ (Null Hypothesis) — the target features are independent to ohter variables \n",
        "\n",
        "H₁ (Alternate Hypothesis) — the target features are dependent to ohter variables \n",
        "\n"
      ],
      "metadata": {
        "id": "-t56f0JgK3ed"
      }
    },
    {
      "cell_type": "code",
      "source": [
        "df.columns"
      ],
      "metadata": {
        "colab": {
          "base_uri": "https://localhost:8080/"
        },
        "id": "zg4tP6pd3Z6L",
        "outputId": "bdb33742-71f5-490e-d164-baac202380b5"
      },
      "execution_count": 26,
      "outputs": [
        {
          "output_type": "execute_result",
          "data": {
            "text/plain": [
              "Index(['Target', 'Delivered_on_Time', 'Contents_as_expected',\n",
              "       'Found_everything', 'Good_Price', 'Satisfied_with_courier', 'App_ease'],\n",
              "      dtype='object')"
            ]
          },
          "metadata": {},
          "execution_count": 26
        }
      ]
    },
    {
      "cell_type": "code",
      "source": [
        "df_crosstab = pd.crosstab(df['Target'],\n",
        "                            df['Delivered_on_Time'],\n",
        "                           margins=True, margins_name=\"Total\")\n",
        "df_crosstab"
      ],
      "metadata": {
        "colab": {
          "base_uri": "https://localhost:8080/",
          "height": 175
        },
        "id": "vYmwTbWn2CT-",
        "outputId": "b1509a34-d65c-4b39-8d58-e3535dadef97"
      },
      "execution_count": 27,
      "outputs": [
        {
          "output_type": "execute_result",
          "data": {
            "text/plain": [
              "Delivered_on_Time  1   3   4   5  Total\n",
              "Target                                 \n",
              "0                  1  12  24  20     57\n",
              "1                  0   8  16  45     69\n",
              "Total              1  20  40  65    126"
            ],
            "text/html": [
              "\n",
              "  <div id=\"df-b54717e3-dac5-4bc5-b3e9-a4daf531afe4\">\n",
              "    <div class=\"colab-df-container\">\n",
              "      <div>\n",
              "<style scoped>\n",
              "    .dataframe tbody tr th:only-of-type {\n",
              "        vertical-align: middle;\n",
              "    }\n",
              "\n",
              "    .dataframe tbody tr th {\n",
              "        vertical-align: top;\n",
              "    }\n",
              "\n",
              "    .dataframe thead th {\n",
              "        text-align: right;\n",
              "    }\n",
              "</style>\n",
              "<table border=\"1\" class=\"dataframe\">\n",
              "  <thead>\n",
              "    <tr style=\"text-align: right;\">\n",
              "      <th>Delivered_on_Time</th>\n",
              "      <th>1</th>\n",
              "      <th>3</th>\n",
              "      <th>4</th>\n",
              "      <th>5</th>\n",
              "      <th>Total</th>\n",
              "    </tr>\n",
              "    <tr>\n",
              "      <th>Target</th>\n",
              "      <th></th>\n",
              "      <th></th>\n",
              "      <th></th>\n",
              "      <th></th>\n",
              "      <th></th>\n",
              "    </tr>\n",
              "  </thead>\n",
              "  <tbody>\n",
              "    <tr>\n",
              "      <th>0</th>\n",
              "      <td>1</td>\n",
              "      <td>12</td>\n",
              "      <td>24</td>\n",
              "      <td>20</td>\n",
              "      <td>57</td>\n",
              "    </tr>\n",
              "    <tr>\n",
              "      <th>1</th>\n",
              "      <td>0</td>\n",
              "      <td>8</td>\n",
              "      <td>16</td>\n",
              "      <td>45</td>\n",
              "      <td>69</td>\n",
              "    </tr>\n",
              "    <tr>\n",
              "      <th>Total</th>\n",
              "      <td>1</td>\n",
              "      <td>20</td>\n",
              "      <td>40</td>\n",
              "      <td>65</td>\n",
              "      <td>126</td>\n",
              "    </tr>\n",
              "  </tbody>\n",
              "</table>\n",
              "</div>\n",
              "      <button class=\"colab-df-convert\" onclick=\"convertToInteractive('df-b54717e3-dac5-4bc5-b3e9-a4daf531afe4')\"\n",
              "              title=\"Convert this dataframe to an interactive table.\"\n",
              "              style=\"display:none;\">\n",
              "        \n",
              "  <svg xmlns=\"http://www.w3.org/2000/svg\" height=\"24px\"viewBox=\"0 0 24 24\"\n",
              "       width=\"24px\">\n",
              "    <path d=\"M0 0h24v24H0V0z\" fill=\"none\"/>\n",
              "    <path d=\"M18.56 5.44l.94 2.06.94-2.06 2.06-.94-2.06-.94-.94-2.06-.94 2.06-2.06.94zm-11 1L8.5 8.5l.94-2.06 2.06-.94-2.06-.94L8.5 2.5l-.94 2.06-2.06.94zm10 10l.94 2.06.94-2.06 2.06-.94-2.06-.94-.94-2.06-.94 2.06-2.06.94z\"/><path d=\"M17.41 7.96l-1.37-1.37c-.4-.4-.92-.59-1.43-.59-.52 0-1.04.2-1.43.59L10.3 9.45l-7.72 7.72c-.78.78-.78 2.05 0 2.83L4 21.41c.39.39.9.59 1.41.59.51 0 1.02-.2 1.41-.59l7.78-7.78 2.81-2.81c.8-.78.8-2.07 0-2.86zM5.41 20L4 18.59l7.72-7.72 1.47 1.35L5.41 20z\"/>\n",
              "  </svg>\n",
              "      </button>\n",
              "      \n",
              "  <style>\n",
              "    .colab-df-container {\n",
              "      display:flex;\n",
              "      flex-wrap:wrap;\n",
              "      gap: 12px;\n",
              "    }\n",
              "\n",
              "    .colab-df-convert {\n",
              "      background-color: #E8F0FE;\n",
              "      border: none;\n",
              "      border-radius: 50%;\n",
              "      cursor: pointer;\n",
              "      display: none;\n",
              "      fill: #1967D2;\n",
              "      height: 32px;\n",
              "      padding: 0 0 0 0;\n",
              "      width: 32px;\n",
              "    }\n",
              "\n",
              "    .colab-df-convert:hover {\n",
              "      background-color: #E2EBFA;\n",
              "      box-shadow: 0px 1px 2px rgba(60, 64, 67, 0.3), 0px 1px 3px 1px rgba(60, 64, 67, 0.15);\n",
              "      fill: #174EA6;\n",
              "    }\n",
              "\n",
              "    [theme=dark] .colab-df-convert {\n",
              "      background-color: #3B4455;\n",
              "      fill: #D2E3FC;\n",
              "    }\n",
              "\n",
              "    [theme=dark] .colab-df-convert:hover {\n",
              "      background-color: #434B5C;\n",
              "      box-shadow: 0px 1px 3px 1px rgba(0, 0, 0, 0.15);\n",
              "      filter: drop-shadow(0px 1px 2px rgba(0, 0, 0, 0.3));\n",
              "      fill: #FFFFFF;\n",
              "    }\n",
              "  </style>\n",
              "\n",
              "      <script>\n",
              "        const buttonEl =\n",
              "          document.querySelector('#df-b54717e3-dac5-4bc5-b3e9-a4daf531afe4 button.colab-df-convert');\n",
              "        buttonEl.style.display =\n",
              "          google.colab.kernel.accessAllowed ? 'block' : 'none';\n",
              "\n",
              "        async function convertToInteractive(key) {\n",
              "          const element = document.querySelector('#df-b54717e3-dac5-4bc5-b3e9-a4daf531afe4');\n",
              "          const dataTable =\n",
              "            await google.colab.kernel.invokeFunction('convertToInteractive',\n",
              "                                                     [key], {});\n",
              "          if (!dataTable) return;\n",
              "\n",
              "          const docLinkHtml = 'Like what you see? Visit the ' +\n",
              "            '<a target=\"_blank\" href=https://colab.research.google.com/notebooks/data_table.ipynb>data table notebook</a>'\n",
              "            + ' to learn more about interactive tables.';\n",
              "          element.innerHTML = '';\n",
              "          dataTable['output_type'] = 'display_data';\n",
              "          await google.colab.output.renderOutput(dataTable, element);\n",
              "          const docLink = document.createElement('div');\n",
              "          docLink.innerHTML = docLinkHtml;\n",
              "          element.appendChild(docLink);\n",
              "        }\n",
              "      </script>\n",
              "    </div>\n",
              "  </div>\n",
              "  "
            ]
          },
          "metadata": {},
          "execution_count": 27
        }
      ]
    },
    {
      "cell_type": "code",
      "source": [
        "import scipy.stats as stats\n",
        "# significance level\n",
        "alpha = 0.05\n",
        "\n",
        "# Calcualtion of Chisquare\n",
        "chi_square = 0\n",
        "rows = df['Target'].unique()\n",
        "columns = df['Delivered_on_Time'].unique()\n",
        "for i in columns:\n",
        "    for j in rows:\n",
        "        O = df_crosstab[i][j]\n",
        "        E = df_crosstab[i]['Total'] * df_crosstab['Total'][j] / df_crosstab['Total']['Total']\n",
        "        chi_square += (O-E)**2/E\n",
        "\n",
        "# The p-value approach\n",
        "print(\"Approach 1: The p-value approach to hypothesis testing in the decision rule\")\n",
        "p_value = 1 - stats.chi2.cdf(chi_square, (len(rows)-1)*(len(columns)-1))\n",
        "conclusion = \"Failed to reject the null hypothesis.\"\n",
        "if p_value <= alpha:\n",
        "    conclusion = \"Null Hypothesis is rejected.\"\n",
        "        \n",
        "print(\"chisquare-score is:\", chi_square, \" and p value is:\", p_value)\n",
        "print(conclusion)\n",
        "    \n",
        "# The critical value approach\n",
        "print(\"\\n--------------------------------------------------------------------------------------\")\n",
        "print(\"Approach 2: The critical value approach to hypothesis testing in the decision rule\")\n",
        "critical_value = stats.chi2.ppf(1-alpha, (len(rows)-1)*(len(columns)-1))\n",
        "conclusion = \"Failed to reject the null hypothesis.\"\n",
        "if chi_square > critical_value:\n",
        "    conclusion = \"Null Hypothesis is rejected.\"\n",
        "        \n",
        "print(\"chisquare-score is:\", chi_square, \" and critical value is:\", critical_value)\n",
        "print(conclusion)"
      ],
      "metadata": {
        "colab": {
          "base_uri": "https://localhost:8080/"
        },
        "id": "5xZO_WnR2CZp",
        "outputId": "9995949e-1bf5-43d4-dd09-a9a405561c99"
      },
      "execution_count": 28,
      "outputs": [
        {
          "output_type": "stream",
          "name": "stdout",
          "text": [
            "Approach 1: The p-value approach to hypothesis testing in the decision rule\n",
            "chisquare-score is: 11.981200492870975  and p value is: 0.007447837905122601\n",
            "Null Hypothesis is rejected.\n",
            "\n",
            "--------------------------------------------------------------------------------------\n",
            "Approach 2: The critical value approach to hypothesis testing in the decision rule\n",
            "chisquare-score is: 11.981200492870975  and critical value is: 7.814727903251179\n",
            "Null Hypothesis is rejected.\n"
          ]
        }
      ]
    },
    {
      "cell_type": "code",
      "source": [
        "import pandas as pd\n",
        "import scipy.stats as stats\n",
        "\n",
        "def chi_square(df, alpha, col1, col2):\n",
        "  # significance level\n",
        "  alpha = alpha\n",
        "  # crosstab\n",
        "  df_crosstab = pd.crosstab(df[col1],\n",
        "                            df[col2],\n",
        "                           margins=True, margins_name=\"Total\")\n",
        "  # Calcualtion of Chisquare\n",
        "  chi_square = 0\n",
        "  rows = df[col1].unique()\n",
        "  columns = df[col2].unique()\n",
        "  for i in columns:\n",
        "      for j in rows:\n",
        "          O = df_crosstab[i][j]\n",
        "          E = df_crosstab[i]['Total'] * df_crosstab['Total'][j] / df_crosstab['Total']['Total']\n",
        "          chi_square += (O-E)**2/E\n",
        "\n",
        "  # The p-value approach\n",
        "  print(\"Approach 1: The p-value approach to hypothesis testing in the decision rule\")\n",
        "  p_value = 1 - stats.chi2.cdf(chi_square, (len(rows)-1)*(len(columns)-1))\n",
        "  conclusion = \"Failed to reject the null hypothesis.\"\n",
        "  if p_value <= alpha:\n",
        "      conclusion = \"Null Hypothesis is rejected.\"\n",
        "          \n",
        "  print(\"chisquare-score is:\", chi_square, \" and p value is:\", p_value)\n",
        "  print(conclusion)\n",
        "      \n",
        "  # The critical value approach\n",
        "  print(\"\\n--------------------------------------------------------------------------------------\")\n",
        "  print(\"Approach 2: The critical value approach to hypothesis testing in the decision rule\")\n",
        "  #Find the critical value for 95% confidence\n",
        "  critical_value = stats.chi2.ppf(1-alpha, (len(rows)-1)*(len(columns)-1))\n",
        "  conclusion = \"Failed to reject the null hypothesis.\"\n",
        "  if chi_square > critical_value:\n",
        "      conclusion = \"Null Hypothesis is rejected.\"\n",
        "          \n",
        "  return print(\"chisquare-score is:\", chi_square, \" and critical value is:\", critical_value, conclusion)"
      ],
      "metadata": {
        "id": "UT7p_bZn4wlR"
      },
      "execution_count": 29,
      "outputs": []
    },
    {
      "cell_type": "code",
      "source": [
        "df.columns"
      ],
      "metadata": {
        "colab": {
          "base_uri": "https://localhost:8080/"
        },
        "id": "AD4zPa2-4wqB",
        "outputId": "b71ea994-5432-4302-9106-03c43fd8893b"
      },
      "execution_count": 30,
      "outputs": [
        {
          "output_type": "execute_result",
          "data": {
            "text/plain": [
              "Index(['Target', 'Delivered_on_Time', 'Contents_as_expected',\n",
              "       'Found_everything', 'Good_Price', 'Satisfied_with_courier', 'App_ease'],\n",
              "      dtype='object')"
            ]
          },
          "metadata": {},
          "execution_count": 30
        }
      ]
    },
    {
      "cell_type": "code",
      "source": [
        "chi_square(df, 0.05, 'Target', 'Delivered_on_Time')"
      ],
      "metadata": {
        "colab": {
          "base_uri": "https://localhost:8080/"
        },
        "id": "PQnTEMuW4wtw",
        "outputId": "0eecb360-f98a-46b3-ffed-305bcc36bc75"
      },
      "execution_count": 31,
      "outputs": [
        {
          "output_type": "stream",
          "name": "stdout",
          "text": [
            "Approach 1: The p-value approach to hypothesis testing in the decision rule\n",
            "chisquare-score is: 11.981200492870975  and p value is: 0.007447837905122601\n",
            "Null Hypothesis is rejected.\n",
            "\n",
            "--------------------------------------------------------------------------------------\n",
            "Approach 2: The critical value approach to hypothesis testing in the decision rule\n",
            "chisquare-score is: 11.981200492870975  and critical value is: 7.814727903251179 Null Hypothesis is rejected.\n"
          ]
        }
      ]
    },
    {
      "cell_type": "code",
      "source": [
        "chi_square(df, 0.05, 'Target', 'Contents_as_expected')"
      ],
      "metadata": {
        "colab": {
          "base_uri": "https://localhost:8080/"
        },
        "id": "gxOCY78W4w1L",
        "outputId": "a029e888-463e-49ab-d367-26df5b45cfdf"
      },
      "execution_count": 32,
      "outputs": [
        {
          "output_type": "stream",
          "name": "stdout",
          "text": [
            "Approach 1: The p-value approach to hypothesis testing in the decision rule\n",
            "chisquare-score is: 2.3751065643648768  and p value is: 0.6671305095864376\n",
            "Failed to reject the null hypothesis.\n",
            "\n",
            "--------------------------------------------------------------------------------------\n",
            "Approach 2: The critical value approach to hypothesis testing in the decision rule\n",
            "chisquare-score is: 2.3751065643648768  and critical value is: 9.487729036781154 Failed to reject the null hypothesis.\n"
          ]
        }
      ]
    },
    {
      "cell_type": "code",
      "source": [
        "chi_square(df, 0.05, 'Target', 'Found_everything')"
      ],
      "metadata": {
        "colab": {
          "base_uri": "https://localhost:8080/"
        },
        "id": "lBANs4pt4w5O",
        "outputId": "68c19936-1f85-4c0d-9fa7-6210e5da3b18"
      },
      "execution_count": 33,
      "outputs": [
        {
          "output_type": "stream",
          "name": "stdout",
          "text": [
            "Approach 1: The p-value approach to hypothesis testing in the decision rule\n",
            "chisquare-score is: 4.340258691369205  and p value is: 0.3619109993358314\n",
            "Failed to reject the null hypothesis.\n",
            "\n",
            "--------------------------------------------------------------------------------------\n",
            "Approach 2: The critical value approach to hypothesis testing in the decision rule\n",
            "chisquare-score is: 4.340258691369205  and critical value is: 9.487729036781154 Failed to reject the null hypothesis.\n"
          ]
        }
      ]
    },
    {
      "cell_type": "code",
      "source": [
        "chi_square(df, 0.05, 'Target', 'Good_Price')"
      ],
      "metadata": {
        "colab": {
          "base_uri": "https://localhost:8080/"
        },
        "id": "WCvE-mIu4w9W",
        "outputId": "2af3ef7f-85d9-484e-aba7-ee1d84866797"
      },
      "execution_count": 34,
      "outputs": [
        {
          "output_type": "stream",
          "name": "stdout",
          "text": [
            "Approach 1: The p-value approach to hypothesis testing in the decision rule\n",
            "chisquare-score is: 4.648222148039018  and p value is: 0.32533209688115616\n",
            "Failed to reject the null hypothesis.\n",
            "\n",
            "--------------------------------------------------------------------------------------\n",
            "Approach 2: The critical value approach to hypothesis testing in the decision rule\n",
            "chisquare-score is: 4.648222148039018  and critical value is: 9.487729036781154 Failed to reject the null hypothesis.\n"
          ]
        }
      ]
    },
    {
      "cell_type": "code",
      "source": [
        "chi_square(df, 0.05, 'Target', 'Satisfied_with_courier')"
      ],
      "metadata": {
        "colab": {
          "base_uri": "https://localhost:8080/"
        },
        "id": "ki6zQeLQ4xAk",
        "outputId": "b4bb64d2-a9b5-4095-d89d-05cdb776e10a"
      },
      "execution_count": 35,
      "outputs": [
        {
          "output_type": "stream",
          "name": "stdout",
          "text": [
            "Approach 1: The p-value approach to hypothesis testing in the decision rule\n",
            "chisquare-score is: 6.8080391498956505  and p value is: 0.14638693674994785\n",
            "Failed to reject the null hypothesis.\n",
            "\n",
            "--------------------------------------------------------------------------------------\n",
            "Approach 2: The critical value approach to hypothesis testing in the decision rule\n",
            "chisquare-score is: 6.8080391498956505  and critical value is: 9.487729036781154 Failed to reject the null hypothesis.\n"
          ]
        }
      ]
    },
    {
      "cell_type": "code",
      "source": [
        "chi_square(df, 0.05, 'Target', 'App_ease')"
      ],
      "metadata": {
        "colab": {
          "base_uri": "https://localhost:8080/"
        },
        "id": "NzS0er8u4xE9",
        "outputId": "4ad79cee-2296-4d24-d3de-cee9e1d8c227"
      },
      "execution_count": 36,
      "outputs": [
        {
          "output_type": "stream",
          "name": "stdout",
          "text": [
            "Approach 1: The p-value approach to hypothesis testing in the decision rule\n",
            "chisquare-score is: 8.138426254545267  and p value is: 0.08663706753285116\n",
            "Failed to reject the null hypothesis.\n",
            "\n",
            "--------------------------------------------------------------------------------------\n",
            "Approach 2: The critical value approach to hypothesis testing in the decision rule\n",
            "chisquare-score is: 8.138426254545267  and critical value is: 9.487729036781154 Failed to reject the null hypothesis.\n"
          ]
        }
      ]
    },
    {
      "cell_type": "markdown",
      "source": [
        "#### Conclusion of the chi_squared test \n",
        "\n",
        "delivered_on_time: Ho rejected\n",
        "\n",
        "Contents_as_expected: Ho accepted\n",
        "\n",
        "Found_everything': Ho accepted\n",
        "\n",
        "Good_Price: Ho accepted \n",
        "\n",
        "Satisfied_with_courier: Ho accepted \n",
        "\n",
        "App_ease : Ho accepted \n",
        "\n",
        "The null hypothesis was accepted in all features except one (delivered_on_time) where the null hypothesis was rejected. \n",
        "\n",
        "Customer dissatisfaction/satisfaction is independent of all variables except the delivery_on_time variable. \n"
      ],
      "metadata": {
        "id": "Rym9u6z0VgQE"
      }
    },
    {
      "cell_type": "markdown",
      "source": [
        "#### 2nd Method"
      ],
      "metadata": {
        "id": "88pCdZ_5S-jc"
      }
    },
    {
      "cell_type": "code",
      "source": [
        "from scipy.stats import chi2_contingency "
      ],
      "metadata": {
        "id": "hKoOT55DRtfu"
      },
      "execution_count": 37,
      "outputs": []
    },
    {
      "cell_type": "code",
      "source": [
        "categorical_col = df.columns[1:]\n",
        "print(categorical_col)"
      ],
      "metadata": {
        "id": "eKezM1jAuA0i",
        "colab": {
          "base_uri": "https://localhost:8080/"
        },
        "outputId": "307ac3fb-7cbc-44b8-fb3d-4fbddde0852e"
      },
      "execution_count": 38,
      "outputs": [
        {
          "output_type": "stream",
          "name": "stdout",
          "text": [
            "Index(['Delivered_on_Time', 'Contents_as_expected', 'Found_everything',\n",
            "       'Good_Price', 'Satisfied_with_courier', 'App_ease'],\n",
            "      dtype='object')\n"
          ]
        }
      ]
    },
    {
      "cell_type": "code",
      "source": [
        "chisqt = pd.crosstab(df.Target, df.Good_Price, margins=True)\n",
        "print(chisqt)"
      ],
      "metadata": {
        "id": "CMGayeQ3uA4l",
        "colab": {
          "base_uri": "https://localhost:8080/"
        },
        "outputId": "8fed5846-b08c-4c93-fbef-a141489a2e8a"
      },
      "execution_count": 39,
      "outputs": [
        {
          "output_type": "stream",
          "name": "stdout",
          "text": [
            "Good_Price  1  2   3   4   5  All\n",
            "Target                           \n",
            "0           0  4  20  23  10   57\n",
            "1           2  1  21  30  15   69\n",
            "All         2  5  41  53  25  126\n"
          ]
        }
      ]
    },
    {
      "cell_type": "code",
      "source": [
        "value = np.array([chisqt.iloc[0][0:5].values,\n",
        "                  chisqt.iloc[1][0:5].values])\n",
        "print(chi2_contingency(value)[0:3])"
      ],
      "metadata": {
        "id": "tLXYPjCWuA79",
        "colab": {
          "base_uri": "https://localhost:8080/"
        },
        "outputId": "a560edfa-277c-4fa8-ae8e-53a3102ea4cf"
      },
      "execution_count": 40,
      "outputs": [
        {
          "output_type": "stream",
          "name": "stdout",
          "text": [
            "(4.648222148039019, 0.325332096881156, 4)\n"
          ]
        }
      ]
    },
    {
      "cell_type": "code",
      "source": [
        "stat, p, dof = (chi2_contingency(value)[0:3])\n",
        " \n",
        "print(stat, p, dof)"
      ],
      "metadata": {
        "id": "s1yYDo37uBAl",
        "colab": {
          "base_uri": "https://localhost:8080/"
        },
        "outputId": "92a25884-a31a-4b14-c218-068281b364d8"
      },
      "execution_count": 41,
      "outputs": [
        {
          "output_type": "stream",
          "name": "stdout",
          "text": [
            "4.648222148039019 0.325332096881156 4\n"
          ]
        }
      ]
    },
    {
      "cell_type": "code",
      "source": [
        "significance_level = 0.05\n",
        "print(\"p value: \" + str(p)) \n",
        "\n",
        "if p <= significance_level: \n",
        "    print('Reject NULL HYPOTHESIS') \n",
        "else: \n",
        "    print('ACCEPT NULL HYPOTHESIS') "
      ],
      "metadata": {
        "id": "S5qYUeoruBDR",
        "colab": {
          "base_uri": "https://localhost:8080/"
        },
        "outputId": "9fadc401-9b0c-4c45-a8fe-ec48630a1c37"
      },
      "execution_count": 42,
      "outputs": [
        {
          "output_type": "stream",
          "name": "stdout",
          "text": [
            "p value: 0.325332096881156\n",
            "ACCEPT NULL HYPOTHESIS\n"
          ]
        }
      ]
    },
    {
      "cell_type": "markdown",
      "source": [
        "# Features Engineering \n",
        "\n",
        "get the mean of all scores\n",
        "\n",
        "get the sum of all scores \n",
        "\n",
        "get the percentage of the overall scores"
      ],
      "metadata": {
        "id": "s3Lgqm1g_6d4"
      }
    },
    {
      "cell_type": "code",
      "source": [
        "df.nunique() , df.columns"
      ],
      "metadata": {
        "colab": {
          "base_uri": "https://localhost:8080/"
        },
        "id": "FK7t7E6wuBIA",
        "outputId": "d4eb94ad-5086-4877-efa1-0329d82645cb"
      },
      "execution_count": 43,
      "outputs": [
        {
          "output_type": "execute_result",
          "data": {
            "text/plain": [
              "(Target                    2\n",
              " Delivered_on_Time         4\n",
              " Contents_as_expected      5\n",
              " Found_everything          5\n",
              " Good_Price                5\n",
              " Satisfied_with_courier    5\n",
              " App_ease                  5\n",
              " dtype: int64, Index(['Target', 'Delivered_on_Time', 'Contents_as_expected',\n",
              "        'Found_everything', 'Good_Price', 'Satisfied_with_courier', 'App_ease'],\n",
              "       dtype='object'))"
            ]
          },
          "metadata": {},
          "execution_count": 43
        }
      ]
    },
    {
      "cell_type": "code",
      "source": [
        "total_exp_points = 30 \n",
        "numbers_indp_var = 6"
      ],
      "metadata": {
        "id": "WJlPIzapA0s_"
      },
      "execution_count": 44,
      "outputs": []
    },
    {
      "cell_type": "code",
      "source": [
        "df['percent_score'] = df[['Delivered_on_Time', 'Contents_as_expected','Found_everything', 'Good_Price', 'Satisfied_with_courier', 'App_ease']].sum(axis=1)/30*100\n",
        "df['percent_score'].head(5)"
      ],
      "metadata": {
        "colab": {
          "base_uri": "https://localhost:8080/"
        },
        "id": "Ape3QtAtG1lY",
        "outputId": "adf6a2c9-42c5-4a0d-c599-33b3702f13f5"
      },
      "execution_count": 45,
      "outputs": [
        {
          "output_type": "execute_result",
          "data": {
            "text/plain": [
              "0    63.333333\n",
              "1    66.666667\n",
              "2    73.333333\n",
              "3    76.666667\n",
              "4    76.666667\n",
              "Name: percent_score, dtype: float64"
            ]
          },
          "metadata": {},
          "execution_count": 45
        }
      ]
    },
    {
      "cell_type": "code",
      "source": [
        "df['mean_score'] = df[['Delivered_on_Time', 'Contents_as_expected','Found_everything', 'Good_Price', 'Satisfied_with_courier', 'App_ease']].sum(axis=1)/6\n",
        "df['mean_score'].head(5)"
      ],
      "metadata": {
        "colab": {
          "base_uri": "https://localhost:8080/"
        },
        "id": "s8hGSOZJBXUW",
        "outputId": "4a86d059-a787-41e3-c59c-f826a1a1aa1d"
      },
      "execution_count": 46,
      "outputs": [
        {
          "output_type": "execute_result",
          "data": {
            "text/plain": [
              "0    3.166667\n",
              "1    3.333333\n",
              "2    3.666667\n",
              "3    3.833333\n",
              "4    3.833333\n",
              "Name: mean_score, dtype: float64"
            ]
          },
          "metadata": {},
          "execution_count": 46
        }
      ]
    },
    {
      "cell_type": "code",
      "source": [
        "df['total_score']= df[['Delivered_on_Time', 'Contents_as_expected','Found_everything', 'Good_Price', 'Satisfied_with_courier', 'App_ease']].sum(axis=1)\n",
        "df['total_score'].head(5)"
      ],
      "metadata": {
        "colab": {
          "base_uri": "https://localhost:8080/"
        },
        "id": "HERoiAwiFzS2",
        "outputId": "99073b2f-5455-408a-cef8-9fe4c22f74fb"
      },
      "execution_count": 47,
      "outputs": [
        {
          "output_type": "execute_result",
          "data": {
            "text/plain": [
              "0    19\n",
              "1    20\n",
              "2    22\n",
              "3    23\n",
              "4    23\n",
              "Name: total_score, dtype: int64"
            ]
          },
          "metadata": {},
          "execution_count": 47
        }
      ]
    },
    {
      "cell_type": "code",
      "source": [
        "#view the distribution of data \n",
        "df.hist(figsize=(15, 10) )\n",
        "plt.subplots_adjust(hspace=0.5);"
      ],
      "metadata": {
        "id": "8l1t2xKnUsgv",
        "colab": {
          "base_uri": "https://localhost:8080/",
          "height": 607
        },
        "outputId": "f07faf22-3fa2-423f-ba25-88045e638720"
      },
      "execution_count": 48,
      "outputs": [
        {
          "output_type": "display_data",
          "data": {
            "text/plain": [
              "<Figure size 1080x720 with 12 Axes>"
            ],
            "image/png": "[encoded data removed]"
          },
          "metadata": {
            "needs_background": "light"
          }
        }
      ]
    },
    {
      "cell_type": "code",
      "source": [],
      "metadata": {
        "id": "dcnwn8tnUtdt"
      },
      "execution_count": 48,
      "outputs": []
    },
    {
      "cell_type": "code",
      "source": [],
      "metadata": {
        "id": "9YupB2QaUtze"
      },
      "execution_count": 48,
      "outputs": []
    },
    {
      "cell_type": "markdown",
      "source": [
        "# Imbalanced Classification in Python: SMOTE"
      ],
      "metadata": {
        "id": "IqrVdSGw5LiV"
      }
    },
    {
      "cell_type": "code",
      "source": [
        "from imblearn.over_sampling import SMOTE\n",
        "from collections import Counter"
      ],
      "metadata": {
        "id": "2ejX2iEd4_bU"
      },
      "execution_count": 49,
      "outputs": []
    },
    {
      "cell_type": "code",
      "source": [
        "df['Target'].value_counts()"
      ],
      "metadata": {
        "colab": {
          "base_uri": "https://localhost:8080/"
        },
        "id": "dDgORJTe5acV",
        "outputId": "2f8b6656-638e-4cc7-8e4e-5e10642ebd16"
      },
      "execution_count": 50,
      "outputs": [
        {
          "output_type": "execute_result",
          "data": {
            "text/plain": [
              "1    69\n",
              "0    57\n",
              "Name: Target, dtype: int64"
            ]
          },
          "metadata": {},
          "execution_count": 50
        }
      ]
    },
    {
      "cell_type": "code",
      "source": [
        "y= df.Target\n",
        "X= df.drop(columns = ['Target'])"
      ],
      "metadata": {
        "id": "4U6YLH1j4_tj"
      },
      "execution_count": 51,
      "outputs": []
    },
    {
      "cell_type": "markdown",
      "source": [
        "we can define a SMOTE instance with default parameters that will balance the minority class and then fit and apply it in one step to create a transformed version of our dataset."
      ],
      "metadata": {
        "id": "75SNVhn57EP8"
      }
    },
    {
      "cell_type": "code",
      "source": [
        "# Oversample\n",
        "sm = SMOTE(random_state=42)\n",
        "X_res, y_res = sm.fit_resample(X, y)"
      ],
      "metadata": {
        "id": "AF-c1ZbI5F8k"
      },
      "execution_count": 52,
      "outputs": []
    },
    {
      "cell_type": "code",
      "source": [
        "counter = Counter(y_res)\n",
        "print(counter)"
      ],
      "metadata": {
        "colab": {
          "base_uri": "https://localhost:8080/"
        },
        "id": "BT0K4vND57zf",
        "outputId": "dbbc2235-9c05-4d74-8fe2-8902e038b39e"
      },
      "execution_count": 53,
      "outputs": [
        {
          "output_type": "stream",
          "name": "stdout",
          "text": [
            "Counter({0: 69, 1: 69})\n"
          ]
        }
      ]
    },
    {
      "cell_type": "code",
      "source": [
        "X_res.head(2)"
      ],
      "metadata": {
        "colab": {
          "base_uri": "https://localhost:8080/",
          "height": 156
        },
        "id": "qVO8cB1RGOuM",
        "outputId": "a30b3fb9-f8cd-4880-e2d3-5c4c8de4a689"
      },
      "execution_count": 54,
      "outputs": [
        {
          "output_type": "execute_result",
          "data": {
            "text/plain": [
              "   Delivered_on_Time  Contents_as_expected  Found_everything  Good_Price  \\\n",
              "0                  3                     3                 3           4   \n",
              "1                  3                     2                 3           5   \n",
              "\n",
              "   Satisfied_with_courier  App_ease  percent_score  mean_score  total_score  \n",
              "0                       2         4      63.333333    3.166667           19  \n",
              "1                       4         3      66.666667    3.333333           20  "
            ],
            "text/html": [
              "\n",
              "  <div id=\"df-b2ddbdd1-ff55-4612-8260-bc4ea74eaea7\">\n",
              "    <div class=\"colab-df-container\">\n",
              "      <div>\n",
              "<style scoped>\n",
              "    .dataframe tbody tr th:only-of-type {\n",
              "        vertical-align: middle;\n",
              "    }\n",
              "\n",
              "    .dataframe tbody tr th {\n",
              "        vertical-align: top;\n",
              "    }\n",
              "\n",
              "    .dataframe thead th {\n",
              "        text-align: right;\n",
              "    }\n",
              "</style>\n",
              "<table border=\"1\" class=\"dataframe\">\n",
              "  <thead>\n",
              "    <tr style=\"text-align: right;\">\n",
              "      <th></th>\n",
              "      <th>Delivered_on_Time</th>\n",
              "      <th>Contents_as_expected</th>\n",
              "      <th>Found_everything</th>\n",
              "      <th>Good_Price</th>\n",
              "      <th>Satisfied_with_courier</th>\n",
              "      <th>App_ease</th>\n",
              "      <th>percent_score</th>\n",
              "      <th>mean_score</th>\n",
              "      <th>total_score</th>\n",
              "    </tr>\n",
              "  </thead>\n",
              "  <tbody>\n",
              "    <tr>\n",
              "      <th>0</th>\n",
              "      <td>3</td>\n",
              "      <td>3</td>\n",
              "      <td>3</td>\n",
              "      <td>4</td>\n",
              "      <td>2</td>\n",
              "      <td>4</td>\n",
              "      <td>63.333333</td>\n",
              "      <td>3.166667</td>\n",
              "      <td>19</td>\n",
              "    </tr>\n",
              "    <tr>\n",
              "      <th>1</th>\n",
              "      <td>3</td>\n",
              "      <td>2</td>\n",
              "      <td>3</td>\n",
              "      <td>5</td>\n",
              "      <td>4</td>\n",
              "      <td>3</td>\n",
              "      <td>66.666667</td>\n",
              "      <td>3.333333</td>\n",
              "      <td>20</td>\n",
              "    </tr>\n",
              "  </tbody>\n",
              "</table>\n",
              "</div>\n",
              "      <button class=\"colab-df-convert\" onclick=\"convertToInteractive('df-b2ddbdd1-ff55-4612-8260-bc4ea74eaea7')\"\n",
              "              title=\"Convert this dataframe to an interactive table.\"\n",
              "              style=\"display:none;\">\n",
              "        \n",
              "  <svg xmlns=\"http://www.w3.org/2000/svg\" height=\"24px\"viewBox=\"0 0 24 24\"\n",
              "       width=\"24px\">\n",
              "    <path d=\"M0 0h24v24H0V0z\" fill=\"none\"/>\n",
              "    <path d=\"M18.56 5.44l.94 2.06.94-2.06 2.06-.94-2.06-.94-.94-2.06-.94 2.06-2.06.94zm-11 1L8.5 8.5l.94-2.06 2.06-.94-2.06-.94L8.5 2.5l-.94 2.06-2.06.94zm10 10l.94 2.06.94-2.06 2.06-.94-2.06-.94-.94-2.06-.94 2.06-2.06.94z\"/><path d=\"M17.41 7.96l-1.37-1.37c-.4-.4-.92-.59-1.43-.59-.52 0-1.04.2-1.43.59L10.3 9.45l-7.72 7.72c-.78.78-.78 2.05 0 2.83L4 21.41c.39.39.9.59 1.41.59.51 0 1.02-.2 1.41-.59l7.78-7.78 2.81-2.81c.8-.78.8-2.07 0-2.86zM5.41 20L4 18.59l7.72-7.72 1.47 1.35L5.41 20z\"/>\n",
              "  </svg>\n",
              "      </button>\n",
              "      \n",
              "  <style>\n",
              "    .colab-df-container {\n",
              "      display:flex;\n",
              "      flex-wrap:wrap;\n",
              "      gap: 12px;\n",
              "    }\n",
              "\n",
              "    .colab-df-convert {\n",
              "      background-color: #E8F0FE;\n",
              "      border: none;\n",
              "      border-radius: 50%;\n",
              "      cursor: pointer;\n",
              "      display: none;\n",
              "      fill: #1967D2;\n",
              "      height: 32px;\n",
              "      padding: 0 0 0 0;\n",
              "      width: 32px;\n",
              "    }\n",
              "\n",
              "    .colab-df-convert:hover {\n",
              "      background-color: #E2EBFA;\n",
              "      box-shadow: 0px 1px 2px rgba(60, 64, 67, 0.3), 0px 1px 3px 1px rgba(60, 64, 67, 0.15);\n",
              "      fill: #174EA6;\n",
              "    }\n",
              "\n",
              "    [theme=dark] .colab-df-convert {\n",
              "      background-color: #3B4455;\n",
              "      fill: #D2E3FC;\n",
              "    }\n",
              "\n",
              "    [theme=dark] .colab-df-convert:hover {\n",
              "      background-color: #434B5C;\n",
              "      box-shadow: 0px 1px 3px 1px rgba(0, 0, 0, 0.15);\n",
              "      filter: drop-shadow(0px 1px 2px rgba(0, 0, 0, 0.3));\n",
              "      fill: #FFFFFF;\n",
              "    }\n",
              "  </style>\n",
              "\n",
              "      <script>\n",
              "        const buttonEl =\n",
              "          document.querySelector('#df-b2ddbdd1-ff55-4612-8260-bc4ea74eaea7 button.colab-df-convert');\n",
              "        buttonEl.style.display =\n",
              "          google.colab.kernel.accessAllowed ? 'block' : 'none';\n",
              "\n",
              "        async function convertToInteractive(key) {\n",
              "          const element = document.querySelector('#df-b2ddbdd1-ff55-4612-8260-bc4ea74eaea7');\n",
              "          const dataTable =\n",
              "            await google.colab.kernel.invokeFunction('convertToInteractive',\n",
              "                                                     [key], {});\n",
              "          if (!dataTable) return;\n",
              "\n",
              "          const docLinkHtml = 'Like what you see? Visit the ' +\n",
              "            '<a target=\"_blank\" href=https://colab.research.google.com/notebooks/data_table.ipynb>data table notebook</a>'\n",
              "            + ' to learn more about interactive tables.';\n",
              "          element.innerHTML = '';\n",
              "          dataTable['output_type'] = 'display_data';\n",
              "          await google.colab.output.renderOutput(dataTable, element);\n",
              "          const docLink = document.createElement('div');\n",
              "          docLink.innerHTML = docLinkHtml;\n",
              "          element.appendChild(docLink);\n",
              "        }\n",
              "      </script>\n",
              "    </div>\n",
              "  </div>\n",
              "  "
            ]
          },
          "metadata": {},
          "execution_count": 54
        }
      ]
    },
    {
      "cell_type": "code",
      "source": [
        "X_res[X_res.columns[0:6]] = X_res[X_res.columns[0:6]].applymap(str)\n",
        "X_res.dtypes"
      ],
      "metadata": {
        "colab": {
          "base_uri": "https://localhost:8080/"
        },
        "id": "qWAPVI03Gb_G",
        "outputId": "a8db3b95-012a-4e37-fc85-e4909ca65299"
      },
      "execution_count": 55,
      "outputs": [
        {
          "output_type": "execute_result",
          "data": {
            "text/plain": [
              "Delivered_on_Time          object\n",
              "Contents_as_expected       object\n",
              "Found_everything           object\n",
              "Good_Price                 object\n",
              "Satisfied_with_courier     object\n",
              "App_ease                   object\n",
              "percent_score             float64\n",
              "mean_score                float64\n",
              "total_score                 int64\n",
              "dtype: object"
            ]
          },
          "metadata": {},
          "execution_count": 55
        }
      ]
    },
    {
      "cell_type": "code",
      "source": [
        "X_res = pd.get_dummies(data=X_res, columns=['Delivered_on_Time', 'Contents_as_expected', 'Found_everything',\n",
        "       'Good_Price', 'Satisfied_with_courier', 'App_ease'])\n",
        "X_res.head()"
      ],
      "metadata": {
        "colab": {
          "base_uri": "https://localhost:8080/",
          "height": 300
        },
        "id": "GiuDHtGqGcK2",
        "outputId": "d77261b8-328a-423b-eafe-e02fb1e0c7bc"
      },
      "execution_count": 56,
      "outputs": [
        {
          "output_type": "execute_result",
          "data": {
            "text/plain": [
              "   percent_score  mean_score  total_score  Delivered_on_Time_1  \\\n",
              "0      63.333333    3.166667           19                    0   \n",
              "1      66.666667    3.333333           20                    0   \n",
              "2      73.333333    3.666667           22                    0   \n",
              "3      76.666667    3.833333           23                    0   \n",
              "4      76.666667    3.833333           23                    0   \n",
              "\n",
              "   Delivered_on_Time_3  Delivered_on_Time_4  Delivered_on_Time_5  \\\n",
              "0                    1                    0                    0   \n",
              "1                    1                    0                    0   \n",
              "2                    0                    0                    1   \n",
              "3                    0                    0                    1   \n",
              "4                    0                    0                    1   \n",
              "\n",
              "   Contents_as_expected_1  Contents_as_expected_2  Contents_as_expected_3  \\\n",
              "0                       0                       0                       1   \n",
              "1                       0                       1                       0   \n",
              "2                       0                       0                       1   \n",
              "3                       0                       0                       0   \n",
              "4                       0                       0                       0   \n",
              "\n",
              "   ...  Satisfied_with_courier_1  Satisfied_with_courier_2  \\\n",
              "0  ...                         0                         1   \n",
              "1  ...                         0                         0   \n",
              "2  ...                         0                         0   \n",
              "3  ...                         0                         0   \n",
              "4  ...                         0                         0   \n",
              "\n",
              "   Satisfied_with_courier_3  Satisfied_with_courier_4  \\\n",
              "0                         0                         0   \n",
              "1                         0                         1   \n",
              "2                         1                         0   \n",
              "3                         1                         0   \n",
              "4                         1                         0   \n",
              "\n",
              "   Satisfied_with_courier_5  App_ease_1  App_ease_2  App_ease_3  App_ease_4  \\\n",
              "0                         0           0           0           0           1   \n",
              "1                         0           0           0           1           0   \n",
              "2                         0           0           0           0           0   \n",
              "3                         0           0           0           0           0   \n",
              "4                         0           0           0           0           0   \n",
              "\n",
              "   App_ease_5  \n",
              "0           0  \n",
              "1           0  \n",
              "2           1  \n",
              "3           1  \n",
              "4           1  \n",
              "\n",
              "[5 rows x 32 columns]"
            ],
            "text/html": [
              "\n",
              "  <div id=\"df-b707d4df-8f49-4f8c-9cd2-5aac83f9fb58\">\n",
              "    <div class=\"colab-df-container\">\n",
              "      <div>\n",
              "<style scoped>\n",
              "    .dataframe tbody tr th:only-of-type {\n",
              "        vertical-align: middle;\n",
              "    }\n",
              "\n",
              "    .dataframe tbody tr th {\n",
              "        vertical-align: top;\n",
              "    }\n",
              "\n",
              "    .dataframe thead th {\n",
              "        text-align: right;\n",
              "    }\n",
              "</style>\n",
              "<table border=\"1\" class=\"dataframe\">\n",
              "  <thead>\n",
              "    <tr style=\"text-align: right;\">\n",
              "      <th></th>\n",
              "      <th>percent_score</th>\n",
              "      <th>mean_score</th>\n",
              "      <th>total_score</th>\n",
              "      <th>Delivered_on_Time_1</th>\n",
              "      <th>Delivered_on_Time_3</th>\n",
              "      <th>Delivered_on_Time_4</th>\n",
              "      <th>Delivered_on_Time_5</th>\n",
              "      <th>Contents_as_expected_1</th>\n",
              "      <th>Contents_as_expected_2</th>\n",
              "      <th>Contents_as_expected_3</th>\n",
              "      <th>...</th>\n",
              "      <th>Satisfied_with_courier_1</th>\n",
              "      <th>Satisfied_with_courier_2</th>\n",
              "      <th>Satisfied_with_courier_3</th>\n",
              "      <th>Satisfied_with_courier_4</th>\n",
              "      <th>Satisfied_with_courier_5</th>\n",
              "      <th>App_ease_1</th>\n",
              "      <th>App_ease_2</th>\n",
              "      <th>App_ease_3</th>\n",
              "      <th>App_ease_4</th>\n",
              "      <th>App_ease_5</th>\n",
              "    </tr>\n",
              "  </thead>\n",
              "  <tbody>\n",
              "    <tr>\n",
              "      <th>0</th>\n",
              "      <td>63.333333</td>\n",
              "      <td>3.166667</td>\n",
              "      <td>19</td>\n",
              "      <td>0</td>\n",
              "      <td>1</td>\n",
              "      <td>0</td>\n",
              "      <td>0</td>\n",
              "      <td>0</td>\n",
              "      <td>0</td>\n",
              "      <td>1</td>\n",
              "      <td>...</td>\n",
              "      <td>0</td>\n",
              "      <td>1</td>\n",
              "      <td>0</td>\n",
              "      <td>0</td>\n",
              "      <td>0</td>\n",
              "      <td>0</td>\n",
              "      <td>0</td>\n",
              "      <td>0</td>\n",
              "      <td>1</td>\n",
              "      <td>0</td>\n",
              "    </tr>\n",
              "    <tr>\n",
              "      <th>1</th>\n",
              "      <td>66.666667</td>\n",
              "      <td>3.333333</td>\n",
              "      <td>20</td>\n",
              "      <td>0</td>\n",
              "      <td>1</td>\n",
              "      <td>0</td>\n",
              "      <td>0</td>\n",
              "      <td>0</td>\n",
              "      <td>1</td>\n",
              "      <td>0</td>\n",
              "      <td>...</td>\n",
              "      <td>0</td>\n",
              "      <td>0</td>\n",
              "      <td>0</td>\n",
              "      <td>1</td>\n",
              "      <td>0</td>\n",
              "      <td>0</td>\n",
              "      <td>0</td>\n",
              "      <td>1</td>\n",
              "      <td>0</td>\n",
              "      <td>0</td>\n",
              "    </tr>\n",
              "    <tr>\n",
              "      <th>2</th>\n",
              "      <td>73.333333</td>\n",
              "      <td>3.666667</td>\n",
              "      <td>22</td>\n",
              "      <td>0</td>\n",
              "      <td>0</td>\n",
              "      <td>0</td>\n",
              "      <td>1</td>\n",
              "      <td>0</td>\n",
              "      <td>0</td>\n",
              "      <td>1</td>\n",
              "      <td>...</td>\n",
              "      <td>0</td>\n",
              "      <td>0</td>\n",
              "      <td>1</td>\n",
              "      <td>0</td>\n",
              "      <td>0</td>\n",
              "      <td>0</td>\n",
              "      <td>0</td>\n",
              "      <td>0</td>\n",
              "      <td>0</td>\n",
              "      <td>1</td>\n",
              "    </tr>\n",
              "    <tr>\n",
              "      <th>3</th>\n",
              "      <td>76.666667</td>\n",
              "      <td>3.833333</td>\n",
              "      <td>23</td>\n",
              "      <td>0</td>\n",
              "      <td>0</td>\n",
              "      <td>0</td>\n",
              "      <td>1</td>\n",
              "      <td>0</td>\n",
              "      <td>0</td>\n",
              "      <td>0</td>\n",
              "      <td>...</td>\n",
              "      <td>0</td>\n",
              "      <td>0</td>\n",
              "      <td>1</td>\n",
              "      <td>0</td>\n",
              "      <td>0</td>\n",
              "      <td>0</td>\n",
              "      <td>0</td>\n",
              "      <td>0</td>\n",
              "      <td>0</td>\n",
              "      <td>1</td>\n",
              "    </tr>\n",
              "    <tr>\n",
              "      <th>4</th>\n",
              "      <td>76.666667</td>\n",
              "      <td>3.833333</td>\n",
              "      <td>23</td>\n",
              "      <td>0</td>\n",
              "      <td>0</td>\n",
              "      <td>0</td>\n",
              "      <td>1</td>\n",
              "      <td>0</td>\n",
              "      <td>0</td>\n",
              "      <td>0</td>\n",
              "      <td>...</td>\n",
              "      <td>0</td>\n",
              "      <td>0</td>\n",
              "      <td>1</td>\n",
              "      <td>0</td>\n",
              "      <td>0</td>\n",
              "      <td>0</td>\n",
              "      <td>0</td>\n",
              "      <td>0</td>\n",
              "      <td>0</td>\n",
              "      <td>1</td>\n",
              "    </tr>\n",
              "  </tbody>\n",
              "</table>\n",
              "<p>5 rows × 32 columns</p>\n",
              "</div>\n",
              "      <button class=\"colab-df-convert\" onclick=\"convertToInteractive('df-b707d4df-8f49-4f8c-9cd2-5aac83f9fb58')\"\n",
              "              title=\"Convert this dataframe to an interactive table.\"\n",
              "              style=\"display:none;\">\n",
              "        \n",
              "  <svg xmlns=\"http://www.w3.org/2000/svg\" height=\"24px\"viewBox=\"0 0 24 24\"\n",
              "       width=\"24px\">\n",
              "    <path d=\"M0 0h24v24H0V0z\" fill=\"none\"/>\n",
              "    <path d=\"M18.56 5.44l.94 2.06.94-2.06 2.06-.94-2.06-.94-.94-2.06-.94 2.06-2.06.94zm-11 1L8.5 8.5l.94-2.06 2.06-.94-2.06-.94L8.5 2.5l-.94 2.06-2.06.94zm10 10l.94 2.06.94-2.06 2.06-.94-2.06-.94-.94-2.06-.94 2.06-2.06.94z\"/><path d=\"M17.41 7.96l-1.37-1.37c-.4-.4-.92-.59-1.43-.59-.52 0-1.04.2-1.43.59L10.3 9.45l-7.72 7.72c-.78.78-.78 2.05 0 2.83L4 21.41c.39.39.9.59 1.41.59.51 0 1.02-.2 1.41-.59l7.78-7.78 2.81-2.81c.8-.78.8-2.07 0-2.86zM5.41 20L4 18.59l7.72-7.72 1.47 1.35L5.41 20z\"/>\n",
              "  </svg>\n",
              "      </button>\n",
              "      \n",
              "  <style>\n",
              "    .colab-df-container {\n",
              "      display:flex;\n",
              "      flex-wrap:wrap;\n",
              "      gap: 12px;\n",
              "    }\n",
              "\n",
              "    .colab-df-convert {\n",
              "      background-color: #E8F0FE;\n",
              "      border: none;\n",
              "      border-radius: 50%;\n",
              "      cursor: pointer;\n",
              "      display: none;\n",
              "      fill: #1967D2;\n",
              "      height: 32px;\n",
              "      padding: 0 0 0 0;\n",
              "      width: 32px;\n",
              "    }\n",
              "\n",
              "    .colab-df-convert:hover {\n",
              "      background-color: #E2EBFA;\n",
              "      box-shadow: 0px 1px 2px rgba(60, 64, 67, 0.3), 0px 1px 3px 1px rgba(60, 64, 67, 0.15);\n",
              "      fill: #174EA6;\n",
              "    }\n",
              "\n",
              "    [theme=dark] .colab-df-convert {\n",
              "      background-color: #3B4455;\n",
              "      fill: #D2E3FC;\n",
              "    }\n",
              "\n",
              "    [theme=dark] .colab-df-convert:hover {\n",
              "      background-color: #434B5C;\n",
              "      box-shadow: 0px 1px 3px 1px rgba(0, 0, 0, 0.15);\n",
              "      filter: drop-shadow(0px 1px 2px rgba(0, 0, 0, 0.3));\n",
              "      fill: #FFFFFF;\n",
              "    }\n",
              "  </style>\n",
              "\n",
              "      <script>\n",
              "        const buttonEl =\n",
              "          document.querySelector('#df-b707d4df-8f49-4f8c-9cd2-5aac83f9fb58 button.colab-df-convert');\n",
              "        buttonEl.style.display =\n",
              "          google.colab.kernel.accessAllowed ? 'block' : 'none';\n",
              "\n",
              "        async function convertToInteractive(key) {\n",
              "          const element = document.querySelector('#df-b707d4df-8f49-4f8c-9cd2-5aac83f9fb58');\n",
              "          const dataTable =\n",
              "            await google.colab.kernel.invokeFunction('convertToInteractive',\n",
              "                                                     [key], {});\n",
              "          if (!dataTable) return;\n",
              "\n",
              "          const docLinkHtml = 'Like what you see? Visit the ' +\n",
              "            '<a target=\"_blank\" href=https://colab.research.google.com/notebooks/data_table.ipynb>data table notebook</a>'\n",
              "            + ' to learn more about interactive tables.';\n",
              "          element.innerHTML = '';\n",
              "          dataTable['output_type'] = 'display_data';\n",
              "          await google.colab.output.renderOutput(dataTable, element);\n",
              "          const docLink = document.createElement('div');\n",
              "          docLink.innerHTML = docLinkHtml;\n",
              "          element.appendChild(docLink);\n",
              "        }\n",
              "      </script>\n",
              "    </div>\n",
              "  </div>\n",
              "  "
            ]
          },
          "metadata": {},
          "execution_count": 56
        }
      ]
    },
    {
      "cell_type": "code",
      "source": [
        "X_res.info()"
      ],
      "metadata": {
        "colab": {
          "base_uri": "https://localhost:8080/"
        },
        "id": "rMyymnovGcaF",
        "outputId": "01848f09-5033-46fc-adc9-a8f82c3b4054"
      },
      "execution_count": 57,
      "outputs": [
        {
          "output_type": "stream",
          "name": "stdout",
          "text": [
            "<class 'pandas.core.frame.DataFrame'>\n",
            "RangeIndex: 138 entries, 0 to 137\n",
            "Data columns (total 32 columns):\n",
            " #   Column                    Non-Null Count  Dtype  \n",
            "---  ------                    --------------  -----  \n",
            " 0   percent_score             138 non-null    float64\n",
            " 1   mean_score                138 non-null    float64\n",
            " 2   total_score               138 non-null    int64  \n",
            " 3   Delivered_on_Time_1       138 non-null    uint8  \n",
            " 4   Delivered_on_Time_3       138 non-null    uint8  \n",
            " 5   Delivered_on_Time_4       138 non-null    uint8  \n",
            " 6   Delivered_on_Time_5       138 non-null    uint8  \n",
            " 7   Contents_as_expected_1    138 non-null    uint8  \n",
            " 8   Contents_as_expected_2    138 non-null    uint8  \n",
            " 9   Contents_as_expected_3    138 non-null    uint8  \n",
            " 10  Contents_as_expected_4    138 non-null    uint8  \n",
            " 11  Contents_as_expected_5    138 non-null    uint8  \n",
            " 12  Found_everything_1        138 non-null    uint8  \n",
            " 13  Found_everything_2        138 non-null    uint8  \n",
            " 14  Found_everything_3        138 non-null    uint8  \n",
            " 15  Found_everything_4        138 non-null    uint8  \n",
            " 16  Found_everything_5        138 non-null    uint8  \n",
            " 17  Good_Price_1              138 non-null    uint8  \n",
            " 18  Good_Price_2              138 non-null    uint8  \n",
            " 19  Good_Price_3              138 non-null    uint8  \n",
            " 20  Good_Price_4              138 non-null    uint8  \n",
            " 21  Good_Price_5              138 non-null    uint8  \n",
            " 22  Satisfied_with_courier_1  138 non-null    uint8  \n",
            " 23  Satisfied_with_courier_2  138 non-null    uint8  \n",
            " 24  Satisfied_with_courier_3  138 non-null    uint8  \n",
            " 25  Satisfied_with_courier_4  138 non-null    uint8  \n",
            " 26  Satisfied_with_courier_5  138 non-null    uint8  \n",
            " 27  App_ease_1                138 non-null    uint8  \n",
            " 28  App_ease_2                138 non-null    uint8  \n",
            " 29  App_ease_3                138 non-null    uint8  \n",
            " 30  App_ease_4                138 non-null    uint8  \n",
            " 31  App_ease_5                138 non-null    uint8  \n",
            "dtypes: float64(2), int64(1), uint8(29)\n",
            "memory usage: 7.3 KB\n"
          ]
        }
      ]
    },
    {
      "cell_type": "code",
      "source": [],
      "metadata": {
        "id": "A7FBQq3kHVR7"
      },
      "execution_count": 57,
      "outputs": []
    },
    {
      "cell_type": "markdown",
      "source": [
        "# Data Preprocessing \n",
        "\n",
        "- Get Dummies features  for ordinal variables\n",
        "- Obtain target and predictors\n",
        "- Divide the data into training and test sets"
      ],
      "metadata": {
        "id": "bLytMREfrPp2"
      }
    },
    {
      "cell_type": "code",
      "source": [
        "df2 = df.copy(deep=True)\n",
        "#df['DataFrame Column'] = df['DataFrame Column'].astype(str)\n",
        "#df['DataFrame Column'] = df['DataFrame Column'].apply(str)\n",
        "#df = df.applymap(str)\n",
        "df2[df2.columns[1:7]] = df2[df2.columns[1:7]].applymap(str)\n",
        "df2.dtypes"
      ],
      "metadata": {
        "colab": {
          "base_uri": "https://localhost:8080/"
        },
        "id": "iixj8GIfrMtN",
        "outputId": "c17c1e0f-f17f-4de5-ef46-771a4a08922d"
      },
      "execution_count": 58,
      "outputs": [
        {
          "output_type": "execute_result",
          "data": {
            "text/plain": [
              "Target                      int64\n",
              "Delivered_on_Time          object\n",
              "Contents_as_expected       object\n",
              "Found_everything           object\n",
              "Good_Price                 object\n",
              "Satisfied_with_courier     object\n",
              "App_ease                   object\n",
              "percent_score             float64\n",
              "mean_score                float64\n",
              "total_score                 int64\n",
              "dtype: object"
            ]
          },
          "metadata": {},
          "execution_count": 58
        }
      ]
    },
    {
      "cell_type": "code",
      "source": [
        "for col in df2.columns[1:7]:\n",
        "  print(col, \":\", df2[col].unique())"
      ],
      "metadata": {
        "colab": {
          "base_uri": "https://localhost:8080/"
        },
        "id": "qtdt2sCKBWuM",
        "outputId": "4914896d-5a4e-47a7-f74f-3d19e4e14889"
      },
      "execution_count": 59,
      "outputs": [
        {
          "output_type": "stream",
          "name": "stdout",
          "text": [
            "Delivered_on_Time : ['3' '5' '4' '1']\n",
            "Contents_as_expected : ['3' '2' '4' '5' '1']\n",
            "Found_everything : ['3' '2' '4' '5' '1']\n",
            "Good_Price : ['4' '5' '3' '2' '1']\n",
            "Satisfied_with_courier : ['2' '4' '3' '5' '1']\n",
            "App_ease : ['4' '3' '5' '2' '1']\n"
          ]
        }
      ]
    },
    {
      "cell_type": "code",
      "source": [
        "yy= df2.Target\n",
        "XX= df2.drop(columns = ['Target'])"
      ],
      "metadata": {
        "id": "HjpJzAk0rhXW"
      },
      "execution_count": 60,
      "outputs": []
    },
    {
      "cell_type": "code",
      "source": [
        "XX = pd.get_dummies(data=XX, columns=['Delivered_on_Time', 'Contents_as_expected', 'Found_everything',\n",
        "       'Good_Price', 'Satisfied_with_courier', 'App_ease'])\n",
        "XX.head()"
      ],
      "metadata": {
        "colab": {
          "base_uri": "https://localhost:8080/",
          "height": 300
        },
        "id": "7RSZIru5rhbs",
        "outputId": "c5e18724-1f3f-41a6-e8ae-7f5f0bb9bef6"
      },
      "execution_count": 61,
      "outputs": [
        {
          "output_type": "execute_result",
          "data": {
            "text/plain": [
              "   percent_score  mean_score  total_score  Delivered_on_Time_1  \\\n",
              "0      63.333333    3.166667           19                    0   \n",
              "1      66.666667    3.333333           20                    0   \n",
              "2      73.333333    3.666667           22                    0   \n",
              "3      76.666667    3.833333           23                    0   \n",
              "4      76.666667    3.833333           23                    0   \n",
              "\n",
              "   Delivered_on_Time_3  Delivered_on_Time_4  Delivered_on_Time_5  \\\n",
              "0                    1                    0                    0   \n",
              "1                    1                    0                    0   \n",
              "2                    0                    0                    1   \n",
              "3                    0                    0                    1   \n",
              "4                    0                    0                    1   \n",
              "\n",
              "   Contents_as_expected_1  Contents_as_expected_2  Contents_as_expected_3  \\\n",
              "0                       0                       0                       1   \n",
              "1                       0                       1                       0   \n",
              "2                       0                       0                       1   \n",
              "3                       0                       0                       0   \n",
              "4                       0                       0                       0   \n",
              "\n",
              "   ...  Satisfied_with_courier_1  Satisfied_with_courier_2  \\\n",
              "0  ...                         0                         1   \n",
              "1  ...                         0                         0   \n",
              "2  ...                         0                         0   \n",
              "3  ...                         0                         0   \n",
              "4  ...                         0                         0   \n",
              "\n",
              "   Satisfied_with_courier_3  Satisfied_with_courier_4  \\\n",
              "0                         0                         0   \n",
              "1                         0                         1   \n",
              "2                         1                         0   \n",
              "3                         1                         0   \n",
              "4                         1                         0   \n",
              "\n",
              "   Satisfied_with_courier_5  App_ease_1  App_ease_2  App_ease_3  App_ease_4  \\\n",
              "0                         0           0           0           0           1   \n",
              "1                         0           0           0           1           0   \n",
              "2                         0           0           0           0           0   \n",
              "3                         0           0           0           0           0   \n",
              "4                         0           0           0           0           0   \n",
              "\n",
              "   App_ease_5  \n",
              "0           0  \n",
              "1           0  \n",
              "2           1  \n",
              "3           1  \n",
              "4           1  \n",
              "\n",
              "[5 rows x 32 columns]"
            ],
            "text/html": [
              "\n",
              "  <div id=\"df-9591eaa0-c9d4-4a67-988d-413e287119a1\">\n",
              "    <div class=\"colab-df-container\">\n",
              "      <div>\n",
              "<style scoped>\n",
              "    .dataframe tbody tr th:only-of-type {\n",
              "        vertical-align: middle;\n",
              "    }\n",
              "\n",
              "    .dataframe tbody tr th {\n",
              "        vertical-align: top;\n",
              "    }\n",
              "\n",
              "    .dataframe thead th {\n",
              "        text-align: right;\n",
              "    }\n",
              "</style>\n",
              "<table border=\"1\" class=\"dataframe\">\n",
              "  <thead>\n",
              "    <tr style=\"text-align: right;\">\n",
              "      <th></th>\n",
              "      <th>percent_score</th>\n",
              "      <th>mean_score</th>\n",
              "      <th>total_score</th>\n",
              "      <th>Delivered_on_Time_1</th>\n",
              "      <th>Delivered_on_Time_3</th>\n",
              "      <th>Delivered_on_Time_4</th>\n",
              "      <th>Delivered_on_Time_5</th>\n",
              "      <th>Contents_as_expected_1</th>\n",
              "      <th>Contents_as_expected_2</th>\n",
              "      <th>Contents_as_expected_3</th>\n",
              "      <th>...</th>\n",
              "      <th>Satisfied_with_courier_1</th>\n",
              "      <th>Satisfied_with_courier_2</th>\n",
              "      <th>Satisfied_with_courier_3</th>\n",
              "      <th>Satisfied_with_courier_4</th>\n",
              "      <th>Satisfied_with_courier_5</th>\n",
              "      <th>App_ease_1</th>\n",
              "      <th>App_ease_2</th>\n",
              "      <th>App_ease_3</th>\n",
              "      <th>App_ease_4</th>\n",
              "      <th>App_ease_5</th>\n",
              "    </tr>\n",
              "  </thead>\n",
              "  <tbody>\n",
              "    <tr>\n",
              "      <th>0</th>\n",
              "      <td>63.333333</td>\n",
              "      <td>3.166667</td>\n",
              "      <td>19</td>\n",
              "      <td>0</td>\n",
              "      <td>1</td>\n",
              "      <td>0</td>\n",
              "      <td>0</td>\n",
              "      <td>0</td>\n",
              "      <td>0</td>\n",
              "      <td>1</td>\n",
              "      <td>...</td>\n",
              "      <td>0</td>\n",
              "      <td>1</td>\n",
              "      <td>0</td>\n",
              "      <td>0</td>\n",
              "      <td>0</td>\n",
              "      <td>0</td>\n",
              "      <td>0</td>\n",
              "      <td>0</td>\n",
              "      <td>1</td>\n",
              "      <td>0</td>\n",
              "    </tr>\n",
              "    <tr>\n",
              "      <th>1</th>\n",
              "      <td>66.666667</td>\n",
              "      <td>3.333333</td>\n",
              "      <td>20</td>\n",
              "      <td>0</td>\n",
              "      <td>1</td>\n",
              "      <td>0</td>\n",
              "      <td>0</td>\n",
              "      <td>0</td>\n",
              "      <td>1</td>\n",
              "      <td>0</td>\n",
              "      <td>...</td>\n",
              "      <td>0</td>\n",
              "      <td>0</td>\n",
              "      <td>0</td>\n",
              "      <td>1</td>\n",
              "      <td>0</td>\n",
              "      <td>0</td>\n",
              "      <td>0</td>\n",
              "      <td>1</td>\n",
              "      <td>0</td>\n",
              "      <td>0</td>\n",
              "    </tr>\n",
              "    <tr>\n",
              "      <th>2</th>\n",
              "      <td>73.333333</td>\n",
              "      <td>3.666667</td>\n",
              "      <td>22</td>\n",
              "      <td>0</td>\n",
              "      <td>0</td>\n",
              "      <td>0</td>\n",
              "      <td>1</td>\n",
              "      <td>0</td>\n",
              "      <td>0</td>\n",
              "      <td>1</td>\n",
              "      <td>...</td>\n",
              "      <td>0</td>\n",
              "      <td>0</td>\n",
              "      <td>1</td>\n",
              "      <td>0</td>\n",
              "      <td>0</td>\n",
              "      <td>0</td>\n",
              "      <td>0</td>\n",
              "      <td>0</td>\n",
              "      <td>0</td>\n",
              "      <td>1</td>\n",
              "    </tr>\n",
              "    <tr>\n",
              "      <th>3</th>\n",
              "      <td>76.666667</td>\n",
              "      <td>3.833333</td>\n",
              "      <td>23</td>\n",
              "      <td>0</td>\n",
              "      <td>0</td>\n",
              "      <td>0</td>\n",
              "      <td>1</td>\n",
              "      <td>0</td>\n",
              "      <td>0</td>\n",
              "      <td>0</td>\n",
              "      <td>...</td>\n",
              "      <td>0</td>\n",
              "      <td>0</td>\n",
              "      <td>1</td>\n",
              "      <td>0</td>\n",
              "      <td>0</td>\n",
              "      <td>0</td>\n",
              "      <td>0</td>\n",
              "      <td>0</td>\n",
              "      <td>0</td>\n",
              "      <td>1</td>\n",
              "    </tr>\n",
              "    <tr>\n",
              "      <th>4</th>\n",
              "      <td>76.666667</td>\n",
              "      <td>3.833333</td>\n",
              "      <td>23</td>\n",
              "      <td>0</td>\n",
              "      <td>0</td>\n",
              "      <td>0</td>\n",
              "      <td>1</td>\n",
              "      <td>0</td>\n",
              "      <td>0</td>\n",
              "      <td>0</td>\n",
              "      <td>...</td>\n",
              "      <td>0</td>\n",
              "      <td>0</td>\n",
              "      <td>1</td>\n",
              "      <td>0</td>\n",
              "      <td>0</td>\n",
              "      <td>0</td>\n",
              "      <td>0</td>\n",
              "      <td>0</td>\n",
              "      <td>0</td>\n",
              "      <td>1</td>\n",
              "    </tr>\n",
              "  </tbody>\n",
              "</table>\n",
              "<p>5 rows × 32 columns</p>\n",
              "</div>\n",
              "      <button class=\"colab-df-convert\" onclick=\"convertToInteractive('df-9591eaa0-c9d4-4a67-988d-413e287119a1')\"\n",
              "              title=\"Convert this dataframe to an interactive table.\"\n",
              "              style=\"display:none;\">\n",
              "        \n",
              "  <svg xmlns=\"http://www.w3.org/2000/svg\" height=\"24px\"viewBox=\"0 0 24 24\"\n",
              "       width=\"24px\">\n",
              "    <path d=\"M0 0h24v24H0V0z\" fill=\"none\"/>\n",
              "    <path d=\"M18.56 5.44l.94 2.06.94-2.06 2.06-.94-2.06-.94-.94-2.06-.94 2.06-2.06.94zm-11 1L8.5 8.5l.94-2.06 2.06-.94-2.06-.94L8.5 2.5l-.94 2.06-2.06.94zm10 10l.94 2.06.94-2.06 2.06-.94-2.06-.94-.94-2.06-.94 2.06-2.06.94z\"/><path d=\"M17.41 7.96l-1.37-1.37c-.4-.4-.92-.59-1.43-.59-.52 0-1.04.2-1.43.59L10.3 9.45l-7.72 7.72c-.78.78-.78 2.05 0 2.83L4 21.41c.39.39.9.59 1.41.59.51 0 1.02-.2 1.41-.59l7.78-7.78 2.81-2.81c.8-.78.8-2.07 0-2.86zM5.41 20L4 18.59l7.72-7.72 1.47 1.35L5.41 20z\"/>\n",
              "  </svg>\n",
              "      </button>\n",
              "      \n",
              "  <style>\n",
              "    .colab-df-container {\n",
              "      display:flex;\n",
              "      flex-wrap:wrap;\n",
              "      gap: 12px;\n",
              "    }\n",
              "\n",
              "    .colab-df-convert {\n",
              "      background-color: #E8F0FE;\n",
              "      border: none;\n",
              "      border-radius: 50%;\n",
              "      cursor: pointer;\n",
              "      display: none;\n",
              "      fill: #1967D2;\n",
              "      height: 32px;\n",
              "      padding: 0 0 0 0;\n",
              "      width: 32px;\n",
              "    }\n",
              "\n",
              "    .colab-df-convert:hover {\n",
              "      background-color: #E2EBFA;\n",
              "      box-shadow: 0px 1px 2px rgba(60, 64, 67, 0.3), 0px 1px 3px 1px rgba(60, 64, 67, 0.15);\n",
              "      fill: #174EA6;\n",
              "    }\n",
              "\n",
              "    [theme=dark] .colab-df-convert {\n",
              "      background-color: #3B4455;\n",
              "      fill: #D2E3FC;\n",
              "    }\n",
              "\n",
              "    [theme=dark] .colab-df-convert:hover {\n",
              "      background-color: #434B5C;\n",
              "      box-shadow: 0px 1px 3px 1px rgba(0, 0, 0, 0.15);\n",
              "      filter: drop-shadow(0px 1px 2px rgba(0, 0, 0, 0.3));\n",
              "      fill: #FFFFFF;\n",
              "    }\n",
              "  </style>\n",
              "\n",
              "      <script>\n",
              "        const buttonEl =\n",
              "          document.querySelector('#df-9591eaa0-c9d4-4a67-988d-413e287119a1 button.colab-df-convert');\n",
              "        buttonEl.style.display =\n",
              "          google.colab.kernel.accessAllowed ? 'block' : 'none';\n",
              "\n",
              "        async function convertToInteractive(key) {\n",
              "          const element = document.querySelector('#df-9591eaa0-c9d4-4a67-988d-413e287119a1');\n",
              "          const dataTable =\n",
              "            await google.colab.kernel.invokeFunction('convertToInteractive',\n",
              "                                                     [key], {});\n",
              "          if (!dataTable) return;\n",
              "\n",
              "          const docLinkHtml = 'Like what you see? Visit the ' +\n",
              "            '<a target=\"_blank\" href=https://colab.research.google.com/notebooks/data_table.ipynb>data table notebook</a>'\n",
              "            + ' to learn more about interactive tables.';\n",
              "          element.innerHTML = '';\n",
              "          dataTable['output_type'] = 'display_data';\n",
              "          await google.colab.output.renderOutput(dataTable, element);\n",
              "          const docLink = document.createElement('div');\n",
              "          docLink.innerHTML = docLinkHtml;\n",
              "          element.appendChild(docLink);\n",
              "        }\n",
              "      </script>\n",
              "    </div>\n",
              "  </div>\n",
              "  "
            ]
          },
          "metadata": {},
          "execution_count": 61
        }
      ]
    },
    {
      "cell_type": "code",
      "source": [
        "XX.info() # XX.dtypes"
      ],
      "metadata": {
        "colab": {
          "base_uri": "https://localhost:8080/"
        },
        "id": "X9hQwSAJAusm",
        "outputId": "e843421f-dc8f-44dc-8d54-49f6fb17647a"
      },
      "execution_count": 62,
      "outputs": [
        {
          "output_type": "stream",
          "name": "stdout",
          "text": [
            "<class 'pandas.core.frame.DataFrame'>\n",
            "RangeIndex: 126 entries, 0 to 125\n",
            "Data columns (total 32 columns):\n",
            " #   Column                    Non-Null Count  Dtype  \n",
            "---  ------                    --------------  -----  \n",
            " 0   percent_score             126 non-null    float64\n",
            " 1   mean_score                126 non-null    float64\n",
            " 2   total_score               126 non-null    int64  \n",
            " 3   Delivered_on_Time_1       126 non-null    uint8  \n",
            " 4   Delivered_on_Time_3       126 non-null    uint8  \n",
            " 5   Delivered_on_Time_4       126 non-null    uint8  \n",
            " 6   Delivered_on_Time_5       126 non-null    uint8  \n",
            " 7   Contents_as_expected_1    126 non-null    uint8  \n",
            " 8   Contents_as_expected_2    126 non-null    uint8  \n",
            " 9   Contents_as_expected_3    126 non-null    uint8  \n",
            " 10  Contents_as_expected_4    126 non-null    uint8  \n",
            " 11  Contents_as_expected_5    126 non-null    uint8  \n",
            " 12  Found_everything_1        126 non-null    uint8  \n",
            " 13  Found_everything_2        126 non-null    uint8  \n",
            " 14  Found_everything_3        126 non-null    uint8  \n",
            " 15  Found_everything_4        126 non-null    uint8  \n",
            " 16  Found_everything_5        126 non-null    uint8  \n",
            " 17  Good_Price_1              126 non-null    uint8  \n",
            " 18  Good_Price_2              126 non-null    uint8  \n",
            " 19  Good_Price_3              126 non-null    uint8  \n",
            " 20  Good_Price_4              126 non-null    uint8  \n",
            " 21  Good_Price_5              126 non-null    uint8  \n",
            " 22  Satisfied_with_courier_1  126 non-null    uint8  \n",
            " 23  Satisfied_with_courier_2  126 non-null    uint8  \n",
            " 24  Satisfied_with_courier_3  126 non-null    uint8  \n",
            " 25  Satisfied_with_courier_4  126 non-null    uint8  \n",
            " 26  Satisfied_with_courier_5  126 non-null    uint8  \n",
            " 27  App_ease_1                126 non-null    uint8  \n",
            " 28  App_ease_2                126 non-null    uint8  \n",
            " 29  App_ease_3                126 non-null    uint8  \n",
            " 30  App_ease_4                126 non-null    uint8  \n",
            " 31  App_ease_5                126 non-null    uint8  \n",
            "dtypes: float64(2), int64(1), uint8(29)\n",
            "memory usage: 6.6 KB\n"
          ]
        }
      ]
    },
    {
      "cell_type": "code",
      "source": [
        "# Oversample\n",
        "sm = SMOTE(random_state=42)\n",
        "XX_res, yy_res = sm.fit_resample(XX, yy)"
      ],
      "metadata": {
        "id": "ms9YS0kmKdHj"
      },
      "execution_count": 63,
      "outputs": []
    },
    {
      "cell_type": "code",
      "source": [
        "counter = Counter(yy_res)\n",
        "print(counter)"
      ],
      "metadata": {
        "colab": {
          "base_uri": "https://localhost:8080/"
        },
        "id": "6gq9wA9jKdSP",
        "outputId": "7788cc7b-be0a-4c07-a2aa-ec3c8fdc4580"
      },
      "execution_count": 64,
      "outputs": [
        {
          "output_type": "stream",
          "name": "stdout",
          "text": [
            "Counter({0: 69, 1: 69})\n"
          ]
        }
      ]
    },
    {
      "cell_type": "code",
      "source": [
        "#X, y # umbalance dataset \n",
        "\n",
        "#X_res, y_res # Balance dataset  and get dummie features \n",
        "\n",
        "#XX_res, yy_res # dummies features first and balance dataset "
      ],
      "metadata": {
        "id": "ni_f-HuEFGrK"
      },
      "execution_count": 65,
      "outputs": []
    },
    {
      "cell_type": "code",
      "source": [
        "# split the data into train and test set \n",
        "X_train, X_test, y_train, y_test = train_test_split(X_res, y_res, test_size=0.25, random_state=47)"
      ],
      "metadata": {
        "id": "sie_TWJe0v6s"
      },
      "execution_count": 66,
      "outputs": []
    },
    {
      "cell_type": "code",
      "source": [],
      "metadata": {
        "id": "0y2ITEPaJ6IT"
      },
      "execution_count": 66,
      "outputs": []
    },
    {
      "cell_type": "markdown",
      "source": [
        "# Modelling\n",
        "\n",
        "- build the model \n",
        "- evaluate the model\n",
        "- tune the model \n",
        "- select the best model "
      ],
      "metadata": {
        "id": "Ec-FV3b5PXTs"
      }
    },
    {
      "cell_type": "code",
      "source": [
        "#y= df.Target\n",
        "#X= df.drop(columns = ['Target'])"
      ],
      "metadata": {
        "id": "XWa3xoDiNI7a"
      },
      "execution_count": 67,
      "outputs": []
    },
    {
      "cell_type": "code",
      "source": [
        "#X, y # umbalance dataset \n",
        "\n",
        "#X_res, y_res # Balance dataset \n",
        "\n",
        "#XX_res, yy_res # bakance dataset with dummies features "
      ],
      "metadata": {
        "id": "Ed9tbCvP-W1o"
      },
      "execution_count": 68,
      "outputs": []
    },
    {
      "cell_type": "markdown",
      "source": [
        "## Lazypredict"
      ],
      "metadata": {
        "id": "0d-C3aRuoDoX"
      }
    },
    {
      "cell_type": "markdown",
      "source": [
        "Lazy Predict helps build a lot of basic models without much code and helps understand which models works better without any parameter tuning #####https://lazypredict.readthedocs.io/en/latest/installation.html"
      ],
      "metadata": {
        "id": "uJcf17Z3Dc6C"
      }
    },
    {
      "cell_type": "code",
      "source": [
        "#lzy_clf = LazyClassifier(verbose=0,ignore_warnings=True, custom_metric=None,random_state= 47)\n",
        "#lzy_models,predictions = lzy_clf.fit(X_train, X_test, y_train, y_test)\n",
        "\n",
        "#print(lzy_models)\n",
        "#print(type(lzy_models))"
      ],
      "metadata": {
        "id": "bSuWqmGpVyBY"
      },
      "execution_count": 69,
      "outputs": []
    },
    {
      "cell_type": "markdown",
      "source": [
        "## Track Model Accuracy"
      ],
      "metadata": {
        "id": "MAGiBwijkYs4"
      }
    },
    {
      "cell_type": "code",
      "source": [
        "accuracy_dic = {}"
      ],
      "metadata": {
        "id": "52gBF3pTkdLl"
      },
      "execution_count": 70,
      "outputs": []
    },
    {
      "cell_type": "code",
      "source": [
        "accuracy_dic"
      ],
      "metadata": {
        "colab": {
          "base_uri": "https://localhost:8080/"
        },
        "id": "LYCwe-5-lCkZ",
        "outputId": "c816fb4c-87f1-4d84-c9fb-f7ff13c6af8e"
      },
      "execution_count": 71,
      "outputs": [
        {
          "output_type": "execute_result",
          "data": {
            "text/plain": [
              "{}"
            ]
          },
          "metadata": {},
          "execution_count": 71
        }
      ]
    },
    {
      "cell_type": "markdown",
      "source": [
        "### Decision Tree"
      ],
      "metadata": {
        "id": "IyL1MpC9ofvl"
      }
    },
    {
      "cell_type": "code",
      "source": [
        "#building decision tree\n",
        "dt = DecisionTreeClassifier(random_state=47)\n",
        "dt.fit(X_train, y_train)\n",
        "y_pred = dt.predict(X_test)\n",
        "target_names = ['No_happy', 'happy']\n",
        "print(classification_report(y_test, y_pred, target_names=target_names))"
      ],
      "metadata": {
        "colab": {
          "base_uri": "https://localhost:8080/"
        },
        "id": "Inj2BfpW7Jgo",
        "outputId": "ee191602-ec73-471e-8841-0a1ca9d35a4c"
      },
      "execution_count": 72,
      "outputs": [
        {
          "output_type": "stream",
          "name": "stdout",
          "text": [
            "              precision    recall  f1-score   support\n",
            "\n",
            "    No_happy       0.71      0.79      0.75        19\n",
            "       happy       0.71      0.62      0.67        16\n",
            "\n",
            "    accuracy                           0.71        35\n",
            "   macro avg       0.71      0.71      0.71        35\n",
            "weighted avg       0.71      0.71      0.71        35\n",
            "\n"
          ]
        }
      ]
    },
    {
      "cell_type": "code",
      "source": [
        "accuracy = accuracy_score(y_test,y_pred) #predictions\n",
        "accuracy_dic['DecisionTreeClassifier_df'] = accuracy\n",
        "accuracy"
      ],
      "metadata": {
        "id": "v5R3UDAvk0o-",
        "colab": {
          "base_uri": "https://localhost:8080/"
        },
        "outputId": "a400b65b-36b1-421f-d3d4-c6bcc0a4ebf0"
      },
      "execution_count": 73,
      "outputs": [
        {
          "output_type": "execute_result",
          "data": {
            "text/plain": [
              "0.7142857142857143"
            ]
          },
          "metadata": {},
          "execution_count": 73
        }
      ]
    },
    {
      "cell_type": "markdown",
      "source": [
        "### Random forest"
      ],
      "metadata": {
        "id": "xtEdLksBoISA"
      }
    },
    {
      "cell_type": "code",
      "source": [
        "#rf_clf0= RandomForestClassifier(class_weight={0:0.452,1:0.548}, random_state=47)\n",
        "rf_clf0= RandomForestClassifier(random_state=47)\n",
        "rf_clf0.fit(X_train, y_train)"
      ],
      "metadata": {
        "colab": {
          "base_uri": "https://localhost:8080/"
        },
        "id": "TucDdlSxpblr",
        "outputId": "cccefaf7-aff7-4e6c-ae62-0465c673fbae"
      },
      "execution_count": 74,
      "outputs": [
        {
          "output_type": "execute_result",
          "data": {
            "text/plain": [
              "RandomForestClassifier(random_state=47)"
            ]
          },
          "metadata": {},
          "execution_count": 74
        }
      ]
    },
    {
      "cell_type": "code",
      "source": [
        "y_pred = rf_clf0.predict(X_test)\n",
        "target_names = ['No_happy', 'happy']\n",
        "print(classification_report(y_test, y_pred, target_names=target_names))"
      ],
      "metadata": {
        "colab": {
          "base_uri": "https://localhost:8080/"
        },
        "id": "QQF4a0zkpbp0",
        "outputId": "bfe14a61-633c-444c-e114-1ab221533b06"
      },
      "execution_count": 75,
      "outputs": [
        {
          "output_type": "stream",
          "name": "stdout",
          "text": [
            "              precision    recall  f1-score   support\n",
            "\n",
            "    No_happy       0.65      0.79      0.71        19\n",
            "       happy       0.67      0.50      0.57        16\n",
            "\n",
            "    accuracy                           0.66        35\n",
            "   macro avg       0.66      0.64      0.64        35\n",
            "weighted avg       0.66      0.66      0.65        35\n",
            "\n"
          ]
        }
      ]
    },
    {
      "cell_type": "code",
      "source": [
        "accuracy = accuracy_score(y_test,y_pred) #predictions\n",
        "accuracy_dic['RandomForestClassifier_rf_clf0'] = accuracy\n",
        "print(\"Accuracy: %.2f%%\" % (accuracy * 100.0))"
      ],
      "metadata": {
        "colab": {
          "base_uri": "https://localhost:8080/"
        },
        "id": "XskkuC1ujxKR",
        "outputId": "300db409-f474-44c0-b990-156e46fabc9d"
      },
      "execution_count": 76,
      "outputs": [
        {
          "output_type": "stream",
          "name": "stdout",
          "text": [
            "Accuracy: 65.71%\n"
          ]
        }
      ]
    },
    {
      "cell_type": "code",
      "source": [
        "y_pred_prob = rf_clf0.predict_proba(X_test)[:,1]\n",
        "\n",
        "# Generate ROC curve values: fpr, tpr, thresholds\n",
        "fpr, tpr, thresholds = roc_curve(y_test, y_pred_prob)\n",
        "\n",
        "# Plot ROC curve\n",
        "plt.plot([0, 1], [0, 1], 'k--')\n",
        "plt.plot(fpr, tpr)\n",
        "plt.xlabel('False Positive Rate')\n",
        "plt.ylabel('True Positive Rate')\n",
        "plt.title('ROC Curve')\n",
        "plt.show()"
      ],
      "metadata": {
        "colab": {
          "base_uri": "https://localhost:8080/",
          "height": 295
        },
        "id": "Uv-neXqZpbub",
        "outputId": "9e69f21a-2bed-456e-cdeb-501c9898ab27"
      },
      "execution_count": 77,
      "outputs": [
        {
          "output_type": "display_data",
          "data": {
            "text/plain": [
              "<Figure size 432x288 with 1 Axes>"
            ],
            "image/png": "[encoded data removed]"
          },
          "metadata": {
            "needs_background": "light"
          }
        }
      ]
    },
    {
      "cell_type": "code",
      "source": [
        "# Compute and print AUC score\n",
        "print(\"AUC: {}\".format(roc_auc_score(y_test, y_pred_prob)))"
      ],
      "metadata": {
        "colab": {
          "base_uri": "https://localhost:8080/"
        },
        "id": "zg7fE3bFpkIO",
        "outputId": "9208a404-1b01-4aef-b081-cdd8e378612f"
      },
      "execution_count": 78,
      "outputs": [
        {
          "output_type": "stream",
          "name": "stdout",
          "text": [
            "AUC: 0.71875\n"
          ]
        }
      ]
    },
    {
      "cell_type": "code",
      "source": [
        "float(round((roc_auc_score(y_test, y_pred_prob)), 2))"
      ],
      "metadata": {
        "colab": {
          "base_uri": "https://localhost:8080/"
        },
        "id": "PwoMsw54VYfC",
        "outputId": "b7f379ff-ffc7-4eaf-c886-38fd591a35ff"
      },
      "execution_count": 79,
      "outputs": [
        {
          "output_type": "execute_result",
          "data": {
            "text/plain": [
              "0.72"
            ]
          },
          "metadata": {},
          "execution_count": 79
        }
      ]
    },
    {
      "cell_type": "code",
      "source": [
        "# Compute cross-validated AUC scores: cv_auc\n",
        "cv_rf = cross_val_score(rf_clf0, X_train, y_train, cv = 5, scoring = 'accuracy')\n",
        "print(cv_rf)\n",
        "print(cv_rf.mean())"
      ],
      "metadata": {
        "colab": {
          "base_uri": "https://localhost:8080/"
        },
        "id": "XxE_SB_UpbyF",
        "outputId": "627c4230-464c-4bfd-96e0-5802b2af9b5a"
      },
      "execution_count": 80,
      "outputs": [
        {
          "output_type": "stream",
          "name": "stdout",
          "text": [
            "[0.66666667 0.57142857 0.61904762 0.5        0.7       ]\n",
            "0.6114285714285714\n"
          ]
        }
      ]
    },
    {
      "cell_type": "markdown",
      "source": [
        "### Random Forest two rf_clf1 with Hyperparameter tunning "
      ],
      "metadata": {
        "id": "rufYLvcxrT3m"
      }
    },
    {
      "cell_type": "code",
      "source": [
        "# define hyperparams\n",
        "n_estimators = [int(x) for x in np.linspace(start = 10, stop = 100, num = 20)]\n",
        "max_features = ['auto', 'sqrt']\n",
        "max_depth = [2,4,6,8, 10]\n",
        "min_samples_split = [2,3, 4, 5]\n",
        "min_samples_leaf = [1,2, 3]\n",
        "bootstrap = [True, False]"
      ],
      "metadata": {
        "id": "oAKwHqcsnlk8"
      },
      "execution_count": 81,
      "outputs": []
    },
    {
      "cell_type": "code",
      "source": [
        "# Create the param grid\n",
        "param_grid = {'n_estimators': n_estimators,\n",
        "               'max_features': max_features,\n",
        "               'max_depth': max_depth,\n",
        "               'min_samples_split': min_samples_split,\n",
        "               'min_samples_leaf': min_samples_leaf,\n",
        "               'bootstrap': bootstrap}\n",
        "print(param_grid)"
      ],
      "metadata": {
        "colab": {
          "base_uri": "https://localhost:8080/"
        },
        "id": "lw3DsQyanloc",
        "outputId": "21bae786-1deb-4b90-dead-de9b3b2c4d75"
      },
      "execution_count": 82,
      "outputs": [
        {
          "output_type": "stream",
          "name": "stdout",
          "text": [
            "{'n_estimators': [10, 14, 19, 24, 28, 33, 38, 43, 47, 52, 57, 62, 66, 71, 76, 81, 85, 90, 95, 100], 'max_features': ['auto', 'sqrt'], 'max_depth': [2, 4, 6, 8, 10], 'min_samples_split': [2, 3, 4, 5], 'min_samples_leaf': [1, 2, 3], 'bootstrap': [True, False]}\n"
          ]
        }
      ]
    },
    {
      "cell_type": "code",
      "source": [
        "rf_clf1 = RandomForestClassifier(random_state= 47)\n",
        "# n_jobs -1, all CPUs are used.\n",
        "rf_RandomGrid = RandomizedSearchCV(estimator = rf_clf1, param_distributions = param_grid, cv = 10, verbose=2, n_jobs = -1, random_state=47)"
      ],
      "metadata": {
        "id": "3rVTvZEsnlsU"
      },
      "execution_count": 83,
      "outputs": []
    },
    {
      "cell_type": "code",
      "source": [
        "rf_RandomGrid.fit(X_train, y_train)"
      ],
      "metadata": {
        "colab": {
          "base_uri": "https://localhost:8080/"
        },
        "id": "DcBmXj6OTH-V",
        "outputId": "17bb2a02-9a9d-46eb-c2f7-6a7e94a3afca"
      },
      "execution_count": 84,
      "outputs": [
        {
          "output_type": "stream",
          "name": "stdout",
          "text": [
            "Fitting 10 folds for each of 10 candidates, totalling 100 fits\n"
          ]
        },
        {
          "output_type": "execute_result",
          "data": {
            "text/plain": [
              "RandomizedSearchCV(cv=10, estimator=RandomForestClassifier(random_state=47),\n",
              "                   n_jobs=-1,\n",
              "                   param_distributions={'bootstrap': [True, False],\n",
              "                                        'max_depth': [2, 4, 6, 8, 10],\n",
              "                                        'max_features': ['auto', 'sqrt'],\n",
              "                                        'min_samples_leaf': [1, 2, 3],\n",
              "                                        'min_samples_split': [2, 3, 4, 5],\n",
              "                                        'n_estimators': [10, 14, 19, 24, 28, 33,\n",
              "                                                         38, 43, 47, 52, 57, 62,\n",
              "                                                         66, 71, 76, 81, 85, 90,\n",
              "                                                         95, 100]},\n",
              "                   random_state=47, verbose=2)"
            ]
          },
          "metadata": {},
          "execution_count": 84
        }
      ]
    },
    {
      "cell_type": "code",
      "source": [
        "rf_RandomGrid.best_params_"
      ],
      "metadata": {
        "colab": {
          "base_uri": "https://localhost:8080/"
        },
        "id": "GSRNaJMCpdMm",
        "outputId": "3fb4d72c-9a23-449b-a552-b7bb1a9e1a25"
      },
      "execution_count": 85,
      "outputs": [
        {
          "output_type": "execute_result",
          "data": {
            "text/plain": [
              "{'n_estimators': 38,\n",
              " 'min_samples_split': 2,\n",
              " 'min_samples_leaf': 1,\n",
              " 'max_features': 'auto',\n",
              " 'max_depth': 10,\n",
              " 'bootstrap': True}"
            ]
          },
          "metadata": {},
          "execution_count": 85
        }
      ]
    },
    {
      "cell_type": "code",
      "source": [
        "rf_clf1 = rf_RandomGrid.best_estimator_\n",
        "y_pred = rf_clf1.predict(X_test)\n",
        "target_names = ['No_happy', 'happy']\n",
        "print(classification_report(y_test, y_pred, target_names=target_names))"
      ],
      "metadata": {
        "colab": {
          "base_uri": "https://localhost:8080/"
        },
        "id": "LR7YSoLdnlvd",
        "outputId": "a30e5e6d-d7ee-4e82-c970-98b181e2b032"
      },
      "execution_count": 86,
      "outputs": [
        {
          "output_type": "stream",
          "name": "stdout",
          "text": [
            "              precision    recall  f1-score   support\n",
            "\n",
            "    No_happy       0.71      0.79      0.75        19\n",
            "       happy       0.71      0.62      0.67        16\n",
            "\n",
            "    accuracy                           0.71        35\n",
            "   macro avg       0.71      0.71      0.71        35\n",
            "weighted avg       0.71      0.71      0.71        35\n",
            "\n"
          ]
        }
      ]
    },
    {
      "cell_type": "code",
      "source": [
        "accuracy = accuracy_score(y_test,y_pred) #predictions\n",
        "accuracy_dic['Tune_RandomForestClassifier_rf_clf1'] = accuracy\n",
        "accuracy"
      ],
      "metadata": {
        "id": "O_bowI1eljy6",
        "colab": {
          "base_uri": "https://localhost:8080/"
        },
        "outputId": "0c5279f4-e260-4ff1-fc2c-0c728cac30e2"
      },
      "execution_count": 87,
      "outputs": [
        {
          "output_type": "execute_result",
          "data": {
            "text/plain": [
              "0.7142857142857143"
            ]
          },
          "metadata": {},
          "execution_count": 87
        }
      ]
    },
    {
      "cell_type": "code",
      "source": [
        "#Get the confusion matrix\n",
        "cf_matrix = confusion_matrix(y_test,y_pred)\n",
        "print(cf_matrix)\n",
        "# plot the comfusion matrix\n",
        "ax=sns.heatmap(cf_matrix/np.sum(cf_matrix), annot=True, \n",
        "            fmt='.2%', cmap='Blues')\n",
        "ax.set_title('Random forest Confusion Matrix \\n\\n')\n",
        "ax.set_xlabel('\\nPredicted Values')\n",
        "ax.set_ylabel('Actual Values ')\n",
        "ax.xaxis.set_ticklabels(['False','True'])\n",
        "ax.yaxis.set_ticklabels(['False','True'])\n",
        "plt.show()"
      ],
      "metadata": {
        "colab": {
          "base_uri": "https://localhost:8080/",
          "height": 372
        },
        "id": "HiWpDuv923gk",
        "outputId": "6fd1b59f-14d7-426c-ae0d-443e0f0bae47"
      },
      "execution_count": 88,
      "outputs": [
        {
          "output_type": "stream",
          "name": "stdout",
          "text": [
            "[[15  4]\n",
            " [ 6 10]]\n"
          ]
        },
        {
          "output_type": "display_data",
          "data": {
            "text/plain": [
              "<Figure size 432x288 with 2 Axes>"
            ],
            "image/png": "[encoded data removed]"
          },
          "metadata": {
            "needs_background": "light"
          }
        }
      ]
    },
    {
      "cell_type": "code",
      "source": [
        "y_pred_prob = rf_clf1.predict_proba(X_test)[:,1]\n",
        "\n",
        "# Generate ROC curve values: fpr, tpr, thresholds\n",
        "fpr, tpr, thresholds = roc_curve(y_test, y_pred_prob)\n",
        "\n",
        "# Plot ROC curve\n",
        "plt.plot([0, 1], [0, 1], 'k--')\n",
        "plt.plot(fpr, tpr)\n",
        "plt.xlabel('False Positive Rate')\n",
        "plt.ylabel('True Positive Rate')\n",
        "plt.title('ROC Curve')\n",
        "plt.show()"
      ],
      "metadata": {
        "colab": {
          "base_uri": "https://localhost:8080/",
          "height": 295
        },
        "id": "4Cx3EfoInlzL",
        "outputId": "7adb9d1f-75e9-46c1-86f0-6b1ee6b4c740"
      },
      "execution_count": 89,
      "outputs": [
        {
          "output_type": "display_data",
          "data": {
            "text/plain": [
              "<Figure size 432x288 with 1 Axes>"
            ],
            "image/png": "[encoded data removed]"
          },
          "metadata": {
            "needs_background": "light"
          }
        }
      ]
    },
    {
      "cell_type": "code",
      "source": [
        "# Compute and print AUC score\n",
        "print(\"AUC: {}\".format(roc_auc_score(y_test, y_pred_prob)))"
      ],
      "metadata": {
        "colab": {
          "base_uri": "https://localhost:8080/"
        },
        "id": "B5xUir7gnl2h",
        "outputId": "4e15a287-432c-4907-f11c-6d25458941b1"
      },
      "execution_count": 90,
      "outputs": [
        {
          "output_type": "stream",
          "name": "stdout",
          "text": [
            "AUC: 0.7302631578947368\n"
          ]
        }
      ]
    },
    {
      "cell_type": "code",
      "source": [
        "# Compute cross-validated AUC scores: cv_auc\n",
        "cv_rf = cross_val_score(rf_clf1, X_train, y_train, cv = 5, scoring = 'accuracy')\n",
        "print(cv_rf)\n",
        "print(cv_rf.mean())"
      ],
      "metadata": {
        "colab": {
          "base_uri": "https://localhost:8080/"
        },
        "id": "qY3yyCcHnl6g",
        "outputId": "56570bc2-82dd-485f-bd7e-a95c66ee2e75"
      },
      "execution_count": 91,
      "outputs": [
        {
          "output_type": "stream",
          "name": "stdout",
          "text": [
            "[0.61904762 0.61904762 0.66666667 0.6        0.75      ]\n",
            "0.650952380952381\n"
          ]
        }
      ]
    },
    {
      "cell_type": "code",
      "source": [
        "plt.figure(figsize=(10, 13))\n",
        "feat_importance = rf_clf1.feature_importances_\n",
        "feature_names = [f\"feature {i}\" for i in X_train.columns]\n",
        "forest_importances = pd.Series(feat_importance, index=feature_names).sort_values(ascending=False)\n",
        "forest_importances.plot.barh()\n",
        "plt.title(\"Random forest Feature importances \")"
      ],
      "metadata": {
        "colab": {
          "base_uri": "https://localhost:8080/",
          "height": 788
        },
        "id": "rG9jZVlCwwLN",
        "outputId": "75b874d2-1aa3-41a6-c43c-06e303b9e34f"
      },
      "execution_count": 92,
      "outputs": [
        {
          "output_type": "execute_result",
          "data": {
            "text/plain": [
              "Text(0.5, 1.0, 'Random forest Feature importances ')"
            ]
          },
          "metadata": {},
          "execution_count": 92
        },
        {
          "output_type": "display_data",
          "data": {
            "text/plain": [
              "<Figure size 720x936 with 1 Axes>"
            ],
            "image/png": "[encoded data removed]"
          },
          "metadata": {
            "needs_background": "light"
          }
        }
      ]
    },
    {
      "cell_type": "markdown",
      "source": [
        "### XGBoost "
      ],
      "metadata": {
        "id": "xyZ0fC7MuxQL"
      }
    },
    {
      "cell_type": "code",
      "source": [
        "# XGBOOST Model - 1rst model \n",
        "XGB = XGBClassifier(n_estimators=1000,learning_rate=0.05)\n",
        "XGB.fit(X_train, y_train)\n",
        "y_pred = XGB.predict(X_test)\n",
        "accuracy = accuracy_score(y_test,y_pred) #predictions\n",
        "accuracy_dic['XGBoost_XGB'] = accuracy\n",
        "print(\"Accuracy: %.2f%%\" % (accuracy * 100.0))"
      ],
      "metadata": {
        "colab": {
          "base_uri": "https://localhost:8080/"
        },
        "id": "rfnh7MWnuPy_",
        "outputId": "d25dbc58-feb1-4dec-fc60-d0ca8a807643"
      },
      "execution_count": 93,
      "outputs": [
        {
          "output_type": "stream",
          "name": "stdout",
          "text": [
            "Accuracy: 74.29%\n"
          ]
        }
      ]
    },
    {
      "cell_type": "code",
      "source": [
        "target_names = ['No_Happy', 'happy']\n",
        "print(classification_report(y_test, y_pred, target_names=target_names))"
      ],
      "metadata": {
        "colab": {
          "base_uri": "https://localhost:8080/"
        },
        "id": "wpGP0ESSuP4t",
        "outputId": "5e7dc4d7-6f53-4c17-9834-0e5464a68a4f"
      },
      "execution_count": 94,
      "outputs": [
        {
          "output_type": "stream",
          "name": "stdout",
          "text": [
            "              precision    recall  f1-score   support\n",
            "\n",
            "    No_Happy       0.75      0.79      0.77        19\n",
            "       happy       0.73      0.69      0.71        16\n",
            "\n",
            "    accuracy                           0.74        35\n",
            "   macro avg       0.74      0.74      0.74        35\n",
            "weighted avg       0.74      0.74      0.74        35\n",
            "\n"
          ]
        }
      ]
    },
    {
      "cell_type": "code",
      "source": [
        "y_pred_prob = XGB.predict_proba(X_test)[:,1]\n",
        "\n",
        "# Generate ROC curve values: fpr, tpr, thresholds\n",
        "fpr, tpr, thresholds = roc_curve(y_test, y_pred_prob)\n",
        "\n",
        "# Plot ROC curve\n",
        "plt.plot([0, 1], [0, 1], 'k--')\n",
        "plt.plot(fpr, tpr)\n",
        "plt.xlabel('False Positive Rate')\n",
        "plt.ylabel('True Positive Rate')\n",
        "plt.title('ROC Curve')\n",
        "plt.show()"
      ],
      "metadata": {
        "colab": {
          "base_uri": "https://localhost:8080/",
          "height": 295
        },
        "id": "UTH11QWWx5Zg",
        "outputId": "fe456e70-ab82-4fb1-f7d0-8ad9c00db8a0"
      },
      "execution_count": 95,
      "outputs": [
        {
          "output_type": "display_data",
          "data": {
            "text/plain": [
              "<Figure size 432x288 with 1 Axes>"
            ],
            "image/png": "[encoded data removed]"
          },
          "metadata": {
            "needs_background": "light"
          }
        }
      ]
    },
    {
      "cell_type": "code",
      "source": [
        "# Compute and print AUC score\n",
        "print(\"AUC: {}\".format(roc_auc_score(y_test, y_pred_prob)))"
      ],
      "metadata": {
        "colab": {
          "base_uri": "https://localhost:8080/"
        },
        "id": "Po9KDgEsyASx",
        "outputId": "385c323a-46ce-4282-f222-0bfab1c2c936"
      },
      "execution_count": 96,
      "outputs": [
        {
          "output_type": "stream",
          "name": "stdout",
          "text": [
            "AUC: 0.7730263157894737\n"
          ]
        }
      ]
    },
    {
      "cell_type": "code",
      "source": [
        "\n",
        "plot_importance(XGB.fit(X_train, y_train))"
      ],
      "metadata": {
        "colab": {
          "base_uri": "https://localhost:8080/",
          "height": 312
        },
        "id": "Dbx3JyDouP9E",
        "outputId": "25d38dc0-62c2-4adc-a5ba-7a000490d426"
      },
      "execution_count": 97,
      "outputs": [
        {
          "output_type": "execute_result",
          "data": {
            "text/plain": [
              "<matplotlib.axes._subplots.AxesSubplot at 0x7fdd428d30d0>"
            ]
          },
          "metadata": {},
          "execution_count": 97
        },
        {
          "output_type": "display_data",
          "data": {
            "text/plain": [
              "<Figure size 432x288 with 1 Axes>"
            ],
            "image/png": "[encoded data removed]"
          },
          "metadata": {
            "needs_background": "light"
          }
        }
      ]
    },
    {
      "cell_type": "code",
      "source": [
        "#Get the confusion matrix\n",
        "cf_matrix = confusion_matrix(y_test,y_pred)\n",
        "print(cf_matrix)"
      ],
      "metadata": {
        "colab": {
          "base_uri": "https://localhost:8080/"
        },
        "id": "2Cn6gjFxuQBZ",
        "outputId": "10847ff9-869a-494a-f4e2-c09c3937228a"
      },
      "execution_count": 98,
      "outputs": [
        {
          "output_type": "stream",
          "name": "stdout",
          "text": [
            "[[15  4]\n",
            " [ 5 11]]\n"
          ]
        }
      ]
    },
    {
      "cell_type": "code",
      "source": [
        "ax=sns.heatmap(cf_matrix/np.sum(cf_matrix), annot=True, \n",
        "            fmt='.2%', cmap='Blues')"
      ],
      "metadata": {
        "colab": {
          "base_uri": "https://localhost:8080/",
          "height": 265
        },
        "id": "mdKhww9E2eck",
        "outputId": "f1be8352-5934-41f8-ee51-9592ba2dcf96"
      },
      "execution_count": 99,
      "outputs": [
        {
          "output_type": "display_data",
          "data": {
            "text/plain": [
              "<Figure size 432x288 with 2 Axes>"
            ],
            "image/png": "[encoded data removed]"
          },
          "metadata": {
            "needs_background": "light"
          }
        }
      ]
    },
    {
      "cell_type": "markdown",
      "source": [
        "### XGBoost Two"
      ],
      "metadata": {
        "id": "CkuThRoC9Cu-"
      }
    },
    {
      "cell_type": "code",
      "source": [
        "xgb_param_dict = {\n",
        "    'learning_rate':[0.06, 0.05, 0.10, 0.15, 0.20, 0.001],\n",
        "    'max_depth':range(1,10,2),\n",
        "    'min_child_weight':range(1,10,2),\n",
        "    'gamma':[ 0.0, 0.1, 0.2 , 0.3, 0.4 ],\n",
        "    'colsample_bytree':[ 0.3, 0.4, 0.5 , 0.7 ]\n",
        "    \n",
        "}\n",
        "xgb_classifier = XGBClassifier() # (n_estimators=1000)\n",
        "\n",
        "xgb2 = GridSearchCV(xgb_classifier, \n",
        "                    param_grid=xgb_param_dict,\n",
        "                    cv=10,\n",
        "                    verbose=1,\n",
        "                    n_jobs=-1)\n",
        "\n",
        "xgb2.fit(X_train, y_train)"
      ],
      "metadata": {
        "colab": {
          "base_uri": "https://localhost:8080/"
        },
        "id": "KHmpjeYQ8-oQ",
        "outputId": "dfd6ccd0-0504-468d-a6a0-6fbaaa486212"
      },
      "execution_count": 100,
      "outputs": [
        {
          "output_type": "stream",
          "name": "stdout",
          "text": [
            "Fitting 10 folds for each of 3000 candidates, totalling 30000 fits\n"
          ]
        },
        {
          "output_type": "execute_result",
          "data": {
            "text/plain": [
              "GridSearchCV(cv=10, estimator=XGBClassifier(), n_jobs=-1,\n",
              "             param_grid={'colsample_bytree': [0.3, 0.4, 0.5, 0.7],\n",
              "                         'gamma': [0.0, 0.1, 0.2, 0.3, 0.4],\n",
              "                         'learning_rate': [0.06, 0.05, 0.1, 0.15, 0.2, 0.001],\n",
              "                         'max_depth': range(1, 10, 2),\n",
              "                         'min_child_weight': range(1, 10, 2)},\n",
              "             verbose=1)"
            ]
          },
          "metadata": {},
          "execution_count": 100
        }
      ]
    },
    {
      "cell_type": "code",
      "source": [
        "xgb2.best_params_"
      ],
      "metadata": {
        "colab": {
          "base_uri": "https://localhost:8080/"
        },
        "id": "MMU0dWSY8-tA",
        "outputId": "5857ba72-c59e-4121-a490-872803619c17"
      },
      "execution_count": 101,
      "outputs": [
        {
          "output_type": "execute_result",
          "data": {
            "text/plain": [
              "{'colsample_bytree': 0.3,\n",
              " 'gamma': 0.0,\n",
              " 'learning_rate': 0.001,\n",
              " 'max_depth': 1,\n",
              " 'min_child_weight': 7}"
            ]
          },
          "metadata": {},
          "execution_count": 101
        }
      ]
    },
    {
      "cell_type": "code",
      "source": [
        "xgb2_estimator = xgb2.best_estimator_\n",
        "y_pred_ = xgb2_estimator.predict(X_train)\n",
        "accuracy = accuracy_score(y_test,y_pred) \n",
        "accuracy_dic['Tune_XGBoost_xgb2'] = accuracy"
      ],
      "metadata": {
        "id": "wxkMDOlP8-xN"
      },
      "execution_count": 102,
      "outputs": []
    },
    {
      "cell_type": "code",
      "source": [
        "target_names = ['Happy', 'No_happy']\n",
        "print(classification_report(y_test, y_pred, target_names=target_names))"
      ],
      "metadata": {
        "colab": {
          "base_uri": "https://localhost:8080/"
        },
        "id": "R-01WX1n-2aT",
        "outputId": "a4fd3f72-96d1-4e70-dfa8-1e5fcf26461c"
      },
      "execution_count": 103,
      "outputs": [
        {
          "output_type": "stream",
          "name": "stdout",
          "text": [
            "              precision    recall  f1-score   support\n",
            "\n",
            "       Happy       0.75      0.79      0.77        19\n",
            "    No_happy       0.73      0.69      0.71        16\n",
            "\n",
            "    accuracy                           0.74        35\n",
            "   macro avg       0.74      0.74      0.74        35\n",
            "weighted avg       0.74      0.74      0.74        35\n",
            "\n"
          ]
        }
      ]
    },
    {
      "cell_type": "markdown",
      "source": [
        "### Bernoulli Naïve Bayes Classifier\n",
        "#### Attributes\n",
        "-\t class_log_prior_ − array, shape(n_classes,): It provides the smoothed log probability for every class.\n",
        "- class_count_ − array, shape(n_classes,) : It provides the actual number of training samples encountered for each class.\n",
        "- \tfeature_log_prob_ − array, shape (n_classes, n_features): It gives the empirical log probability of features given a class  P(features⏐Y)\n",
        "- feature_count_ − array, shape (n_classes, n_features): It provides the actual number of training samples encountered for each (class,feature"
      ],
      "metadata": {
        "id": "PZHrOQjvDq-6"
      }
    },
    {
      "cell_type": "code",
      "source": [
        "from sklearn.naive_bayes import BernoulliNB\n",
        "BNBclf = BernoulliNB()\n",
        "BNBclf.fit(X_train, y_train)"
      ],
      "metadata": {
        "colab": {
          "base_uri": "https://localhost:8080/"
        },
        "id": "fEdfd0UEDnCM",
        "outputId": "3db8c7ef-fc19-4cbf-8d86-1b62042f5c59"
      },
      "execution_count": 104,
      "outputs": [
        {
          "output_type": "execute_result",
          "data": {
            "text/plain": [
              "BernoulliNB()"
            ]
          },
          "metadata": {},
          "execution_count": 104
        }
      ]
    },
    {
      "cell_type": "code",
      "source": [
        "y_pred = BNBclf.predict(X_test)\n",
        "target_names = ['No_happy', 'happy']\n",
        "print(classification_report(y_test, y_pred, target_names=target_names))"
      ],
      "metadata": {
        "id": "7k0t5ucTDnQ4",
        "colab": {
          "base_uri": "https://localhost:8080/"
        },
        "outputId": "c4674763-9eb2-433c-bbc0-f3fe075b587e"
      },
      "execution_count": 105,
      "outputs": [
        {
          "output_type": "stream",
          "name": "stdout",
          "text": [
            "              precision    recall  f1-score   support\n",
            "\n",
            "    No_happy       0.67      0.63      0.65        19\n",
            "       happy       0.59      0.62      0.61        16\n",
            "\n",
            "    accuracy                           0.63        35\n",
            "   macro avg       0.63      0.63      0.63        35\n",
            "weighted avg       0.63      0.63      0.63        35\n",
            "\n"
          ]
        }
      ]
    },
    {
      "cell_type": "code",
      "source": [
        "accuracy = accuracy_score(y_test,y_pred) #predictions\n",
        "accuracy_dic['BernoulliNB_BNBclf'] = accuracy"
      ],
      "metadata": {
        "id": "nrnRC9BCm5xn"
      },
      "execution_count": 106,
      "outputs": []
    },
    {
      "cell_type": "markdown",
      "source": [
        "### PassiveAggressiveClassifier\n",
        "How Passive-Aggressive Algorithms Work:\n",
        "Passive-Aggressive algorithms are called so because :\n",
        "\n",
        "Passive: If the prediction is correct, keep the model and do not make any changes. i.e., the data in the example is not enough to cause any changes in the model. \n",
        "\n",
        "Aggressive: If the prediction is incorrect, make changes to the model. i.e., some change to the model may correct it.\n",
        "- parameters\n",
        "- C : This is the regularization parameter, and denotes the penalization the model will make on an incorrect prediction\n",
        "- max_iter : The maximum number of iterations the model makes over the training data.\n",
        "- tol : The stopping criterion. If it is set to None, the model will stop when (loss > previous_loss  –  tol). By default, it is set to 1e-3."
      ],
      "metadata": {
        "id": "TTapyRNgG7FP"
      }
    },
    {
      "cell_type": "code",
      "source": [
        "from sklearn.linear_model import PassiveAggressiveClassifier"
      ],
      "metadata": {
        "id": "COxYjNgTDnYO"
      },
      "execution_count": 107,
      "outputs": []
    },
    {
      "cell_type": "code",
      "source": [
        "pac = PassiveAggressiveClassifier(C=0.5, max_iter=1000, random_state=47, tol=1e-3)\n",
        "pac.fit(X_train, y_train)"
      ],
      "metadata": {
        "colab": {
          "base_uri": "https://localhost:8080/"
        },
        "id": "slSZ3z7NGZrW",
        "outputId": "750ad19b-5fc0-4bfa-e701-565124bcac10"
      },
      "execution_count": 108,
      "outputs": [
        {
          "output_type": "execute_result",
          "data": {
            "text/plain": [
              "PassiveAggressiveClassifier(C=0.5, random_state=47)"
            ]
          },
          "metadata": {},
          "execution_count": 108
        }
      ]
    },
    {
      "cell_type": "code",
      "source": [
        "y_pred = pac.predict(X_test)\n",
        "accuracy = accuracy_score(y_test,y_pred) #predictions\n",
        "print(\"Accuracy: %.2f%%\" % (accuracy * 100.0))"
      ],
      "metadata": {
        "colab": {
          "base_uri": "https://localhost:8080/"
        },
        "id": "2LNz_n1CJfC0",
        "outputId": "26088b54-26a6-43a7-dc71-d08894d62697"
      },
      "execution_count": 109,
      "outputs": [
        {
          "output_type": "stream",
          "name": "stdout",
          "text": [
            "Accuracy: 54.29%\n"
          ]
        }
      ]
    },
    {
      "cell_type": "code",
      "source": [
        "y_pred = pac.predict(X_test)\n",
        "target_names = ['No_happy', 'happy']\n",
        "print(classification_report(y_test, y_pred, target_names=target_names))"
      ],
      "metadata": {
        "colab": {
          "base_uri": "https://localhost:8080/"
        },
        "id": "GHpec9R7GZvY",
        "outputId": "3ad5b41d-041d-41b9-f6a2-05de24c7d6c8"
      },
      "execution_count": 110,
      "outputs": [
        {
          "output_type": "stream",
          "name": "stdout",
          "text": [
            "              precision    recall  f1-score   support\n",
            "\n",
            "    No_happy       0.54      1.00      0.70        19\n",
            "       happy       0.00      0.00      0.00        16\n",
            "\n",
            "    accuracy                           0.54        35\n",
            "   macro avg       0.27      0.50      0.35        35\n",
            "weighted avg       0.29      0.54      0.38        35\n",
            "\n"
          ]
        }
      ]
    },
    {
      "cell_type": "code",
      "source": [
        "accuracy = accuracy_score(y_test,y_pred) #predictions\n",
        "accuracy_dic['PassiveAggressiveClassifier_pac'] = accuracy"
      ],
      "metadata": {
        "id": "94fHkZbQhRk1"
      },
      "execution_count": 111,
      "outputs": []
    },
    {
      "cell_type": "code",
      "source": [
        "#Get the confusion matrix\n",
        "cf_matrix = confusion_matrix(y_test,y_pred)\n",
        "ax=sns.heatmap(cf_matrix/np.sum(cf_matrix), annot=True, \n",
        "            fmt='.2%', cmap='Blues')"
      ],
      "metadata": {
        "colab": {
          "base_uri": "https://localhost:8080/",
          "height": 265
        },
        "id": "Hsrgkeg1GZzA",
        "outputId": "d9f4a2e0-8585-4e98-cb60-0c4ddcb31dc7"
      },
      "execution_count": 112,
      "outputs": [
        {
          "output_type": "display_data",
          "data": {
            "text/plain": [
              "<Figure size 432x288 with 2 Axes>"
            ],
            "image/png": "[encoded data removed]"
          },
          "metadata": {
            "needs_background": "light"
          }
        }
      ]
    },
    {
      "cell_type": "markdown",
      "source": [
        "# Conclusion\n",
        "Supervised machine learning classification algorithms were developed to predict customer state (happy or not happy).\n",
        "The EDA did not show any clear pattern among features.\n",
        "however, we found that We needed to pay attention to Content_as_expected feature due to their low score.  Delevered_on_time and App_ease tend to receive the highest score of all clients.\n",
        "\n",
        "Chi_squared test reveal that the null hypothesis was accepted in all features except one (delivered_on_time) where the null hypothesis was rejected.  Thus, Customer dissatisfaction/satisfaction is independent of all variables except the delivery_on_time variable.\n",
        "\n",
        "mean of all scores, sum of all scores and   percentage of the overall scores were news features created. \n",
        "\n",
        "We used SMOTE technique to balance the dataset (69, 69)\n",
        " we performed 8 models, the best one was XGBoost  with an accuracy of 0.74 and AUC was 0.77\n",
        "\n",
        "the feature of importance reveals  that percentage of the overall scores was the most important, followed by \"contents_as_expected\" score 3, \"found_everything\" score 3, and \"good_price\" score 4. \n"
      ],
      "metadata": {
        "id": "B8bC0jwq8C4v"
      }
    },
    {
      "cell_type": "markdown",
      "source": [],
      "metadata": {
        "id": "cwThPdDbLGVW"
      }
    },
    {
      "cell_type": "markdown",
      "source": [
        "# Model Selection "
      ],
      "metadata": {
        "id": "47N2j4GwXjdA"
      }
    },
    {
      "cell_type": "code",
      "source": [
        "accuracy_dic"
      ],
      "metadata": {
        "colab": {
          "base_uri": "https://localhost:8080/"
        },
        "id": "KutQO4VAXidc",
        "outputId": "3e7e6abc-ab01-47ed-f809-b02b11532524"
      },
      "execution_count": 113,
      "outputs": [
        {
          "output_type": "execute_result",
          "data": {
            "text/plain": [
              "{'DecisionTreeClassifier_df': 0.7142857142857143,\n",
              " 'RandomForestClassifier_rf_clf0': 0.6571428571428571,\n",
              " 'Tune_RandomForestClassifier_rf_clf1': 0.7142857142857143,\n",
              " 'XGBoost_XGB': 0.7428571428571429,\n",
              " 'Tune_XGBoost_xgb2': 0.7428571428571429,\n",
              " 'BernoulliNB_BNBclf': 0.6285714285714286,\n",
              " 'PassiveAggressiveClassifier_pac': 0.5428571428571428}"
            ]
          },
          "metadata": {},
          "execution_count": 113
        }
      ]
    },
    {
      "cell_type": "code",
      "source": [
        "df_acc = pd.DataFrame(list(accuracy_dic.items()), columns=['Model', 'Accuracy'])\n",
        "df_acc.sort_values(by='Accuracy', inplace=True)\n",
        "df_acc"
      ],
      "metadata": {
        "id": "Dnzhhc7pseV_",
        "colab": {
          "base_uri": "https://localhost:8080/",
          "height": 269
        },
        "outputId": "a7c67a3f-5a08-4e1a-8093-3dd699d79ee4"
      },
      "execution_count": 114,
      "outputs": [
        {
          "output_type": "execute_result",
          "data": {
            "text/plain": [
              "                                 Model  Accuracy\n",
              "6      PassiveAggressiveClassifier_pac  0.542857\n",
              "5                   BernoulliNB_BNBclf  0.628571\n",
              "1       RandomForestClassifier_rf_clf0  0.657143\n",
              "0            DecisionTreeClassifier_df  0.714286\n",
              "2  Tune_RandomForestClassifier_rf_clf1  0.714286\n",
              "3                          XGBoost_XGB  0.742857\n",
              "4                    Tune_XGBoost_xgb2  0.742857"
            ],
            "text/html": [
              "\n",
              "  <div id=\"df-b90f59a4-9ce0-40c2-b4b1-8d67a4ed38cb\">\n",
              "    <div class=\"colab-df-container\">\n",
              "      <div>\n",
              "<style scoped>\n",
              "    .dataframe tbody tr th:only-of-type {\n",
              "        vertical-align: middle;\n",
              "    }\n",
              "\n",
              "    .dataframe tbody tr th {\n",
              "        vertical-align: top;\n",
              "    }\n",
              "\n",
              "    .dataframe thead th {\n",
              "        text-align: right;\n",
              "    }\n",
              "</style>\n",
              "<table border=\"1\" class=\"dataframe\">\n",
              "  <thead>\n",
              "    <tr style=\"text-align: right;\">\n",
              "      <th></th>\n",
              "      <th>Model</th>\n",
              "      <th>Accuracy</th>\n",
              "    </tr>\n",
              "  </thead>\n",
              "  <tbody>\n",
              "    <tr>\n",
              "      <th>6</th>\n",
              "      <td>PassiveAggressiveClassifier_pac</td>\n",
              "      <td>0.542857</td>\n",
              "    </tr>\n",
              "    <tr>\n",
              "      <th>5</th>\n",
              "      <td>BernoulliNB_BNBclf</td>\n",
              "      <td>0.628571</td>\n",
              "    </tr>\n",
              "    <tr>\n",
              "      <th>1</th>\n",
              "      <td>RandomForestClassifier_rf_clf0</td>\n",
              "      <td>0.657143</td>\n",
              "    </tr>\n",
              "    <tr>\n",
              "      <th>0</th>\n",
              "      <td>DecisionTreeClassifier_df</td>\n",
              "      <td>0.714286</td>\n",
              "    </tr>\n",
              "    <tr>\n",
              "      <th>2</th>\n",
              "      <td>Tune_RandomForestClassifier_rf_clf1</td>\n",
              "      <td>0.714286</td>\n",
              "    </tr>\n",
              "    <tr>\n",
              "      <th>3</th>\n",
              "      <td>XGBoost_XGB</td>\n",
              "      <td>0.742857</td>\n",
              "    </tr>\n",
              "    <tr>\n",
              "      <th>4</th>\n",
              "      <td>Tune_XGBoost_xgb2</td>\n",
              "      <td>0.742857</td>\n",
              "    </tr>\n",
              "  </tbody>\n",
              "</table>\n",
              "</div>\n",
              "      <button class=\"colab-df-convert\" onclick=\"convertToInteractive('df-b90f59a4-9ce0-40c2-b4b1-8d67a4ed38cb')\"\n",
              "              title=\"Convert this dataframe to an interactive table.\"\n",
              "              style=\"display:none;\">\n",
              "        \n",
              "  <svg xmlns=\"http://www.w3.org/2000/svg\" height=\"24px\"viewBox=\"0 0 24 24\"\n",
              "       width=\"24px\">\n",
              "    <path d=\"M0 0h24v24H0V0z\" fill=\"none\"/>\n",
              "    <path d=\"M18.56 5.44l.94 2.06.94-2.06 2.06-.94-2.06-.94-.94-2.06-.94 2.06-2.06.94zm-11 1L8.5 8.5l.94-2.06 2.06-.94-2.06-.94L8.5 2.5l-.94 2.06-2.06.94zm10 10l.94 2.06.94-2.06 2.06-.94-2.06-.94-.94-2.06-.94 2.06-2.06.94z\"/><path d=\"M17.41 7.96l-1.37-1.37c-.4-.4-.92-.59-1.43-.59-.52 0-1.04.2-1.43.59L10.3 9.45l-7.72 7.72c-.78.78-.78 2.05 0 2.83L4 21.41c.39.39.9.59 1.41.59.51 0 1.02-.2 1.41-.59l7.78-7.78 2.81-2.81c.8-.78.8-2.07 0-2.86zM5.41 20L4 18.59l7.72-7.72 1.47 1.35L5.41 20z\"/>\n",
              "  </svg>\n",
              "      </button>\n",
              "      \n",
              "  <style>\n",
              "    .colab-df-container {\n",
              "      display:flex;\n",
              "      flex-wrap:wrap;\n",
              "      gap: 12px;\n",
              "    }\n",
              "\n",
              "    .colab-df-convert {\n",
              "      background-color: #E8F0FE;\n",
              "      border: none;\n",
              "      border-radius: 50%;\n",
              "      cursor: pointer;\n",
              "      display: none;\n",
              "      fill: #1967D2;\n",
              "      height: 32px;\n",
              "      padding: 0 0 0 0;\n",
              "      width: 32px;\n",
              "    }\n",
              "\n",
              "    .colab-df-convert:hover {\n",
              "      background-color: #E2EBFA;\n",
              "      box-shadow: 0px 1px 2px rgba(60, 64, 67, 0.3), 0px 1px 3px 1px rgba(60, 64, 67, 0.15);\n",
              "      fill: #174EA6;\n",
              "    }\n",
              "\n",
              "    [theme=dark] .colab-df-convert {\n",
              "      background-color: #3B4455;\n",
              "      fill: #D2E3FC;\n",
              "    }\n",
              "\n",
              "    [theme=dark] .colab-df-convert:hover {\n",
              "      background-color: #434B5C;\n",
              "      box-shadow: 0px 1px 3px 1px rgba(0, 0, 0, 0.15);\n",
              "      filter: drop-shadow(0px 1px 2px rgba(0, 0, 0, 0.3));\n",
              "      fill: #FFFFFF;\n",
              "    }\n",
              "  </style>\n",
              "\n",
              "      <script>\n",
              "        const buttonEl =\n",
              "          document.querySelector('#df-b90f59a4-9ce0-40c2-b4b1-8d67a4ed38cb button.colab-df-convert');\n",
              "        buttonEl.style.display =\n",
              "          google.colab.kernel.accessAllowed ? 'block' : 'none';\n",
              "\n",
              "        async function convertToInteractive(key) {\n",
              "          const element = document.querySelector('#df-b90f59a4-9ce0-40c2-b4b1-8d67a4ed38cb');\n",
              "          const dataTable =\n",
              "            await google.colab.kernel.invokeFunction('convertToInteractive',\n",
              "                                                     [key], {});\n",
              "          if (!dataTable) return;\n",
              "\n",
              "          const docLinkHtml = 'Like what you see? Visit the ' +\n",
              "            '<a target=\"_blank\" href=https://colab.research.google.com/notebooks/data_table.ipynb>data table notebook</a>'\n",
              "            + ' to learn more about interactive tables.';\n",
              "          element.innerHTML = '';\n",
              "          dataTable['output_type'] = 'display_data';\n",
              "          await google.colab.output.renderOutput(dataTable, element);\n",
              "          const docLink = document.createElement('div');\n",
              "          docLink.innerHTML = docLinkHtml;\n",
              "          element.appendChild(docLink);\n",
              "        }\n",
              "      </script>\n",
              "    </div>\n",
              "  </div>\n",
              "  "
            ]
          },
          "metadata": {},
          "execution_count": 114
        }
      ]
    },
    {
      "cell_type": "code",
      "source": [
        "data"
      ],
      "metadata": {
        "colab": {
          "base_uri": "https://localhost:8080/",
          "height": 35
        },
        "id": "RCuXo7jtvWks",
        "outputId": "33fa5f96-e1ef-497f-8038-158a7e247503"
      },
      "execution_count": 115,
      "outputs": [
        {
          "output_type": "execute_result",
          "data": {
            "text/plain": [
              "'gdrive/MyDrive/Apziva_project/HFhD9gY6N8cN4PtO/happinesurvey2020.csv'"
            ],
            "application/vnd.google.colaboratory.intrinsic+json": {
              "type": "string"
            }
          },
          "metadata": {},
          "execution_count": 115
        }
      ]
    },
    {
      "cell_type": "code",
      "source": [
        "df_acc.to_csv('/content/gdrive/MyDrive//Apziva_project/HFhD9gY6N8cN4PtO/accuracy.csv')"
      ],
      "metadata": {
        "id": "9R5m6SBfvNsG"
      },
      "execution_count": 116,
      "outputs": []
    },
    {
      "cell_type": "code",
      "source": [
        "plt.figure(figsize=(15, 15))\n",
        "sns.catplot(data=df_acc, x=\"Accuracy\", y=\"Model\")"
      ],
      "metadata": {
        "colab": {
          "base_uri": "https://localhost:8080/",
          "height": 404
        },
        "id": "ySYybxYnxRsN",
        "outputId": "683b4752-2098-4619-d82b-2e28d9584871"
      },
      "execution_count": 117,
      "outputs": [
        {
          "output_type": "execute_result",
          "data": {
            "text/plain": [
              "<seaborn.axisgrid.FacetGrid at 0x7fdd42927050>"
            ]
          },
          "metadata": {},
          "execution_count": 117
        },
        {
          "output_type": "display_data",
          "data": {
            "text/plain": [
              "<Figure size 1080x1080 with 0 Axes>"
            ]
          },
          "metadata": {}
        },
        {
          "output_type": "display_data",
          "data": {
            "text/plain": [
              "<Figure size 360x360 with 1 Axes>"
            ],
            "image/png": "[encoded data removed]"
          },
          "metadata": {
            "needs_background": "light"
          }
        }
      ]
    },
    {
      "cell_type": "code",
      "source": [
        "plt.figure(figsize=(10, 10))\n",
        "sns.stripplot(df_acc.Accuracy, df_acc.Model);\n",
        "plt.xlabel('Accuracy')\n",
        "plt.ylabel('Model')\n",
        "plt.title('Model_Compare')\n",
        "plt.show()"
      ],
      "metadata": {
        "colab": {
          "base_uri": "https://localhost:8080/",
          "height": 621
        },
        "id": "xsyOMe9syCsV",
        "outputId": "98b00fe9-8448-49d1-ca8c-c8122333bce4"
      },
      "execution_count": 118,
      "outputs": [
        {
          "output_type": "display_data",
          "data": {
            "text/plain": [
              "<Figure size 720x720 with 1 Axes>"
            ],
            "image/png": "[encoded data removed]"
          },
          "metadata": {
            "needs_background": "light"
          }
        }
      ]
    },
    {
      "cell_type": "code",
      "source": [
        "plt.figure(figsize=(10, 10))\n",
        "sns.lineplot( df_acc.Model, df_acc.Accuracy)\n",
        "plt.xlabel('Accuracy')\n",
        "plt.ylabel('Model')\n",
        "plt.title('Model_Compare')\n",
        "plt.show()"
      ],
      "metadata": {
        "colab": {
          "base_uri": "https://localhost:8080/",
          "height": 622
        },
        "id": "g4uELpSxzkSe",
        "outputId": "658150a2-ccea-4df5-a3ed-c29a6481ab50"
      },
      "execution_count": 119,
      "outputs": [
        {
          "output_type": "display_data",
          "data": {
            "text/plain": [
              "<Figure size 720x720 with 1 Axes>"
            ],
            "image/png": "[encoded data removed]"
          },
          "metadata": {
            "needs_background": "light"
          }
        }
      ]
    },
    {
      "cell_type": "code",
      "source": [],
      "metadata": {
        "id": "5dQQ99GRAiY5"
      },
      "execution_count": 119,
      "outputs": []
    },
    {
      "cell_type": "markdown",
      "source": [
        "# modularize code"
      ],
      "metadata": {
        "id": "JKuilN-Pgp3t"
      }
    },
    {
      "cell_type": "code",
      "source": [
        "# get the data \n",
        "def Read_data(data):\n",
        "  df = pd.read_csv(data)\n",
        "  df.columns = ['Target','Delivered_on_Time', 'Contents_as_expected', \n",
        "              'Found_everything', 'Good_Price', 'Satisfied_with_courier', 'App_ease']\n",
        "  return df"
      ],
      "metadata": {
        "id": "bw7r4JkTggIY"
      },
      "execution_count": 120,
      "outputs": []
    },
    {
      "cell_type": "code",
      "source": [
        " Read_data(data).head(2)"
      ],
      "metadata": {
        "colab": {
          "base_uri": "https://localhost:8080/",
          "height": 112
        },
        "id": "O-j6N0PXh80G",
        "outputId": "0375b99d-842a-44c3-f51d-3c4d7d547434"
      },
      "execution_count": 121,
      "outputs": [
        {
          "output_type": "execute_result",
          "data": {
            "text/plain": [
              "   Target  Delivered_on_Time  Contents_as_expected  Found_everything  \\\n",
              "0       0                  3                     3                 3   \n",
              "1       0                  3                     2                 3   \n",
              "\n",
              "   Good_Price  Satisfied_with_courier  App_ease  \n",
              "0           4                       2         4  \n",
              "1           5                       4         3  "
            ],
            "text/html": [
              "\n",
              "  <div id=\"df-45c2e924-2e9f-4a2b-830c-49c431698c00\">\n",
              "    <div class=\"colab-df-container\">\n",
              "      <div>\n",
              "<style scoped>\n",
              "    .dataframe tbody tr th:only-of-type {\n",
              "        vertical-align: middle;\n",
              "    }\n",
              "\n",
              "    .dataframe tbody tr th {\n",
              "        vertical-align: top;\n",
              "    }\n",
              "\n",
              "    .dataframe thead th {\n",
              "        text-align: right;\n",
              "    }\n",
              "</style>\n",
              "<table border=\"1\" class=\"dataframe\">\n",
              "  <thead>\n",
              "    <tr style=\"text-align: right;\">\n",
              "      <th></th>\n",
              "      <th>Target</th>\n",
              "      <th>Delivered_on_Time</th>\n",
              "      <th>Contents_as_expected</th>\n",
              "      <th>Found_everything</th>\n",
              "      <th>Good_Price</th>\n",
              "      <th>Satisfied_with_courier</th>\n",
              "      <th>App_ease</th>\n",
              "    </tr>\n",
              "  </thead>\n",
              "  <tbody>\n",
              "    <tr>\n",
              "      <th>0</th>\n",
              "      <td>0</td>\n",
              "      <td>3</td>\n",
              "      <td>3</td>\n",
              "      <td>3</td>\n",
              "      <td>4</td>\n",
              "      <td>2</td>\n",
              "      <td>4</td>\n",
              "    </tr>\n",
              "    <tr>\n",
              "      <th>1</th>\n",
              "      <td>0</td>\n",
              "      <td>3</td>\n",
              "      <td>2</td>\n",
              "      <td>3</td>\n",
              "      <td>5</td>\n",
              "      <td>4</td>\n",
              "      <td>3</td>\n",
              "    </tr>\n",
              "  </tbody>\n",
              "</table>\n",
              "</div>\n",
              "      <button class=\"colab-df-convert\" onclick=\"convertToInteractive('df-45c2e924-2e9f-4a2b-830c-49c431698c00')\"\n",
              "              title=\"Convert this dataframe to an interactive table.\"\n",
              "              style=\"display:none;\">\n",
              "        \n",
              "  <svg xmlns=\"http://www.w3.org/2000/svg\" height=\"24px\"viewBox=\"0 0 24 24\"\n",
              "       width=\"24px\">\n",
              "    <path d=\"M0 0h24v24H0V0z\" fill=\"none\"/>\n",
              "    <path d=\"M18.56 5.44l.94 2.06.94-2.06 2.06-.94-2.06-.94-.94-2.06-.94 2.06-2.06.94zm-11 1L8.5 8.5l.94-2.06 2.06-.94-2.06-.94L8.5 2.5l-.94 2.06-2.06.94zm10 10l.94 2.06.94-2.06 2.06-.94-2.06-.94-.94-2.06-.94 2.06-2.06.94z\"/><path d=\"M17.41 7.96l-1.37-1.37c-.4-.4-.92-.59-1.43-.59-.52 0-1.04.2-1.43.59L10.3 9.45l-7.72 7.72c-.78.78-.78 2.05 0 2.83L4 21.41c.39.39.9.59 1.41.59.51 0 1.02-.2 1.41-.59l7.78-7.78 2.81-2.81c.8-.78.8-2.07 0-2.86zM5.41 20L4 18.59l7.72-7.72 1.47 1.35L5.41 20z\"/>\n",
              "  </svg>\n",
              "      </button>\n",
              "      \n",
              "  <style>\n",
              "    .colab-df-container {\n",
              "      display:flex;\n",
              "      flex-wrap:wrap;\n",
              "      gap: 12px;\n",
              "    }\n",
              "\n",
              "    .colab-df-convert {\n",
              "      background-color: #E8F0FE;\n",
              "      border: none;\n",
              "      border-radius: 50%;\n",
              "      cursor: pointer;\n",
              "      display: none;\n",
              "      fill: #1967D2;\n",
              "      height: 32px;\n",
              "      padding: 0 0 0 0;\n",
              "      width: 32px;\n",
              "    }\n",
              "\n",
              "    .colab-df-convert:hover {\n",
              "      background-color: #E2EBFA;\n",
              "      box-shadow: 0px 1px 2px rgba(60, 64, 67, 0.3), 0px 1px 3px 1px rgba(60, 64, 67, 0.15);\n",
              "      fill: #174EA6;\n",
              "    }\n",
              "\n",
              "    [theme=dark] .colab-df-convert {\n",
              "      background-color: #3B4455;\n",
              "      fill: #D2E3FC;\n",
              "    }\n",
              "\n",
              "    [theme=dark] .colab-df-convert:hover {\n",
              "      background-color: #434B5C;\n",
              "      box-shadow: 0px 1px 3px 1px rgba(0, 0, 0, 0.15);\n",
              "      filter: drop-shadow(0px 1px 2px rgba(0, 0, 0, 0.3));\n",
              "      fill: #FFFFFF;\n",
              "    }\n",
              "  </style>\n",
              "\n",
              "      <script>\n",
              "        const buttonEl =\n",
              "          document.querySelector('#df-45c2e924-2e9f-4a2b-830c-49c431698c00 button.colab-df-convert');\n",
              "        buttonEl.style.display =\n",
              "          google.colab.kernel.accessAllowed ? 'block' : 'none';\n",
              "\n",
              "        async function convertToInteractive(key) {\n",
              "          const element = document.querySelector('#df-45c2e924-2e9f-4a2b-830c-49c431698c00');\n",
              "          const dataTable =\n",
              "            await google.colab.kernel.invokeFunction('convertToInteractive',\n",
              "                                                     [key], {});\n",
              "          if (!dataTable) return;\n",
              "\n",
              "          const docLinkHtml = 'Like what you see? Visit the ' +\n",
              "            '<a target=\"_blank\" href=https://colab.research.google.com/notebooks/data_table.ipynb>data table notebook</a>'\n",
              "            + ' to learn more about interactive tables.';\n",
              "          element.innerHTML = '';\n",
              "          dataTable['output_type'] = 'display_data';\n",
              "          await google.colab.output.renderOutput(dataTable, element);\n",
              "          const docLink = document.createElement('div');\n",
              "          docLink.innerHTML = docLinkHtml;\n",
              "          element.appendChild(docLink);\n",
              "        }\n",
              "      </script>\n",
              "    </div>\n",
              "  </div>\n",
              "  "
            ]
          },
          "metadata": {},
          "execution_count": 121
        }
      ]
    },
    {
      "cell_type": "code",
      "source": [
        "def chi_square(df, alpha, col1, col2):\n",
        "  import pandas as pd\n",
        "  import scipy.stats as stats\n",
        "  # significance level\n",
        "  alpha = alpha\n",
        "  # crosstab\n",
        "  df_crosstab = pd.crosstab(df[col1],\n",
        "                            df[col2],\n",
        "                           margins=True, margins_name=\"Total\")\n",
        "  # Calcualtion of Chisquare\n",
        "  chi_square = 0\n",
        "  rows = df[col1].unique()\n",
        "  columns = df[col2].unique()\n",
        "  for i in columns:\n",
        "      for j in rows:\n",
        "          O = df_crosstab[i][j]\n",
        "          E = df_crosstab[i]['Total'] * df_crosstab['Total'][j] / df_crosstab['Total']['Total']\n",
        "          chi_square += (O-E)**2/E\n",
        "\n",
        "  # The p-value approach\n",
        "  print(\"Approach 1: The p-value approach to hypothesis testing in the decision rule\")\n",
        "  p_value = 1 - stats.chi2.cdf(chi_square, (len(rows)-1)*(len(columns)-1))\n",
        "  conclusion = \"Failed to reject the null hypothesis.\"\n",
        "  if p_value <= alpha:\n",
        "      conclusion = \"Null Hypothesis is rejected.\"\n",
        "          \n",
        "  print(\"chisquare-score is:\", chi_square, \" and p value is:\", p_value)\n",
        "  print(conclusion)\n",
        "      \n",
        "  # The critical value approach\n",
        "  print(\"\\n--------------------------------------------------------------------------------------\")\n",
        "  print(\"Approach 2: The critical value approach to hypothesis testing in the decision rule\")\n",
        "  #Find the critical value for 95% confidence\n",
        "  critical_value = stats.chi2.ppf(1-alpha, (len(rows)-1)*(len(columns)-1))\n",
        "  conclusion = \"Failed to reject the null hypothesis.\"\n",
        "  if chi_square > critical_value:\n",
        "      conclusion = \"Null Hypothesis is rejected.\"\n",
        "          \n",
        "  return print(\"chisquare-score is:\", chi_square, \" and critical value is:\", critical_value, conclusion)"
      ],
      "metadata": {
        "id": "-8ZPDyNCggNJ"
      },
      "execution_count": 122,
      "outputs": []
    },
    {
      "cell_type": "code",
      "source": [
        "chi_square(df, 0.05 , 'Target', 'Delivered_on_Time')"
      ],
      "metadata": {
        "colab": {
          "base_uri": "https://localhost:8080/"
        },
        "id": "qKTU2IEhiJcY",
        "outputId": "c9f4d7dd-8cd3-42ae-bfd2-d0ed004af1f7"
      },
      "execution_count": 123,
      "outputs": [
        {
          "output_type": "stream",
          "name": "stdout",
          "text": [
            "Approach 1: The p-value approach to hypothesis testing in the decision rule\n",
            "chisquare-score is: 11.981200492870975  and p value is: 0.007447837905122601\n",
            "Null Hypothesis is rejected.\n",
            "\n",
            "--------------------------------------------------------------------------------------\n",
            "Approach 2: The critical value approach to hypothesis testing in the decision rule\n",
            "chisquare-score is: 11.981200492870975  and critical value is: 7.814727903251179 Null Hypothesis is rejected.\n"
          ]
        }
      ]
    },
    {
      "cell_type": "code",
      "source": [
        "def features_Engineering(df):\n",
        "  df['percent_score'] = df[['Delivered_on_Time', 'Contents_as_expected','Found_everything', 'Good_Price', 'Satisfied_with_courier', 'App_ease']].sum(axis=1)/30*100\n",
        "  df['mean_score'] = df[['Delivered_on_Time', 'Contents_as_expected','Found_everything', 'Good_Price', 'Satisfied_with_courier', 'App_ease']].sum(axis=1)/6\n",
        "  df['total_score']= df[['Delivered_on_Time', 'Contents_as_expected','Found_everything', 'Good_Price', 'Satisfied_with_courier', 'App_ease']].sum(axis=1)\n",
        "  return df"
      ],
      "metadata": {
        "id": "aeQdZNxmggQ2"
      },
      "execution_count": 124,
      "outputs": []
    },
    {
      "cell_type": "code",
      "source": [
        "features_Engineering(df).head(2)"
      ],
      "metadata": {
        "colab": {
          "base_uri": "https://localhost:8080/",
          "height": 176
        },
        "id": "VdMxYS0VihVP",
        "outputId": "0fb287eb-5ba3-414a-ef19-716d2ac9bf70"
      },
      "execution_count": 125,
      "outputs": [
        {
          "output_type": "execute_result",
          "data": {
            "text/plain": [
              "   Target  Delivered_on_Time  Contents_as_expected  Found_everything  \\\n",
              "0       0                  3                     3                 3   \n",
              "1       0                  3                     2                 3   \n",
              "\n",
              "   Good_Price  Satisfied_with_courier  App_ease  percent_score  mean_score  \\\n",
              "0           4                       2         4      63.333333    3.166667   \n",
              "1           5                       4         3      66.666667    3.333333   \n",
              "\n",
              "   total_score  \n",
              "0           19  \n",
              "1           20  "
            ],
            "text/html": [
              "\n",
              "  <div id=\"df-e3ae3ae2-0c39-4c20-a925-4da8c98896d7\">\n",
              "    <div class=\"colab-df-container\">\n",
              "      <div>\n",
              "<style scoped>\n",
              "    .dataframe tbody tr th:only-of-type {\n",
              "        vertical-align: middle;\n",
              "    }\n",
              "\n",
              "    .dataframe tbody tr th {\n",
              "        vertical-align: top;\n",
              "    }\n",
              "\n",
              "    .dataframe thead th {\n",
              "        text-align: right;\n",
              "    }\n",
              "</style>\n",
              "<table border=\"1\" class=\"dataframe\">\n",
              "  <thead>\n",
              "    <tr style=\"text-align: right;\">\n",
              "      <th></th>\n",
              "      <th>Target</th>\n",
              "      <th>Delivered_on_Time</th>\n",
              "      <th>Contents_as_expected</th>\n",
              "      <th>Found_everything</th>\n",
              "      <th>Good_Price</th>\n",
              "      <th>Satisfied_with_courier</th>\n",
              "      <th>App_ease</th>\n",
              "      <th>percent_score</th>\n",
              "      <th>mean_score</th>\n",
              "      <th>total_score</th>\n",
              "    </tr>\n",
              "  </thead>\n",
              "  <tbody>\n",
              "    <tr>\n",
              "      <th>0</th>\n",
              "      <td>0</td>\n",
              "      <td>3</td>\n",
              "      <td>3</td>\n",
              "      <td>3</td>\n",
              "      <td>4</td>\n",
              "      <td>2</td>\n",
              "      <td>4</td>\n",
              "      <td>63.333333</td>\n",
              "      <td>3.166667</td>\n",
              "      <td>19</td>\n",
              "    </tr>\n",
              "    <tr>\n",
              "      <th>1</th>\n",
              "      <td>0</td>\n",
              "      <td>3</td>\n",
              "      <td>2</td>\n",
              "      <td>3</td>\n",
              "      <td>5</td>\n",
              "      <td>4</td>\n",
              "      <td>3</td>\n",
              "      <td>66.666667</td>\n",
              "      <td>3.333333</td>\n",
              "      <td>20</td>\n",
              "    </tr>\n",
              "  </tbody>\n",
              "</table>\n",
              "</div>\n",
              "      <button class=\"colab-df-convert\" onclick=\"convertToInteractive('df-e3ae3ae2-0c39-4c20-a925-4da8c98896d7')\"\n",
              "              title=\"Convert this dataframe to an interactive table.\"\n",
              "              style=\"display:none;\">\n",
              "        \n",
              "  <svg xmlns=\"http://www.w3.org/2000/svg\" height=\"24px\"viewBox=\"0 0 24 24\"\n",
              "       width=\"24px\">\n",
              "    <path d=\"M0 0h24v24H0V0z\" fill=\"none\"/>\n",
              "    <path d=\"M18.56 5.44l.94 2.06.94-2.06 2.06-.94-2.06-.94-.94-2.06-.94 2.06-2.06.94zm-11 1L8.5 8.5l.94-2.06 2.06-.94-2.06-.94L8.5 2.5l-.94 2.06-2.06.94zm10 10l.94 2.06.94-2.06 2.06-.94-2.06-.94-.94-2.06-.94 2.06-2.06.94z\"/><path d=\"M17.41 7.96l-1.37-1.37c-.4-.4-.92-.59-1.43-.59-.52 0-1.04.2-1.43.59L10.3 9.45l-7.72 7.72c-.78.78-.78 2.05 0 2.83L4 21.41c.39.39.9.59 1.41.59.51 0 1.02-.2 1.41-.59l7.78-7.78 2.81-2.81c.8-.78.8-2.07 0-2.86zM5.41 20L4 18.59l7.72-7.72 1.47 1.35L5.41 20z\"/>\n",
              "  </svg>\n",
              "      </button>\n",
              "      \n",
              "  <style>\n",
              "    .colab-df-container {\n",
              "      display:flex;\n",
              "      flex-wrap:wrap;\n",
              "      gap: 12px;\n",
              "    }\n",
              "\n",
              "    .colab-df-convert {\n",
              "      background-color: #E8F0FE;\n",
              "      border: none;\n",
              "      border-radius: 50%;\n",
              "      cursor: pointer;\n",
              "      display: none;\n",
              "      fill: #1967D2;\n",
              "      height: 32px;\n",
              "      padding: 0 0 0 0;\n",
              "      width: 32px;\n",
              "    }\n",
              "\n",
              "    .colab-df-convert:hover {\n",
              "      background-color: #E2EBFA;\n",
              "      box-shadow: 0px 1px 2px rgba(60, 64, 67, 0.3), 0px 1px 3px 1px rgba(60, 64, 67, 0.15);\n",
              "      fill: #174EA6;\n",
              "    }\n",
              "\n",
              "    [theme=dark] .colab-df-convert {\n",
              "      background-color: #3B4455;\n",
              "      fill: #D2E3FC;\n",
              "    }\n",
              "\n",
              "    [theme=dark] .colab-df-convert:hover {\n",
              "      background-color: #434B5C;\n",
              "      box-shadow: 0px 1px 3px 1px rgba(0, 0, 0, 0.15);\n",
              "      filter: drop-shadow(0px 1px 2px rgba(0, 0, 0, 0.3));\n",
              "      fill: #FFFFFF;\n",
              "    }\n",
              "  </style>\n",
              "\n",
              "      <script>\n",
              "        const buttonEl =\n",
              "          document.querySelector('#df-e3ae3ae2-0c39-4c20-a925-4da8c98896d7 button.colab-df-convert');\n",
              "        buttonEl.style.display =\n",
              "          google.colab.kernel.accessAllowed ? 'block' : 'none';\n",
              "\n",
              "        async function convertToInteractive(key) {\n",
              "          const element = document.querySelector('#df-e3ae3ae2-0c39-4c20-a925-4da8c98896d7');\n",
              "          const dataTable =\n",
              "            await google.colab.kernel.invokeFunction('convertToInteractive',\n",
              "                                                     [key], {});\n",
              "          if (!dataTable) return;\n",
              "\n",
              "          const docLinkHtml = 'Like what you see? Visit the ' +\n",
              "            '<a target=\"_blank\" href=https://colab.research.google.com/notebooks/data_table.ipynb>data table notebook</a>'\n",
              "            + ' to learn more about interactive tables.';\n",
              "          element.innerHTML = '';\n",
              "          dataTable['output_type'] = 'display_data';\n",
              "          await google.colab.output.renderOutput(dataTable, element);\n",
              "          const docLink = document.createElement('div');\n",
              "          docLink.innerHTML = docLinkHtml;\n",
              "          element.appendChild(docLink);\n",
              "        }\n",
              "      </script>\n",
              "    </div>\n",
              "  </div>\n",
              "  "
            ]
          },
          "metadata": {},
          "execution_count": 125
        }
      ]
    },
    {
      "cell_type": "code",
      "source": [
        "def balance_dataset(df):\n",
        "  from imblearn.over_sampling import SMOTE\n",
        "  y= df.Target\n",
        "  X= df.drop(columns = ['Target'])\n",
        "  # Oversample\n",
        "  sm = SMOTE(random_state=42)\n",
        "  X_res, y_res = sm.fit_resample(X, y)\n",
        "  return X_res, y_res"
      ],
      "metadata": {
        "id": "NX1W4tejggU-"
      },
      "execution_count": 126,
      "outputs": []
    },
    {
      "cell_type": "code",
      "source": [
        "X_res, y_res = balance_dataset(df)"
      ],
      "metadata": {
        "id": "zqiy6g2PiprJ"
      },
      "execution_count": 127,
      "outputs": []
    },
    {
      "cell_type": "code",
      "source": [
        "def dummie_features(X_res):\n",
        "  # only the inde\n",
        "  # get all features , convert to string and get dummie features\n",
        "  X_res[X_res.columns[0:6]] = X_res[X_res.columns[0:6]].applymap(str)\n",
        "  X_res = pd.get_dummies(data=X_res, columns=['Delivered_on_Time', 'Contents_as_expected', 'Found_everything',\n",
        "       'Good_Price', 'Satisfied_with_courier', 'App_ease'])\n",
        "  return X_res"
      ],
      "metadata": {
        "id": "d6vobZCYggZE"
      },
      "execution_count": 128,
      "outputs": []
    },
    {
      "cell_type": "code",
      "source": [
        "X_res = dummie_features(X_res)"
      ],
      "metadata": {
        "id": "zUXcGU8Di6AG"
      },
      "execution_count": 129,
      "outputs": []
    },
    {
      "cell_type": "code",
      "source": [
        "def split_data(X_res, y_res):\n",
        "  # split the data into train and test set \n",
        "  X_train, X_test, y_train, y_test = train_test_split(X_res, y_res, test_size=0.25, random_state=47)\n",
        "  accuracy_dic = {}\n",
        "  return  X_train, X_test, y_train, y_test, accuracy_dic"
      ],
      "metadata": {
        "id": "_T1lyypbg3tr"
      },
      "execution_count": 130,
      "outputs": []
    },
    {
      "cell_type": "code",
      "source": [
        "X_train, X_test, y_train, y_test, accuracy_dic = split_data(X_res, y_res)"
      ],
      "metadata": {
        "id": "ED65qxtxjEph"
      },
      "execution_count": 131,
      "outputs": []
    },
    {
      "cell_type": "code",
      "source": [
        "def modeling(model):\n",
        "  #accuracy_dic = {}\n",
        "  model.fit(X_train, y_train)\n",
        "  y_pred = model.predict(X_test)  \n",
        "  target_names = ['Unhappy', 'happy']\n",
        "  report = classification_report(y_test, y_pred, target_names=target_names)\n",
        "  accuracy = accuracy_score(y_test,y_pred) #predictions\n",
        "  accuracy_dic[model] = float(round(accuracy, 2))\n",
        "  cross_val = (cross_val_score(model, X_train, y_train, cv = 5, scoring = 'accuracy')).mean()\n",
        "  return cross_val, accuracy, print(report), y_pred"
      ],
      "metadata": {
        "id": "1EYEzbt0g3yh"
      },
      "execution_count": 132,
      "outputs": []
    },
    {
      "cell_type": "code",
      "source": [
        "#all model\n",
        "dt = DecisionTreeClassifier(random_state=47)\n",
        "rf_clf0= RandomForestClassifier(random_state=47)\n",
        "XGB = XGBClassifier(n_estimators=1000,learning_rate=0.05)\n",
        "BNBclf = BernoulliNB()\n",
        "pac = PassiveAggressiveClassifier(C=0.5, max_iter=1000, random_state=47, tol=1e-3)"
      ],
      "metadata": {
        "id": "2L0GOSYbjvBy"
      },
      "execution_count": 133,
      "outputs": []
    },
    {
      "cell_type": "code",
      "source": [
        "modeling(dt)"
      ],
      "metadata": {
        "colab": {
          "base_uri": "https://localhost:8080/"
        },
        "id": "Bdtwt8ozjNzC",
        "outputId": "bf67af6b-bb9a-4639-ad71-4326119df368"
      },
      "execution_count": 134,
      "outputs": [
        {
          "output_type": "stream",
          "name": "stdout",
          "text": [
            "              precision    recall  f1-score   support\n",
            "\n",
            "     Unhappy       0.71      0.79      0.75        19\n",
            "       happy       0.71      0.62      0.67        16\n",
            "\n",
            "    accuracy                           0.71        35\n",
            "   macro avg       0.71      0.71      0.71        35\n",
            "weighted avg       0.71      0.71      0.71        35\n",
            "\n"
          ]
        },
        {
          "output_type": "execute_result",
          "data": {
            "text/plain": [
              "(0.6333333333333334,\n",
              " 0.7142857142857143,\n",
              " None,\n",
              " array([1, 0, 0, 1, 1, 0, 0, 0, 0, 1, 1, 0, 1, 0, 1, 0, 1, 0, 0, 0, 1, 1,\n",
              "        0, 1, 0, 1, 1, 0, 1, 0, 0, 0, 0, 0, 0]))"
            ]
          },
          "metadata": {},
          "execution_count": 134
        }
      ]
    },
    {
      "cell_type": "code",
      "source": [
        "modeling(dt)"
      ],
      "metadata": {
        "colab": {
          "base_uri": "https://localhost:8080/"
        },
        "id": "SUFqSlPajOHC",
        "outputId": "b004207e-2119-4823-82f6-99fae956b51f"
      },
      "execution_count": 135,
      "outputs": [
        {
          "output_type": "stream",
          "name": "stdout",
          "text": [
            "              precision    recall  f1-score   support\n",
            "\n",
            "     Unhappy       0.71      0.79      0.75        19\n",
            "       happy       0.71      0.62      0.67        16\n",
            "\n",
            "    accuracy                           0.71        35\n",
            "   macro avg       0.71      0.71      0.71        35\n",
            "weighted avg       0.71      0.71      0.71        35\n",
            "\n"
          ]
        },
        {
          "output_type": "execute_result",
          "data": {
            "text/plain": [
              "(0.6333333333333334,\n",
              " 0.7142857142857143,\n",
              " None,\n",
              " array([1, 0, 0, 1, 1, 0, 0, 0, 0, 1, 1, 0, 1, 0, 1, 0, 1, 0, 0, 0, 1, 1,\n",
              "        0, 1, 0, 1, 1, 0, 1, 0, 0, 0, 0, 0, 0]))"
            ]
          },
          "metadata": {},
          "execution_count": 135
        }
      ]
    },
    {
      "cell_type": "code",
      "source": [
        "modeling(rf_clf0)"
      ],
      "metadata": {
        "colab": {
          "base_uri": "https://localhost:8080/"
        },
        "id": "zdLHLrxvjT-h",
        "outputId": "0b8dadf9-402c-4cc7-c6d2-c39d3fb47847"
      },
      "execution_count": 136,
      "outputs": [
        {
          "output_type": "stream",
          "name": "stdout",
          "text": [
            "              precision    recall  f1-score   support\n",
            "\n",
            "     Unhappy       0.65      0.79      0.71        19\n",
            "       happy       0.67      0.50      0.57        16\n",
            "\n",
            "    accuracy                           0.66        35\n",
            "   macro avg       0.66      0.64      0.64        35\n",
            "weighted avg       0.66      0.66      0.65        35\n",
            "\n"
          ]
        },
        {
          "output_type": "execute_result",
          "data": {
            "text/plain": [
              "(0.6114285714285714,\n",
              " 0.6571428571428571,\n",
              " None,\n",
              " array([1, 0, 0, 1, 0, 0, 0, 0, 0, 0, 0, 0, 1, 0, 1, 0, 1, 0, 1, 0, 1, 1,\n",
              "        0, 1, 0, 0, 0, 0, 1, 0, 0, 0, 1, 0, 1]))"
            ]
          },
          "metadata": {},
          "execution_count": 136
        }
      ]
    },
    {
      "cell_type": "code",
      "source": [
        "modeling(XGB)"
      ],
      "metadata": {
        "colab": {
          "base_uri": "https://localhost:8080/"
        },
        "id": "oM4PScyMjUIL",
        "outputId": "9991d013-06a2-4e9d-8d81-fc4db0572c05"
      },
      "execution_count": 137,
      "outputs": [
        {
          "output_type": "stream",
          "name": "stdout",
          "text": [
            "              precision    recall  f1-score   support\n",
            "\n",
            "     Unhappy       0.75      0.79      0.77        19\n",
            "       happy       0.73      0.69      0.71        16\n",
            "\n",
            "    accuracy                           0.74        35\n",
            "   macro avg       0.74      0.74      0.74        35\n",
            "weighted avg       0.74      0.74      0.74        35\n",
            "\n"
          ]
        },
        {
          "output_type": "execute_result",
          "data": {
            "text/plain": [
              "(0.631904761904762,\n",
              " 0.7428571428571429,\n",
              " None,\n",
              " array([1, 0, 0, 1, 1, 0, 0, 1, 0, 0, 0, 1, 1, 0, 1, 0, 1, 0, 1, 0, 1, 0,\n",
              "        0, 1, 0, 0, 1, 0, 1, 0, 0, 0, 1, 0, 1]))"
            ]
          },
          "metadata": {},
          "execution_count": 137
        }
      ]
    },
    {
      "cell_type": "code",
      "source": [
        "modeling(BNBclf)"
      ],
      "metadata": {
        "colab": {
          "base_uri": "https://localhost:8080/"
        },
        "id": "OWGhBLsvjUUZ",
        "outputId": "975b81a9-e995-4db3-e4aa-93864067a9d4"
      },
      "execution_count": 138,
      "outputs": [
        {
          "output_type": "stream",
          "name": "stdout",
          "text": [
            "              precision    recall  f1-score   support\n",
            "\n",
            "     Unhappy       0.67      0.63      0.65        19\n",
            "       happy       0.59      0.62      0.61        16\n",
            "\n",
            "    accuracy                           0.63        35\n",
            "   macro avg       0.63      0.63      0.63        35\n",
            "weighted avg       0.63      0.63      0.63        35\n",
            "\n"
          ]
        },
        {
          "output_type": "execute_result",
          "data": {
            "text/plain": [
              "(0.6395238095238095,\n",
              " 0.6285714285714286,\n",
              " None,\n",
              " array([1, 0, 1, 1, 0, 1, 0, 0, 0, 0, 1, 0, 1, 0, 1, 0, 1, 0, 1, 1, 1, 1,\n",
              "        0, 1, 0, 0, 1, 0, 1, 0, 0, 0, 1, 1, 0]))"
            ]
          },
          "metadata": {},
          "execution_count": 138
        }
      ]
    },
    {
      "cell_type": "code",
      "source": [
        "modeling(pac)"
      ],
      "metadata": {
        "colab": {
          "base_uri": "https://localhost:8080/"
        },
        "id": "fdcdkwOVj-Xp",
        "outputId": "60cf77c2-660f-4eaa-d056-cbba76a124bc"
      },
      "execution_count": 139,
      "outputs": [
        {
          "output_type": "stream",
          "name": "stdout",
          "text": [
            "              precision    recall  f1-score   support\n",
            "\n",
            "     Unhappy       0.54      1.00      0.70        19\n",
            "       happy       0.00      0.00      0.00        16\n",
            "\n",
            "    accuracy                           0.54        35\n",
            "   macro avg       0.27      0.50      0.35        35\n",
            "weighted avg       0.29      0.54      0.38        35\n",
            "\n"
          ]
        },
        {
          "output_type": "execute_result",
          "data": {
            "text/plain": [
              "(0.49523809523809526,\n",
              " 0.5428571428571428,\n",
              " None,\n",
              " array([0, 0, 0, 0, 0, 0, 0, 0, 0, 0, 0, 0, 0, 0, 0, 0, 0, 0, 0, 0, 0, 0,\n",
              "        0, 0, 0, 0, 0, 0, 0, 0, 0, 0, 0, 0, 0]))"
            ]
          },
          "metadata": {},
          "execution_count": 139
        }
      ]
    },
    {
      "cell_type": "code",
      "source": [
        "accuracy_dic"
      ],
      "metadata": {
        "colab": {
          "base_uri": "https://localhost:8080/"
        },
        "id": "j-yPyMhGj-cF",
        "outputId": "eaa3d258-e6c0-4458-8862-141fa6b4fdc9"
      },
      "execution_count": 140,
      "outputs": [
        {
          "output_type": "execute_result",
          "data": {
            "text/plain": [
              "{DecisionTreeClassifier(random_state=47): 0.71,\n",
              " RandomForestClassifier(random_state=47): 0.66,\n",
              " XGBClassifier(learning_rate=0.05, n_estimators=1000): 0.74,\n",
              " BernoulliNB(): 0.63,\n",
              " PassiveAggressiveClassifier(C=0.5, random_state=47): 0.54}"
            ]
          },
          "metadata": {},
          "execution_count": 140
        }
      ]
    },
    {
      "cell_type": "code",
      "source": [
        "def model_tune(model, param_grid):\n",
        "   #accuracy_dic = {}\n",
        "  RandomGrid_search = RandomizedSearchCV(estimator = model, param_distributions = param_grid, cv = 10, verbose=2, n_jobs = -1, random_state=47)\n",
        "  RandomGrid_search.fit(X_train, y_train)\n",
        "  model_tune = RandomGrid_search.best_estimator_\n",
        "  y_pred = model_tune.predict(X_test)  \n",
        "  target_names = ['Unhappy', 'happy']\n",
        "  report = classification_report(y_test, y_pred, target_names=target_names)\n",
        "  accuracy = accuracy_score(y_test,y_pred) #predictions\n",
        "  accuracy_dic[model_tune] = float(round(accuracy, 2))\n",
        "  best_params = RandomGrid_search.best_params_\n",
        "  return best_params, accuracy, print(report), y_pred"
      ],
      "metadata": {
        "id": "Kmf5Mq-mg34b"
      },
      "execution_count": 141,
      "outputs": []
    },
    {
      "cell_type": "code",
      "source": [
        "#tune model\n",
        "# define hyperparams\n",
        "n_estimators = [int(x) for x in np.linspace(start = 10, stop = 100, num = 20)]\n",
        "max_features = ['auto', 'sqrt']\n",
        "max_depth = [2,4,6,8, 10]\n",
        "min_samples_split = [2,3, 4, 5]\n",
        "min_samples_leaf = [1,2, 3]\n",
        "bootstrap = [True, False]\n",
        "\n",
        "# Create the param grid\n",
        "param_grid = {'n_estimators': n_estimators,\n",
        "               'max_features': max_features,\n",
        "               'max_depth': max_depth,\n",
        "               'min_samples_split': min_samples_split,\n",
        "               'min_samples_leaf': min_samples_leaf,\n",
        "               'bootstrap': bootstrap}\n",
        "print(param_grid)\n",
        "rf_clf1 = RandomForestClassifier(random_state= 47)"
      ],
      "metadata": {
        "colab": {
          "base_uri": "https://localhost:8080/"
        },
        "id": "EFBHKyNHlBb2",
        "outputId": "a8f2678d-e236-4add-8b16-e8a24776e295"
      },
      "execution_count": 142,
      "outputs": [
        {
          "output_type": "stream",
          "name": "stdout",
          "text": [
            "{'n_estimators': [10, 14, 19, 24, 28, 33, 38, 43, 47, 52, 57, 62, 66, 71, 76, 81, 85, 90, 95, 100], 'max_features': ['auto', 'sqrt'], 'max_depth': [2, 4, 6, 8, 10], 'min_samples_split': [2, 3, 4, 5], 'min_samples_leaf': [1, 2, 3], 'bootstrap': [True, False]}\n"
          ]
        }
      ]
    },
    {
      "cell_type": "code",
      "source": [],
      "metadata": {
        "id": "gGzrhnitlhAp"
      },
      "execution_count": 142,
      "outputs": []
    },
    {
      "cell_type": "code",
      "source": [
        "model_tune(rf_clf1, param_grid)"
      ],
      "metadata": {
        "colab": {
          "base_uri": "https://localhost:8080/"
        },
        "id": "smWh1fTilBpr",
        "outputId": "14552288-77e5-490a-b70c-ea9fc44ff5d3"
      },
      "execution_count": 143,
      "outputs": [
        {
          "output_type": "stream",
          "name": "stdout",
          "text": [
            "Fitting 10 folds for each of 10 candidates, totalling 100 fits\n",
            "              precision    recall  f1-score   support\n",
            "\n",
            "     Unhappy       0.71      0.79      0.75        19\n",
            "       happy       0.71      0.62      0.67        16\n",
            "\n",
            "    accuracy                           0.71        35\n",
            "   macro avg       0.71      0.71      0.71        35\n",
            "weighted avg       0.71      0.71      0.71        35\n",
            "\n"
          ]
        },
        {
          "output_type": "execute_result",
          "data": {
            "text/plain": [
              "({'n_estimators': 38,\n",
              "  'min_samples_split': 2,\n",
              "  'min_samples_leaf': 1,\n",
              "  'max_features': 'auto',\n",
              "  'max_depth': 10,\n",
              "  'bootstrap': True},\n",
              " 0.7142857142857143,\n",
              " None,\n",
              " array([1, 0, 0, 1, 0, 0, 0, 0, 0, 1, 0, 1, 1, 0, 1, 0, 1, 0, 1, 0, 1, 1,\n",
              "        0, 1, 0, 0, 1, 0, 0, 0, 0, 0, 1, 0, 1]))"
            ]
          },
          "metadata": {},
          "execution_count": 143
        }
      ]
    },
    {
      "cell_type": "code",
      "source": [
        "\n",
        "\n",
        "\n",
        "\n",
        "model_tune(XGB, param_grid)"
      ],
      "metadata": {
        "colab": {
          "base_uri": "https://localhost:8080/"
        },
        "id": "aoZVoT_HlgT5",
        "outputId": "49a8ef98-b804-48a0-e8cc-71cd8b75e5d1"
      },
      "execution_count": 144,
      "outputs": [
        {
          "output_type": "stream",
          "name": "stdout",
          "text": [
            "Fitting 10 folds for each of 10 candidates, totalling 100 fits\n",
            "              precision    recall  f1-score   support\n",
            "\n",
            "     Unhappy       0.59      0.53      0.56        19\n",
            "       happy       0.50      0.56      0.53        16\n",
            "\n",
            "    accuracy                           0.54        35\n",
            "   macro avg       0.54      0.54      0.54        35\n",
            "weighted avg       0.55      0.54      0.54        35\n",
            "\n"
          ]
        },
        {
          "output_type": "execute_result",
          "data": {
            "text/plain": [
              "({'n_estimators': 38,\n",
              "  'min_samples_split': 2,\n",
              "  'min_samples_leaf': 1,\n",
              "  'max_features': 'auto',\n",
              "  'max_depth': 10,\n",
              "  'bootstrap': True},\n",
              " 0.5428571428571428,\n",
              " None,\n",
              " array([1, 1, 1, 1, 1, 0, 0, 1, 0, 1, 1, 0, 1, 0, 1, 0, 0, 0, 1, 1, 1, 1,\n",
              "        1, 1, 0, 0, 0, 0, 1, 0, 0, 0, 0, 0, 1]))"
            ]
          },
          "metadata": {},
          "execution_count": 144
        }
      ]
    },
    {
      "cell_type": "code",
      "source": [],
      "metadata": {
        "id": "E8PAgBh1lB6h"
      },
      "execution_count": 144,
      "outputs": []
    },
    {
      "cell_type": "code",
      "source": [
        "def  features_importance(model):\n",
        "  plt.figure(figsize=(10, 13))\n",
        "  feat_importance = model.feature_importances_\n",
        "  feature_names = [f\"feature {i}\" for i in X_train.columns]\n",
        "  forest_importances = pd.Series(feat_importance, index=feature_names).sort_values(ascending=False)\n",
        "  forest_importances.plot.barh()\n",
        "  plt.title(\"Random forest Feature importances \")"
      ],
      "metadata": {
        "id": "-GJkZ-1Xg39r"
      },
      "execution_count": 145,
      "outputs": []
    },
    {
      "cell_type": "code",
      "source": [
        "def plot_acc(accuracy_dic):\n",
        "  df_acc = pd.DataFrame(list(accuracy_dic.items()), columns=['Model', 'Accuracy'])\n",
        "  df_acc.sort_values(by='Accuracy', inplace=True)\n",
        "  plt.figure(figsize=(10, 10))\n",
        "  #sns.stripplot(df_acc.Accuracy, df_acc.Model)\n",
        "  sns.lineplot( df_acc.Model, df_acc.Accuracy)\n",
        "  plt.xlabel('Accuracy')\n",
        "  plt.ylabel('Model')\n",
        "  plt.title('Model_Compare')\n",
        "  plt.show()"
      ],
      "metadata": {
        "id": "e_n4C7njg4C6"
      },
      "execution_count": 146,
      "outputs": []
    },
    {
      "cell_type": "code",
      "source": [],
      "metadata": {
        "id": "vL3CuCd-hzfM"
      },
      "execution_count": 146,
      "outputs": []
    },
    {
      "cell_type": "code",
      "source": [],
      "metadata": {
        "id": "BpUzTC3HhzkP"
      },
      "execution_count": 146,
      "outputs": []
    },
    {
      "cell_type": "code",
      "source": [],
      "metadata": {
        "id": "VD0VRVB9hzqZ"
      },
      "execution_count": 146,
      "outputs": []
    },
    {
      "cell_type": "code",
      "source": [],
      "metadata": {
        "id": "2-hUYWSyhzwV"
      },
      "execution_count": 146,
      "outputs": []
    },
    {
      "cell_type": "code",
      "source": [],
      "metadata": {
        "id": "A6Cmwx3Jhz3C"
      },
      "execution_count": 146,
      "outputs": []
    },
    {
      "cell_type": "code",
      "source": [],
      "metadata": {
        "id": "g9BJkSWIhz9G"
      },
      "execution_count": 146,
      "outputs": []
    }
  ]
}