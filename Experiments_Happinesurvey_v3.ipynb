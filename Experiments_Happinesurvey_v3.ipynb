{
  "nbformat": 4,
  "nbformat_minor": 0,
  "metadata": {
    "colab": {
      "provenance": [],
      "toc_visible": true,
      "mount_file_id": "16yG71SA_daJEEXqhvoIANBPUSwAiT1g2",
      "authorship_tag": "ABX9TyOVbY1qxiFLhnw3QunKTw/A",
      "include_colab_link": true
    },
    "kernelspec": {
      "name": "python3",
      "display_name": "Python 3"
    },
    "language_info": {
      "name": "python"
    }
  },
  "cells": [
    {
      "cell_type": "markdown",
      "metadata": {
        "id": "view-in-github",
        "colab_type": "text"
      },
      "source": [
        "<a href=\"https://colab.research.google.com/github/pascale25/Uv4pOPaRDHZhHnKE/blob/master/Experiments_Happinesurvey_v3.ipynb\" target=\"_parent\"><img src=\"https://colab.research.google.com/assets/colab-badge.svg\" alt=\"Open In Colab\"/></a>"
      ]
    },
    {
      "cell_type": "markdown",
      "source": [
        "# Happy Customers survey \n"
      ],
      "metadata": {
        "id": "MWrBu6ob0Xmk"
      }
    },
    {
      "cell_type": "markdown",
      "source": [
        "# Buisiness problem\n",
        "\n",
        "During the COVID-19 pandemic, we are facing several different challenges and everyday we are trying to address these challenges.\n",
        "\n",
        "We thrive on making our customers happy. As a growing startup, with a global expansion strategy we know that we need to make our customers happy and the only way to do that is to measure how happy each customer is. If we can predict what makes our customers happy or unhappy, we can then take necessary actions.\n",
        "\n",
        "Getting feedback from customers is not easy either, but we do our best to get constant feedback from our customers. This is a crucial function to improve our operations across all levels.\n",
        "\n",
        "## Goal(s)\n",
        "Predict if a customer is happy or not based on the answers they give to questions asked\n",
        "\n",
        "Identified important feature that make customer happy\n",
        "\n",
        "## Success Metrics\n",
        "\n",
        "Reach 73% accuracy score or above, or convince us why your solution is superior. We are definitely interested in every solution and insight you can provide us.\n",
        "\n",
        "Try to submit your working solution as soon as possible. The sooner the better."
      ],
      "metadata": {
        "id": "UYXXSs0u0o-C"
      }
    },
    {
      "cell_type": "markdown",
      "source": [
        "# Data collection\n",
        "We recently did a survey to a select customer cohort. You are presented with a subset of this data. We will be using the remaining data as a private test set.\n",
        "\n",
        "Data Description:\n",
        "\n",
        "Y = target attribute (Y) with values indicating 0 (unhappy) and 1 (happy) customers\n",
        "\n",
        "X1 = my order was delivered on time\n",
        "\n",
        "X2 = contents of my order was as I expected\n",
        "\n",
        "X3 = I ordered everything I wanted to order\n",
        "\n",
        "X4 = I paid a good price for my order\n",
        "\n",
        "X5 = I am satisfied with my courier\n",
        "\n",
        "X6 = the app makes ordering easy for me\n",
        "\n",
        "Attributes X1 to X6 indicate the responses for each question and have values from 1 to 5 where the smaller number indicates less and the higher number indicates more towards the answer."
      ],
      "metadata": {
        "id": "O6BTcGV01H8P"
      }
    },
    {
      "cell_type": "code",
      "source": [
        "from google.colab import drive\n",
        "\n",
        "drive.mount('/content/gdrive')"
      ],
      "metadata": {
        "id": "dspRdhuBLRBV",
        "colab": {
          "base_uri": "https://localhost:8080/"
        },
        "outputId": "486040c9-d7b1-4fc9-80fe-f0aa973ba877"
      },
      "execution_count": null,
      "outputs": [
        {
          "output_type": "stream",
          "name": "stdout",
          "text": [
            "Mounted at /content/gdrive\n"
          ]
        }
      ]
    },
    {
      "cell_type": "code",
      "source": [
        "import pandas as pd\n",
        "import numpy as np\n",
        "import matplotlib.pyplot as plt\n",
        "import seaborn as sns\n",
        "\n",
        "\n",
        "from sklearn.preprocessing import StandardScaler\n",
        "from sklearn.model_selection import train_test_split\n",
        "\n",
        "#algorithms to use\n",
        "from xgboost import XGBClassifier\n",
        "from xgboost import plot_importance\n",
        "from sklearn.linear_model import PassiveAggressiveClassifier\n",
        "\n",
        "from sklearn.discriminant_analysis import LinearDiscriminantAnalysis\n",
        "from sklearn.discriminant_analysis import QuadraticDiscriminantAnalysis\n",
        "from sklearn.linear_model import LogisticRegression\n",
        "from sklearn.neighbors import KNeighborsClassifier\n",
        "\n",
        "from xgboost import XGBClassifier\n",
        "from sklearn.svm import SVC\n",
        "from sklearn.ensemble import RandomForestClassifier\n",
        "from sklearn.tree import DecisionTreeClassifier\n",
        "from sklearn import tree\n",
        "\n",
        "#Metrics to evaluate the model\n",
        "from sklearn import metrics\n",
        "from sklearn.metrics import confusion_matrix, classification_report, precision_recall_curve,recall_score, plot_confusion_matrix, roc_curve, roc_auc_score, plot_roc_curve, precision_recall_fscore_support, accuracy_score\n",
        "#for tuning the model\n",
        "from sklearn.model_selection import GridSearchCV, cross_val_score, RandomizedSearchCV\n",
        "\n",
        "#to ignore warnings\n",
        "import warnings\n",
        "warnings.filterwarnings(\"ignore\")"
      ],
      "metadata": {
        "id": "U-YNCERB4Ade"
      },
      "execution_count": null,
      "outputs": []
    },
    {
      "cell_type": "code",
      "source": [
        "import os\n",
        "os.listdir(\"gdrive/MyDrive/Apziva_project/HFhD9gY6N8cN4PtO\")"
      ],
      "metadata": {
        "id": "6uUjiJHX2gDE",
        "colab": {
          "base_uri": "https://localhost:8080/"
        },
        "outputId": "3ffe9ab8-d1da-41cc-fd0d-8fafecceca07"
      },
      "execution_count": null,
      "outputs": [
        {
          "output_type": "execute_result",
          "data": {
            "text/plain": [
              "['ACME-HappinessSurvey2020.csv',\n",
              " 'happinesurvey2020.csv',\n",
              " 'Happinesurvey.ipynb',\n",
              " 'Experiments_Happinesurvey_v2.ipynb',\n",
              " 'Copy of Experiments_Happinesurvey_v2.ipynb',\n",
              " 'experiemnts_of Happinesurvey.ipynb',\n",
              " 'Untitled spreadsheet.gsheet',\n",
              " 'accuracy.gsheet',\n",
              " 'accuracy.csv',\n",
              " 'exemple_notebook.gdoc',\n",
              " 'Copy of Experiments_Happinesurvey_v3.ipynb',\n",
              " 'Experiments_Happinesurvey_v3.ipynb']"
            ]
          },
          "metadata": {},
          "execution_count": 105
        }
      ]
    },
    {
      "cell_type": "markdown",
      "source": [
        "# Get the Data "
      ],
      "metadata": {
        "id": "NqL3mp42zgmN"
      }
    },
    {
      "cell_type": "code",
      "source": [
        "data = \"gdrive/MyDrive/Apziva_project/HFhD9gY6N8cN4PtO/happinesurvey2020.csv\""
      ],
      "metadata": {
        "id": "WObbo0zn0lcH"
      },
      "execution_count": null,
      "outputs": []
    },
    {
      "cell_type": "code",
      "source": [
        "# read data \n",
        "df = pd.read_csv(data)\n",
        "df.head()"
      ],
      "metadata": {
        "colab": {
          "base_uri": "https://localhost:8080/",
          "height": 206
        },
        "id": "9lloZBcH0li3",
        "outputId": "3f54b15f-bbce-41ec-c5f9-4592e496d1c4"
      },
      "execution_count": null,
      "outputs": [
        {
          "output_type": "execute_result",
          "data": {
            "text/plain": [
              "   Y  X1  X2  X3  X4  X5  X6\n",
              "0  0   3   3   3   4   2   4\n",
              "1  0   3   2   3   5   4   3\n",
              "2  1   5   3   3   3   3   5\n",
              "3  0   5   4   3   3   3   5\n",
              "4  0   5   4   3   3   3   5"
            ],
            "text/html": [
              "\n",
              "  <div id=\"df-e3c4a549-e066-4e6e-aa9e-fc997a2833cf\">\n",
              "    <div class=\"colab-df-container\">\n",
              "      <div>\n",
              "<style scoped>\n",
              "    .dataframe tbody tr th:only-of-type {\n",
              "        vertical-align: middle;\n",
              "    }\n",
              "\n",
              "    .dataframe tbody tr th {\n",
              "        vertical-align: top;\n",
              "    }\n",
              "\n",
              "    .dataframe thead th {\n",
              "        text-align: right;\n",
              "    }\n",
              "</style>\n",
              "<table border=\"1\" class=\"dataframe\">\n",
              "  <thead>\n",
              "    <tr style=\"text-align: right;\">\n",
              "      <th></th>\n",
              "      <th>Y</th>\n",
              "      <th>X1</th>\n",
              "      <th>X2</th>\n",
              "      <th>X3</th>\n",
              "      <th>X4</th>\n",
              "      <th>X5</th>\n",
              "      <th>X6</th>\n",
              "    </tr>\n",
              "  </thead>\n",
              "  <tbody>\n",
              "    <tr>\n",
              "      <th>0</th>\n",
              "      <td>0</td>\n",
              "      <td>3</td>\n",
              "      <td>3</td>\n",
              "      <td>3</td>\n",
              "      <td>4</td>\n",
              "      <td>2</td>\n",
              "      <td>4</td>\n",
              "    </tr>\n",
              "    <tr>\n",
              "      <th>1</th>\n",
              "      <td>0</td>\n",
              "      <td>3</td>\n",
              "      <td>2</td>\n",
              "      <td>3</td>\n",
              "      <td>5</td>\n",
              "      <td>4</td>\n",
              "      <td>3</td>\n",
              "    </tr>\n",
              "    <tr>\n",
              "      <th>2</th>\n",
              "      <td>1</td>\n",
              "      <td>5</td>\n",
              "      <td>3</td>\n",
              "      <td>3</td>\n",
              "      <td>3</td>\n",
              "      <td>3</td>\n",
              "      <td>5</td>\n",
              "    </tr>\n",
              "    <tr>\n",
              "      <th>3</th>\n",
              "      <td>0</td>\n",
              "      <td>5</td>\n",
              "      <td>4</td>\n",
              "      <td>3</td>\n",
              "      <td>3</td>\n",
              "      <td>3</td>\n",
              "      <td>5</td>\n",
              "    </tr>\n",
              "    <tr>\n",
              "      <th>4</th>\n",
              "      <td>0</td>\n",
              "      <td>5</td>\n",
              "      <td>4</td>\n",
              "      <td>3</td>\n",
              "      <td>3</td>\n",
              "      <td>3</td>\n",
              "      <td>5</td>\n",
              "    </tr>\n",
              "  </tbody>\n",
              "</table>\n",
              "</div>\n",
              "      <button class=\"colab-df-convert\" onclick=\"convertToInteractive('df-e3c4a549-e066-4e6e-aa9e-fc997a2833cf')\"\n",
              "              title=\"Convert this dataframe to an interactive table.\"\n",
              "              style=\"display:none;\">\n",
              "        \n",
              "  <svg xmlns=\"http://www.w3.org/2000/svg\" height=\"24px\"viewBox=\"0 0 24 24\"\n",
              "       width=\"24px\">\n",
              "    <path d=\"M0 0h24v24H0V0z\" fill=\"none\"/>\n",
              "    <path d=\"M18.56 5.44l.94 2.06.94-2.06 2.06-.94-2.06-.94-.94-2.06-.94 2.06-2.06.94zm-11 1L8.5 8.5l.94-2.06 2.06-.94-2.06-.94L8.5 2.5l-.94 2.06-2.06.94zm10 10l.94 2.06.94-2.06 2.06-.94-2.06-.94-.94-2.06-.94 2.06-2.06.94z\"/><path d=\"M17.41 7.96l-1.37-1.37c-.4-.4-.92-.59-1.43-.59-.52 0-1.04.2-1.43.59L10.3 9.45l-7.72 7.72c-.78.78-.78 2.05 0 2.83L4 21.41c.39.39.9.59 1.41.59.51 0 1.02-.2 1.41-.59l7.78-7.78 2.81-2.81c.8-.78.8-2.07 0-2.86zM5.41 20L4 18.59l7.72-7.72 1.47 1.35L5.41 20z\"/>\n",
              "  </svg>\n",
              "      </button>\n",
              "      \n",
              "  <style>\n",
              "    .colab-df-container {\n",
              "      display:flex;\n",
              "      flex-wrap:wrap;\n",
              "      gap: 12px;\n",
              "    }\n",
              "\n",
              "    .colab-df-convert {\n",
              "      background-color: #E8F0FE;\n",
              "      border: none;\n",
              "      border-radius: 50%;\n",
              "      cursor: pointer;\n",
              "      display: none;\n",
              "      fill: #1967D2;\n",
              "      height: 32px;\n",
              "      padding: 0 0 0 0;\n",
              "      width: 32px;\n",
              "    }\n",
              "\n",
              "    .colab-df-convert:hover {\n",
              "      background-color: #E2EBFA;\n",
              "      box-shadow: 0px 1px 2px rgba(60, 64, 67, 0.3), 0px 1px 3px 1px rgba(60, 64, 67, 0.15);\n",
              "      fill: #174EA6;\n",
              "    }\n",
              "\n",
              "    [theme=dark] .colab-df-convert {\n",
              "      background-color: #3B4455;\n",
              "      fill: #D2E3FC;\n",
              "    }\n",
              "\n",
              "    [theme=dark] .colab-df-convert:hover {\n",
              "      background-color: #434B5C;\n",
              "      box-shadow: 0px 1px 3px 1px rgba(0, 0, 0, 0.15);\n",
              "      filter: drop-shadow(0px 1px 2px rgba(0, 0, 0, 0.3));\n",
              "      fill: #FFFFFF;\n",
              "    }\n",
              "  </style>\n",
              "\n",
              "      <script>\n",
              "        const buttonEl =\n",
              "          document.querySelector('#df-e3c4a549-e066-4e6e-aa9e-fc997a2833cf button.colab-df-convert');\n",
              "        buttonEl.style.display =\n",
              "          google.colab.kernel.accessAllowed ? 'block' : 'none';\n",
              "\n",
              "        async function convertToInteractive(key) {\n",
              "          const element = document.querySelector('#df-e3c4a549-e066-4e6e-aa9e-fc997a2833cf');\n",
              "          const dataTable =\n",
              "            await google.colab.kernel.invokeFunction('convertToInteractive',\n",
              "                                                     [key], {});\n",
              "          if (!dataTable) return;\n",
              "\n",
              "          const docLinkHtml = 'Like what you see? Visit the ' +\n",
              "            '<a target=\"_blank\" href=https://colab.research.google.com/notebooks/data_table.ipynb>data table notebook</a>'\n",
              "            + ' to learn more about interactive tables.';\n",
              "          element.innerHTML = '';\n",
              "          dataTable['output_type'] = 'display_data';\n",
              "          await google.colab.output.renderOutput(dataTable, element);\n",
              "          const docLink = document.createElement('div');\n",
              "          docLink.innerHTML = docLinkHtml;\n",
              "          element.appendChild(docLink);\n",
              "        }\n",
              "      </script>\n",
              "    </div>\n",
              "  </div>\n",
              "  "
            ]
          },
          "metadata": {},
          "execution_count": 107
        }
      ]
    },
    {
      "cell_type": "code",
      "source": [
        "df.shape"
      ],
      "metadata": {
        "colab": {
          "base_uri": "https://localhost:8080/"
        },
        "id": "VANkHIq-0ll3",
        "outputId": "1bf476d3-1059-4a36-ef7a-d00abc65ee63"
      },
      "execution_count": null,
      "outputs": [
        {
          "output_type": "execute_result",
          "data": {
            "text/plain": [
              "(126, 7)"
            ]
          },
          "metadata": {},
          "execution_count": 108
        }
      ]
    },
    {
      "cell_type": "code",
      "source": [
        "df.info()"
      ],
      "metadata": {
        "colab": {
          "base_uri": "https://localhost:8080/"
        },
        "id": "qgcPv5730lsf",
        "outputId": "c1e3c3b0-72e4-4bae-94c3-1ffa2b5ca4f8"
      },
      "execution_count": null,
      "outputs": [
        {
          "output_type": "stream",
          "name": "stdout",
          "text": [
            "<class 'pandas.core.frame.DataFrame'>\n",
            "RangeIndex: 126 entries, 0 to 125\n",
            "Data columns (total 7 columns):\n",
            " #   Column  Non-Null Count  Dtype\n",
            "---  ------  --------------  -----\n",
            " 0   Y       126 non-null    int64\n",
            " 1   X1      126 non-null    int64\n",
            " 2   X2      126 non-null    int64\n",
            " 3   X3      126 non-null    int64\n",
            " 4   X4      126 non-null    int64\n",
            " 5   X5      126 non-null    int64\n",
            " 6   X6      126 non-null    int64\n",
            "dtypes: int64(7)\n",
            "memory usage: 7.0 KB\n"
          ]
        }
      ]
    },
    {
      "cell_type": "code",
      "source": [
        "df.isna().sum()  # check for missing data"
      ],
      "metadata": {
        "colab": {
          "base_uri": "https://localhost:8080/"
        },
        "id": "5ArAzKV60lvw",
        "outputId": "16912974-2d0c-496c-a402-1b4aabfd519c"
      },
      "execution_count": null,
      "outputs": [
        {
          "output_type": "execute_result",
          "data": {
            "text/plain": [
              "Y     0\n",
              "X1    0\n",
              "X2    0\n",
              "X3    0\n",
              "X4    0\n",
              "X5    0\n",
              "X6    0\n",
              "dtype: int64"
            ]
          },
          "metadata": {},
          "execution_count": 110
        }
      ]
    },
    {
      "cell_type": "code",
      "source": [
        "# Renaming the columns for readibility\n",
        "df.columns = ['Target','Delivered_on_Time', 'Contents_as_expected', \n",
        "              'Found_everything', 'Good_Price', 'Satisfied_with_courier', 'App_ease']"
      ],
      "metadata": {
        "id": "rd1Aj_Hs-ljb"
      },
      "execution_count": null,
      "outputs": []
    },
    {
      "cell_type": "code",
      "source": [
        "df.nunique()"
      ],
      "metadata": {
        "colab": {
          "base_uri": "https://localhost:8080/"
        },
        "id": "LeJy3fCE0l2F",
        "outputId": "38d2ecdd-a874-4dfe-bb1b-99bc82837c04"
      },
      "execution_count": null,
      "outputs": [
        {
          "output_type": "execute_result",
          "data": {
            "text/plain": [
              "Target                    2\n",
              "Delivered_on_Time         4\n",
              "Contents_as_expected      5\n",
              "Found_everything          5\n",
              "Good_Price                5\n",
              "Satisfied_with_courier    5\n",
              "App_ease                  5\n",
              "dtype: int64"
            ]
          },
          "metadata": {},
          "execution_count": 112
        }
      ]
    },
    {
      "cell_type": "code",
      "source": [
        "for col in df.columns:\n",
        "  print(col, \":\", df[col].unique())\n"
      ],
      "metadata": {
        "colab": {
          "base_uri": "https://localhost:8080/"
        },
        "id": "lH1gypfd0l5X",
        "outputId": "ca9f7926-ff80-4b09-89ce-b2f760232980"
      },
      "execution_count": null,
      "outputs": [
        {
          "output_type": "stream",
          "name": "stdout",
          "text": [
            "Target : [0 1]\n",
            "Delivered_on_Time : [3 5 4 1]\n",
            "Contents_as_expected : [3 2 4 5 1]\n",
            "Found_everything : [3 2 4 5 1]\n",
            "Good_Price : [4 5 3 2 1]\n",
            "Satisfied_with_courier : [2 4 3 5 1]\n",
            "App_ease : [4 3 5 2 1]\n"
          ]
        }
      ]
    },
    {
      "cell_type": "markdown",
      "source": [
        "# Exploratory Data Analysis"
      ],
      "metadata": {
        "id": "owjkAFpw9ASl"
      }
    },
    {
      "cell_type": "code",
      "source": [
        "df.Target.hist()"
      ],
      "metadata": {
        "colab": {
          "base_uri": "https://localhost:8080/"
        },
        "id": "DVppPxjHNUzj",
        "outputId": "7aefc33b-2df3-45d7-9374-44469690edee"
      },
      "execution_count": null,
      "outputs": [
        {
          "output_type": "execute_result",
          "data": {
            "text/plain": [
              "<matplotlib.axes._subplots.AxesSubplot at 0x7fb718ecf4f0>"
            ]
          },
          "metadata": {},
          "execution_count": 114
        },
        {
          "output_type": "display_data",
          "data": {
            "text/plain": [
              "<Figure size 432x288 with 1 Axes>"
            ],
            "image/png": "[encoded data removed]"
          },
          "metadata": {
            "needs_background": "light"
          }
        }
      ]
    },
    {
      "cell_type": "code",
      "source": [
        "df[\"Target\"].value_counts()"
      ],
      "metadata": {
        "colab": {
          "base_uri": "https://localhost:8080/"
        },
        "id": "n8YXKYA74WUN",
        "outputId": "798d1da7-4b29-4fbc-a41e-d51cae03c068"
      },
      "execution_count": null,
      "outputs": [
        {
          "output_type": "execute_result",
          "data": {
            "text/plain": [
              "1    69\n",
              "0    57\n",
              "Name: Target, dtype: int64"
            ]
          },
          "metadata": {},
          "execution_count": 115
        }
      ]
    },
    {
      "cell_type": "code",
      "source": [
        "Unhappy = (df['Target']==0).sum()/126 \n",
        "Happy = (df['Target']==1).sum()/126\n",
        "dif = Happy - Unhappy \n",
        "print(Unhappy*100, Happy*100, dif*100) "
      ],
      "metadata": {
        "colab": {
          "base_uri": "https://localhost:8080/"
        },
        "id": "JtQw2WqN2qMH",
        "outputId": "2cbfaf56-31e3-41f1-a490-5ecf3b8680a1"
      },
      "execution_count": null,
      "outputs": [
        {
          "output_type": "stream",
          "name": "stdout",
          "text": [
            "45.23809523809524 54.761904761904766 9.523809523809529\n"
          ]
        }
      ]
    },
    {
      "cell_type": "markdown",
      "source": [
        "There is a 9.52% difference between unhappy and happy customers."
      ],
      "metadata": {
        "id": "RaS2qZA5T7gZ"
      }
    },
    {
      "cell_type": "code",
      "source": [
        "#view the distribution of data \n",
        "df.hist(figsize=(15, 10) )\n",
        "plt.subplots_adjust(hspace=0.5);"
      ],
      "metadata": {
        "colab": {
          "base_uri": "https://localhost:8080/"
        },
        "id": "Ku0IPWjf95IB",
        "outputId": "620a2fbc-b3f6-4a5b-d684-4f094cad048e"
      },
      "execution_count": null,
      "outputs": [
        {
          "output_type": "display_data",
          "data": {
            "text/plain": [
              "<Figure size 1080x720 with 9 Axes>"
            ],
            "image/png": "[encoded data removed]"
          },
          "metadata": {
            "needs_background": "light"
          }
        }
      ]
    },
    {
      "cell_type": "markdown",
      "source": [
        "As expected, the variables could be considered as discrete or ordinal data, ranging from 1 to 5.\n",
        "\n",
        "In general, the highest frequency was between 3 and 5, with the exception of the variable \"the content of the order was expected\" which had a high frequency value between 1 and 3."
      ],
      "metadata": {
        "id": "aqi2elEO_bSI"
      }
    },
    {
      "cell_type": "code",
      "source": [
        "plt.subplots(figsize=(8,5))\n",
        "sns.histplot(df, x=\"Delivered_on_Time\", hue=\"Target\", element=\"step\")"
      ],
      "metadata": {
        "colab": {
          "base_uri": "https://localhost:8080/"
        },
        "id": "gS-FkWnv0l8G",
        "outputId": "4ef642fb-28e0-4ed4-fe55-4f65f238654a"
      },
      "execution_count": null,
      "outputs": [
        {
          "output_type": "execute_result",
          "data": {
            "text/plain": [
              "<matplotlib.axes._subplots.AxesSubplot at 0x7fb71805abe0>"
            ]
          },
          "metadata": {},
          "execution_count": 118
        },
        {
          "output_type": "display_data",
          "data": {
            "text/plain": [
              "<Figure size 576x360 with 1 Axes>"
            ],
            "image/png": "[encoded data removed]"
          },
          "metadata": {
            "needs_background": "light"
          }
        }
      ]
    },
    {
      "cell_type": "code",
      "source": [
        "# count frequency in each group\n",
        "for col in df.columns:\n",
        "  sns.countplot(x=col,data=df, hue=df['Target'])\n",
        "  plt.title(col)\n",
        "  plt.show()"
      ],
      "metadata": {
        "colab": {
          "base_uri": "https://localhost:8080/"
        },
        "id": "pW0gF1vn8zqW",
        "outputId": "7982aad9-8d7e-402a-dead-0b423dbd8102"
      },
      "execution_count": null,
      "outputs": [
        {
          "output_type": "display_data",
          "data": {
            "text/plain": [
              "<Figure size 432x288 with 1 Axes>"
            ],
            "image/png": "[encoded data removed]"
          },
          "metadata": {
            "needs_background": "light"
          }
        },
        {
          "output_type": "display_data",
          "data": {
            "text/plain": [
              "<Figure size 432x288 with 1 Axes>"
            ],
            "image/png": "[encoded data removed]"
          },
          "metadata": {
            "needs_background": "light"
          }
        },
        {
          "output_type": "display_data",
          "data": {
            "text/plain": [
              "<Figure size 432x288 with 1 Axes>"
            ],
            "image/png": "[encoded data removed]"
          },
          "metadata": {
            "needs_background": "light"
          }
        },
        {
          "output_type": "display_data",
          "data": {
            "text/plain": [
              "<Figure size 432x288 with 1 Axes>"
            ],
            "image/png": "[encoded data removed]"
          },
          "metadata": {
            "needs_background": "light"
          }
        },
        {
          "output_type": "display_data",
          "data": {
            "text/plain": [
              "<Figure size 432x288 with 1 Axes>"
            ],
            "image/png": "[encoded data removed]"
          },
          "metadata": {
            "needs_background": "light"
          }
        },
        {
          "output_type": "display_data",
          "data": {
            "text/plain": [
              "<Figure size 432x288 with 1 Axes>"
            ],
            "image/png": "[encoded data removed]"
          },
          "metadata": {
            "needs_background": "light"
          }
        },
        {
          "output_type": "display_data",
          "data": {
            "text/plain": [
              "<Figure size 432x288 with 1 Axes>"
            ],
            "image/png": "[encoded data removed]"
          },
          "metadata": {
            "needs_background": "light"
          }
        }
      ]
    },
    {
      "cell_type": "code",
      "source": [
        "def plot_count_in_each_var(df,col,Target):\n",
        "  data = df.groupby([col,Target]).size()\n",
        "  data = data.reset_index(name = 'count')\n",
        "  data = data.pivot(index = Target, columns = col, values = 'count')\n",
        "  sns.heatmap(data , annot = True,  cmap = 'rocket_r');\n",
        "  plt.xlabel(col, size = 12);\n",
        "  plt.ylabel(Target, size = 12);\n",
        "  plt.title (col, size = 14)\n",
        "  plt.show()\n",
        "\n"
      ],
      "metadata": {
        "id": "suGo2l4X8z15"
      },
      "execution_count": null,
      "outputs": []
    },
    {
      "cell_type": "code",
      "source": [
        "for col in df.columns[1:7]: # exclude the first\n",
        "  plot_count_in_each_var(df, col,'Target')"
      ],
      "metadata": {
        "colab": {
          "base_uri": "https://localhost:8080/"
        },
        "id": "rg_H6LtD8LBU",
        "outputId": "fe14a753-56dd-4447-bc77-40b026367aaa"
      },
      "execution_count": null,
      "outputs": [
        {
          "output_type": "display_data",
          "data": {
            "text/plain": [
              "<Figure size 432x288 with 2 Axes>"
            ],
            "image/png": "[encoded data removed]"
          },
          "metadata": {
            "needs_background": "light"
          }
        },
        {
          "output_type": "display_data",
          "data": {
            "text/plain": [
              "<Figure size 432x288 with 2 Axes>"
            ],
            "image/png": "[encoded data removed]"
          },
          "metadata": {
            "needs_background": "light"
          }
        },
        {
          "output_type": "display_data",
          "data": {
            "text/plain": [
              "<Figure size 432x288 with 2 Axes>"
            ],
            "image/png": "[encoded data removed]"
          },
          "metadata": {
            "needs_background": "light"
          }
        },
        {
          "output_type": "display_data",
          "data": {
            "text/plain": [
              "<Figure size 432x288 with 2 Axes>"
            ],
            "image/png": "[encoded data removed]"
          },
          "metadata": {
            "needs_background": "light"
          }
        },
        {
          "output_type": "display_data",
          "data": {
            "text/plain": [
              "<Figure size 432x288 with 2 Axes>"
            ],
            "image/png": "[encoded data removed]"
          },
          "metadata": {
            "needs_background": "light"
          }
        },
        {
          "output_type": "display_data",
          "data": {
            "text/plain": [
              "<Figure size 432x288 with 2 Axes>"
            ],
            "image/png": "[encoded data removed]"
          },
          "metadata": {
            "needs_background": "light"
          }
        }
      ]
    },
    {
      "cell_type": "markdown",
      "source": [
        "Here we wanted to see the distribution of responses across features and differentiate the type of customer (unhappy and happy customers).\n",
        "We found that \n",
        "\n",
        "1. on-time delivery: happy customers tend to give a high score of 5 compared to unhappy customers.\n",
        "\n",
        "2. content as expected: we found that both happy and unhappy customers give a high score between 2 and 3\n",
        "\n",
        "3. everything was found: both customers give a score of 3.\n",
        "\n",
        "4. good price: both customers give a high score of 4.\n",
        "\n",
        "5.  Satisfied with the courier service. high score: 4 for both customers.\n",
        "\n",
        "6. App_ease. Happy customers score 5 and unhappy customers score between 4 and 5. \n"
      ],
      "metadata": {
        "id": "tNxLwG0UBNCo"
      }
    },
    {
      "cell_type": "code",
      "source": [
        "# visualize outliers\n",
        "\n",
        "plt.figure(figsize=(15, 8))\n",
        "data_melted = pd.melt(df[['Delivered_on_Time', 'Contents_as_expected', \n",
        "              'Found_everything', 'Good_Price', 'Satisfied_with_courier', 'App_ease']])\n",
        "sns.boxplot(x='variable', y='value', data=data_melted)"
      ],
      "metadata": {
        "colab": {
          "base_uri": "https://localhost:8080/"
        },
        "id": "l4pQGmVrNIhz",
        "outputId": "844d224f-a3d7-4b02-e581-248d7cc75f2f"
      },
      "execution_count": null,
      "outputs": [
        {
          "output_type": "execute_result",
          "data": {
            "text/plain": [
              "<matplotlib.axes._subplots.AxesSubplot at 0x7fb718ecc6d0>"
            ]
          },
          "metadata": {},
          "execution_count": 122
        },
        {
          "output_type": "display_data",
          "data": {
            "text/plain": [
              "<Figure size 1080x576 with 1 Axes>"
            ],
            "image/png": "[encoded data removed]"
          },
          "metadata": {
            "needs_background": "light"
          }
        }
      ]
    },
    {
      "cell_type": "markdown",
      "source": [
        "According to this boxplot, there are no aberrations. All features are between 1 and 5. There are no extreme values. \n",
        "\n",
        "however the boxplot reveals that delevered_on_time and App_ease received the highest score of all clients.\n",
        "\n",
        "We found that we needed to pay attention to Content_as_expected features due to their low score. "
      ],
      "metadata": {
        "id": "j325EAsLB1dj"
      }
    },
    {
      "cell_type": "code",
      "source": [
        "# correlation\n",
        "plt.figure(figsize=(10,8))\n",
        "sns.heatmap(df.corr(), annot=True,cmap=\"coolwarm\")\n",
        "plt.title('Correlation between the variables')\n",
        "plt.xticks(rotation=45)"
      ],
      "metadata": {
        "colab": {
          "base_uri": "https://localhost:8080/"
        },
        "id": "nUfojErXNIov",
        "outputId": "3c941707-5125-4bc8-8f82-95346a5650ad"
      },
      "execution_count": null,
      "outputs": [
        {
          "output_type": "execute_result",
          "data": {
            "text/plain": [
              "(array([0.5, 1.5, 2.5, 3.5, 4.5, 5.5, 6.5]),\n",
              " <a list of 7 Text major ticklabel objects>)"
            ]
          },
          "metadata": {},
          "execution_count": 123
        },
        {
          "output_type": "display_data",
          "data": {
            "text/plain": [
              "<Figure size 720x576 with 2 Axes>"
            ],
            "image/png": "[encoded data removed]"
          },
          "metadata": {
            "needs_background": "light"
          }
        }
      ]
    },
    {
      "cell_type": "markdown",
      "source": [
        "From the headmap, there is no strong correlation between features and target.\n",
        "However, we found that there is a weak correlation between satisfied_with_courier and delivered_ont_time, App_ease and delivered_ont_time of 0.43 and 0.41\n"
      ],
      "metadata": {
        "id": "tqWm3FCOB6rM"
      }
    },
    {
      "cell_type": "markdown",
      "source": [],
      "metadata": {
        "id": "7ql0g8-qD1W6"
      }
    },
    {
      "cell_type": "markdown",
      "source": [
        "# Statistical analysis : Chi_square or Pearson’s Chi-Square statistical hypothesis\n",
        "## χ2 test of Independence\n",
        "The Chi-square test is a non-parametric statistical test that enables us to understand the relationship between the categorical variables of the dataset. That is, it defines the correlation amongst the grouping categorical data.\n",
        "\n",
        "Using the Chi-square test, we can estimate the level of correlation i.e. association between the categorical variables of the dataset. This helps us analyze the dependence of one category of the variable on the other independent category of the variable.\n",
        "\n",
        "\n",
        "It is used to decide whether there is a relationship exists between two variables of a population.\n",
        "\n",
        "H₀: The two categorical variables have no relationship\n",
        "\n",
        "H₁: There is a relationship between two categorical variables\n"
      ],
      "metadata": {
        "id": "f9J9TaQZuCDR"
      }
    },
    {
      "cell_type": "markdown",
      "source": [
        "\n",
        "we apply the Chi_square or Pearson’s Chi-Square statistical hypothesis is a test for independence between categorical variables.\n",
        "\n",
        "The Contingency Table : A Contingency table (also called crosstab) is used in statistics to summarize the relationship between several categorical variables\n",
        "\n",
        "#### Define the null hypothesis and alternate hypothesis.\n",
        "\n",
        "H₀ (Null Hypothesis) — the target features are independent to ohter variables \n",
        "\n",
        "H₁ (Alternate Hypothesis) — the target features are dependent to ohter variables \n",
        "\n"
      ],
      "metadata": {
        "id": "-t56f0JgK3ed"
      }
    },
    {
      "cell_type": "code",
      "source": [
        "df.columns"
      ],
      "metadata": {
        "colab": {
          "base_uri": "https://localhost:8080/"
        },
        "id": "zg4tP6pd3Z6L",
        "outputId": "1aa5a45d-e79c-4be8-dc7d-99d7bfd15bdc"
      },
      "execution_count": null,
      "outputs": [
        {
          "output_type": "execute_result",
          "data": {
            "text/plain": [
              "Index(['Target', 'Delivered_on_Time', 'Contents_as_expected',\n",
              "       'Found_everything', 'Good_Price', 'Satisfied_with_courier', 'App_ease'],\n",
              "      dtype='object')"
            ]
          },
          "metadata": {},
          "execution_count": 124
        }
      ]
    },
    {
      "cell_type": "code",
      "source": [
        "df_crosstab = pd.crosstab(df['Target'],\n",
        "                            df['Delivered_on_Time'],\n",
        "                           margins=True, margins_name=\"Total\")\n",
        "df_crosstab"
      ],
      "metadata": {
        "colab": {
          "base_uri": "https://localhost:8080/"
        },
        "id": "vYmwTbWn2CT-",
        "outputId": "3a399dd4-82a6-4d27-caa4-c7d55cc2d58b"
      },
      "execution_count": null,
      "outputs": [
        {
          "output_type": "execute_result",
          "data": {
            "text/plain": [
              "Delivered_on_Time  1   3   4   5  Total\n",
              "Target                                 \n",
              "0                  1  12  24  20     57\n",
              "1                  0   8  16  45     69\n",
              "Total              1  20  40  65    126"
            ],
            "text/html": [
              "\n",
              "  <div id=\"df-a284b6c5-14b5-4339-ab43-f835de153c6e\">\n",
              "    <div class=\"colab-df-container\">\n",
              "      <div>\n",
              "<style scoped>\n",
              "    .dataframe tbody tr th:only-of-type {\n",
              "        vertical-align: middle;\n",
              "    }\n",
              "\n",
              "    .dataframe tbody tr th {\n",
              "        vertical-align: top;\n",
              "    }\n",
              "\n",
              "    .dataframe thead th {\n",
              "        text-align: right;\n",
              "    }\n",
              "</style>\n",
              "<table border=\"1\" class=\"dataframe\">\n",
              "  <thead>\n",
              "    <tr style=\"text-align: right;\">\n",
              "      <th>Delivered_on_Time</th>\n",
              "      <th>1</th>\n",
              "      <th>3</th>\n",
              "      <th>4</th>\n",
              "      <th>5</th>\n",
              "      <th>Total</th>\n",
              "    </tr>\n",
              "    <tr>\n",
              "      <th>Target</th>\n",
              "      <th></th>\n",
              "      <th></th>\n",
              "      <th></th>\n",
              "      <th></th>\n",
              "      <th></th>\n",
              "    </tr>\n",
              "  </thead>\n",
              "  <tbody>\n",
              "    <tr>\n",
              "      <th>0</th>\n",
              "      <td>1</td>\n",
              "      <td>12</td>\n",
              "      <td>24</td>\n",
              "      <td>20</td>\n",
              "      <td>57</td>\n",
              "    </tr>\n",
              "    <tr>\n",
              "      <th>1</th>\n",
              "      <td>0</td>\n",
              "      <td>8</td>\n",
              "      <td>16</td>\n",
              "      <td>45</td>\n",
              "      <td>69</td>\n",
              "    </tr>\n",
              "    <tr>\n",
              "      <th>Total</th>\n",
              "      <td>1</td>\n",
              "      <td>20</td>\n",
              "      <td>40</td>\n",
              "      <td>65</td>\n",
              "      <td>126</td>\n",
              "    </tr>\n",
              "  </tbody>\n",
              "</table>\n",
              "</div>\n",
              "      <button class=\"colab-df-convert\" onclick=\"convertToInteractive('df-a284b6c5-14b5-4339-ab43-f835de153c6e')\"\n",
              "              title=\"Convert this dataframe to an interactive table.\"\n",
              "              style=\"display:none;\">\n",
              "        \n",
              "  <svg xmlns=\"http://www.w3.org/2000/svg\" height=\"24px\"viewBox=\"0 0 24 24\"\n",
              "       width=\"24px\">\n",
              "    <path d=\"M0 0h24v24H0V0z\" fill=\"none\"/>\n",
              "    <path d=\"M18.56 5.44l.94 2.06.94-2.06 2.06-.94-2.06-.94-.94-2.06-.94 2.06-2.06.94zm-11 1L8.5 8.5l.94-2.06 2.06-.94-2.06-.94L8.5 2.5l-.94 2.06-2.06.94zm10 10l.94 2.06.94-2.06 2.06-.94-2.06-.94-.94-2.06-.94 2.06-2.06.94z\"/><path d=\"M17.41 7.96l-1.37-1.37c-.4-.4-.92-.59-1.43-.59-.52 0-1.04.2-1.43.59L10.3 9.45l-7.72 7.72c-.78.78-.78 2.05 0 2.83L4 21.41c.39.39.9.59 1.41.59.51 0 1.02-.2 1.41-.59l7.78-7.78 2.81-2.81c.8-.78.8-2.07 0-2.86zM5.41 20L4 18.59l7.72-7.72 1.47 1.35L5.41 20z\"/>\n",
              "  </svg>\n",
              "      </button>\n",
              "      \n",
              "  <style>\n",
              "    .colab-df-container {\n",
              "      display:flex;\n",
              "      flex-wrap:wrap;\n",
              "      gap: 12px;\n",
              "    }\n",
              "\n",
              "    .colab-df-convert {\n",
              "      background-color: #E8F0FE;\n",
              "      border: none;\n",
              "      border-radius: 50%;\n",
              "      cursor: pointer;\n",
              "      display: none;\n",
              "      fill: #1967D2;\n",
              "      height: 32px;\n",
              "      padding: 0 0 0 0;\n",
              "      width: 32px;\n",
              "    }\n",
              "\n",
              "    .colab-df-convert:hover {\n",
              "      background-color: #E2EBFA;\n",
              "      box-shadow: 0px 1px 2px rgba(60, 64, 67, 0.3), 0px 1px 3px 1px rgba(60, 64, 67, 0.15);\n",
              "      fill: #174EA6;\n",
              "    }\n",
              "\n",
              "    [theme=dark] .colab-df-convert {\n",
              "      background-color: #3B4455;\n",
              "      fill: #D2E3FC;\n",
              "    }\n",
              "\n",
              "    [theme=dark] .colab-df-convert:hover {\n",
              "      background-color: #434B5C;\n",
              "      box-shadow: 0px 1px 3px 1px rgba(0, 0, 0, 0.15);\n",
              "      filter: drop-shadow(0px 1px 2px rgba(0, 0, 0, 0.3));\n",
              "      fill: #FFFFFF;\n",
              "    }\n",
              "  </style>\n",
              "\n",
              "      <script>\n",
              "        const buttonEl =\n",
              "          document.querySelector('#df-a284b6c5-14b5-4339-ab43-f835de153c6e button.colab-df-convert');\n",
              "        buttonEl.style.display =\n",
              "          google.colab.kernel.accessAllowed ? 'block' : 'none';\n",
              "\n",
              "        async function convertToInteractive(key) {\n",
              "          const element = document.querySelector('#df-a284b6c5-14b5-4339-ab43-f835de153c6e');\n",
              "          const dataTable =\n",
              "            await google.colab.kernel.invokeFunction('convertToInteractive',\n",
              "                                                     [key], {});\n",
              "          if (!dataTable) return;\n",
              "\n",
              "          const docLinkHtml = 'Like what you see? Visit the ' +\n",
              "            '<a target=\"_blank\" href=https://colab.research.google.com/notebooks/data_table.ipynb>data table notebook</a>'\n",
              "            + ' to learn more about interactive tables.';\n",
              "          element.innerHTML = '';\n",
              "          dataTable['output_type'] = 'display_data';\n",
              "          await google.colab.output.renderOutput(dataTable, element);\n",
              "          const docLink = document.createElement('div');\n",
              "          docLink.innerHTML = docLinkHtml;\n",
              "          element.appendChild(docLink);\n",
              "        }\n",
              "      </script>\n",
              "    </div>\n",
              "  </div>\n",
              "  "
            ]
          },
          "metadata": {},
          "execution_count": 125
        }
      ]
    },
    {
      "cell_type": "code",
      "source": [
        "import scipy.stats as stats\n",
        "# significance level\n",
        "alpha = 0.05\n",
        "\n",
        "# Calcualtion of Chisquare\n",
        "chi_square = 0\n",
        "rows = df['Target'].unique()\n",
        "columns = df['Delivered_on_Time'].unique()\n",
        "for i in columns:\n",
        "    for j in rows:\n",
        "        O = df_crosstab[i][j]\n",
        "        E = df_crosstab[i]['Total'] * df_crosstab['Total'][j] / df_crosstab['Total']['Total']\n",
        "        chi_square += (O-E)**2/E\n",
        "\n",
        "# The p-value approach\n",
        "print(\"Approach 1: The p-value approach to hypothesis testing in the decision rule\")\n",
        "p_value = 1 - stats.chi2.cdf(chi_square, (len(rows)-1)*(len(columns)-1))\n",
        "conclusion = \"Failed to reject the null hypothesis.\"\n",
        "if p_value <= alpha:\n",
        "    conclusion = \"Null Hypothesis is rejected.\"\n",
        "        \n",
        "print(\"chisquare-score is:\", chi_square, \" and p value is:\", p_value)\n",
        "print(conclusion)\n",
        "    \n",
        "# The critical value approach\n",
        "print(\"\\n--------------------------------------------------------------------------------------\")\n",
        "print(\"Approach 2: The critical value approach to hypothesis testing in the decision rule\")\n",
        "critical_value = stats.chi2.ppf(1-alpha, (len(rows)-1)*(len(columns)-1))\n",
        "conclusion = \"Failed to reject the null hypothesis.\"\n",
        "if chi_square > critical_value:\n",
        "    conclusion = \"Null Hypothesis is rejected.\"\n",
        "        \n",
        "print(\"chisquare-score is:\", chi_square, \" and critical value is:\", critical_value)\n",
        "print(conclusion)"
      ],
      "metadata": {
        "colab": {
          "base_uri": "https://localhost:8080/"
        },
        "id": "5xZO_WnR2CZp",
        "outputId": "f11d46fe-51e9-4e60-8d29-13aa3e3537f7"
      },
      "execution_count": null,
      "outputs": [
        {
          "output_type": "stream",
          "name": "stdout",
          "text": [
            "Approach 1: The p-value approach to hypothesis testing in the decision rule\n",
            "chisquare-score is: 11.981200492870975  and p value is: 0.007447837905122601\n",
            "Null Hypothesis is rejected.\n",
            "\n",
            "--------------------------------------------------------------------------------------\n",
            "Approach 2: The critical value approach to hypothesis testing in the decision rule\n",
            "chisquare-score is: 11.981200492870975  and critical value is: 7.814727903251179\n",
            "Null Hypothesis is rejected.\n"
          ]
        }
      ]
    },
    {
      "cell_type": "code",
      "source": [
        "import pandas as pd\n",
        "import scipy.stats as stats\n",
        "\n",
        "def chi_square(df, alpha, col1, col2):\n",
        "  # significance level\n",
        "  alpha = alpha\n",
        "  # crosstab\n",
        "  df_crosstab = pd.crosstab(df[col1],\n",
        "                            df[col2],\n",
        "                           margins=True, margins_name=\"Total\")\n",
        "  # Calcualtion of Chisquare\n",
        "  chi_square = 0\n",
        "  rows = df[col1].unique()\n",
        "  columns = df[col2].unique()\n",
        "  for i in columns:\n",
        "      for j in rows:\n",
        "          O = df_crosstab[i][j]\n",
        "          E = df_crosstab[i]['Total'] * df_crosstab['Total'][j] / df_crosstab['Total']['Total']\n",
        "          chi_square += (O-E)**2/E\n",
        "\n",
        "  # The p-value approach\n",
        "  print(\"Approach 1: The p-value approach to hypothesis testing in the decision rule\")\n",
        "  p_value = 1 - stats.chi2.cdf(chi_square, (len(rows)-1)*(len(columns)-1))\n",
        "  conclusion = \"Failed to reject the null hypothesis.\"\n",
        "  if p_value <= alpha:\n",
        "      conclusion = \"Null Hypothesis is rejected.\"\n",
        "          \n",
        "  print(\"chisquare-score is:\", chi_square, \" and p value is:\", p_value)\n",
        "  print(conclusion)\n",
        "      \n",
        "  # The critical value approach\n",
        "  print(\"\\n--------------------------------------------------------------------------------------\")\n",
        "  print(\"Approach 2: The critical value approach to hypothesis testing in the decision rule\")\n",
        "  #Find the critical value for 95% confidence\n",
        "  critical_value = stats.chi2.ppf(1-alpha, (len(rows)-1)*(len(columns)-1))\n",
        "  conclusion = \"Failed to reject the null hypothesis.\"\n",
        "  if chi_square > critical_value:\n",
        "      conclusion = \"Null Hypothesis is rejected.\"\n",
        "          \n",
        "  return print(\"chisquare-score is:\", chi_square, \" and critical value is:\", critical_value, conclusion)"
      ],
      "metadata": {
        "id": "UT7p_bZn4wlR"
      },
      "execution_count": null,
      "outputs": []
    },
    {
      "cell_type": "code",
      "source": [
        "df.columns"
      ],
      "metadata": {
        "colab": {
          "base_uri": "https://localhost:8080/"
        },
        "id": "AD4zPa2-4wqB",
        "outputId": "4c87a529-f5eb-4688-b6d1-65b5e6990852"
      },
      "execution_count": null,
      "outputs": [
        {
          "output_type": "execute_result",
          "data": {
            "text/plain": [
              "Index(['Target', 'Delivered_on_Time', 'Contents_as_expected',\n",
              "       'Found_everything', 'Good_Price', 'Satisfied_with_courier', 'App_ease'],\n",
              "      dtype='object')"
            ]
          },
          "metadata": {},
          "execution_count": 128
        }
      ]
    },
    {
      "cell_type": "code",
      "source": [
        "chi_square(df, 0.05, 'Target', 'Delivered_on_Time')"
      ],
      "metadata": {
        "colab": {
          "base_uri": "https://localhost:8080/"
        },
        "id": "PQnTEMuW4wtw",
        "outputId": "62b1d7da-188b-4d29-fbc1-c3f594553a7d"
      },
      "execution_count": null,
      "outputs": [
        {
          "output_type": "stream",
          "name": "stdout",
          "text": [
            "Approach 1: The p-value approach to hypothesis testing in the decision rule\n",
            "chisquare-score is: 11.981200492870975  and p value is: 0.007447837905122601\n",
            "Null Hypothesis is rejected.\n",
            "\n",
            "--------------------------------------------------------------------------------------\n",
            "Approach 2: The critical value approach to hypothesis testing in the decision rule\n",
            "chisquare-score is: 11.981200492870975  and critical value is: 7.814727903251179 Null Hypothesis is rejected.\n"
          ]
        }
      ]
    },
    {
      "cell_type": "code",
      "source": [
        "chi_square(df, 0.05, 'Target', 'Contents_as_expected')"
      ],
      "metadata": {
        "colab": {
          "base_uri": "https://localhost:8080/"
        },
        "id": "gxOCY78W4w1L",
        "outputId": "b7602ab1-3697-42e2-a06f-b7b6cd691e90"
      },
      "execution_count": null,
      "outputs": [
        {
          "output_type": "stream",
          "name": "stdout",
          "text": [
            "Approach 1: The p-value approach to hypothesis testing in the decision rule\n",
            "chisquare-score is: 2.3751065643648768  and p value is: 0.6671305095864376\n",
            "Failed to reject the null hypothesis.\n",
            "\n",
            "--------------------------------------------------------------------------------------\n",
            "Approach 2: The critical value approach to hypothesis testing in the decision rule\n",
            "chisquare-score is: 2.3751065643648768  and critical value is: 9.487729036781154 Failed to reject the null hypothesis.\n"
          ]
        }
      ]
    },
    {
      "cell_type": "code",
      "source": [
        "chi_square(df, 0.05, 'Target', 'Found_everything')"
      ],
      "metadata": {
        "colab": {
          "base_uri": "https://localhost:8080/"
        },
        "id": "lBANs4pt4w5O",
        "outputId": "1774d58a-3a09-4b3d-cad1-26c97b1ff113"
      },
      "execution_count": null,
      "outputs": [
        {
          "output_type": "stream",
          "name": "stdout",
          "text": [
            "Approach 1: The p-value approach to hypothesis testing in the decision rule\n",
            "chisquare-score is: 4.340258691369205  and p value is: 0.3619109993358314\n",
            "Failed to reject the null hypothesis.\n",
            "\n",
            "--------------------------------------------------------------------------------------\n",
            "Approach 2: The critical value approach to hypothesis testing in the decision rule\n",
            "chisquare-score is: 4.340258691369205  and critical value is: 9.487729036781154 Failed to reject the null hypothesis.\n"
          ]
        }
      ]
    },
    {
      "cell_type": "code",
      "source": [
        "chi_square(df, 0.05, 'Target', 'Good_Price')"
      ],
      "metadata": {
        "colab": {
          "base_uri": "https://localhost:8080/"
        },
        "id": "WCvE-mIu4w9W",
        "outputId": "d3589ab5-c273-40b8-c72f-a83d1bf8eaad"
      },
      "execution_count": null,
      "outputs": [
        {
          "output_type": "stream",
          "name": "stdout",
          "text": [
            "Approach 1: The p-value approach to hypothesis testing in the decision rule\n",
            "chisquare-score is: 4.648222148039018  and p value is: 0.32533209688115616\n",
            "Failed to reject the null hypothesis.\n",
            "\n",
            "--------------------------------------------------------------------------------------\n",
            "Approach 2: The critical value approach to hypothesis testing in the decision rule\n",
            "chisquare-score is: 4.648222148039018  and critical value is: 9.487729036781154 Failed to reject the null hypothesis.\n"
          ]
        }
      ]
    },
    {
      "cell_type": "code",
      "source": [
        "chi_square(df, 0.05, 'Target', 'Satisfied_with_courier')"
      ],
      "metadata": {
        "colab": {
          "base_uri": "https://localhost:8080/"
        },
        "id": "ki6zQeLQ4xAk",
        "outputId": "14d94ad3-da6c-4df8-a576-ff1b473575cd"
      },
      "execution_count": null,
      "outputs": [
        {
          "output_type": "stream",
          "name": "stdout",
          "text": [
            "Approach 1: The p-value approach to hypothesis testing in the decision rule\n",
            "chisquare-score is: 6.8080391498956505  and p value is: 0.14638693674994785\n",
            "Failed to reject the null hypothesis.\n",
            "\n",
            "--------------------------------------------------------------------------------------\n",
            "Approach 2: The critical value approach to hypothesis testing in the decision rule\n",
            "chisquare-score is: 6.8080391498956505  and critical value is: 9.487729036781154 Failed to reject the null hypothesis.\n"
          ]
        }
      ]
    },
    {
      "cell_type": "code",
      "source": [
        "chi_square(df, 0.05, 'Target', 'App_ease')"
      ],
      "metadata": {
        "colab": {
          "base_uri": "https://localhost:8080/"
        },
        "id": "NzS0er8u4xE9",
        "outputId": "44378d6a-5e95-45fd-8901-5cdc64ba6e9c"
      },
      "execution_count": null,
      "outputs": [
        {
          "output_type": "stream",
          "name": "stdout",
          "text": [
            "Approach 1: The p-value approach to hypothesis testing in the decision rule\n",
            "chisquare-score is: 8.138426254545267  and p value is: 0.08663706753285116\n",
            "Failed to reject the null hypothesis.\n",
            "\n",
            "--------------------------------------------------------------------------------------\n",
            "Approach 2: The critical value approach to hypothesis testing in the decision rule\n",
            "chisquare-score is: 8.138426254545267  and critical value is: 9.487729036781154 Failed to reject the null hypothesis.\n"
          ]
        }
      ]
    },
    {
      "cell_type": "markdown",
      "source": [
        "#### Conclusion of the chi_squared test \n",
        "\n",
        "delivered_on_time: Ho rejected\n",
        "\n",
        "Contents_as_expected: Ho accepted\n",
        "\n",
        "Found_everything': Ho accepted\n",
        "\n",
        "Good_Price: Ho accepted \n",
        "\n",
        "Satisfied_with_courier: Ho accepted \n",
        "\n",
        "App_ease : Ho accepted \n",
        "\n",
        "The null hypothesis was accepted in all features except one (delivered_on_time) where the null hypothesis was rejected. \n",
        "\n",
        "Customer dissatisfaction/satisfaction is independent of all variables except the delivery_on_time variable. \n"
      ],
      "metadata": {
        "id": "Rym9u6z0VgQE"
      }
    },
    {
      "cell_type": "markdown",
      "source": [
        "#### 2nd Method"
      ],
      "metadata": {
        "id": "88pCdZ_5S-jc"
      }
    },
    {
      "cell_type": "code",
      "source": [
        "from scipy.stats import chi2_contingency "
      ],
      "metadata": {
        "id": "hKoOT55DRtfu"
      },
      "execution_count": null,
      "outputs": []
    },
    {
      "cell_type": "code",
      "source": [
        "categorical_col = df.columns[1:]\n",
        "print(categorical_col)"
      ],
      "metadata": {
        "id": "eKezM1jAuA0i",
        "colab": {
          "base_uri": "https://localhost:8080/"
        },
        "outputId": "a2dae794-fe05-4fbe-ab81-cd8ec50878be"
      },
      "execution_count": null,
      "outputs": [
        {
          "output_type": "stream",
          "name": "stdout",
          "text": [
            "Index(['Delivered_on_Time', 'Contents_as_expected', 'Found_everything',\n",
            "       'Good_Price', 'Satisfied_with_courier', 'App_ease'],\n",
            "      dtype='object')\n"
          ]
        }
      ]
    },
    {
      "cell_type": "code",
      "source": [
        "chisqt = pd.crosstab(df.Target, df.Good_Price, margins=True)\n",
        "print(chisqt)"
      ],
      "metadata": {
        "id": "CMGayeQ3uA4l",
        "colab": {
          "base_uri": "https://localhost:8080/"
        },
        "outputId": "569cd7e4-eca2-4f25-9826-f63a4c7a36de"
      },
      "execution_count": null,
      "outputs": [
        {
          "output_type": "stream",
          "name": "stdout",
          "text": [
            "Good_Price  1  2   3   4   5  All\n",
            "Target                           \n",
            "0           0  4  20  23  10   57\n",
            "1           2  1  21  30  15   69\n",
            "All         2  5  41  53  25  126\n"
          ]
        }
      ]
    },
    {
      "cell_type": "code",
      "source": [
        "value = np.array([chisqt.iloc[0][0:5].values,\n",
        "                  chisqt.iloc[1][0:5].values])\n",
        "print(chi2_contingency(value)[0:3])"
      ],
      "metadata": {
        "id": "tLXYPjCWuA79",
        "colab": {
          "base_uri": "https://localhost:8080/"
        },
        "outputId": "1644b608-6940-4a52-da8e-002f918857fe"
      },
      "execution_count": null,
      "outputs": [
        {
          "output_type": "stream",
          "name": "stdout",
          "text": [
            "(4.648222148039019, 0.325332096881156, 4)\n"
          ]
        }
      ]
    },
    {
      "cell_type": "code",
      "source": [
        "stat, p, dof = (chi2_contingency(value)[0:3])\n",
        " \n",
        "print(stat, p, dof)"
      ],
      "metadata": {
        "id": "s1yYDo37uBAl",
        "colab": {
          "base_uri": "https://localhost:8080/"
        },
        "outputId": "ee7a8a59-4957-4c51-c916-898a07aaf823"
      },
      "execution_count": null,
      "outputs": [
        {
          "output_type": "stream",
          "name": "stdout",
          "text": [
            "4.648222148039019 0.325332096881156 4\n"
          ]
        }
      ]
    },
    {
      "cell_type": "code",
      "source": [
        "significance_level = 0.05\n",
        "print(\"p value: \" + str(p)) \n",
        "\n",
        "if p <= significance_level: \n",
        "    print('Reject NULL HYPOTHESIS') \n",
        "else: \n",
        "    print('ACCEPT NULL HYPOTHESIS') "
      ],
      "metadata": {
        "id": "S5qYUeoruBDR",
        "colab": {
          "base_uri": "https://localhost:8080/"
        },
        "outputId": "858939ca-dcc1-40d6-9864-e9589180aad8"
      },
      "execution_count": null,
      "outputs": [
        {
          "output_type": "stream",
          "name": "stdout",
          "text": [
            "p value: 0.325332096881156\n",
            "ACCEPT NULL HYPOTHESIS\n"
          ]
        }
      ]
    },
    {
      "cell_type": "markdown",
      "source": [
        "# Features Engineering \n",
        "\n",
        "Feature engineering allows you to create new features from existing ones. Here we have created 3 features: \n",
        "\n",
        "- get the mean of all scores\n",
        "\n",
        "- get the sum of all scores \n",
        "\n",
        "- get the percentage of the overall scores"
      ],
      "metadata": {
        "id": "s3Lgqm1g_6d4"
      }
    },
    {
      "cell_type": "code",
      "source": [
        "df.nunique() , df.columns"
      ],
      "metadata": {
        "colab": {
          "base_uri": "https://localhost:8080/"
        },
        "id": "FK7t7E6wuBIA",
        "outputId": "bbd98cfa-759a-4556-ce83-38d4cc11c86d"
      },
      "execution_count": null,
      "outputs": [
        {
          "output_type": "execute_result",
          "data": {
            "text/plain": [
              "(Target                    2\n",
              " Delivered_on_Time         4\n",
              " Contents_as_expected      5\n",
              " Found_everything          5\n",
              " Good_Price                5\n",
              " Satisfied_with_courier    5\n",
              " App_ease                  5\n",
              " dtype: int64, Index(['Target', 'Delivered_on_Time', 'Contents_as_expected',\n",
              "        'Found_everything', 'Good_Price', 'Satisfied_with_courier', 'App_ease'],\n",
              "       dtype='object'))"
            ]
          },
          "metadata": {},
          "execution_count": 141
        }
      ]
    },
    {
      "cell_type": "code",
      "source": [
        "total_exp_points = 30 \n",
        "numbers_indp_var = 6"
      ],
      "metadata": {
        "id": "WJlPIzapA0s_"
      },
      "execution_count": null,
      "outputs": []
    },
    {
      "cell_type": "code",
      "source": [
        "df['percent_score'] = df[['Delivered_on_Time', 'Contents_as_expected','Found_everything', 'Good_Price', 'Satisfied_with_courier', 'App_ease']].sum(axis=1)/30*100\n",
        "df['percent_score'].head(5)"
      ],
      "metadata": {
        "colab": {
          "base_uri": "https://localhost:8080/"
        },
        "id": "Ape3QtAtG1lY",
        "outputId": "2a8c0efe-335c-463e-a9c0-03444e6f2fa6"
      },
      "execution_count": null,
      "outputs": [
        {
          "output_type": "execute_result",
          "data": {
            "text/plain": [
              "0    63.333333\n",
              "1    66.666667\n",
              "2    73.333333\n",
              "3    76.666667\n",
              "4    76.666667\n",
              "Name: percent_score, dtype: float64"
            ]
          },
          "metadata": {},
          "execution_count": 143
        }
      ]
    },
    {
      "cell_type": "code",
      "source": [
        "df['mean_score'] = df[['Delivered_on_Time', 'Contents_as_expected','Found_everything', 'Good_Price', 'Satisfied_with_courier', 'App_ease']].sum(axis=1)/6\n",
        "df['mean_score'].head(5)"
      ],
      "metadata": {
        "colab": {
          "base_uri": "https://localhost:8080/"
        },
        "id": "s8hGSOZJBXUW",
        "outputId": "12ab9a6d-eb13-4d3c-f670-f1adc7871429"
      },
      "execution_count": null,
      "outputs": [
        {
          "output_type": "execute_result",
          "data": {
            "text/plain": [
              "0    3.166667\n",
              "1    3.333333\n",
              "2    3.666667\n",
              "3    3.833333\n",
              "4    3.833333\n",
              "Name: mean_score, dtype: float64"
            ]
          },
          "metadata": {},
          "execution_count": 144
        }
      ]
    },
    {
      "cell_type": "code",
      "source": [
        "df['total_score']= df[['Delivered_on_Time', 'Contents_as_expected','Found_everything', 'Good_Price', 'Satisfied_with_courier', 'App_ease']].sum(axis=1)\n",
        "df['total_score'].head(5)"
      ],
      "metadata": {
        "colab": {
          "base_uri": "https://localhost:8080/"
        },
        "id": "HERoiAwiFzS2",
        "outputId": "2ded1834-2dbd-4e77-9066-fb9d599c7b0b"
      },
      "execution_count": null,
      "outputs": [
        {
          "output_type": "execute_result",
          "data": {
            "text/plain": [
              "0    19\n",
              "1    20\n",
              "2    22\n",
              "3    23\n",
              "4    23\n",
              "Name: total_score, dtype: int64"
            ]
          },
          "metadata": {},
          "execution_count": 145
        }
      ]
    },
    {
      "cell_type": "code",
      "source": [
        "#view the distribution of data \n",
        "df.hist(figsize=(15, 10) )\n",
        "plt.subplots_adjust(hspace=0.5);"
      ],
      "metadata": {
        "id": "8l1t2xKnUsgv",
        "colab": {
          "base_uri": "https://localhost:8080/",
          "height": 607
        },
        "outputId": "73df3666-4159-4204-8bec-bc0860e78d0d"
      },
      "execution_count": null,
      "outputs": [
        {
          "output_type": "display_data",
          "data": {
            "text/plain": [
              "<Figure size 1080x720 with 12 Axes>"
            ],
            "image/png": "[encoded data removed]"
          },
          "metadata": {
            "needs_background": "light"
          }
        }
      ]
    },
    {
      "cell_type": "markdown",
      "source": [
        "# Imbalanced Classification in Python: SMOTE\n",
        "\n",
        "\n",
        "SMOTE stands for Synthetic Minority Oversampling Technique.\n",
        "SMOTE is an improved method of dealing with imbalanced data in classification problems.\n",
        "SMOTE is an intelligent alternative to oversampling: rather than creating duplicates of the minority class, it creates synthetic data points that are relatively similar to the original ones."
      ],
      "metadata": {
        "id": "IqrVdSGw5LiV"
      }
    },
    {
      "cell_type": "code",
      "source": [
        "from imblearn.over_sampling import SMOTE\n",
        "from collections import Counter"
      ],
      "metadata": {
        "id": "2ejX2iEd4_bU"
      },
      "execution_count": null,
      "outputs": []
    },
    {
      "cell_type": "code",
      "source": [
        "df['Target'].value_counts()"
      ],
      "metadata": {
        "colab": {
          "base_uri": "https://localhost:8080/"
        },
        "id": "dDgORJTe5acV",
        "outputId": "fbfc2550-c947-4379-b612-1d429d801dd7"
      },
      "execution_count": null,
      "outputs": [
        {
          "output_type": "execute_result",
          "data": {
            "text/plain": [
              "1    69\n",
              "0    57\n",
              "Name: Target, dtype: int64"
            ]
          },
          "metadata": {},
          "execution_count": 148
        }
      ]
    },
    {
      "cell_type": "code",
      "source": [
        "y= df.Target\n",
        "X= df.drop(columns = ['Target'])"
      ],
      "metadata": {
        "id": "4U6YLH1j4_tj"
      },
      "execution_count": null,
      "outputs": []
    },
    {
      "cell_type": "markdown",
      "source": [
        "we can define a SMOTE instance with default parameters that will balance the minority class and then fit and apply it in one step to create a transformed version of our dataset."
      ],
      "metadata": {
        "id": "75SNVhn57EP8"
      }
    },
    {
      "cell_type": "code",
      "source": [
        "# Oversample\n",
        "sm = SMOTE(random_state=42)\n",
        "X_res, y_res = sm.fit_resample(X, y)"
      ],
      "metadata": {
        "id": "AF-c1ZbI5F8k"
      },
      "execution_count": null,
      "outputs": []
    },
    {
      "cell_type": "code",
      "source": [
        "counter = Counter(y_res)\n",
        "print(counter)"
      ],
      "metadata": {
        "colab": {
          "base_uri": "https://localhost:8080/"
        },
        "id": "BT0K4vND57zf",
        "outputId": "20534947-376a-4321-ffb2-24625c9deac3"
      },
      "execution_count": null,
      "outputs": [
        {
          "output_type": "stream",
          "name": "stdout",
          "text": [
            "Counter({0: 69, 1: 69})\n"
          ]
        }
      ]
    },
    {
      "cell_type": "code",
      "source": [
        "X_res.head(2)"
      ],
      "metadata": {
        "colab": {
          "base_uri": "https://localhost:8080/",
          "height": 112
        },
        "id": "qVO8cB1RGOuM",
        "outputId": "a802d648-0845-468c-96bc-ff063c571315"
      },
      "execution_count": null,
      "outputs": [
        {
          "output_type": "execute_result",
          "data": {
            "text/plain": [
              "   Delivered_on_Time  Contents_as_expected  Found_everything  Good_Price  \\\n",
              "0                  3                     3                 3           4   \n",
              "1                  3                     2                 3           5   \n",
              "\n",
              "   Satisfied_with_courier  App_ease  percent_score  mean_score  total_score  \n",
              "0                       2         4      63.333333    3.166667           19  \n",
              "1                       4         3      66.666667    3.333333           20  "
            ],
            "text/html": [
              "\n",
              "  <div id=\"df-d535b0f7-5004-48c3-bce8-d241f0c87f96\">\n",
              "    <div class=\"colab-df-container\">\n",
              "      <div>\n",
              "<style scoped>\n",
              "    .dataframe tbody tr th:only-of-type {\n",
              "        vertical-align: middle;\n",
              "    }\n",
              "\n",
              "    .dataframe tbody tr th {\n",
              "        vertical-align: top;\n",
              "    }\n",
              "\n",
              "    .dataframe thead th {\n",
              "        text-align: right;\n",
              "    }\n",
              "</style>\n",
              "<table border=\"1\" class=\"dataframe\">\n",
              "  <thead>\n",
              "    <tr style=\"text-align: right;\">\n",
              "      <th></th>\n",
              "      <th>Delivered_on_Time</th>\n",
              "      <th>Contents_as_expected</th>\n",
              "      <th>Found_everything</th>\n",
              "      <th>Good_Price</th>\n",
              "      <th>Satisfied_with_courier</th>\n",
              "      <th>App_ease</th>\n",
              "      <th>percent_score</th>\n",
              "      <th>mean_score</th>\n",
              "      <th>total_score</th>\n",
              "    </tr>\n",
              "  </thead>\n",
              "  <tbody>\n",
              "    <tr>\n",
              "      <th>0</th>\n",
              "      <td>3</td>\n",
              "      <td>3</td>\n",
              "      <td>3</td>\n",
              "      <td>4</td>\n",
              "      <td>2</td>\n",
              "      <td>4</td>\n",
              "      <td>63.333333</td>\n",
              "      <td>3.166667</td>\n",
              "      <td>19</td>\n",
              "    </tr>\n",
              "    <tr>\n",
              "      <th>1</th>\n",
              "      <td>3</td>\n",
              "      <td>2</td>\n",
              "      <td>3</td>\n",
              "      <td>5</td>\n",
              "      <td>4</td>\n",
              "      <td>3</td>\n",
              "      <td>66.666667</td>\n",
              "      <td>3.333333</td>\n",
              "      <td>20</td>\n",
              "    </tr>\n",
              "  </tbody>\n",
              "</table>\n",
              "</div>\n",
              "      <button class=\"colab-df-convert\" onclick=\"convertToInteractive('df-d535b0f7-5004-48c3-bce8-d241f0c87f96')\"\n",
              "              title=\"Convert this dataframe to an interactive table.\"\n",
              "              style=\"display:none;\">\n",
              "        \n",
              "  <svg xmlns=\"http://www.w3.org/2000/svg\" height=\"24px\"viewBox=\"0 0 24 24\"\n",
              "       width=\"24px\">\n",
              "    <path d=\"M0 0h24v24H0V0z\" fill=\"none\"/>\n",
              "    <path d=\"M18.56 5.44l.94 2.06.94-2.06 2.06-.94-2.06-.94-.94-2.06-.94 2.06-2.06.94zm-11 1L8.5 8.5l.94-2.06 2.06-.94-2.06-.94L8.5 2.5l-.94 2.06-2.06.94zm10 10l.94 2.06.94-2.06 2.06-.94-2.06-.94-.94-2.06-.94 2.06-2.06.94z\"/><path d=\"M17.41 7.96l-1.37-1.37c-.4-.4-.92-.59-1.43-.59-.52 0-1.04.2-1.43.59L10.3 9.45l-7.72 7.72c-.78.78-.78 2.05 0 2.83L4 21.41c.39.39.9.59 1.41.59.51 0 1.02-.2 1.41-.59l7.78-7.78 2.81-2.81c.8-.78.8-2.07 0-2.86zM5.41 20L4 18.59l7.72-7.72 1.47 1.35L5.41 20z\"/>\n",
              "  </svg>\n",
              "      </button>\n",
              "      \n",
              "  <style>\n",
              "    .colab-df-container {\n",
              "      display:flex;\n",
              "      flex-wrap:wrap;\n",
              "      gap: 12px;\n",
              "    }\n",
              "\n",
              "    .colab-df-convert {\n",
              "      background-color: #E8F0FE;\n",
              "      border: none;\n",
              "      border-radius: 50%;\n",
              "      cursor: pointer;\n",
              "      display: none;\n",
              "      fill: #1967D2;\n",
              "      height: 32px;\n",
              "      padding: 0 0 0 0;\n",
              "      width: 32px;\n",
              "    }\n",
              "\n",
              "    .colab-df-convert:hover {\n",
              "      background-color: #E2EBFA;\n",
              "      box-shadow: 0px 1px 2px rgba(60, 64, 67, 0.3), 0px 1px 3px 1px rgba(60, 64, 67, 0.15);\n",
              "      fill: #174EA6;\n",
              "    }\n",
              "\n",
              "    [theme=dark] .colab-df-convert {\n",
              "      background-color: #3B4455;\n",
              "      fill: #D2E3FC;\n",
              "    }\n",
              "\n",
              "    [theme=dark] .colab-df-convert:hover {\n",
              "      background-color: #434B5C;\n",
              "      box-shadow: 0px 1px 3px 1px rgba(0, 0, 0, 0.15);\n",
              "      filter: drop-shadow(0px 1px 2px rgba(0, 0, 0, 0.3));\n",
              "      fill: #FFFFFF;\n",
              "    }\n",
              "  </style>\n",
              "\n",
              "      <script>\n",
              "        const buttonEl =\n",
              "          document.querySelector('#df-d535b0f7-5004-48c3-bce8-d241f0c87f96 button.colab-df-convert');\n",
              "        buttonEl.style.display =\n",
              "          google.colab.kernel.accessAllowed ? 'block' : 'none';\n",
              "\n",
              "        async function convertToInteractive(key) {\n",
              "          const element = document.querySelector('#df-d535b0f7-5004-48c3-bce8-d241f0c87f96');\n",
              "          const dataTable =\n",
              "            await google.colab.kernel.invokeFunction('convertToInteractive',\n",
              "                                                     [key], {});\n",
              "          if (!dataTable) return;\n",
              "\n",
              "          const docLinkHtml = 'Like what you see? Visit the ' +\n",
              "            '<a target=\"_blank\" href=https://colab.research.google.com/notebooks/data_table.ipynb>data table notebook</a>'\n",
              "            + ' to learn more about interactive tables.';\n",
              "          element.innerHTML = '';\n",
              "          dataTable['output_type'] = 'display_data';\n",
              "          await google.colab.output.renderOutput(dataTable, element);\n",
              "          const docLink = document.createElement('div');\n",
              "          docLink.innerHTML = docLinkHtml;\n",
              "          element.appendChild(docLink);\n",
              "        }\n",
              "      </script>\n",
              "    </div>\n",
              "  </div>\n",
              "  "
            ]
          },
          "metadata": {},
          "execution_count": 152
        }
      ]
    },
    {
      "cell_type": "markdown",
      "source": [
        "# Data Preprocessing \n",
        "\n",
        "- Get Dummies features  for ordinal variables\n",
        "- Obtain target and predictors\n",
        "- Divide the data into training and test sets"
      ],
      "metadata": {
        "id": "txa7F-v2drcq"
      }
    },
    {
      "cell_type": "code",
      "source": [
        "X_res[X_res.columns[0:6]] = X_res[X_res.columns[0:6]].applymap(str)\n",
        "X_res.dtypes"
      ],
      "metadata": {
        "colab": {
          "base_uri": "https://localhost:8080/"
        },
        "id": "qWAPVI03Gb_G",
        "outputId": "ccc24913-c0ea-4654-e277-456ab7d7e603"
      },
      "execution_count": null,
      "outputs": [
        {
          "output_type": "execute_result",
          "data": {
            "text/plain": [
              "Delivered_on_Time          object\n",
              "Contents_as_expected       object\n",
              "Found_everything           object\n",
              "Good_Price                 object\n",
              "Satisfied_with_courier     object\n",
              "App_ease                   object\n",
              "percent_score             float64\n",
              "mean_score                float64\n",
              "total_score                 int64\n",
              "dtype: object"
            ]
          },
          "metadata": {},
          "execution_count": 153
        }
      ]
    },
    {
      "cell_type": "code",
      "source": [
        "X_res = pd.get_dummies(data=X_res, columns=['Delivered_on_Time', 'Contents_as_expected', 'Found_everything',\n",
        "       'Good_Price', 'Satisfied_with_courier', 'App_ease'])\n",
        "X_res.head()"
      ],
      "metadata": {
        "colab": {
          "base_uri": "https://localhost:8080/",
          "height": 300
        },
        "id": "GiuDHtGqGcK2",
        "outputId": "d10d8a35-c0d0-4d1e-e83c-3ea8a3c945b7"
      },
      "execution_count": null,
      "outputs": [
        {
          "output_type": "execute_result",
          "data": {
            "text/plain": [
              "   percent_score  mean_score  total_score  Delivered_on_Time_1  \\\n",
              "0      63.333333    3.166667           19                    0   \n",
              "1      66.666667    3.333333           20                    0   \n",
              "2      73.333333    3.666667           22                    0   \n",
              "3      76.666667    3.833333           23                    0   \n",
              "4      76.666667    3.833333           23                    0   \n",
              "\n",
              "   Delivered_on_Time_3  Delivered_on_Time_4  Delivered_on_Time_5  \\\n",
              "0                    1                    0                    0   \n",
              "1                    1                    0                    0   \n",
              "2                    0                    0                    1   \n",
              "3                    0                    0                    1   \n",
              "4                    0                    0                    1   \n",
              "\n",
              "   Contents_as_expected_1  Contents_as_expected_2  Contents_as_expected_3  \\\n",
              "0                       0                       0                       1   \n",
              "1                       0                       1                       0   \n",
              "2                       0                       0                       1   \n",
              "3                       0                       0                       0   \n",
              "4                       0                       0                       0   \n",
              "\n",
              "   ...  Satisfied_with_courier_1  Satisfied_with_courier_2  \\\n",
              "0  ...                         0                         1   \n",
              "1  ...                         0                         0   \n",
              "2  ...                         0                         0   \n",
              "3  ...                         0                         0   \n",
              "4  ...                         0                         0   \n",
              "\n",
              "   Satisfied_with_courier_3  Satisfied_with_courier_4  \\\n",
              "0                         0                         0   \n",
              "1                         0                         1   \n",
              "2                         1                         0   \n",
              "3                         1                         0   \n",
              "4                         1                         0   \n",
              "\n",
              "   Satisfied_with_courier_5  App_ease_1  App_ease_2  App_ease_3  App_ease_4  \\\n",
              "0                         0           0           0           0           1   \n",
              "1                         0           0           0           1           0   \n",
              "2                         0           0           0           0           0   \n",
              "3                         0           0           0           0           0   \n",
              "4                         0           0           0           0           0   \n",
              "\n",
              "   App_ease_5  \n",
              "0           0  \n",
              "1           0  \n",
              "2           1  \n",
              "3           1  \n",
              "4           1  \n",
              "\n",
              "[5 rows x 32 columns]"
            ],
            "text/html": [
              "\n",
              "  <div id=\"df-6b132393-c0a9-4ec9-8e78-8cd59425f2e1\">\n",
              "    <div class=\"colab-df-container\">\n",
              "      <div>\n",
              "<style scoped>\n",
              "    .dataframe tbody tr th:only-of-type {\n",
              "        vertical-align: middle;\n",
              "    }\n",
              "\n",
              "    .dataframe tbody tr th {\n",
              "        vertical-align: top;\n",
              "    }\n",
              "\n",
              "    .dataframe thead th {\n",
              "        text-align: right;\n",
              "    }\n",
              "</style>\n",
              "<table border=\"1\" class=\"dataframe\">\n",
              "  <thead>\n",
              "    <tr style=\"text-align: right;\">\n",
              "      <th></th>\n",
              "      <th>percent_score</th>\n",
              "      <th>mean_score</th>\n",
              "      <th>total_score</th>\n",
              "      <th>Delivered_on_Time_1</th>\n",
              "      <th>Delivered_on_Time_3</th>\n",
              "      <th>Delivered_on_Time_4</th>\n",
              "      <th>Delivered_on_Time_5</th>\n",
              "      <th>Contents_as_expected_1</th>\n",
              "      <th>Contents_as_expected_2</th>\n",
              "      <th>Contents_as_expected_3</th>\n",
              "      <th>...</th>\n",
              "      <th>Satisfied_with_courier_1</th>\n",
              "      <th>Satisfied_with_courier_2</th>\n",
              "      <th>Satisfied_with_courier_3</th>\n",
              "      <th>Satisfied_with_courier_4</th>\n",
              "      <th>Satisfied_with_courier_5</th>\n",
              "      <th>App_ease_1</th>\n",
              "      <th>App_ease_2</th>\n",
              "      <th>App_ease_3</th>\n",
              "      <th>App_ease_4</th>\n",
              "      <th>App_ease_5</th>\n",
              "    </tr>\n",
              "  </thead>\n",
              "  <tbody>\n",
              "    <tr>\n",
              "      <th>0</th>\n",
              "      <td>63.333333</td>\n",
              "      <td>3.166667</td>\n",
              "      <td>19</td>\n",
              "      <td>0</td>\n",
              "      <td>1</td>\n",
              "      <td>0</td>\n",
              "      <td>0</td>\n",
              "      <td>0</td>\n",
              "      <td>0</td>\n",
              "      <td>1</td>\n",
              "      <td>...</td>\n",
              "      <td>0</td>\n",
              "      <td>1</td>\n",
              "      <td>0</td>\n",
              "      <td>0</td>\n",
              "      <td>0</td>\n",
              "      <td>0</td>\n",
              "      <td>0</td>\n",
              "      <td>0</td>\n",
              "      <td>1</td>\n",
              "      <td>0</td>\n",
              "    </tr>\n",
              "    <tr>\n",
              "      <th>1</th>\n",
              "      <td>66.666667</td>\n",
              "      <td>3.333333</td>\n",
              "      <td>20</td>\n",
              "      <td>0</td>\n",
              "      <td>1</td>\n",
              "      <td>0</td>\n",
              "      <td>0</td>\n",
              "      <td>0</td>\n",
              "      <td>1</td>\n",
              "      <td>0</td>\n",
              "      <td>...</td>\n",
              "      <td>0</td>\n",
              "      <td>0</td>\n",
              "      <td>0</td>\n",
              "      <td>1</td>\n",
              "      <td>0</td>\n",
              "      <td>0</td>\n",
              "      <td>0</td>\n",
              "      <td>1</td>\n",
              "      <td>0</td>\n",
              "      <td>0</td>\n",
              "    </tr>\n",
              "    <tr>\n",
              "      <th>2</th>\n",
              "      <td>73.333333</td>\n",
              "      <td>3.666667</td>\n",
              "      <td>22</td>\n",
              "      <td>0</td>\n",
              "      <td>0</td>\n",
              "      <td>0</td>\n",
              "      <td>1</td>\n",
              "      <td>0</td>\n",
              "      <td>0</td>\n",
              "      <td>1</td>\n",
              "      <td>...</td>\n",
              "      <td>0</td>\n",
              "      <td>0</td>\n",
              "      <td>1</td>\n",
              "      <td>0</td>\n",
              "      <td>0</td>\n",
              "      <td>0</td>\n",
              "      <td>0</td>\n",
              "      <td>0</td>\n",
              "      <td>0</td>\n",
              "      <td>1</td>\n",
              "    </tr>\n",
              "    <tr>\n",
              "      <th>3</th>\n",
              "      <td>76.666667</td>\n",
              "      <td>3.833333</td>\n",
              "      <td>23</td>\n",
              "      <td>0</td>\n",
              "      <td>0</td>\n",
              "      <td>0</td>\n",
              "      <td>1</td>\n",
              "      <td>0</td>\n",
              "      <td>0</td>\n",
              "      <td>0</td>\n",
              "      <td>...</td>\n",
              "      <td>0</td>\n",
              "      <td>0</td>\n",
              "      <td>1</td>\n",
              "      <td>0</td>\n",
              "      <td>0</td>\n",
              "      <td>0</td>\n",
              "      <td>0</td>\n",
              "      <td>0</td>\n",
              "      <td>0</td>\n",
              "      <td>1</td>\n",
              "    </tr>\n",
              "    <tr>\n",
              "      <th>4</th>\n",
              "      <td>76.666667</td>\n",
              "      <td>3.833333</td>\n",
              "      <td>23</td>\n",
              "      <td>0</td>\n",
              "      <td>0</td>\n",
              "      <td>0</td>\n",
              "      <td>1</td>\n",
              "      <td>0</td>\n",
              "      <td>0</td>\n",
              "      <td>0</td>\n",
              "      <td>...</td>\n",
              "      <td>0</td>\n",
              "      <td>0</td>\n",
              "      <td>1</td>\n",
              "      <td>0</td>\n",
              "      <td>0</td>\n",
              "      <td>0</td>\n",
              "      <td>0</td>\n",
              "      <td>0</td>\n",
              "      <td>0</td>\n",
              "      <td>1</td>\n",
              "    </tr>\n",
              "  </tbody>\n",
              "</table>\n",
              "<p>5 rows × 32 columns</p>\n",
              "</div>\n",
              "      <button class=\"colab-df-convert\" onclick=\"convertToInteractive('df-6b132393-c0a9-4ec9-8e78-8cd59425f2e1')\"\n",
              "              title=\"Convert this dataframe to an interactive table.\"\n",
              "              style=\"display:none;\">\n",
              "        \n",
              "  <svg xmlns=\"http://www.w3.org/2000/svg\" height=\"24px\"viewBox=\"0 0 24 24\"\n",
              "       width=\"24px\">\n",
              "    <path d=\"M0 0h24v24H0V0z\" fill=\"none\"/>\n",
              "    <path d=\"M18.56 5.44l.94 2.06.94-2.06 2.06-.94-2.06-.94-.94-2.06-.94 2.06-2.06.94zm-11 1L8.5 8.5l.94-2.06 2.06-.94-2.06-.94L8.5 2.5l-.94 2.06-2.06.94zm10 10l.94 2.06.94-2.06 2.06-.94-2.06-.94-.94-2.06-.94 2.06-2.06.94z\"/><path d=\"M17.41 7.96l-1.37-1.37c-.4-.4-.92-.59-1.43-.59-.52 0-1.04.2-1.43.59L10.3 9.45l-7.72 7.72c-.78.78-.78 2.05 0 2.83L4 21.41c.39.39.9.59 1.41.59.51 0 1.02-.2 1.41-.59l7.78-7.78 2.81-2.81c.8-.78.8-2.07 0-2.86zM5.41 20L4 18.59l7.72-7.72 1.47 1.35L5.41 20z\"/>\n",
              "  </svg>\n",
              "      </button>\n",
              "      \n",
              "  <style>\n",
              "    .colab-df-container {\n",
              "      display:flex;\n",
              "      flex-wrap:wrap;\n",
              "      gap: 12px;\n",
              "    }\n",
              "\n",
              "    .colab-df-convert {\n",
              "      background-color: #E8F0FE;\n",
              "      border: none;\n",
              "      border-radius: 50%;\n",
              "      cursor: pointer;\n",
              "      display: none;\n",
              "      fill: #1967D2;\n",
              "      height: 32px;\n",
              "      padding: 0 0 0 0;\n",
              "      width: 32px;\n",
              "    }\n",
              "\n",
              "    .colab-df-convert:hover {\n",
              "      background-color: #E2EBFA;\n",
              "      box-shadow: 0px 1px 2px rgba(60, 64, 67, 0.3), 0px 1px 3px 1px rgba(60, 64, 67, 0.15);\n",
              "      fill: #174EA6;\n",
              "    }\n",
              "\n",
              "    [theme=dark] .colab-df-convert {\n",
              "      background-color: #3B4455;\n",
              "      fill: #D2E3FC;\n",
              "    }\n",
              "\n",
              "    [theme=dark] .colab-df-convert:hover {\n",
              "      background-color: #434B5C;\n",
              "      box-shadow: 0px 1px 3px 1px rgba(0, 0, 0, 0.15);\n",
              "      filter: drop-shadow(0px 1px 2px rgba(0, 0, 0, 0.3));\n",
              "      fill: #FFFFFF;\n",
              "    }\n",
              "  </style>\n",
              "\n",
              "      <script>\n",
              "        const buttonEl =\n",
              "          document.querySelector('#df-6b132393-c0a9-4ec9-8e78-8cd59425f2e1 button.colab-df-convert');\n",
              "        buttonEl.style.display =\n",
              "          google.colab.kernel.accessAllowed ? 'block' : 'none';\n",
              "\n",
              "        async function convertToInteractive(key) {\n",
              "          const element = document.querySelector('#df-6b132393-c0a9-4ec9-8e78-8cd59425f2e1');\n",
              "          const dataTable =\n",
              "            await google.colab.kernel.invokeFunction('convertToInteractive',\n",
              "                                                     [key], {});\n",
              "          if (!dataTable) return;\n",
              "\n",
              "          const docLinkHtml = 'Like what you see? Visit the ' +\n",
              "            '<a target=\"_blank\" href=https://colab.research.google.com/notebooks/data_table.ipynb>data table notebook</a>'\n",
              "            + ' to learn more about interactive tables.';\n",
              "          element.innerHTML = '';\n",
              "          dataTable['output_type'] = 'display_data';\n",
              "          await google.colab.output.renderOutput(dataTable, element);\n",
              "          const docLink = document.createElement('div');\n",
              "          docLink.innerHTML = docLinkHtml;\n",
              "          element.appendChild(docLink);\n",
              "        }\n",
              "      </script>\n",
              "    </div>\n",
              "  </div>\n",
              "  "
            ]
          },
          "metadata": {},
          "execution_count": 154
        }
      ]
    },
    {
      "cell_type": "code",
      "source": [
        "X_res.info()"
      ],
      "metadata": {
        "colab": {
          "base_uri": "https://localhost:8080/"
        },
        "id": "rMyymnovGcaF",
        "outputId": "ec1cfd9b-80c1-4977-91aa-acf1570dad12"
      },
      "execution_count": null,
      "outputs": [
        {
          "output_type": "stream",
          "name": "stdout",
          "text": [
            "<class 'pandas.core.frame.DataFrame'>\n",
            "RangeIndex: 138 entries, 0 to 137\n",
            "Data columns (total 32 columns):\n",
            " #   Column                    Non-Null Count  Dtype  \n",
            "---  ------                    --------------  -----  \n",
            " 0   percent_score             138 non-null    float64\n",
            " 1   mean_score                138 non-null    float64\n",
            " 2   total_score               138 non-null    int64  \n",
            " 3   Delivered_on_Time_1       138 non-null    uint8  \n",
            " 4   Delivered_on_Time_3       138 non-null    uint8  \n",
            " 5   Delivered_on_Time_4       138 non-null    uint8  \n",
            " 6   Delivered_on_Time_5       138 non-null    uint8  \n",
            " 7   Contents_as_expected_1    138 non-null    uint8  \n",
            " 8   Contents_as_expected_2    138 non-null    uint8  \n",
            " 9   Contents_as_expected_3    138 non-null    uint8  \n",
            " 10  Contents_as_expected_4    138 non-null    uint8  \n",
            " 11  Contents_as_expected_5    138 non-null    uint8  \n",
            " 12  Found_everything_1        138 non-null    uint8  \n",
            " 13  Found_everything_2        138 non-null    uint8  \n",
            " 14  Found_everything_3        138 non-null    uint8  \n",
            " 15  Found_everything_4        138 non-null    uint8  \n",
            " 16  Found_everything_5        138 non-null    uint8  \n",
            " 17  Good_Price_1              138 non-null    uint8  \n",
            " 18  Good_Price_2              138 non-null    uint8  \n",
            " 19  Good_Price_3              138 non-null    uint8  \n",
            " 20  Good_Price_4              138 non-null    uint8  \n",
            " 21  Good_Price_5              138 non-null    uint8  \n",
            " 22  Satisfied_with_courier_1  138 non-null    uint8  \n",
            " 23  Satisfied_with_courier_2  138 non-null    uint8  \n",
            " 24  Satisfied_with_courier_3  138 non-null    uint8  \n",
            " 25  Satisfied_with_courier_4  138 non-null    uint8  \n",
            " 26  Satisfied_with_courier_5  138 non-null    uint8  \n",
            " 27  App_ease_1                138 non-null    uint8  \n",
            " 28  App_ease_2                138 non-null    uint8  \n",
            " 29  App_ease_3                138 non-null    uint8  \n",
            " 30  App_ease_4                138 non-null    uint8  \n",
            " 31  App_ease_5                138 non-null    uint8  \n",
            "dtypes: float64(2), int64(1), uint8(29)\n",
            "memory usage: 7.3 KB\n"
          ]
        }
      ]
    },
    {
      "cell_type": "code",
      "source": [
        "# split the data into train and test set \n",
        "X_train, X_test, y_train, y_test = train_test_split(X_res, y_res, test_size=0.25, random_state=47)"
      ],
      "metadata": {
        "id": "Tn2-6ddSeEbT"
      },
      "execution_count": null,
      "outputs": []
    },
    {
      "cell_type": "markdown",
      "source": [
        "# Modelling\n",
        "\n",
        "- build the model \n",
        "- evaluate the model\n",
        "- tune the model \n",
        "- select the best model "
      ],
      "metadata": {
        "id": "Ec-FV3b5PXTs"
      }
    },
    {
      "cell_type": "markdown",
      "source": [
        "#### Track Model Accuracy"
      ],
      "metadata": {
        "id": "MAGiBwijkYs4"
      }
    },
    {
      "cell_type": "code",
      "source": [
        "accuracy_dic = {}"
      ],
      "metadata": {
        "id": "52gBF3pTkdLl"
      },
      "execution_count": null,
      "outputs": []
    },
    {
      "cell_type": "code",
      "source": [
        "accuracy_dic"
      ],
      "metadata": {
        "colab": {
          "base_uri": "https://localhost:8080/"
        },
        "id": "LYCwe-5-lCkZ",
        "outputId": "5b5b034a-6285-4345-f5e9-825b768459b2"
      },
      "execution_count": null,
      "outputs": [
        {
          "output_type": "execute_result",
          "data": {
            "text/plain": [
              "{}"
            ]
          },
          "metadata": {},
          "execution_count": 160
        }
      ]
    },
    {
      "cell_type": "markdown",
      "source": [
        "### Decision Tree"
      ],
      "metadata": {
        "id": "IyL1MpC9ofvl"
      }
    },
    {
      "cell_type": "code",
      "source": [
        "#building decision tree\n",
        "dt = DecisionTreeClassifier(random_state=47)\n",
        "dt.fit(X_train, y_train)\n",
        "y_pred = dt.predict(X_test)\n",
        "target_names = ['No_happy', 'happy']\n",
        "print(classification_report(y_test, y_pred, target_names=target_names))"
      ],
      "metadata": {
        "colab": {
          "base_uri": "https://localhost:8080/"
        },
        "id": "Inj2BfpW7Jgo",
        "outputId": "7672a0a9-ebec-49a6-cd5f-6a119dfdf95b"
      },
      "execution_count": null,
      "outputs": [
        {
          "output_type": "stream",
          "name": "stdout",
          "text": [
            "              precision    recall  f1-score   support\n",
            "\n",
            "    No_happy       0.71      0.79      0.75        19\n",
            "       happy       0.71      0.62      0.67        16\n",
            "\n",
            "    accuracy                           0.71        35\n",
            "   macro avg       0.71      0.71      0.71        35\n",
            "weighted avg       0.71      0.71      0.71        35\n",
            "\n"
          ]
        }
      ]
    },
    {
      "cell_type": "code",
      "source": [
        "accuracy = accuracy_score(y_test,y_pred) #predictions\n",
        "accuracy_dic['DecisionTreeClassifier_dt'] = accuracy\n",
        "accuracy"
      ],
      "metadata": {
        "id": "v5R3UDAvk0o-",
        "colab": {
          "base_uri": "https://localhost:8080/"
        },
        "outputId": "afc37b12-9ab9-49a7-cd54-482d14518d14"
      },
      "execution_count": null,
      "outputs": [
        {
          "output_type": "execute_result",
          "data": {
            "text/plain": [
              "0.7142857142857143"
            ]
          },
          "metadata": {},
          "execution_count": 164
        }
      ]
    },
    {
      "cell_type": "markdown",
      "source": [
        "### Random forest"
      ],
      "metadata": {
        "id": "xtEdLksBoISA"
      }
    },
    {
      "cell_type": "code",
      "source": [
        "#rf_clf0= RandomForestClassifier(class_weight={0:0.452,1:0.548}, random_state=47)\n",
        "rf_clf0= RandomForestClassifier(random_state=47)\n",
        "rf_clf0.fit(X_train, y_train)"
      ],
      "metadata": {
        "colab": {
          "base_uri": "https://localhost:8080/"
        },
        "id": "TucDdlSxpblr",
        "outputId": "417566a9-58ab-4129-81b7-a6b2b056a0d7"
      },
      "execution_count": null,
      "outputs": [
        {
          "output_type": "execute_result",
          "data": {
            "text/plain": [
              "RandomForestClassifier(random_state=47)"
            ]
          },
          "metadata": {},
          "execution_count": 165
        }
      ]
    },
    {
      "cell_type": "code",
      "source": [
        "y_pred = rf_clf0.predict(X_test)\n",
        "target_names = ['No_happy', 'happy']\n",
        "print(classification_report(y_test, y_pred, target_names=target_names))"
      ],
      "metadata": {
        "colab": {
          "base_uri": "https://localhost:8080/"
        },
        "id": "QQF4a0zkpbp0",
        "outputId": "afe463f2-6ede-4e0d-e92f-41cd79976a44"
      },
      "execution_count": null,
      "outputs": [
        {
          "output_type": "stream",
          "name": "stdout",
          "text": [
            "              precision    recall  f1-score   support\n",
            "\n",
            "    No_happy       0.65      0.79      0.71        19\n",
            "       happy       0.67      0.50      0.57        16\n",
            "\n",
            "    accuracy                           0.66        35\n",
            "   macro avg       0.66      0.64      0.64        35\n",
            "weighted avg       0.66      0.66      0.65        35\n",
            "\n"
          ]
        }
      ]
    },
    {
      "cell_type": "code",
      "source": [
        "accuracy = accuracy_score(y_test,y_pred) #predictions\n",
        "accuracy_dic['RandomForestClassifier_rf_clf0'] = accuracy\n",
        "print(\"Accuracy: %.2f%%\" % (accuracy * 100.0))"
      ],
      "metadata": {
        "colab": {
          "base_uri": "https://localhost:8080/"
        },
        "id": "XskkuC1ujxKR",
        "outputId": "83d09222-2b6f-4dfc-e840-8b04c18f8aff"
      },
      "execution_count": null,
      "outputs": [
        {
          "output_type": "stream",
          "name": "stdout",
          "text": [
            "Accuracy: 65.71%\n"
          ]
        }
      ]
    },
    {
      "cell_type": "code",
      "source": [
        "y_pred_prob = rf_clf0.predict_proba(X_test)[:,1]\n",
        "\n",
        "# Generate ROC curve values: fpr, tpr, thresholds\n",
        "fpr, tpr, thresholds = roc_curve(y_test, y_pred_prob)\n",
        "\n",
        "# Plot ROC curve\n",
        "plt.plot([0, 1], [0, 1], 'k--')\n",
        "plt.plot(fpr, tpr)\n",
        "plt.xlabel('False Positive Rate')\n",
        "plt.ylabel('True Positive Rate')\n",
        "plt.title('ROC Curve')\n",
        "plt.show()"
      ],
      "metadata": {
        "colab": {
          "base_uri": "https://localhost:8080/",
          "height": 295
        },
        "id": "Uv-neXqZpbub",
        "outputId": "c0741df0-46d4-43f1-be06-3fa77732edf6"
      },
      "execution_count": null,
      "outputs": [
        {
          "output_type": "display_data",
          "data": {
            "text/plain": [
              "<Figure size 432x288 with 1 Axes>"
            ],
            "image/png": "[encoded data removed]"
          },
          "metadata": {
            "needs_background": "light"
          }
        }
      ]
    },
    {
      "cell_type": "code",
      "source": [
        "# Compute and print AUC score\n",
        "print(\"AUC: {}\".format(roc_auc_score(y_test, y_pred_prob)))"
      ],
      "metadata": {
        "colab": {
          "base_uri": "https://localhost:8080/"
        },
        "id": "zg7fE3bFpkIO",
        "outputId": "6746bf68-65a5-4bc7-cbce-67ca2cbac722"
      },
      "execution_count": null,
      "outputs": [
        {
          "output_type": "stream",
          "name": "stdout",
          "text": [
            "AUC: 0.71875\n"
          ]
        }
      ]
    },
    {
      "cell_type": "code",
      "source": [
        "float(round((roc_auc_score(y_test, y_pred_prob)), 2))"
      ],
      "metadata": {
        "colab": {
          "base_uri": "https://localhost:8080/"
        },
        "id": "PwoMsw54VYfC",
        "outputId": "31271e6d-d6f6-4ba3-8a6d-fa68c459a532"
      },
      "execution_count": null,
      "outputs": [
        {
          "output_type": "execute_result",
          "data": {
            "text/plain": [
              "0.72"
            ]
          },
          "metadata": {},
          "execution_count": 170
        }
      ]
    },
    {
      "cell_type": "code",
      "source": [
        "# Compute cross-validated AUC scores: cv_auc\n",
        "cv_rf = cross_val_score(rf_clf0, X_train, y_train, cv = 5, scoring = 'accuracy')\n",
        "print(cv_rf)\n",
        "print('__________________________________________________________')\n",
        "print(cv_rf.mean())"
      ],
      "metadata": {
        "colab": {
          "base_uri": "https://localhost:8080/"
        },
        "id": "XxE_SB_UpbyF",
        "outputId": "f644f908-1183-4d6b-bb1b-46f4975c1085"
      },
      "execution_count": null,
      "outputs": [
        {
          "output_type": "stream",
          "name": "stdout",
          "text": [
            "[0.66666667 0.57142857 0.61904762 0.5        0.7       ]\n",
            "__________________________________________________________\n",
            "0.6114285714285714\n"
          ]
        }
      ]
    },
    {
      "cell_type": "markdown",
      "source": [
        "### Random Forest two rf_clf1 with Hyperparameter tunning "
      ],
      "metadata": {
        "id": "rufYLvcxrT3m"
      }
    },
    {
      "cell_type": "code",
      "source": [
        "# define hyperparams\n",
        "n_estimators = [int(x) for x in np.linspace(start = 10, stop = 100, num = 20)]\n",
        "max_features = ['auto', 'sqrt']\n",
        "max_depth = [2,4,6,8, 10]\n",
        "min_samples_split = [2,3, 4, 5]\n",
        "min_samples_leaf = [1,2, 3]\n",
        "bootstrap = [True, False]"
      ],
      "metadata": {
        "id": "oAKwHqcsnlk8"
      },
      "execution_count": null,
      "outputs": []
    },
    {
      "cell_type": "code",
      "source": [
        "# Create the param grid\n",
        "param_grid = {'n_estimators': n_estimators,\n",
        "               'max_features': max_features,\n",
        "               'max_depth': max_depth,\n",
        "               'min_samples_split': min_samples_split,\n",
        "               'min_samples_leaf': min_samples_leaf,\n",
        "               'bootstrap': bootstrap}\n",
        "print(param_grid)"
      ],
      "metadata": {
        "colab": {
          "base_uri": "https://localhost:8080/"
        },
        "id": "lw3DsQyanloc",
        "outputId": "bc6431e3-cc46-4355-957c-6d6c2f05c5b2"
      },
      "execution_count": null,
      "outputs": [
        {
          "output_type": "stream",
          "name": "stdout",
          "text": [
            "{'n_estimators': [10, 14, 19, 24, 28, 33, 38, 43, 47, 52, 57, 62, 66, 71, 76, 81, 85, 90, 95, 100], 'max_features': ['auto', 'sqrt'], 'max_depth': [2, 4, 6, 8, 10], 'min_samples_split': [2, 3, 4, 5], 'min_samples_leaf': [1, 2, 3], 'bootstrap': [True, False]}\n"
          ]
        }
      ]
    },
    {
      "cell_type": "code",
      "source": [
        "rf_clf1 = RandomForestClassifier(random_state= 47)\n",
        "# n_jobs -1, all CPUs are used.\n",
        "rf_RandomGrid = RandomizedSearchCV(estimator = rf_clf1, param_distributions = param_grid, cv = 10, verbose=2, n_jobs = -1, random_state=47)"
      ],
      "metadata": {
        "id": "3rVTvZEsnlsU"
      },
      "execution_count": null,
      "outputs": []
    },
    {
      "cell_type": "code",
      "source": [
        "rf_RandomGrid.fit(X_train, y_train)"
      ],
      "metadata": {
        "colab": {
          "base_uri": "https://localhost:8080/"
        },
        "id": "DcBmXj6OTH-V",
        "outputId": "ceccfc91-f219-4ae5-a497-839b17efba1a"
      },
      "execution_count": null,
      "outputs": [
        {
          "output_type": "stream",
          "name": "stdout",
          "text": [
            "Fitting 10 folds for each of 10 candidates, totalling 100 fits\n"
          ]
        },
        {
          "output_type": "execute_result",
          "data": {
            "text/plain": [
              "RandomizedSearchCV(cv=10, estimator=RandomForestClassifier(random_state=47),\n",
              "                   n_jobs=-1,\n",
              "                   param_distributions={'bootstrap': [True, False],\n",
              "                                        'max_depth': [2, 4, 6, 8, 10],\n",
              "                                        'max_features': ['auto', 'sqrt'],\n",
              "                                        'min_samples_leaf': [1, 2, 3],\n",
              "                                        'min_samples_split': [2, 3, 4, 5],\n",
              "                                        'n_estimators': [10, 14, 19, 24, 28, 33,\n",
              "                                                         38, 43, 47, 52, 57, 62,\n",
              "                                                         66, 71, 76, 81, 85, 90,\n",
              "                                                         95, 100]},\n",
              "                   random_state=47, verbose=2)"
            ]
          },
          "metadata": {},
          "execution_count": 175
        }
      ]
    },
    {
      "cell_type": "code",
      "source": [
        "rf_RandomGrid.best_params_"
      ],
      "metadata": {
        "colab": {
          "base_uri": "https://localhost:8080/"
        },
        "id": "GSRNaJMCpdMm",
        "outputId": "8efb1176-a4a0-4800-f133-85d2d40053c5"
      },
      "execution_count": null,
      "outputs": [
        {
          "output_type": "execute_result",
          "data": {
            "text/plain": [
              "{'n_estimators': 38,\n",
              " 'min_samples_split': 2,\n",
              " 'min_samples_leaf': 1,\n",
              " 'max_features': 'auto',\n",
              " 'max_depth': 10,\n",
              " 'bootstrap': True}"
            ]
          },
          "metadata": {},
          "execution_count": 176
        }
      ]
    },
    {
      "cell_type": "code",
      "source": [
        "rf_clf1 = rf_RandomGrid.best_estimator_\n",
        "y_pred = rf_clf1.predict(X_test)\n",
        "target_names = ['No_happy', 'happy']\n",
        "print(classification_report(y_test, y_pred, target_names=target_names))"
      ],
      "metadata": {
        "colab": {
          "base_uri": "https://localhost:8080/"
        },
        "id": "LR7YSoLdnlvd",
        "outputId": "1da69007-bec2-4dd0-cf7d-56ff060434fc"
      },
      "execution_count": null,
      "outputs": [
        {
          "output_type": "stream",
          "name": "stdout",
          "text": [
            "              precision    recall  f1-score   support\n",
            "\n",
            "    No_happy       0.71      0.79      0.75        19\n",
            "       happy       0.71      0.62      0.67        16\n",
            "\n",
            "    accuracy                           0.71        35\n",
            "   macro avg       0.71      0.71      0.71        35\n",
            "weighted avg       0.71      0.71      0.71        35\n",
            "\n"
          ]
        }
      ]
    },
    {
      "cell_type": "code",
      "source": [
        "accuracy = accuracy_score(y_test,y_pred) #predictions\n",
        "accuracy_dic['Tune_RandomForestClassifier_rf_clf1'] = accuracy\n",
        "accuracy"
      ],
      "metadata": {
        "id": "O_bowI1eljy6",
        "colab": {
          "base_uri": "https://localhost:8080/"
        },
        "outputId": "5d34b93b-0947-4e56-bc1c-f99ed98c00d6"
      },
      "execution_count": null,
      "outputs": [
        {
          "output_type": "execute_result",
          "data": {
            "text/plain": [
              "0.7142857142857143"
            ]
          },
          "metadata": {},
          "execution_count": 178
        }
      ]
    },
    {
      "cell_type": "code",
      "source": [
        "#Get the confusion matrix\n",
        "cf_matrix = confusion_matrix(y_test,y_pred)\n",
        "print(cf_matrix)\n",
        "# plot the comfusion matrix\n",
        "ax=sns.heatmap(cf_matrix/np.sum(cf_matrix), annot=True, \n",
        "            fmt='.2%', cmap='Blues')\n",
        "ax.set_title('Random forest Confusion Matrix \\n\\n')\n",
        "ax.set_xlabel('\\nPredicted Values')\n",
        "ax.set_ylabel('Actual Values ')\n",
        "ax.xaxis.set_ticklabels(['False','True'])\n",
        "ax.yaxis.set_ticklabels(['False','True'])\n",
        "plt.show()"
      ],
      "metadata": {
        "colab": {
          "base_uri": "https://localhost:8080/",
          "height": 372
        },
        "id": "HiWpDuv923gk",
        "outputId": "f051481b-ec2f-4ea9-fc93-bb5f32628ac6"
      },
      "execution_count": null,
      "outputs": [
        {
          "output_type": "stream",
          "name": "stdout",
          "text": [
            "[[15  4]\n",
            " [ 6 10]]\n"
          ]
        },
        {
          "output_type": "display_data",
          "data": {
            "text/plain": [
              "<Figure size 432x288 with 2 Axes>"
            ],
            "image/png": "[encoded data removed]"
          },
          "metadata": {
            "needs_background": "light"
          }
        }
      ]
    },
    {
      "cell_type": "code",
      "source": [
        "y_pred_prob = rf_clf1.predict_proba(X_test)[:,1]\n",
        "\n",
        "# Generate ROC curve values: fpr, tpr, thresholds\n",
        "fpr, tpr, thresholds = roc_curve(y_test, y_pred_prob)\n",
        "\n",
        "# Plot ROC curve\n",
        "plt.plot([0, 1], [0, 1], 'k--')\n",
        "plt.plot(fpr, tpr)\n",
        "plt.xlabel('False Positive Rate')\n",
        "plt.ylabel('True Positive Rate')\n",
        "plt.title('ROC Curve')\n",
        "plt.show()"
      ],
      "metadata": {
        "colab": {
          "base_uri": "https://localhost:8080/",
          "height": 295
        },
        "id": "4Cx3EfoInlzL",
        "outputId": "28e9706b-7d18-4b40-b414-803418c9be44"
      },
      "execution_count": null,
      "outputs": [
        {
          "output_type": "display_data",
          "data": {
            "text/plain": [
              "<Figure size 432x288 with 1 Axes>"
            ],
            "image/png": "[encoded data removed]"
          },
          "metadata": {
            "needs_background": "light"
          }
        }
      ]
    },
    {
      "cell_type": "code",
      "source": [
        "# Compute and print AUC score\n",
        "print(\"AUC: {}\".format(roc_auc_score(y_test, y_pred_prob)))"
      ],
      "metadata": {
        "colab": {
          "base_uri": "https://localhost:8080/"
        },
        "id": "B5xUir7gnl2h",
        "outputId": "c267985b-100f-4511-99e7-e0a9a344afee"
      },
      "execution_count": null,
      "outputs": [
        {
          "output_type": "stream",
          "name": "stdout",
          "text": [
            "AUC: 0.7302631578947368\n"
          ]
        }
      ]
    },
    {
      "cell_type": "code",
      "source": [
        "# Compute cross-validated AUC scores: cv_auc\n",
        "cv_rf = cross_val_score(rf_clf1, X_train, y_train, cv = 5, scoring = 'accuracy')\n",
        "print(cv_rf)\n",
        "print(cv_rf.mean())"
      ],
      "metadata": {
        "colab": {
          "base_uri": "https://localhost:8080/"
        },
        "id": "qY3yyCcHnl6g",
        "outputId": "dba5c8e9-b5ed-4c4a-f0ed-f258def919e8"
      },
      "execution_count": null,
      "outputs": [
        {
          "output_type": "stream",
          "name": "stdout",
          "text": [
            "[0.61904762 0.61904762 0.66666667 0.6        0.75      ]\n",
            "0.650952380952381\n"
          ]
        }
      ]
    },
    {
      "cell_type": "code",
      "source": [
        "plt.figure(figsize=(10, 13))\n",
        "feat_importance = rf_clf1.feature_importances_\n",
        "feature_names = [f\"feature {i}\" for i in X_train.columns]\n",
        "forest_importances = pd.Series(feat_importance, index=feature_names).sort_values(ascending=False)\n",
        "forest_importances.plot.barh()\n",
        "plt.title(\"Random forest Feature importances \")"
      ],
      "metadata": {
        "colab": {
          "base_uri": "https://localhost:8080/",
          "height": 788
        },
        "id": "rG9jZVlCwwLN",
        "outputId": "20495449-40a7-4c34-f2df-6319c433b720"
      },
      "execution_count": null,
      "outputs": [
        {
          "output_type": "execute_result",
          "data": {
            "text/plain": [
              "Text(0.5, 1.0, 'Random forest Feature importances ')"
            ]
          },
          "metadata": {},
          "execution_count": 183
        },
        {
          "output_type": "display_data",
          "data": {
            "text/plain": [
              "<Figure size 720x936 with 1 Axes>"
            ],
            "image/png": "[encoded data removed]"
          },
          "metadata": {
            "needs_background": "light"
          }
        }
      ]
    },
    {
      "cell_type": "markdown",
      "source": [
        "### XGBoost "
      ],
      "metadata": {
        "id": "xyZ0fC7MuxQL"
      }
    },
    {
      "cell_type": "code",
      "source": [
        "# XGBOOST Model - 1rst model \n",
        "XGB = XGBClassifier(n_estimators=1000,learning_rate=0.05)\n",
        "XGB.fit(X_train, y_train)\n",
        "y_pred = XGB.predict(X_test)\n",
        "accuracy = accuracy_score(y_test,y_pred) #predictions\n",
        "accuracy_dic['XGBoost_XGB'] = accuracy\n",
        "print(\"Accuracy: %.2f%%\" % (accuracy * 100.0))"
      ],
      "metadata": {
        "colab": {
          "base_uri": "https://localhost:8080/"
        },
        "id": "rfnh7MWnuPy_",
        "outputId": "e6928585-4ee6-42c4-e8ae-106a95b1acf8"
      },
      "execution_count": null,
      "outputs": [
        {
          "output_type": "stream",
          "name": "stdout",
          "text": [
            "Accuracy: 74.29%\n"
          ]
        }
      ]
    },
    {
      "cell_type": "code",
      "source": [
        "target_names = ['No_Happy', 'happy']\n",
        "print(classification_report(y_test, y_pred, target_names=target_names))"
      ],
      "metadata": {
        "colab": {
          "base_uri": "https://localhost:8080/"
        },
        "id": "wpGP0ESSuP4t",
        "outputId": "300f2330-4334-48be-936f-f186ad855567"
      },
      "execution_count": null,
      "outputs": [
        {
          "output_type": "stream",
          "name": "stdout",
          "text": [
            "              precision    recall  f1-score   support\n",
            "\n",
            "    No_Happy       0.75      0.79      0.77        19\n",
            "       happy       0.73      0.69      0.71        16\n",
            "\n",
            "    accuracy                           0.74        35\n",
            "   macro avg       0.74      0.74      0.74        35\n",
            "weighted avg       0.74      0.74      0.74        35\n",
            "\n"
          ]
        }
      ]
    },
    {
      "cell_type": "code",
      "source": [
        "y_pred_prob = XGB.predict_proba(X_test)[:,1]\n",
        "\n",
        "# Generate ROC curve values: fpr, tpr, thresholds\n",
        "fpr, tpr, thresholds = roc_curve(y_test, y_pred_prob)\n",
        "\n",
        "# Plot ROC curve\n",
        "plt.plot([0, 1], [0, 1], 'k--')\n",
        "plt.plot(fpr, tpr)\n",
        "plt.xlabel('False Positive Rate')\n",
        "plt.ylabel('True Positive Rate')\n",
        "plt.title('ROC Curve')\n",
        "plt.show()"
      ],
      "metadata": {
        "colab": {
          "base_uri": "https://localhost:8080/",
          "height": 304
        },
        "id": "UTH11QWWx5Zg",
        "outputId": "7b84bd9d-dc3f-4834-f70f-148365c55daf"
      },
      "execution_count": null,
      "outputs": [
        {
          "output_type": "display_data",
          "data": {
            "text/plain": [
              "<Figure size 432x288 with 1 Axes>"
            ],
            "image/png": "[encoded data removed]"
          },
          "metadata": {
            "needs_background": "light"
          }
        }
      ]
    },
    {
      "cell_type": "code",
      "source": [
        "# Compute and print AUC score\n",
        "print(\"AUC: {}\".format(roc_auc_score(y_test, y_pred_prob)))"
      ],
      "metadata": {
        "colab": {
          "base_uri": "https://localhost:8080/"
        },
        "id": "Po9KDgEsyASx",
        "outputId": "a91ecd7a-5595-472c-be11-a167e2aedabd"
      },
      "execution_count": null,
      "outputs": [
        {
          "output_type": "stream",
          "name": "stdout",
          "text": [
            "AUC: 0.7730263157894737\n"
          ]
        }
      ]
    },
    {
      "cell_type": "code",
      "source": [
        "\n",
        "plot_importance(XGB.fit(X_train, y_train))"
      ],
      "metadata": {
        "colab": {
          "base_uri": "https://localhost:8080/",
          "height": 312
        },
        "id": "Dbx3JyDouP9E",
        "outputId": "639effe3-8826-4b7c-fd77-984771fbbbc1"
      },
      "execution_count": null,
      "outputs": [
        {
          "output_type": "execute_result",
          "data": {
            "text/plain": [
              "<matplotlib.axes._subplots.AxesSubplot at 0x7fb718ef7940>"
            ]
          },
          "metadata": {},
          "execution_count": 188
        },
        {
          "output_type": "display_data",
          "data": {
            "text/plain": [
              "<Figure size 432x288 with 1 Axes>"
            ],
            "image/png": "[encoded data removed]"
          },
          "metadata": {
            "needs_background": "light"
          }
        }
      ]
    },
    {
      "cell_type": "code",
      "source": [
        "#Get the confusion matrix\n",
        "cf_matrix = confusion_matrix(y_test,y_pred)\n",
        "print(cf_matrix)"
      ],
      "metadata": {
        "colab": {
          "base_uri": "https://localhost:8080/"
        },
        "id": "2Cn6gjFxuQBZ",
        "outputId": "5807d210-8fac-418b-f65f-44d0b600ab25"
      },
      "execution_count": null,
      "outputs": [
        {
          "output_type": "stream",
          "name": "stdout",
          "text": [
            "[[15  4]\n",
            " [ 5 11]]\n"
          ]
        }
      ]
    },
    {
      "cell_type": "code",
      "source": [
        "ax=sns.heatmap(cf_matrix/np.sum(cf_matrix), annot=True, \n",
        "            fmt='.2%', cmap='Blues')"
      ],
      "metadata": {
        "colab": {
          "base_uri": "https://localhost:8080/",
          "height": 265
        },
        "id": "mdKhww9E2eck",
        "outputId": "7f020592-54fb-4f50-e634-67d473e33add"
      },
      "execution_count": null,
      "outputs": [
        {
          "output_type": "display_data",
          "data": {
            "text/plain": [
              "<Figure size 432x288 with 2 Axes>"
            ],
            "image/png": "[encoded data removed]"
          },
          "metadata": {
            "needs_background": "light"
          }
        }
      ]
    },
    {
      "cell_type": "markdown",
      "source": [
        "### XGBoost Two"
      ],
      "metadata": {
        "id": "CkuThRoC9Cu-"
      }
    },
    {
      "cell_type": "code",
      "source": [
        "xgb_param_dict = {\n",
        "    'learning_rate':[0.06, 0.05, 0.10, 0.15, 0.20, 0.001],\n",
        "    'max_depth':range(1,10,2),\n",
        "    'min_child_weight':range(1,10,2),\n",
        "    'gamma':[ 0.0, 0.1, 0.2 , 0.3, 0.4 ],\n",
        "    'colsample_bytree':[ 0.3, 0.4, 0.5 , 0.7 ]\n",
        "    \n",
        "}\n",
        "xgb_classifier = XGBClassifier() # (n_estimators=1000)\n",
        "\n",
        "xgb2 = GridSearchCV(xgb_classifier, \n",
        "                    param_grid=xgb_param_dict,\n",
        "                    cv=10,\n",
        "                    verbose=1,\n",
        "                    n_jobs=-1)\n",
        "\n",
        "xgb2.fit(X_train, y_train)"
      ],
      "metadata": {
        "colab": {
          "base_uri": "https://localhost:8080/"
        },
        "id": "KHmpjeYQ8-oQ",
        "outputId": "63b6c5fd-c3d7-4a83-9d10-a87a6c537dd6"
      },
      "execution_count": null,
      "outputs": [
        {
          "output_type": "stream",
          "name": "stdout",
          "text": [
            "Fitting 10 folds for each of 3000 candidates, totalling 30000 fits\n"
          ]
        },
        {
          "output_type": "execute_result",
          "data": {
            "text/plain": [
              "GridSearchCV(cv=10, estimator=XGBClassifier(), n_jobs=-1,\n",
              "             param_grid={'colsample_bytree': [0.3, 0.4, 0.5, 0.7],\n",
              "                         'gamma': [0.0, 0.1, 0.2, 0.3, 0.4],\n",
              "                         'learning_rate': [0.06, 0.05, 0.1, 0.15, 0.2, 0.001],\n",
              "                         'max_depth': range(1, 10, 2),\n",
              "                         'min_child_weight': range(1, 10, 2)},\n",
              "             verbose=1)"
            ]
          },
          "metadata": {},
          "execution_count": 191
        }
      ]
    },
    {
      "cell_type": "code",
      "source": [
        "xgb2.best_params_"
      ],
      "metadata": {
        "colab": {
          "base_uri": "https://localhost:8080/"
        },
        "id": "MMU0dWSY8-tA",
        "outputId": "74a943d9-1e2f-4194-e3ae-1f3767e6ccca"
      },
      "execution_count": null,
      "outputs": [
        {
          "output_type": "execute_result",
          "data": {
            "text/plain": [
              "{'colsample_bytree': 0.3,\n",
              " 'gamma': 0.0,\n",
              " 'learning_rate': 0.001,\n",
              " 'max_depth': 1,\n",
              " 'min_child_weight': 7}"
            ]
          },
          "metadata": {},
          "execution_count": 381
        }
      ]
    },
    {
      "cell_type": "code",
      "source": [
        "xgb2_estimator = xgb2.best_estimator_\n",
        "y_pred_ = xgb2_estimator.predict(X_test)\n",
        "accuracy = accuracy_score(y_test,y_pred) \n",
        "accuracy_dic['Tune_XGBoost_xgb2'] = accuracy"
      ],
      "metadata": {
        "id": "wxkMDOlP8-xN"
      },
      "execution_count": null,
      "outputs": []
    },
    {
      "cell_type": "code",
      "source": [
        "target_names = ['Happy', 'No_happy']\n",
        "print(classification_report(y_test, y_pred, target_names=target_names))"
      ],
      "metadata": {
        "colab": {
          "base_uri": "https://localhost:8080/"
        },
        "id": "R-01WX1n-2aT",
        "outputId": "8e6cfce5-10c6-4de7-a9cc-363322f4eb2a"
      },
      "execution_count": null,
      "outputs": [
        {
          "output_type": "stream",
          "name": "stdout",
          "text": [
            "              precision    recall  f1-score   support\n",
            "\n",
            "       Happy       0.75      0.79      0.77        19\n",
            "    No_happy       0.73      0.69      0.71        16\n",
            "\n",
            "    accuracy                           0.74        35\n",
            "   macro avg       0.74      0.74      0.74        35\n",
            "weighted avg       0.74      0.74      0.74        35\n",
            "\n"
          ]
        }
      ]
    },
    {
      "cell_type": "markdown",
      "source": [
        "### Bernoulli Naïve Bayes Classifier\n",
        "#### Attributes\n",
        "-\t class_log_prior_ − array, shape(n_classes,): It provides the smoothed log probability for every class.\n",
        "- class_count_ − array, shape(n_classes,) : It provides the actual number of training samples encountered for each class.\n",
        "- \tfeature_log_prob_ − array, shape (n_classes, n_features): It gives the empirical log probability of features given a class  P(features⏐Y)\n",
        "- feature_count_ − array, shape (n_classes, n_features): It provides the actual number of training samples encountered for each (class,feature"
      ],
      "metadata": {
        "id": "PZHrOQjvDq-6"
      }
    },
    {
      "cell_type": "code",
      "source": [
        "from sklearn.naive_bayes import BernoulliNB\n",
        "BNBclf = BernoulliNB()\n",
        "BNBclf.fit(X_train, y_train)"
      ],
      "metadata": {
        "colab": {
          "base_uri": "https://localhost:8080/"
        },
        "id": "fEdfd0UEDnCM",
        "outputId": "83f01f5f-446d-46a4-b7d5-59d8114fdad5"
      },
      "execution_count": null,
      "outputs": [
        {
          "output_type": "execute_result",
          "data": {
            "text/plain": [
              "BernoulliNB()"
            ]
          },
          "metadata": {},
          "execution_count": 198
        }
      ]
    },
    {
      "cell_type": "code",
      "source": [
        "y_pred = BNBclf.predict(X_test)\n",
        "target_names = ['No_happy', 'happy']\n",
        "print(classification_report(y_test, y_pred, target_names=target_names))"
      ],
      "metadata": {
        "id": "7k0t5ucTDnQ4",
        "colab": {
          "base_uri": "https://localhost:8080/"
        },
        "outputId": "4479930e-78b8-49a7-c0fd-fe77859db828"
      },
      "execution_count": null,
      "outputs": [
        {
          "output_type": "stream",
          "name": "stdout",
          "text": [
            "              precision    recall  f1-score   support\n",
            "\n",
            "    No_happy       0.67      0.63      0.65        19\n",
            "       happy       0.59      0.62      0.61        16\n",
            "\n",
            "    accuracy                           0.63        35\n",
            "   macro avg       0.63      0.63      0.63        35\n",
            "weighted avg       0.63      0.63      0.63        35\n",
            "\n"
          ]
        }
      ]
    },
    {
      "cell_type": "code",
      "source": [
        "accuracy = accuracy_score(y_test,y_pred) #predictions\n",
        "accuracy_dic['BernoulliNB_BNBclf'] = accuracy"
      ],
      "metadata": {
        "id": "nrnRC9BCm5xn"
      },
      "execution_count": null,
      "outputs": []
    },
    {
      "cell_type": "markdown",
      "source": [
        "### PassiveAggressiveClassifier\n",
        "How Passive-Aggressive Algorithms Work:\n",
        "Passive-Aggressive algorithms are called so because :\n",
        "\n",
        "Passive: If the prediction is correct, keep the model and do not make any changes. i.e., the data in the example is not enough to cause any changes in the model. \n",
        "\n",
        "Aggressive: If the prediction is incorrect, make changes to the model. i.e., some change to the model may correct it.\n",
        "- parameters\n",
        "- C : This is the regularization parameter, and denotes the penalization the model will make on an incorrect prediction\n",
        "- max_iter : The maximum number of iterations the model makes over the training data.\n",
        "- tol : The stopping criterion. If it is set to None, the model will stop when (loss > previous_loss  –  tol). By default, it is set to 1e-3."
      ],
      "metadata": {
        "id": "TTapyRNgG7FP"
      }
    },
    {
      "cell_type": "code",
      "source": [
        "from sklearn.linear_model import PassiveAggressiveClassifier"
      ],
      "metadata": {
        "id": "COxYjNgTDnYO"
      },
      "execution_count": null,
      "outputs": []
    },
    {
      "cell_type": "code",
      "source": [
        "pac = PassiveAggressiveClassifier(C=0.5, max_iter=1000, random_state=47, tol=1e-3)\n",
        "pac.fit(X_train, y_train)"
      ],
      "metadata": {
        "colab": {
          "base_uri": "https://localhost:8080/"
        },
        "id": "slSZ3z7NGZrW",
        "outputId": "91f80300-2f35-47b5-b44b-4bf0a3323137"
      },
      "execution_count": null,
      "outputs": [
        {
          "output_type": "execute_result",
          "data": {
            "text/plain": [
              "PassiveAggressiveClassifier(C=0.5, random_state=47)"
            ]
          },
          "metadata": {},
          "execution_count": 202
        }
      ]
    },
    {
      "cell_type": "code",
      "source": [
        "y_pred = pac.predict(X_test)\n",
        "accuracy = accuracy_score(y_test,y_pred) #predictions\n",
        "print(\"Accuracy: %.2f%%\" % (accuracy * 100.0))"
      ],
      "metadata": {
        "colab": {
          "base_uri": "https://localhost:8080/"
        },
        "id": "2LNz_n1CJfC0",
        "outputId": "6fe2a91b-818d-4275-a28e-22a63839ea06"
      },
      "execution_count": null,
      "outputs": [
        {
          "output_type": "stream",
          "name": "stdout",
          "text": [
            "Accuracy: 54.29%\n"
          ]
        }
      ]
    },
    {
      "cell_type": "code",
      "source": [
        "y_pred = pac.predict(X_test)\n",
        "target_names = ['No_happy', 'happy']\n",
        "print(classification_report(y_test, y_pred, target_names=target_names))"
      ],
      "metadata": {
        "colab": {
          "base_uri": "https://localhost:8080/"
        },
        "id": "GHpec9R7GZvY",
        "outputId": "b693e37f-5ab8-429e-fbf1-8dcb129aea09"
      },
      "execution_count": null,
      "outputs": [
        {
          "output_type": "stream",
          "name": "stdout",
          "text": [
            "              precision    recall  f1-score   support\n",
            "\n",
            "    No_happy       0.54      1.00      0.70        19\n",
            "       happy       0.00      0.00      0.00        16\n",
            "\n",
            "    accuracy                           0.54        35\n",
            "   macro avg       0.27      0.50      0.35        35\n",
            "weighted avg       0.29      0.54      0.38        35\n",
            "\n"
          ]
        }
      ]
    },
    {
      "cell_type": "code",
      "source": [
        "accuracy = accuracy_score(y_test,y_pred) #predictions\n",
        "accuracy_dic['PassiveAggressiveClassifier_pac'] = accuracy"
      ],
      "metadata": {
        "id": "94fHkZbQhRk1"
      },
      "execution_count": null,
      "outputs": []
    },
    {
      "cell_type": "code",
      "source": [
        "#Get the confusion matrix\n",
        "cf_matrix = confusion_matrix(y_test,y_pred)\n",
        "ax=sns.heatmap(cf_matrix/np.sum(cf_matrix), annot=True, \n",
        "            fmt='.2%', cmap='Blues')"
      ],
      "metadata": {
        "colab": {
          "base_uri": "https://localhost:8080/"
        },
        "id": "Hsrgkeg1GZzA",
        "outputId": "0afecf09-fec8-414a-8fed-dacdef8c3e82"
      },
      "execution_count": null,
      "outputs": [
        {
          "output_type": "display_data",
          "data": {
            "text/plain": [
              "<Figure size 432x288 with 2 Axes>"
            ],
            "image/png": "[encoded data removed]"
          },
          "metadata": {
            "needs_background": "light"
          }
        }
      ]
    },
    {
      "cell_type": "markdown",
      "source": [
        "### Hyperopt\n",
        "Hyperopt is a powerful python library for hyperparameter optimization developed by James Bergstra. Hyperopt uses a form of Bayesian optimization for parameter tuning that allows you to get the best parameters for a given model. It can optimize a model with hundreds of parameters on a large scale.\n",
        "\n",
        "Setting Up Hyperopt\n",
        "\n",
        "Objective Function | This should return the value we want to minimise during the computation. In our case, it's the ‘accuracy_score’ function.\n",
        "\n",
        "Search Space | This defines the range of values a given hyperparameter can take. This can be integers, floats or strings as we shall see later in the article.\n",
        "\n",
        "Tuning Algorithm | In Hyperopt, there are two main hyperparameter search algorithms: Random Search and Tree of Parzen Estimators (Bayesian). In this example, we will be using the latter as it is known to produce the best results.\n",
        "\n",
        "Evaluations | This refers to the number of different hyperparameter instances to train the model over. This is recommended to be between 10–30 times the number of hyperparameters defined in the search space to optimise for performance and computation time."
      ],
      "metadata": {
        "id": "qbgaUVyYPOaI"
      }
    },
    {
      "cell_type": "code",
      "source": [
        "!pip install hyperopt"
      ],
      "metadata": {
        "colab": {
          "base_uri": "https://localhost:8080/"
        },
        "id": "7c1ZU3M1PmVn",
        "outputId": "6bd049de-2644-47b1-89f4-917eee7bb06f"
      },
      "execution_count": null,
      "outputs": [
        {
          "output_type": "stream",
          "name": "stdout",
          "text": [
            "Looking in indexes: https://pypi.org/simple, https://us-python.pkg.dev/colab-wheels/public/simple/\n",
            "Requirement already satisfied: hyperopt in /usr/local/lib/python3.8/dist-packages (0.1.2)\n",
            "Requirement already satisfied: scipy in /usr/local/lib/python3.8/dist-packages (from hyperopt) (1.7.3)\n",
            "Requirement already satisfied: pymongo in /usr/local/lib/python3.8/dist-packages (from hyperopt) (4.3.3)\n",
            "Requirement already satisfied: numpy in /usr/local/lib/python3.8/dist-packages (from hyperopt) (1.21.6)\n",
            "Requirement already satisfied: future in /usr/local/lib/python3.8/dist-packages (from hyperopt) (0.16.0)\n",
            "Requirement already satisfied: networkx in /usr/local/lib/python3.8/dist-packages (from hyperopt) (2.6.3)\n",
            "Requirement already satisfied: six in /usr/local/lib/python3.8/dist-packages (from hyperopt) (1.15.0)\n",
            "Requirement already satisfied: tqdm in /usr/local/lib/python3.8/dist-packages (from hyperopt) (4.64.1)\n",
            "Requirement already satisfied: dnspython<3.0.0,>=1.16.0 in /usr/local/lib/python3.8/dist-packages (from pymongo->hyperopt) (2.2.1)\n"
          ]
        }
      ]
    },
    {
      "cell_type": "code",
      "source": [
        "from hyperopt import tpe, hp, fmin, STATUS_OK,Trials\n",
        "from hyperopt.pyll.base import scope\n",
        "\n",
        "import warnings\n",
        "warnings.filterwarnings(\"ignore\")"
      ],
      "metadata": {
        "id": "Kj8e8nLv7AVd"
      },
      "execution_count": null,
      "outputs": []
    },
    {
      "cell_type": "markdown",
      "source": [
        "#####  HyperOpt with Random Forest "
      ],
      "metadata": {
        "id": "NJuCnmevL95j"
      }
    },
    {
      "cell_type": "code",
      "source": [
        "#Define Parameter Space for Optimization\n",
        "space = {\n",
        "    \"n_estimators\": hp.choice(\"n_estimators\", [100, 200, 300, 400,500,600]),\n",
        "    \"max_depth\": hp.quniform(\"max_depth\", 1, 15,1),\n",
        "    \"criterion\": hp.choice(\"criterion\", [\"gini\", \"entropy\"]),\n",
        "}"
      ],
      "metadata": {
        "id": "HjxseU6WPma7"
      },
      "execution_count": null,
      "outputs": []
    },
    {
      "cell_type": "code",
      "source": [
        "# define objective function\n",
        "#cross-validation to avoid overfitting and then the function will return a loss values and its status\n",
        "#Remember that hyperopic minimizes the function, that why I add a negative sign in the acc \n",
        "def hyperparameter_tuning(params):\n",
        "    clf = RandomForestClassifier(**params, n_jobs=-1)\n",
        "    acc = cross_val_score(clf, X_train, y_train,scoring=\"accuracy\").mean()\n",
        "    return {\"loss\": -acc, \"status\": STATUS_OK}"
      ],
      "metadata": {
        "id": "9-oxY5O19xPW"
      },
      "execution_count": null,
      "outputs": []
    },
    {
      "cell_type": "code",
      "source": [
        "#Fine Tune the Mode\n",
        "# Initialize trials object\n",
        "trials = Trials()\n",
        "\n",
        "best = fmin(fn =hyperparameter_tuning,\n",
        "    space = space, \n",
        "    algo=tpe.suggest, \n",
        "    max_evals=100, \n",
        "    trials=trials)\n",
        "\n",
        "print(\"Best: {}\".format(best))"
      ],
      "metadata": {
        "colab": {
          "base_uri": "https://localhost:8080/"
        },
        "id": "fb9uI7C79xTk",
        "outputId": "0df05336-2ef5-4057-9867-aa5c64bd6b2e"
      },
      "execution_count": null,
      "outputs": [
        {
          "output_type": "stream",
          "name": "stdout",
          "text": [
            "100%|██████████| 100/100 [04:38<00:00,  2.79s/it, best loss: -0.6585714285714286]\n",
            "Best: {'criterion': 0, 'max_depth': 1.0, 'n_estimators': 4}\n"
          ]
        }
      ]
    },
    {
      "cell_type": "code",
      "source": [
        "print(best)# best_params"
      ],
      "metadata": {
        "colab": {
          "base_uri": "https://localhost:8080/"
        },
        "id": "bLAEGsn8k0Gy",
        "outputId": "87c3ab38-5a0f-45f1-d38f-7980ca3b47c1"
      },
      "execution_count": null,
      "outputs": [
        {
          "output_type": "stream",
          "name": "stdout",
          "text": [
            "{'criterion': 0, 'max_depth': 1.0, 'n_estimators': 4}\n"
          ]
        }
      ]
    },
    {
      "cell_type": "code",
      "source": [
        "  # new search space\n",
        "search_space={'n_estimators':hp.randint('n_estimators',100,500),\n",
        "              'max_depth': hp.randint('max_depth',10,50),           \n",
        "              'min_samples_split':hp.uniform('min_samples_split',0,1),   \n",
        "              'min_samples_leaf':hp.randint('min_samples_leaf',1,10),\n",
        "              'criterion':hp.choice('criterion', ['gini','entropy']),\n",
        "              'max_features':hp.choice('max_features',['sqrt', 'log2']) }"
      ],
      "metadata": {
        "id": "aVDq-tGsld-6"
      },
      "execution_count": null,
      "outputs": []
    },
    {
      "cell_type": "code",
      "source": [
        "# redefine the function usng a wider range of hyperparameters\n",
        "def hyperparameter_tuning2(search_space):\n",
        "    model = RandomForestClassifier(search_space, random_state=47)\n",
        "    model.fit(X_train, y_train)\n",
        "    y_pred = model.predict(X_test)\n",
        "    accuracy = accuracy_score(y_test, y_pred)\n",
        "    return {'loss': -accuracy, 'status': STATUS_OK}"
      ],
      "metadata": {
        "id": "73PrkUqzlcOl"
      },
      "execution_count": null,
      "outputs": []
    },
    {
      "cell_type": "code",
      "source": [
        "## set the hyperparam tuning algorithm\n",
        "algorithm=tpe.suggest\n",
        "# implement Hyperopt\n",
        "trials2 = Trials()\n",
        "#best_params = fmin(fn=hyperparameter_tuning2, space=search_space, algo=algorithm, max_evals=100, trials=trials2)"
      ],
      "metadata": {
        "id": "O-B64UOZlxOY"
      },
      "execution_count": null,
      "outputs": []
    },
    {
      "cell_type": "markdown",
      "source": [
        "##### HyperOpt wiht XGBoost"
      ],
      "metadata": {
        "id": "t6Bgd1HHMUW5"
      }
    },
    {
      "cell_type": "code",
      "source": [
        "space={'max_depth': hp.quniform(\"max_depth\", 1, 18, 1),\n",
        "       'learning_rate':hp.uniform('learning_rate', 0, 1),\n",
        "        'gamma': hp.uniform ('gamma', 0,9),\n",
        "        'reg_alpha' : hp.quniform('reg_alpha', 40,100,1),\n",
        "        'reg_lambda' : hp.uniform('reg_lambda', 0,1),\n",
        "        'colsample_bytree' : hp.uniform('colsample_bytree', 0.2,1),\n",
        "        'min_child_weight' : hp.quniform('min_child_weight', 0, 10, 1),\n",
        "        'n_estimators': 1000,\n",
        "        'seed': 0\n",
        "    }"
      ],
      "metadata": {
        "id": "EVYGqP-FFTPl"
      },
      "execution_count": null,
      "outputs": []
    },
    {
      "cell_type": "code",
      "source": [
        "def objective(space):\n",
        "    clf=XGBClassifier(\n",
        "                    n_estimators =space['n_estimators'], max_depth = int(space['max_depth']), gamma = space['gamma'], learning_rate = int(space['learning_rate']),\n",
        "                    reg_alpha = int(space['reg_alpha']),min_child_weight=int(space['min_child_weight']),\n",
        "                    colsample_bytree=int(space['colsample_bytree']))\n",
        "    \n",
        "    evaluation = [( X_train, y_train), ( X_test, y_test)]\n",
        "    \n",
        "    clf.fit(X_train, y_train,\n",
        "            eval_set=evaluation, eval_metric=\"auc\",\n",
        "            early_stopping_rounds=10,verbose=False)\n",
        "    \n",
        "\n",
        "    pred = clf.predict(X_test)\n",
        "    accuracy = accuracy_score(y_test, pred>0.5)\n",
        "    #print (\"SCORE:\", accuracy)\n",
        "    return {'loss': -accuracy, 'status': STATUS_OK }"
      ],
      "metadata": {
        "id": "VHjZYoPgFZ3D"
      },
      "execution_count": null,
      "outputs": []
    },
    {
      "cell_type": "code",
      "source": [
        "trials = Trials()\n",
        "\n",
        "best_hyperparams = fmin(fn = objective,\n",
        "                        space = space,\n",
        "                        algo = tpe.suggest,\n",
        "                        max_evals = 100,\n",
        "                        trials = trials)"
      ],
      "metadata": {
        "colab": {
          "base_uri": "https://localhost:8080/"
        },
        "id": "7DBF0fNBFaTP",
        "outputId": "d0d26736-cb67-4a94-c6d4-2d1cbfa01af0"
      },
      "execution_count": null,
      "outputs": [
        {
          "output_type": "stream",
          "name": "stdout",
          "text": [
            "100%|██████████| 100/100 [00:03<00:00, 28.82it/s, best loss: -0.5428571428571428]\n"
          ]
        }
      ]
    },
    {
      "cell_type": "code",
      "source": [
        "print(\"The best hyperparameters are : \",\"\\n\")\n",
        "print(best_hyperparams)"
      ],
      "metadata": {
        "colab": {
          "base_uri": "https://localhost:8080/"
        },
        "id": "cz8SwdqSGYAd",
        "outputId": "01653753-7511-47e2-d0c3-3470d394099e"
      },
      "execution_count": null,
      "outputs": [
        {
          "output_type": "stream",
          "name": "stdout",
          "text": [
            "The best hyperparameters are :  \n",
            "\n",
            "{'colsample_bytree': 0.6300360931939932, 'gamma': 5.686826275615873, 'learning_rate': 0.9151901448162824, 'max_depth': 12.0, 'min_child_weight': 10.0, 'reg_alpha': 98.0, 'reg_lambda': 0.5952698171321049}\n"
          ]
        }
      ]
    },
    {
      "cell_type": "markdown",
      "source": [
        " I have experimented using HyperOpt to tune hyperparameters in Random Forest and Gradient Boost.\n",
        "\n",
        "the params selected by HyperOpt did not improve the accuracy of the model."
      ],
      "metadata": {
        "id": "UgXKTAtpKr2W"
      }
    },
    {
      "cell_type": "code",
      "source": [
        "#Analyze results by using trials object\n",
        "# shows a list of dictionaries returned by ‘objective’ during the search.\n",
        "#trials.results \n",
        "# shows a list of losses (float for each ‘ok’ trial).\n",
        "#trials.losses() \n",
        "# shows a list of status strings.\n",
        "#trials.statuses() "
      ],
      "metadata": {
        "id": "QPiHHCv29xXr"
      },
      "execution_count": null,
      "outputs": []
    },
    {
      "cell_type": "markdown",
      "source": [
        "# Model Selection "
      ],
      "metadata": {
        "id": "47N2j4GwXjdA"
      }
    },
    {
      "cell_type": "code",
      "source": [
        "accuracy_dic"
      ],
      "metadata": {
        "colab": {
          "base_uri": "https://localhost:8080/"
        },
        "id": "KutQO4VAXidc",
        "outputId": "32ffdece-5a69-4de8-9698-5b66e74a9fcc"
      },
      "execution_count": null,
      "outputs": [
        {
          "output_type": "execute_result",
          "data": {
            "text/plain": [
              "{'DecisionTreeClassifier_dt': 0.7142857142857143,\n",
              " 'RandomForestClassifier_rf_clf0': 0.6571428571428571,\n",
              " 'Tune_RandomForestClassifier_rf_clf1': 0.7142857142857143,\n",
              " 'XGBoost_XGB': 0.7428571428571429,\n",
              " 'Tune_XGBoost_xgb2': 0.7428571428571429,\n",
              " 'BernoulliNB_BNBclf': 0.6285714285714286,\n",
              " 'PassiveAggressiveClassifier_pac': 0.5428571428571428}"
            ]
          },
          "metadata": {},
          "execution_count": 242
        }
      ]
    },
    {
      "cell_type": "code",
      "source": [
        "df_acc = pd.DataFrame(list(accuracy_dic.items()), columns=['Model', 'Accuracy'])\n",
        "df_acc.sort_values(by='Accuracy', inplace=True)\n",
        "df_acc"
      ],
      "metadata": {
        "id": "Dnzhhc7pseV_",
        "colab": {
          "base_uri": "https://localhost:8080/",
          "height": 269
        },
        "outputId": "e5f4c466-9d25-4917-f48d-c18d55ae48f3"
      },
      "execution_count": null,
      "outputs": [
        {
          "output_type": "execute_result",
          "data": {
            "text/plain": [
              "                                 Model  Accuracy\n",
              "6      PassiveAggressiveClassifier_pac  0.542857\n",
              "5                   BernoulliNB_BNBclf  0.628571\n",
              "1       RandomForestClassifier_rf_clf0  0.657143\n",
              "0            DecisionTreeClassifier_dt  0.714286\n",
              "2  Tune_RandomForestClassifier_rf_clf1  0.714286\n",
              "3                          XGBoost_XGB  0.742857\n",
              "4                    Tune_XGBoost_xgb2  0.742857"
            ],
            "text/html": [
              "\n",
              "  <div id=\"df-f607381e-2424-47be-8c5a-2956b216376f\">\n",
              "    <div class=\"colab-df-container\">\n",
              "      <div>\n",
              "<style scoped>\n",
              "    .dataframe tbody tr th:only-of-type {\n",
              "        vertical-align: middle;\n",
              "    }\n",
              "\n",
              "    .dataframe tbody tr th {\n",
              "        vertical-align: top;\n",
              "    }\n",
              "\n",
              "    .dataframe thead th {\n",
              "        text-align: right;\n",
              "    }\n",
              "</style>\n",
              "<table border=\"1\" class=\"dataframe\">\n",
              "  <thead>\n",
              "    <tr style=\"text-align: right;\">\n",
              "      <th></th>\n",
              "      <th>Model</th>\n",
              "      <th>Accuracy</th>\n",
              "    </tr>\n",
              "  </thead>\n",
              "  <tbody>\n",
              "    <tr>\n",
              "      <th>6</th>\n",
              "      <td>PassiveAggressiveClassifier_pac</td>\n",
              "      <td>0.542857</td>\n",
              "    </tr>\n",
              "    <tr>\n",
              "      <th>5</th>\n",
              "      <td>BernoulliNB_BNBclf</td>\n",
              "      <td>0.628571</td>\n",
              "    </tr>\n",
              "    <tr>\n",
              "      <th>1</th>\n",
              "      <td>RandomForestClassifier_rf_clf0</td>\n",
              "      <td>0.657143</td>\n",
              "    </tr>\n",
              "    <tr>\n",
              "      <th>0</th>\n",
              "      <td>DecisionTreeClassifier_dt</td>\n",
              "      <td>0.714286</td>\n",
              "    </tr>\n",
              "    <tr>\n",
              "      <th>2</th>\n",
              "      <td>Tune_RandomForestClassifier_rf_clf1</td>\n",
              "      <td>0.714286</td>\n",
              "    </tr>\n",
              "    <tr>\n",
              "      <th>3</th>\n",
              "      <td>XGBoost_XGB</td>\n",
              "      <td>0.742857</td>\n",
              "    </tr>\n",
              "    <tr>\n",
              "      <th>4</th>\n",
              "      <td>Tune_XGBoost_xgb2</td>\n",
              "      <td>0.742857</td>\n",
              "    </tr>\n",
              "  </tbody>\n",
              "</table>\n",
              "</div>\n",
              "      <button class=\"colab-df-convert\" onclick=\"convertToInteractive('df-f607381e-2424-47be-8c5a-2956b216376f')\"\n",
              "              title=\"Convert this dataframe to an interactive table.\"\n",
              "              style=\"display:none;\">\n",
              "        \n",
              "  <svg xmlns=\"http://www.w3.org/2000/svg\" height=\"24px\"viewBox=\"0 0 24 24\"\n",
              "       width=\"24px\">\n",
              "    <path d=\"M0 0h24v24H0V0z\" fill=\"none\"/>\n",
              "    <path d=\"M18.56 5.44l.94 2.06.94-2.06 2.06-.94-2.06-.94-.94-2.06-.94 2.06-2.06.94zm-11 1L8.5 8.5l.94-2.06 2.06-.94-2.06-.94L8.5 2.5l-.94 2.06-2.06.94zm10 10l.94 2.06.94-2.06 2.06-.94-2.06-.94-.94-2.06-.94 2.06-2.06.94z\"/><path d=\"M17.41 7.96l-1.37-1.37c-.4-.4-.92-.59-1.43-.59-.52 0-1.04.2-1.43.59L10.3 9.45l-7.72 7.72c-.78.78-.78 2.05 0 2.83L4 21.41c.39.39.9.59 1.41.59.51 0 1.02-.2 1.41-.59l7.78-7.78 2.81-2.81c.8-.78.8-2.07 0-2.86zM5.41 20L4 18.59l7.72-7.72 1.47 1.35L5.41 20z\"/>\n",
              "  </svg>\n",
              "      </button>\n",
              "      \n",
              "  <style>\n",
              "    .colab-df-container {\n",
              "      display:flex;\n",
              "      flex-wrap:wrap;\n",
              "      gap: 12px;\n",
              "    }\n",
              "\n",
              "    .colab-df-convert {\n",
              "      background-color: #E8F0FE;\n",
              "      border: none;\n",
              "      border-radius: 50%;\n",
              "      cursor: pointer;\n",
              "      display: none;\n",
              "      fill: #1967D2;\n",
              "      height: 32px;\n",
              "      padding: 0 0 0 0;\n",
              "      width: 32px;\n",
              "    }\n",
              "\n",
              "    .colab-df-convert:hover {\n",
              "      background-color: #E2EBFA;\n",
              "      box-shadow: 0px 1px 2px rgba(60, 64, 67, 0.3), 0px 1px 3px 1px rgba(60, 64, 67, 0.15);\n",
              "      fill: #174EA6;\n",
              "    }\n",
              "\n",
              "    [theme=dark] .colab-df-convert {\n",
              "      background-color: #3B4455;\n",
              "      fill: #D2E3FC;\n",
              "    }\n",
              "\n",
              "    [theme=dark] .colab-df-convert:hover {\n",
              "      background-color: #434B5C;\n",
              "      box-shadow: 0px 1px 3px 1px rgba(0, 0, 0, 0.15);\n",
              "      filter: drop-shadow(0px 1px 2px rgba(0, 0, 0, 0.3));\n",
              "      fill: #FFFFFF;\n",
              "    }\n",
              "  </style>\n",
              "\n",
              "      <script>\n",
              "        const buttonEl =\n",
              "          document.querySelector('#df-f607381e-2424-47be-8c5a-2956b216376f button.colab-df-convert');\n",
              "        buttonEl.style.display =\n",
              "          google.colab.kernel.accessAllowed ? 'block' : 'none';\n",
              "\n",
              "        async function convertToInteractive(key) {\n",
              "          const element = document.querySelector('#df-f607381e-2424-47be-8c5a-2956b216376f');\n",
              "          const dataTable =\n",
              "            await google.colab.kernel.invokeFunction('convertToInteractive',\n",
              "                                                     [key], {});\n",
              "          if (!dataTable) return;\n",
              "\n",
              "          const docLinkHtml = 'Like what you see? Visit the ' +\n",
              "            '<a target=\"_blank\" href=https://colab.research.google.com/notebooks/data_table.ipynb>data table notebook</a>'\n",
              "            + ' to learn more about interactive tables.';\n",
              "          element.innerHTML = '';\n",
              "          dataTable['output_type'] = 'display_data';\n",
              "          await google.colab.output.renderOutput(dataTable, element);\n",
              "          const docLink = document.createElement('div');\n",
              "          docLink.innerHTML = docLinkHtml;\n",
              "          element.appendChild(docLink);\n",
              "        }\n",
              "      </script>\n",
              "    </div>\n",
              "  </div>\n",
              "  "
            ]
          },
          "metadata": {},
          "execution_count": 243
        }
      ]
    },
    {
      "cell_type": "code",
      "source": [
        "data"
      ],
      "metadata": {
        "colab": {
          "base_uri": "https://localhost:8080/",
          "height": 35
        },
        "id": "RCuXo7jtvWks",
        "outputId": "24ff954f-9007-4279-9247-ae90991e3d5c"
      },
      "execution_count": null,
      "outputs": [
        {
          "output_type": "execute_result",
          "data": {
            "text/plain": [
              "'gdrive/MyDrive/Apziva_project/HFhD9gY6N8cN4PtO/happinesurvey2020.csv'"
            ],
            "application/vnd.google.colaboratory.intrinsic+json": {
              "type": "string"
            }
          },
          "metadata": {},
          "execution_count": 244
        }
      ]
    },
    {
      "cell_type": "code",
      "source": [
        "df_acc.to_csv('/content/gdrive/MyDrive//Apziva_project/HFhD9gY6N8cN4PtO/accuracy.csv')"
      ],
      "metadata": {
        "id": "9R5m6SBfvNsG"
      },
      "execution_count": null,
      "outputs": []
    },
    {
      "cell_type": "code",
      "source": [
        "plt.figure(figsize=(10, 10))\n",
        "sns.stripplot(df_acc.Accuracy, df_acc.Model);\n",
        "plt.xlabel('Accuracy', fontsize=18)\n",
        "plt.ylabel('Model', fontsize=18)\n",
        "plt.title('Model_Compare', fontsize=18)\n",
        "# Set the font size for x tick labels\n",
        "plt.rc('xtick', labelsize=20)\n",
        "# Set the font size for y tick labels\n",
        "plt.rc('ytick', labelsize=20)\n",
        "plt.show()"
      ],
      "metadata": {
        "colab": {
          "base_uri": "https://localhost:8080/",
          "height": 638
        },
        "id": "xsyOMe9syCsV",
        "outputId": "6ab84827-5d6b-4694-f544-7880bcb8d48e"
      },
      "execution_count": null,
      "outputs": [
        {
          "output_type": "display_data",
          "data": {
            "text/plain": [
              "<Figure size 720x720 with 1 Axes>"
            ],
            "image/png": "[encoded data removed]"
          },
          "metadata": {
            "needs_background": "light"
          }
        }
      ]
    },
    {
      "cell_type": "markdown",
      "source": [
        "# Conclusion\n",
        "Supervised machine learning classification algorithms were developed to predict customer state (happy or not happy).\n",
        "The EDA did not show any clear pattern among features.\n",
        "however, we found that We needed to pay attention to Content_as_expected feature due to their low score.  Delevered_on_time and App_ease tend to receive the highest score of all clients.\n",
        "\n",
        "Chi_squared test reveal that the null hypothesis was accepted in all features except one (delivered_on_time) where the null hypothesis was rejected.  Thus, Customer dissatisfaction/satisfaction is independent of all variables except the delivery_on_time variable.\n",
        "\n",
        "mean of all scores, sum of all scores and   percentage of the overall scores were news features created. \n",
        "\n",
        "We used SMOTE technique to balance the dataset (69, 69)\n",
        " we performed 8 models, the best one was XGBoost  with an accuracy of 0.74 and AUC was 0.77\n",
        "\n",
        "the feature of importance reveals  that percentage of the overall scores was the most important, followed by \"contents_as_expected\" score 3, \"found_everything\" score 3, and \"good_price\" score 4. \n"
      ],
      "metadata": {
        "id": "B8bC0jwq8C4v"
      }
    },
    {
      "cell_type": "markdown",
      "source": [
        "# modularize code"
      ],
      "metadata": {
        "id": "JKuilN-Pgp3t"
      }
    },
    {
      "cell_type": "code",
      "source": [
        "os.listdir(\"gdrive/MyDrive/Apziva_project/HFhD9gY6N8cN4PtO\")"
      ],
      "metadata": {
        "colab": {
          "base_uri": "https://localhost:8080/"
        },
        "id": "k2H5TRfhUEP5",
        "outputId": "ea87baa5-69ba-48ba-d1c8-7ccf4ac36f44"
      },
      "execution_count": null,
      "outputs": [
        {
          "output_type": "execute_result",
          "data": {
            "text/plain": [
              "['ACME-HappinessSurvey2020.csv',\n",
              " 'happinesurvey2020.csv',\n",
              " 'Happinesurvey.ipynb',\n",
              " 'Experiments_Happinesurvey_v2.ipynb',\n",
              " 'Copy of Experiments_Happinesurvey_v2.ipynb',\n",
              " 'experiemnts_of Happinesurvey.ipynb',\n",
              " 'Untitled spreadsheet.gsheet',\n",
              " 'accuracy.gsheet',\n",
              " 'accuracy.csv',\n",
              " 'exemple_notebook.gdoc',\n",
              " 'Copy of Experiments_Happinesurvey_v3.ipynb',\n",
              " 'Experiments_Happinesurvey_v3.ipynb',\n",
              " 'Hyperparameter-Optimization-Techniques-master',\n",
              " 'modular',\n",
              " 'going_modular']"
            ]
          },
          "metadata": {},
          "execution_count": 343
        }
      ]
    },
    {
      "cell_type": "code",
      "source": [
        "import os\n",
        "\n",
        "os.makedirs(\"gdrive/MyDrive/Apziva_project/HFhD9gY6N8cN4PtO/going_modular\", exist_ok=True)"
      ],
      "metadata": {
        "id": "P6AXa93QWjpD"
      },
      "execution_count": null,
      "outputs": []
    },
    {
      "cell_type": "code",
      "source": [
        "%%writefile data_setup.py\n",
        "\n",
        "\"\"\"\n",
        "Contains functionality for read the data.\n",
        "\n",
        "\"\"\"\n",
        "\n",
        "# get the data \n",
        "def Read_data(data):\n",
        "  df = pd.read_csv(data)\n",
        "  df.columns = ['Target','Delivered_on_Time', 'Contents_as_expected', \n",
        "              'Found_everything', 'Good_Price', 'Satisfied_with_courier', 'App_ease']\n",
        "  return df"
      ],
      "metadata": {
        "id": "bw7r4JkTggIY",
        "colab": {
          "base_uri": "https://localhost:8080/"
        },
        "outputId": "187f2732-a691-44a8-abcd-3c7a81df87a4"
      },
      "execution_count": null,
      "outputs": [
        {
          "output_type": "stream",
          "name": "stdout",
          "text": [
            "Writing data_setup.py\n"
          ]
        }
      ]
    },
    {
      "cell_type": "code",
      "source": [
        " Read_data(data).head(2)"
      ],
      "metadata": {
        "colab": {
          "base_uri": "https://localhost:8080/",
          "height": 112
        },
        "id": "O-j6N0PXh80G",
        "outputId": "bd90e554-3e43-4fd6-b14d-2c4a7c82f4d5"
      },
      "execution_count": null,
      "outputs": [
        {
          "output_type": "execute_result",
          "data": {
            "text/plain": [
              "   Target  Delivered_on_Time  Contents_as_expected  Found_everything  \\\n",
              "0       0                  3                     3                 3   \n",
              "1       0                  3                     2                 3   \n",
              "\n",
              "   Good_Price  Satisfied_with_courier  App_ease  \n",
              "0           4                       2         4  \n",
              "1           5                       4         3  "
            ],
            "text/html": [
              "\n",
              "  <div id=\"df-7882958f-3ade-4d8c-8175-cddc2072ca8f\">\n",
              "    <div class=\"colab-df-container\">\n",
              "      <div>\n",
              "<style scoped>\n",
              "    .dataframe tbody tr th:only-of-type {\n",
              "        vertical-align: middle;\n",
              "    }\n",
              "\n",
              "    .dataframe tbody tr th {\n",
              "        vertical-align: top;\n",
              "    }\n",
              "\n",
              "    .dataframe thead th {\n",
              "        text-align: right;\n",
              "    }\n",
              "</style>\n",
              "<table border=\"1\" class=\"dataframe\">\n",
              "  <thead>\n",
              "    <tr style=\"text-align: right;\">\n",
              "      <th></th>\n",
              "      <th>Target</th>\n",
              "      <th>Delivered_on_Time</th>\n",
              "      <th>Contents_as_expected</th>\n",
              "      <th>Found_everything</th>\n",
              "      <th>Good_Price</th>\n",
              "      <th>Satisfied_with_courier</th>\n",
              "      <th>App_ease</th>\n",
              "    </tr>\n",
              "  </thead>\n",
              "  <tbody>\n",
              "    <tr>\n",
              "      <th>0</th>\n",
              "      <td>0</td>\n",
              "      <td>3</td>\n",
              "      <td>3</td>\n",
              "      <td>3</td>\n",
              "      <td>4</td>\n",
              "      <td>2</td>\n",
              "      <td>4</td>\n",
              "    </tr>\n",
              "    <tr>\n",
              "      <th>1</th>\n",
              "      <td>0</td>\n",
              "      <td>3</td>\n",
              "      <td>2</td>\n",
              "      <td>3</td>\n",
              "      <td>5</td>\n",
              "      <td>4</td>\n",
              "      <td>3</td>\n",
              "    </tr>\n",
              "  </tbody>\n",
              "</table>\n",
              "</div>\n",
              "      <button class=\"colab-df-convert\" onclick=\"convertToInteractive('df-7882958f-3ade-4d8c-8175-cddc2072ca8f')\"\n",
              "              title=\"Convert this dataframe to an interactive table.\"\n",
              "              style=\"display:none;\">\n",
              "        \n",
              "  <svg xmlns=\"http://www.w3.org/2000/svg\" height=\"24px\"viewBox=\"0 0 24 24\"\n",
              "       width=\"24px\">\n",
              "    <path d=\"M0 0h24v24H0V0z\" fill=\"none\"/>\n",
              "    <path d=\"M18.56 5.44l.94 2.06.94-2.06 2.06-.94-2.06-.94-.94-2.06-.94 2.06-2.06.94zm-11 1L8.5 8.5l.94-2.06 2.06-.94-2.06-.94L8.5 2.5l-.94 2.06-2.06.94zm10 10l.94 2.06.94-2.06 2.06-.94-2.06-.94-.94-2.06-.94 2.06-2.06.94z\"/><path d=\"M17.41 7.96l-1.37-1.37c-.4-.4-.92-.59-1.43-.59-.52 0-1.04.2-1.43.59L10.3 9.45l-7.72 7.72c-.78.78-.78 2.05 0 2.83L4 21.41c.39.39.9.59 1.41.59.51 0 1.02-.2 1.41-.59l7.78-7.78 2.81-2.81c.8-.78.8-2.07 0-2.86zM5.41 20L4 18.59l7.72-7.72 1.47 1.35L5.41 20z\"/>\n",
              "  </svg>\n",
              "      </button>\n",
              "      \n",
              "  <style>\n",
              "    .colab-df-container {\n",
              "      display:flex;\n",
              "      flex-wrap:wrap;\n",
              "      gap: 12px;\n",
              "    }\n",
              "\n",
              "    .colab-df-convert {\n",
              "      background-color: #E8F0FE;\n",
              "      border: none;\n",
              "      border-radius: 50%;\n",
              "      cursor: pointer;\n",
              "      display: none;\n",
              "      fill: #1967D2;\n",
              "      height: 32px;\n",
              "      padding: 0 0 0 0;\n",
              "      width: 32px;\n",
              "    }\n",
              "\n",
              "    .colab-df-convert:hover {\n",
              "      background-color: #E2EBFA;\n",
              "      box-shadow: 0px 1px 2px rgba(60, 64, 67, 0.3), 0px 1px 3px 1px rgba(60, 64, 67, 0.15);\n",
              "      fill: #174EA6;\n",
              "    }\n",
              "\n",
              "    [theme=dark] .colab-df-convert {\n",
              "      background-color: #3B4455;\n",
              "      fill: #D2E3FC;\n",
              "    }\n",
              "\n",
              "    [theme=dark] .colab-df-convert:hover {\n",
              "      background-color: #434B5C;\n",
              "      box-shadow: 0px 1px 3px 1px rgba(0, 0, 0, 0.15);\n",
              "      filter: drop-shadow(0px 1px 2px rgba(0, 0, 0, 0.3));\n",
              "      fill: #FFFFFF;\n",
              "    }\n",
              "  </style>\n",
              "\n",
              "      <script>\n",
              "        const buttonEl =\n",
              "          document.querySelector('#df-7882958f-3ade-4d8c-8175-cddc2072ca8f button.colab-df-convert');\n",
              "        buttonEl.style.display =\n",
              "          google.colab.kernel.accessAllowed ? 'block' : 'none';\n",
              "\n",
              "        async function convertToInteractive(key) {\n",
              "          const element = document.querySelector('#df-7882958f-3ade-4d8c-8175-cddc2072ca8f');\n",
              "          const dataTable =\n",
              "            await google.colab.kernel.invokeFunction('convertToInteractive',\n",
              "                                                     [key], {});\n",
              "          if (!dataTable) return;\n",
              "\n",
              "          const docLinkHtml = 'Like what you see? Visit the ' +\n",
              "            '<a target=\"_blank\" href=https://colab.research.google.com/notebooks/data_table.ipynb>data table notebook</a>'\n",
              "            + ' to learn more about interactive tables.';\n",
              "          element.innerHTML = '';\n",
              "          dataTable['output_type'] = 'display_data';\n",
              "          await google.colab.output.renderOutput(dataTable, element);\n",
              "          const docLink = document.createElement('div');\n",
              "          docLink.innerHTML = docLinkHtml;\n",
              "          element.appendChild(docLink);\n",
              "        }\n",
              "      </script>\n",
              "    </div>\n",
              "  </div>\n",
              "  "
            ]
          },
          "metadata": {},
          "execution_count": 348
        }
      ]
    },
    {
      "cell_type": "code",
      "source": [
        "%%writefile chi_square_test.py\n",
        "\n",
        "\"\"\"\n",
        "Contains functionality for chi_square test\n",
        "\n",
        "\"\"\"\n",
        "\n",
        "\n",
        "def chi_square(df, alpha, col1, col2):\n",
        "  import pandas as pd\n",
        "  import scipy.stats as stats\n",
        "  # significance level\n",
        "  alpha = alpha\n",
        "  # crosstab\n",
        "  df_crosstab = pd.crosstab(df[col1],\n",
        "                            df[col2],\n",
        "                           margins=True, margins_name=\"Total\")\n",
        "  # Calcualtion of Chisquare\n",
        "  chi_square = 0\n",
        "  rows = df[col1].unique()\n",
        "  columns = df[col2].unique()\n",
        "  for i in columns:\n",
        "      for j in rows:\n",
        "          O = df_crosstab[i][j]\n",
        "          E = df_crosstab[i]['Total'] * df_crosstab['Total'][j] / df_crosstab['Total']['Total']\n",
        "          chi_square += (O-E)**2/E\n",
        "\n",
        "  # The p-value approach\n",
        "  print(\"Approach 1: The p-value approach to hypothesis testing in the decision rule\")\n",
        "  p_value = 1 - stats.chi2.cdf(chi_square, (len(rows)-1)*(len(columns)-1))\n",
        "  conclusion = \"Failed to reject the null hypothesis.\"\n",
        "  if p_value <= alpha:\n",
        "      conclusion = \"Null Hypothesis is rejected.\"\n",
        "          \n",
        "  print(\"chisquare-score is:\", chi_square, \" and p value is:\", p_value)\n",
        "  print(conclusion)\n",
        "      \n",
        "  # The critical value approach\n",
        "  print(\"\\n--------------------------------------------------------------------------------------\")\n",
        "  print(\"Approach 2: The critical value approach to hypothesis testing in the decision rule\")\n",
        "  #Find the critical value for 95% confidence\n",
        "  critical_value = stats.chi2.ppf(1-alpha, (len(rows)-1)*(len(columns)-1))\n",
        "  conclusion = \"Failed to reject the null hypothesis.\"\n",
        "  if chi_square > critical_value:\n",
        "      conclusion = \"Null Hypothesis is rejected.\"\n",
        "          \n",
        "  return print(\"chisquare-score is:\", chi_square, \" and critical value is:\", critical_value, conclusion)"
      ],
      "metadata": {
        "id": "-8ZPDyNCggNJ",
        "colab": {
          "base_uri": "https://localhost:8080/"
        },
        "outputId": "ed2e6b87-c860-4c85-d09b-4243e8c75e41"
      },
      "execution_count": null,
      "outputs": [
        {
          "output_type": "stream",
          "name": "stdout",
          "text": [
            "Writing chi_square_test.py\n"
          ]
        }
      ]
    },
    {
      "cell_type": "code",
      "source": [
        "chi_square(df, 0.05 , 'Target', 'Delivered_on_Time')"
      ],
      "metadata": {
        "colab": {
          "base_uri": "https://localhost:8080/"
        },
        "id": "qKTU2IEhiJcY",
        "outputId": "860a3113-4e6f-4095-c83b-dd686c8a87b5"
      },
      "execution_count": null,
      "outputs": [
        {
          "output_type": "stream",
          "name": "stdout",
          "text": [
            "Approach 1: The p-value approach to hypothesis testing in the decision rule\n",
            "chisquare-score is: 11.981200492870975  and p value is: 0.007447837905122601\n",
            "Null Hypothesis is rejected.\n",
            "\n",
            "--------------------------------------------------------------------------------------\n",
            "Approach 2: The critical value approach to hypothesis testing in the decision rule\n",
            "chisquare-score is: 11.981200492870975  and critical value is: 7.814727903251179 Null Hypothesis is rejected.\n"
          ]
        }
      ]
    },
    {
      "cell_type": "code",
      "source": [
        "def features_Engineering(df):\n",
        "  df['percent_score'] = df[['Delivered_on_Time', 'Contents_as_expected','Found_everything', 'Good_Price', 'Satisfied_with_courier', 'App_ease']].sum(axis=1)/30*100\n",
        "  df['mean_score'] = df[['Delivered_on_Time', 'Contents_as_expected','Found_everything', 'Good_Price', 'Satisfied_with_courier', 'App_ease']].sum(axis=1)/6\n",
        "  df['total_score']= df[['Delivered_on_Time', 'Contents_as_expected','Found_everything', 'Good_Price', 'Satisfied_with_courier', 'App_ease']].sum(axis=1)\n",
        "  return df"
      ],
      "metadata": {
        "id": "aeQdZNxmggQ2"
      },
      "execution_count": null,
      "outputs": []
    },
    {
      "cell_type": "code",
      "source": [
        "features_Engineering(df).head(2)"
      ],
      "metadata": {
        "colab": {
          "base_uri": "https://localhost:8080/",
          "height": 112
        },
        "id": "VdMxYS0VihVP",
        "outputId": "0377c88a-f8e8-4c5a-ff5f-f3d4c16b1b7b"
      },
      "execution_count": null,
      "outputs": [
        {
          "output_type": "execute_result",
          "data": {
            "text/plain": [
              "   Target  Delivered_on_Time  Contents_as_expected  Found_everything  \\\n",
              "0       0                  3                     3                 3   \n",
              "1       0                  3                     2                 3   \n",
              "\n",
              "   Good_Price  Satisfied_with_courier  App_ease  percent_score  mean_score  \\\n",
              "0           4                       2         4      63.333333    3.166667   \n",
              "1           5                       4         3      66.666667    3.333333   \n",
              "\n",
              "   total_score  \n",
              "0           19  \n",
              "1           20  "
            ],
            "text/html": [
              "\n",
              "  <div id=\"df-c6373bd1-4998-4ddb-86bf-2c940873b674\">\n",
              "    <div class=\"colab-df-container\">\n",
              "      <div>\n",
              "<style scoped>\n",
              "    .dataframe tbody tr th:only-of-type {\n",
              "        vertical-align: middle;\n",
              "    }\n",
              "\n",
              "    .dataframe tbody tr th {\n",
              "        vertical-align: top;\n",
              "    }\n",
              "\n",
              "    .dataframe thead th {\n",
              "        text-align: right;\n",
              "    }\n",
              "</style>\n",
              "<table border=\"1\" class=\"dataframe\">\n",
              "  <thead>\n",
              "    <tr style=\"text-align: right;\">\n",
              "      <th></th>\n",
              "      <th>Target</th>\n",
              "      <th>Delivered_on_Time</th>\n",
              "      <th>Contents_as_expected</th>\n",
              "      <th>Found_everything</th>\n",
              "      <th>Good_Price</th>\n",
              "      <th>Satisfied_with_courier</th>\n",
              "      <th>App_ease</th>\n",
              "      <th>percent_score</th>\n",
              "      <th>mean_score</th>\n",
              "      <th>total_score</th>\n",
              "    </tr>\n",
              "  </thead>\n",
              "  <tbody>\n",
              "    <tr>\n",
              "      <th>0</th>\n",
              "      <td>0</td>\n",
              "      <td>3</td>\n",
              "      <td>3</td>\n",
              "      <td>3</td>\n",
              "      <td>4</td>\n",
              "      <td>2</td>\n",
              "      <td>4</td>\n",
              "      <td>63.333333</td>\n",
              "      <td>3.166667</td>\n",
              "      <td>19</td>\n",
              "    </tr>\n",
              "    <tr>\n",
              "      <th>1</th>\n",
              "      <td>0</td>\n",
              "      <td>3</td>\n",
              "      <td>2</td>\n",
              "      <td>3</td>\n",
              "      <td>5</td>\n",
              "      <td>4</td>\n",
              "      <td>3</td>\n",
              "      <td>66.666667</td>\n",
              "      <td>3.333333</td>\n",
              "      <td>20</td>\n",
              "    </tr>\n",
              "  </tbody>\n",
              "</table>\n",
              "</div>\n",
              "      <button class=\"colab-df-convert\" onclick=\"convertToInteractive('df-c6373bd1-4998-4ddb-86bf-2c940873b674')\"\n",
              "              title=\"Convert this dataframe to an interactive table.\"\n",
              "              style=\"display:none;\">\n",
              "        \n",
              "  <svg xmlns=\"http://www.w3.org/2000/svg\" height=\"24px\"viewBox=\"0 0 24 24\"\n",
              "       width=\"24px\">\n",
              "    <path d=\"M0 0h24v24H0V0z\" fill=\"none\"/>\n",
              "    <path d=\"M18.56 5.44l.94 2.06.94-2.06 2.06-.94-2.06-.94-.94-2.06-.94 2.06-2.06.94zm-11 1L8.5 8.5l.94-2.06 2.06-.94-2.06-.94L8.5 2.5l-.94 2.06-2.06.94zm10 10l.94 2.06.94-2.06 2.06-.94-2.06-.94-.94-2.06-.94 2.06-2.06.94z\"/><path d=\"M17.41 7.96l-1.37-1.37c-.4-.4-.92-.59-1.43-.59-.52 0-1.04.2-1.43.59L10.3 9.45l-7.72 7.72c-.78.78-.78 2.05 0 2.83L4 21.41c.39.39.9.59 1.41.59.51 0 1.02-.2 1.41-.59l7.78-7.78 2.81-2.81c.8-.78.8-2.07 0-2.86zM5.41 20L4 18.59l7.72-7.72 1.47 1.35L5.41 20z\"/>\n",
              "  </svg>\n",
              "      </button>\n",
              "      \n",
              "  <style>\n",
              "    .colab-df-container {\n",
              "      display:flex;\n",
              "      flex-wrap:wrap;\n",
              "      gap: 12px;\n",
              "    }\n",
              "\n",
              "    .colab-df-convert {\n",
              "      background-color: #E8F0FE;\n",
              "      border: none;\n",
              "      border-radius: 50%;\n",
              "      cursor: pointer;\n",
              "      display: none;\n",
              "      fill: #1967D2;\n",
              "      height: 32px;\n",
              "      padding: 0 0 0 0;\n",
              "      width: 32px;\n",
              "    }\n",
              "\n",
              "    .colab-df-convert:hover {\n",
              "      background-color: #E2EBFA;\n",
              "      box-shadow: 0px 1px 2px rgba(60, 64, 67, 0.3), 0px 1px 3px 1px rgba(60, 64, 67, 0.15);\n",
              "      fill: #174EA6;\n",
              "    }\n",
              "\n",
              "    [theme=dark] .colab-df-convert {\n",
              "      background-color: #3B4455;\n",
              "      fill: #D2E3FC;\n",
              "    }\n",
              "\n",
              "    [theme=dark] .colab-df-convert:hover {\n",
              "      background-color: #434B5C;\n",
              "      box-shadow: 0px 1px 3px 1px rgba(0, 0, 0, 0.15);\n",
              "      filter: drop-shadow(0px 1px 2px rgba(0, 0, 0, 0.3));\n",
              "      fill: #FFFFFF;\n",
              "    }\n",
              "  </style>\n",
              "\n",
              "      <script>\n",
              "        const buttonEl =\n",
              "          document.querySelector('#df-c6373bd1-4998-4ddb-86bf-2c940873b674 button.colab-df-convert');\n",
              "        buttonEl.style.display =\n",
              "          google.colab.kernel.accessAllowed ? 'block' : 'none';\n",
              "\n",
              "        async function convertToInteractive(key) {\n",
              "          const element = document.querySelector('#df-c6373bd1-4998-4ddb-86bf-2c940873b674');\n",
              "          const dataTable =\n",
              "            await google.colab.kernel.invokeFunction('convertToInteractive',\n",
              "                                                     [key], {});\n",
              "          if (!dataTable) return;\n",
              "\n",
              "          const docLinkHtml = 'Like what you see? Visit the ' +\n",
              "            '<a target=\"_blank\" href=https://colab.research.google.com/notebooks/data_table.ipynb>data table notebook</a>'\n",
              "            + ' to learn more about interactive tables.';\n",
              "          element.innerHTML = '';\n",
              "          dataTable['output_type'] = 'display_data';\n",
              "          await google.colab.output.renderOutput(dataTable, element);\n",
              "          const docLink = document.createElement('div');\n",
              "          docLink.innerHTML = docLinkHtml;\n",
              "          element.appendChild(docLink);\n",
              "        }\n",
              "      </script>\n",
              "    </div>\n",
              "  </div>\n",
              "  "
            ]
          },
          "metadata": {},
          "execution_count": 311
        }
      ]
    },
    {
      "cell_type": "code",
      "source": [
        "def balance_dataset(df):\n",
        "  from imblearn.over_sampling import SMOTE\n",
        "  y= df.Target\n",
        "  X= df.drop(columns = ['Target'])\n",
        "  # Oversample\n",
        "  sm = SMOTE(random_state=42)\n",
        "  X_res, y_res = sm.fit_resample(X, y)\n",
        "  return X_res, y_res"
      ],
      "metadata": {
        "id": "NX1W4tejggU-"
      },
      "execution_count": null,
      "outputs": []
    },
    {
      "cell_type": "code",
      "source": [
        "X_res, y_res = balance_dataset(df)"
      ],
      "metadata": {
        "id": "zqiy6g2PiprJ"
      },
      "execution_count": null,
      "outputs": []
    },
    {
      "cell_type": "code",
      "source": [
        "def dummie_features(X_res):\n",
        "  # only the inde\n",
        "  # get all features , convert to string and get dummie features\n",
        "  X_res[X_res.columns[0:6]] = X_res[X_res.columns[0:6]].applymap(str)\n",
        "  X_res = pd.get_dummies(data=X_res, columns=['Delivered_on_Time', 'Contents_as_expected', 'Found_everything',\n",
        "       'Good_Price', 'Satisfied_with_courier', 'App_ease'])\n",
        "  return X_res"
      ],
      "metadata": {
        "id": "d6vobZCYggZE"
      },
      "execution_count": null,
      "outputs": []
    },
    {
      "cell_type": "code",
      "source": [
        "X_res = dummie_features(X_res)"
      ],
      "metadata": {
        "id": "zUXcGU8Di6AG"
      },
      "execution_count": null,
      "outputs": []
    },
    {
      "cell_type": "code",
      "source": [
        "def split_data(X_res, y_res):\n",
        "  # split the data into train and test set \n",
        "  X_train, X_test, y_train, y_test = train_test_split(X_res, y_res, test_size=0.25, random_state=47)\n",
        "  accuracy_dic = {}\n",
        "  return  X_train, X_test, y_train, y_test, accuracy_dic"
      ],
      "metadata": {
        "id": "_T1lyypbg3tr"
      },
      "execution_count": null,
      "outputs": []
    },
    {
      "cell_type": "code",
      "source": [
        "X_train, X_test, y_train, y_test, accuracy_dic = split_data(X_res, y_res)"
      ],
      "metadata": {
        "id": "ED65qxtxjEph"
      },
      "execution_count": null,
      "outputs": []
    },
    {
      "cell_type": "code",
      "source": [
        "def modeling(model):\n",
        "  #accuracy_dic = {}\n",
        "  model.fit(X_train, y_train)\n",
        "  y_pred = model.predict(X_test)  \n",
        "  target_names = ['Unhappy', 'happy']\n",
        "  report = classification_report(y_test, y_pred, target_names=target_names)\n",
        "  accuracy = accuracy_score(y_test,y_pred) #predictions\n",
        "  accuracy_dic[model] = float(round(accuracy, 2))\n",
        "  cross_val = (cross_val_score(model, X_train, y_train, cv = 5, scoring = 'accuracy')).mean()\n",
        "  return cross_val, accuracy, print(report), y_pred"
      ],
      "metadata": {
        "id": "1EYEzbt0g3yh"
      },
      "execution_count": null,
      "outputs": []
    },
    {
      "cell_type": "code",
      "source": [
        "#all model\n",
        "dt = DecisionTreeClassifier(random_state=47)\n",
        "rf_clf0= RandomForestClassifier(random_state=47)\n",
        "XGB = XGBClassifier(n_estimators=1000,learning_rate=0.05)\n",
        "BNBclf = BernoulliNB()\n",
        "pac = PassiveAggressiveClassifier(C=0.5, max_iter=1000, random_state=47, tol=1e-3)"
      ],
      "metadata": {
        "id": "2L0GOSYbjvBy"
      },
      "execution_count": null,
      "outputs": []
    },
    {
      "cell_type": "code",
      "source": [
        "modeling(dt)"
      ],
      "metadata": {
        "colab": {
          "base_uri": "https://localhost:8080/"
        },
        "id": "Bdtwt8ozjNzC",
        "outputId": "e9d3da6a-8383-43db-ae4c-1d9c8f3aeec5"
      },
      "execution_count": null,
      "outputs": [
        {
          "output_type": "stream",
          "name": "stdout",
          "text": [
            "              precision    recall  f1-score   support\n",
            "\n",
            "     Unhappy       0.71      0.79      0.75        19\n",
            "       happy       0.71      0.62      0.67        16\n",
            "\n",
            "    accuracy                           0.71        35\n",
            "   macro avg       0.71      0.71      0.71        35\n",
            "weighted avg       0.71      0.71      0.71        35\n",
            "\n"
          ]
        },
        {
          "output_type": "execute_result",
          "data": {
            "text/plain": [
              "(0.6333333333333334,\n",
              " 0.7142857142857143,\n",
              " None,\n",
              " array([1, 0, 0, 1, 1, 0, 0, 0, 0, 1, 1, 0, 1, 0, 1, 0, 1, 0, 0, 0, 1, 1,\n",
              "        0, 1, 0, 1, 1, 0, 1, 0, 0, 0, 0, 0, 0]))"
            ]
          },
          "metadata": {},
          "execution_count": 320
        }
      ]
    },
    {
      "cell_type": "code",
      "source": [
        "modeling(rf_clf0)"
      ],
      "metadata": {
        "colab": {
          "base_uri": "https://localhost:8080/"
        },
        "id": "zdLHLrxvjT-h",
        "outputId": "69fbe28e-868d-4af0-f3b4-a1662351c3ca"
      },
      "execution_count": null,
      "outputs": [
        {
          "output_type": "stream",
          "name": "stdout",
          "text": [
            "              precision    recall  f1-score   support\n",
            "\n",
            "     Unhappy       0.65      0.79      0.71        19\n",
            "       happy       0.67      0.50      0.57        16\n",
            "\n",
            "    accuracy                           0.66        35\n",
            "   macro avg       0.66      0.64      0.64        35\n",
            "weighted avg       0.66      0.66      0.65        35\n",
            "\n"
          ]
        },
        {
          "output_type": "execute_result",
          "data": {
            "text/plain": [
              "(0.6114285714285714,\n",
              " 0.6571428571428571,\n",
              " None,\n",
              " array([1, 0, 0, 1, 0, 0, 0, 0, 0, 0, 0, 0, 1, 0, 1, 0, 1, 0, 1, 0, 1, 1,\n",
              "        0, 1, 0, 0, 0, 0, 1, 0, 0, 0, 1, 0, 1]))"
            ]
          },
          "metadata": {},
          "execution_count": 321
        }
      ]
    },
    {
      "cell_type": "code",
      "source": [
        "modeling(XGB)"
      ],
      "metadata": {
        "colab": {
          "base_uri": "https://localhost:8080/"
        },
        "id": "oM4PScyMjUIL",
        "outputId": "f219771c-2fb3-4901-f1a0-975aef09126a"
      },
      "execution_count": null,
      "outputs": [
        {
          "output_type": "stream",
          "name": "stdout",
          "text": [
            "              precision    recall  f1-score   support\n",
            "\n",
            "     Unhappy       0.75      0.79      0.77        19\n",
            "       happy       0.73      0.69      0.71        16\n",
            "\n",
            "    accuracy                           0.74        35\n",
            "   macro avg       0.74      0.74      0.74        35\n",
            "weighted avg       0.74      0.74      0.74        35\n",
            "\n"
          ]
        },
        {
          "output_type": "execute_result",
          "data": {
            "text/plain": [
              "(0.631904761904762,\n",
              " 0.7428571428571429,\n",
              " None,\n",
              " array([1, 0, 0, 1, 1, 0, 0, 1, 0, 0, 0, 1, 1, 0, 1, 0, 1, 0, 1, 0, 1, 0,\n",
              "        0, 1, 0, 0, 1, 0, 1, 0, 0, 0, 1, 0, 1]))"
            ]
          },
          "metadata": {},
          "execution_count": 322
        }
      ]
    },
    {
      "cell_type": "code",
      "source": [
        "modeling(BNBclf)"
      ],
      "metadata": {
        "colab": {
          "base_uri": "https://localhost:8080/"
        },
        "id": "OWGhBLsvjUUZ",
        "outputId": "682d6fa6-588f-469b-f42e-7bd88c0db771"
      },
      "execution_count": null,
      "outputs": [
        {
          "output_type": "stream",
          "name": "stdout",
          "text": [
            "              precision    recall  f1-score   support\n",
            "\n",
            "     Unhappy       0.67      0.63      0.65        19\n",
            "       happy       0.59      0.62      0.61        16\n",
            "\n",
            "    accuracy                           0.63        35\n",
            "   macro avg       0.63      0.63      0.63        35\n",
            "weighted avg       0.63      0.63      0.63        35\n",
            "\n"
          ]
        },
        {
          "output_type": "execute_result",
          "data": {
            "text/plain": [
              "(0.6395238095238095,\n",
              " 0.6285714285714286,\n",
              " None,\n",
              " array([1, 0, 1, 1, 0, 1, 0, 0, 0, 0, 1, 0, 1, 0, 1, 0, 1, 0, 1, 1, 1, 1,\n",
              "        0, 1, 0, 0, 1, 0, 1, 0, 0, 0, 1, 1, 0]))"
            ]
          },
          "metadata": {},
          "execution_count": 323
        }
      ]
    },
    {
      "cell_type": "code",
      "source": [
        "modeling(pac)"
      ],
      "metadata": {
        "colab": {
          "base_uri": "https://localhost:8080/"
        },
        "id": "fdcdkwOVj-Xp",
        "outputId": "624fb4b2-ff88-483b-8ca4-3aaca71cd932"
      },
      "execution_count": null,
      "outputs": [
        {
          "output_type": "stream",
          "name": "stdout",
          "text": [
            "              precision    recall  f1-score   support\n",
            "\n",
            "     Unhappy       0.54      1.00      0.70        19\n",
            "       happy       0.00      0.00      0.00        16\n",
            "\n",
            "    accuracy                           0.54        35\n",
            "   macro avg       0.27      0.50      0.35        35\n",
            "weighted avg       0.29      0.54      0.38        35\n",
            "\n"
          ]
        },
        {
          "output_type": "execute_result",
          "data": {
            "text/plain": [
              "(0.49523809523809526,\n",
              " 0.5428571428571428,\n",
              " None,\n",
              " array([0, 0, 0, 0, 0, 0, 0, 0, 0, 0, 0, 0, 0, 0, 0, 0, 0, 0, 0, 0, 0, 0,\n",
              "        0, 0, 0, 0, 0, 0, 0, 0, 0, 0, 0, 0, 0]))"
            ]
          },
          "metadata": {},
          "execution_count": 324
        }
      ]
    },
    {
      "cell_type": "code",
      "source": [
        "accuracy_dic"
      ],
      "metadata": {
        "colab": {
          "base_uri": "https://localhost:8080/"
        },
        "id": "j-yPyMhGj-cF",
        "outputId": "65bb20c4-1da7-4968-ce6a-abd0704c8384"
      },
      "execution_count": null,
      "outputs": [
        {
          "output_type": "execute_result",
          "data": {
            "text/plain": [
              "{DecisionTreeClassifier(random_state=47): 0.71,\n",
              " RandomForestClassifier(random_state=47): 0.66,\n",
              " XGBClassifier(learning_rate=0.05, n_estimators=1000): 0.74,\n",
              " BernoulliNB(): 0.63,\n",
              " PassiveAggressiveClassifier(C=0.5, random_state=47): 0.54}"
            ]
          },
          "metadata": {},
          "execution_count": 325
        }
      ]
    },
    {
      "cell_type": "code",
      "source": [
        "def model_tune(model, param_grid):\n",
        "   #accuracy_dic = {}\n",
        "  RandomGrid_search = RandomizedSearchCV(estimator = model, param_distributions = param_grid, cv = 10, verbose=2, n_jobs = -1, random_state=47)\n",
        "  RandomGrid_search.fit(X_train, y_train)\n",
        "  model_tune = RandomGrid_search.best_estimator_\n",
        "  y_pred = model_tune.predict(X_test)  \n",
        "  target_names = ['Unhappy', 'happy']\n",
        "  report = classification_report(y_test, y_pred, target_names=target_names)\n",
        "  accuracy = accuracy_score(y_test,y_pred) #predictions\n",
        "  accuracy_dic[model_tune] = float(round(accuracy, 2))\n",
        "  best_params = RandomGrid_search.best_params_\n",
        "  return best_params, accuracy, print(report), y_pred"
      ],
      "metadata": {
        "id": "Kmf5Mq-mg34b"
      },
      "execution_count": null,
      "outputs": []
    },
    {
      "cell_type": "code",
      "source": [
        "#tune model\n",
        "# define hyperparams\n",
        "n_estimators = [int(x) for x in np.linspace(start = 10, stop = 100, num = 20)]\n",
        "max_features = ['auto', 'sqrt']\n",
        "max_depth = [2,4,6,8, 10]\n",
        "min_samples_split = [2,3, 4, 5]\n",
        "min_samples_leaf = [1,2, 3]\n",
        "bootstrap = [True, False]\n",
        "\n",
        "# Create the param grid\n",
        "param_grid = {'n_estimators': n_estimators,\n",
        "               'max_features': max_features,\n",
        "               'max_depth': max_depth,\n",
        "               'min_samples_split': min_samples_split,\n",
        "               'min_samples_leaf': min_samples_leaf,\n",
        "               'bootstrap': bootstrap}\n",
        "print(param_grid)\n",
        "rf_clf1 = RandomForestClassifier(random_state= 47)"
      ],
      "metadata": {
        "colab": {
          "base_uri": "https://localhost:8080/"
        },
        "id": "EFBHKyNHlBb2",
        "outputId": "5b5cd1cb-22a1-4d68-a453-43ebe92eaa76"
      },
      "execution_count": null,
      "outputs": [
        {
          "output_type": "stream",
          "name": "stdout",
          "text": [
            "{'n_estimators': [10, 14, 19, 24, 28, 33, 38, 43, 47, 52, 57, 62, 66, 71, 76, 81, 85, 90, 95, 100], 'max_features': ['auto', 'sqrt'], 'max_depth': [2, 4, 6, 8, 10], 'min_samples_split': [2, 3, 4, 5], 'min_samples_leaf': [1, 2, 3], 'bootstrap': [True, False]}\n"
          ]
        }
      ]
    },
    {
      "cell_type": "code",
      "source": [
        "model_tune(rf_clf1, param_grid)"
      ],
      "metadata": {
        "colab": {
          "base_uri": "https://localhost:8080/"
        },
        "id": "smWh1fTilBpr",
        "outputId": "bb1c481b-5b68-46f6-ae5c-b2e5a449e584"
      },
      "execution_count": null,
      "outputs": [
        {
          "output_type": "stream",
          "name": "stdout",
          "text": [
            "Fitting 10 folds for each of 10 candidates, totalling 100 fits\n",
            "              precision    recall  f1-score   support\n",
            "\n",
            "     Unhappy       0.71      0.79      0.75        19\n",
            "       happy       0.71      0.62      0.67        16\n",
            "\n",
            "    accuracy                           0.71        35\n",
            "   macro avg       0.71      0.71      0.71        35\n",
            "weighted avg       0.71      0.71      0.71        35\n",
            "\n"
          ]
        },
        {
          "output_type": "execute_result",
          "data": {
            "text/plain": [
              "({'n_estimators': 38,\n",
              "  'min_samples_split': 2,\n",
              "  'min_samples_leaf': 1,\n",
              "  'max_features': 'auto',\n",
              "  'max_depth': 10,\n",
              "  'bootstrap': True},\n",
              " 0.7142857142857143,\n",
              " None,\n",
              " array([1, 0, 0, 1, 0, 0, 0, 0, 0, 1, 0, 1, 1, 0, 1, 0, 1, 0, 1, 0, 1, 1,\n",
              "        0, 1, 0, 0, 1, 0, 0, 0, 0, 0, 1, 0, 1]))"
            ]
          },
          "metadata": {},
          "execution_count": 330
        }
      ]
    },
    {
      "cell_type": "code",
      "source": [],
      "metadata": {
        "id": "E8PAgBh1lB6h"
      },
      "execution_count": null,
      "outputs": []
    },
    {
      "cell_type": "markdown",
      "source": [
        "# Save best model object"
      ],
      "metadata": {
        "id": "kvgItCTgb5VF"
      }
    },
    {
      "cell_type": "code",
      "source": [
        "!ls /content/gdrive//MyDrive/Apziva_project/HFhD9gY6N8cN4PtO"
      ],
      "metadata": {
        "colab": {
          "base_uri": "https://localhost:8080/"
        },
        "id": "F2HNWz3CisH0",
        "outputId": "2a8b471f-8a2c-4054-85e9-3cc8296e8b54"
      },
      "execution_count": null,
      "outputs": [
        {
          "output_type": "stream",
          "name": "stdout",
          "text": [
            " accuracy.csv\n",
            " accuracy.gsheet\n",
            " ACME-HappinessSurvey2020.csv\n",
            "'Copy of Experiments_Happinesurvey_v2.ipynb'\n",
            "'Copy of Experiments_Happinesurvey_v3.ipynb'\n",
            " exemple_notebook.gdoc\n",
            "'experiemnts_of Happinesurvey.ipynb'\n",
            " Experiments_Happinesurvey_v2.ipynb\n",
            " Experiments_Happinesurvey_v3.ipynb\n",
            " going_modular\n",
            " happinesurvey2020.csv\n",
            " Happinesurvey.ipynb\n",
            " Hyperparameter-Optimization-Techniques-master\n",
            " modular\n",
            "'Untitled spreadsheet.gsheet'\n"
          ]
        }
      ]
    },
    {
      "cell_type": "code",
      "source": [
        "xgb2_estimator"
      ],
      "metadata": {
        "colab": {
          "base_uri": "https://localhost:8080/"
        },
        "id": "qOPkw8_EoD3u",
        "outputId": "c1ba4514-28e9-4564-bd72-51fec988f256"
      },
      "execution_count": null,
      "outputs": [
        {
          "output_type": "execute_result",
          "data": {
            "text/plain": [
              "XGBClassifier(colsample_bytree=0.3, gamma=0.0, learning_rate=0.001, max_depth=1,\n",
              "              min_child_weight=7)"
            ]
          },
          "metadata": {},
          "execution_count": 386
        }
      ]
    },
    {
      "cell_type": "code",
      "source": [
        "#import pickle\n",
        "  \n",
        "# Save the trained model as a pickle string.\n",
        "#saved_XGB = pickle.dumps(xgb2_estimator)\n",
        "  \n",
        "# Load the pickled model\n",
        "#XBG_from_pickle = pickle.loads(saved_XGB)\n",
        "\n",
        "# Use the loaded pickled model to make predictions\n",
        "#XGB_from_pickle.predict(X_test)"
      ],
      "metadata": {
        "id": "oPugbzf-kfBq"
      },
      "execution_count": null,
      "outputs": []
    },
    {
      "cell_type": "code",
      "source": [
        "import pickle\n",
        "\n",
        "from joblib import Parallel, delayed\n",
        "import joblib\n",
        "  \n",
        "  \n",
        "# Save the model as a pickle in a file\n",
        "joblib.dump(xgb2_estimator, 'filename.pkl')\n",
        "  \n",
        "# Load the model from the file\n",
        "XGB_from_joblib = joblib.load('filename.pkl')\n",
        "  \n",
        "# Use the loaded model to make predictions\n",
        "XGB_from_joblib.predict(X_test)"
      ],
      "metadata": {
        "colab": {
          "base_uri": "https://localhost:8080/"
        },
        "id": "_K-F6qwqkfTn",
        "outputId": "0f6e1320-cecc-46b2-e118-3c7e8415a5a9"
      },
      "execution_count": null,
      "outputs": [
        {
          "output_type": "execute_result",
          "data": {
            "text/plain": [
              "array([1, 0, 1, 1, 0, 1, 0, 0, 0, 1, 1, 0, 1, 0, 1, 0, 1, 0, 1, 1, 1, 1,\n",
              "       1, 1, 0, 0, 1, 0, 1, 0, 0, 0, 1, 0, 0])"
            ]
          },
          "metadata": {},
          "execution_count": 387
        }
      ]
    },
    {
      "cell_type": "code",
      "source": [
        "XGB_from_joblib"
      ],
      "metadata": {
        "colab": {
          "base_uri": "https://localhost:8080/"
        },
        "id": "jWEGRNARpEni",
        "outputId": "5e5ae588-9d76-493d-a06a-0c1404fd3d53"
      },
      "execution_count": null,
      "outputs": [
        {
          "output_type": "execute_result",
          "data": {
            "text/plain": [
              "XGBClassifier(colsample_bytree=0.3, gamma=0.0, learning_rate=0.001, max_depth=1,\n",
              "              min_child_weight=7, missing=nan)"
            ]
          },
          "metadata": {},
          "execution_count": 391
        }
      ]
    },
    {
      "cell_type": "code",
      "source": [
        "y_pred = XGB_from_joblib.predict(X_test)\n",
        "accuracy = accuracy_score(y_test,y_pred) \n",
        "accuracy\n"
      ],
      "metadata": {
        "colab": {
          "base_uri": "https://localhost:8080/"
        },
        "id": "oX5SzjeAkcnq",
        "outputId": "05b807e1-f389-4f83-c7ac-2e54b7097cc8"
      },
      "execution_count": null,
      "outputs": [
        {
          "output_type": "execute_result",
          "data": {
            "text/plain": [
              "0.6571428571428571"
            ]
          },
          "metadata": {},
          "execution_count": 392
        }
      ]
    },
    {
      "cell_type": "code",
      "source": [],
      "metadata": {
        "id": "SiqkXGdKkc7C"
      },
      "execution_count": null,
      "outputs": []
    }
  ]
}